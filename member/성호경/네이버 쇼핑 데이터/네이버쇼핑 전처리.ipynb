{
 "cells": [
  {
   "cell_type": "markdown",
   "metadata": {},
   "source": [
    "# 네이버 쇼핑 전처리\n",
    "\n",
    "- [x] star 데이터타입 수정\n",
    "- [x] unnamed 지우기 (index_col = 0)\n",
    "- [x] 제품별로 묶기\n",
    "- [x] 별점별 갯수 확인"
   ]
  },
  {
   "cell_type": "code",
   "execution_count": 1,
   "metadata": {},
   "outputs": [],
   "source": [
    "import pandas as pd\n",
    "import numpy as np\n",
    "import re"
   ]
  },
  {
   "cell_type": "code",
   "execution_count": 2,
   "metadata": {},
   "outputs": [],
   "source": [
    "##### 데이터 불러오기\n",
    "\n",
    "ipad_mini = pd.read_csv(\"네이버 쇼핑/Apple_아이패드_미니_5세대_WIFI_64G.csv\", index_col = 0)\n",
    "ipad_air = pd.read_csv('네이버 쇼핑/Apple_아이패드_에어_4세대_WIFI_64G.csv', index_col = 0)\n",
    "iphone12 = pd.read_csv('네이버 쇼핑/Apple_아이폰12_128GB_[자급제].csv',index_col = 0)\n",
    "iphone12_pro = pd.read_csv('네이버 쇼핑/Apple_아이폰12_프로_256GB_[자급제].csv',index_col = 0)\n",
    "airpod_pro = pd.read_csv('네이버 쇼핑/Apple_에어팟_프로.csv',index_col = 0)\n",
    "apple_watch_silver = pd.read_csv(\"네이버 쇼핑/Apple_워치_SE_GPS_Nike_40mm_(실버 알루미늄).csv\",index_col = 0)\n",
    "apple_watch_space = pd.read_csv('네이버 쇼핑/Apple_워치_SE_GPS_40mm(스페이스 그레이 알루미늄).csv',index_col = 0)\n",
    "macbook_air = pd.read_csv('네이버 쇼핑/Apple_맥북에어_2020년형_M1_256G_실버.csv',index_col = 0)\n",
    "macbook_pro = pd.read_csv('네이버 쇼핑/Apple_맥북프로_15형_레티나리프레시_2015년형.csv',index_col = 0)\n",
    "macbook_retina = pd.read_csv('네이버 쇼핑/Apple_맥북프로_16형_2019년형_1T_스페이스 그레이.csv',index_col = 0)"
   ]
  },
  {
   "cell_type": "markdown",
   "metadata": {},
   "source": [
    "## star 데이터 타입 int로"
   ]
  },
  {
   "cell_type": "code",
   "execution_count": 6,
   "metadata": {},
   "outputs": [],
   "source": [
    "ipad_mini['star'] = ipad_mini['star'].str[-1].astype(int)\n",
    "ipad_air['star'] = ipad_air['star'].str[-1].astype(int)\n",
    "iphone12['star'] = iphone12['star'].str[-1].astype(int)\n",
    "iphone12_pro['star'] = iphone12_pro['star'].str[-1].astype(int)\n",
    "airpod_pro['star'] = airpod_pro['star'].str[-1].astype(int)\n",
    "apple_watch_silver['star'] = apple_watch_silver['star'].str[-1].astype(int)\n",
    "apple_watch_space['star'] = apple_watch_space['star'].str[-1].astype(int)\n",
    "macbook_air['star'] = macbook_air['star'].str[-1].astype(int)\n",
    "macbook_pro['star'] = macbook_pro['star'].str[-1].astype(int)\n",
    "macbook_retina['star'] = macbook_retina['star'].str[-1].astype(int)"
   ]
  },
  {
   "cell_type": "code",
   "execution_count": 7,
   "metadata": {},
   "outputs": [],
   "source": [
    "#### 저장\n",
    "ipad_mini.to_csv(\"네이버 쇼핑/Apple_아이패드_미니_5세대_WIFI_64G.csv\")\n",
    "ipad_air.to_csv('네이버 쇼핑/Apple_아이패드_에어_4세대_WIFI_64G.csv')\n",
    "iphone12.to_csv('네이버 쇼핑/Apple_아이폰12_128GB_[자급제].csv')\n",
    "iphone12_pro.to_csv('네이버 쇼핑/Apple_아이폰12_프로_256GB_[자급제].csv')\n",
    "airpod_pro.to_csv('네이버 쇼핑/Apple_에어팟_프로.csv')\n",
    "apple_watch_silver.to_csv(\"네이버 쇼핑/Apple_워치_SE_GPS_Nike_40mm_(실버 알루미늄).csv\")\n",
    "apple_watch_space.to_csv('네이버 쇼핑/Apple_워치_SE_GPS_40mm(스페이스 그레이 알루미늄).csv')\n",
    "macbook_air.to_csv('네이버 쇼핑/Apple_맥북에어_2020년형_M1_256G_실버.csv')\n",
    "macbook_pro.to_csv('네이버 쇼핑/Apple_맥북프로_15형_레티나리프레시_2015년형.csv')\n",
    "macbook_retina.to_csv('네이버 쇼핑/Apple_맥북프로_16형_2019년형_1T_스페이스 그레이.csv')"
   ]
  },
  {
   "cell_type": "code",
   "execution_count": 8,
   "metadata": {},
   "outputs": [
    {
     "name": "stdout",
     "output_type": "stream",
     "text": [
      "<class 'pandas.core.frame.DataFrame'>\n",
      "Int64Index: 553 entries, 0 to 552\n",
      "Data columns (total 4 columns):\n",
      " #   Column    Non-Null Count  Dtype \n",
      "---  ------    --------------  ----- \n",
      " 0   type      553 non-null    object\n",
      " 1   category  553 non-null    object\n",
      " 2   review    553 non-null    object\n",
      " 3   star      553 non-null    int64 \n",
      "dtypes: int64(1), object(3)\n",
      "memory usage: 21.6+ KB\n"
     ]
    }
   ],
   "source": [
    "##### int로 변경되었는지 확인\n",
    "ipad_mini.info()"
   ]
  },
  {
   "cell_type": "markdown",
   "metadata": {},
   "source": [
    "## 제품별 병합"
   ]
  },
  {
   "cell_type": "code",
   "execution_count": 9,
   "metadata": {},
   "outputs": [],
   "source": [
    "##### 데이터 불러오기\n",
    "\n",
    "ipad_mini = pd.read_csv(\"네이버 쇼핑/Apple_아이패드_미니_5세대_WIFI_64G.csv\", index_col = 0)\n",
    "ipad_air = pd.read_csv('네이버 쇼핑/Apple_아이패드_에어_4세대_WIFI_64G.csv', index_col = 0)\n",
    "iphone12 = pd.read_csv('네이버 쇼핑/Apple_아이폰12_128GB_[자급제].csv',index_col = 0)\n",
    "iphone12_pro = pd.read_csv('네이버 쇼핑/Apple_아이폰12_프로_256GB_[자급제].csv',index_col = 0)\n",
    "airpod_pro = pd.read_csv('네이버 쇼핑/Apple_에어팟_프로.csv',index_col = 0)\n",
    "apple_watch_silver = pd.read_csv(\"네이버 쇼핑/Apple_워치_SE_GPS_Nike_40mm_(실버 알루미늄).csv\",index_col = 0)\n",
    "apple_watch_space = pd.read_csv('네이버 쇼핑/Apple_워치_SE_GPS_40mm(스페이스 그레이 알루미늄).csv',index_col = 0)\n",
    "macbook_air = pd.read_csv('네이버 쇼핑/Apple_맥북에어_2020년형_M1_256G_실버.csv',index_col = 0)\n",
    "macbook_pro = pd.read_csv('네이버 쇼핑/Apple_맥북프로_15형_레티나리프레시_2015년형.csv',index_col = 0)\n",
    "macbook_retina = pd.read_csv('네이버 쇼핑/Apple_맥북프로_16형_2019년형_1T_스페이스 그레이.csv',index_col = 0)"
   ]
  },
  {
   "cell_type": "code",
   "execution_count": 10,
   "metadata": {},
   "outputs": [],
   "source": [
    "ipad = pd.concat([ipad_mini, ipad_air])\n",
    "iphone = pd.concat([iphone12, iphone12_pro])\n",
    "apple_watch = pd.concat([apple_watch_silver, apple_watch_space])\n",
    "macbook = pd.concat([macbook_air, macbook_pro, macbook_retina])"
   ]
  },
  {
   "cell_type": "code",
   "execution_count": 11,
   "metadata": {},
   "outputs": [],
   "source": [
    "ipad.to_csv(\"네이버 쇼핑/ipad.csv\")\n",
    "iphone.to_csv(\"네이버 쇼핑/iphone.csv\")\n",
    "apple_watch.to_csv(\"네이버 쇼핑/apple_watch.csv\")\n",
    "macbook.to_csv(\"네이버 쇼핑/macbook.csv\")\n",
    "airpod_pro.to_csv(\"네이버 쇼핑/airpod_pro.csv\")"
   ]
  },
  {
   "cell_type": "markdown",
   "metadata": {},
   "source": [
    "## 제품별 별점 갯수 확인"
   ]
  },
  {
   "cell_type": "code",
   "execution_count": 12,
   "metadata": {},
   "outputs": [
    {
     "data": {
      "text/html": [
       "<div>\n",
       "<style scoped>\n",
       "    .dataframe tbody tr th:only-of-type {\n",
       "        vertical-align: middle;\n",
       "    }\n",
       "\n",
       "    .dataframe tbody tr th {\n",
       "        vertical-align: top;\n",
       "    }\n",
       "\n",
       "    .dataframe thead th {\n",
       "        text-align: right;\n",
       "    }\n",
       "</style>\n",
       "<table border=\"1\" class=\"dataframe\">\n",
       "  <thead>\n",
       "    <tr style=\"text-align: right;\">\n",
       "      <th></th>\n",
       "      <th>type</th>\n",
       "      <th>category</th>\n",
       "      <th>review</th>\n",
       "    </tr>\n",
       "    <tr>\n",
       "      <th>star</th>\n",
       "      <th></th>\n",
       "      <th></th>\n",
       "      <th></th>\n",
       "    </tr>\n",
       "  </thead>\n",
       "  <tbody>\n",
       "    <tr>\n",
       "      <th>1</th>\n",
       "      <td>270</td>\n",
       "      <td>270</td>\n",
       "      <td>270</td>\n",
       "    </tr>\n",
       "    <tr>\n",
       "      <th>2</th>\n",
       "      <td>116</td>\n",
       "      <td>116</td>\n",
       "      <td>116</td>\n",
       "    </tr>\n",
       "    <tr>\n",
       "      <th>3</th>\n",
       "      <td>200</td>\n",
       "      <td>200</td>\n",
       "      <td>200</td>\n",
       "    </tr>\n",
       "    <tr>\n",
       "      <th>4</th>\n",
       "      <td>200</td>\n",
       "      <td>200</td>\n",
       "      <td>200</td>\n",
       "    </tr>\n",
       "    <tr>\n",
       "      <th>5</th>\n",
       "      <td>200</td>\n",
       "      <td>200</td>\n",
       "      <td>200</td>\n",
       "    </tr>\n",
       "  </tbody>\n",
       "</table>\n",
       "</div>"
      ],
      "text/plain": [
       "      type  category  review\n",
       "star                        \n",
       "1      270       270     270\n",
       "2      116       116     116\n",
       "3      200       200     200\n",
       "4      200       200     200\n",
       "5      200       200     200"
      ]
     },
     "execution_count": 12,
     "metadata": {},
     "output_type": "execute_result"
    }
   ],
   "source": [
    "ipad.groupby(\"star\").count() # 38, 29, 148, 400, 480\n",
    "iphone.groupby(\"star\").count() # 14, 14, 55, 296, 480\n",
    "apple_watch.groupby(\"star\").count() #4, 5, 27, 158, 480\n",
    "macbook.groupby(\"star\").count() # 24, 7, 38, 204, 700\n",
    "airpod_pro.groupby(\"star\").count() # 270, 116, 200, 200, 200"
   ]
  },
  {
   "cell_type": "code",
   "execution_count": 13,
   "metadata": {},
   "outputs": [
    {
     "data": {
      "text/plain": [
       "type        1095\n",
       "category    1095\n",
       "review      1095\n",
       "dtype: int64"
      ]
     },
     "execution_count": 13,
     "metadata": {},
     "output_type": "execute_result"
    }
   ],
   "source": [
    "ipad.groupby(\"star\").count().sum()"
   ]
  },
  {
   "cell_type": "markdown",
   "metadata": {},
   "source": [
    "##### 전체 데이터 개수 확인"
   ]
  },
  {
   "cell_type": "code",
   "execution_count": 14,
   "metadata": {},
   "outputs": [],
   "source": [
    "df = pd.concat([ipad, iphone, apple_watch, macbook, airpod_pro])"
   ]
  },
  {
   "cell_type": "code",
   "execution_count": 15,
   "metadata": {},
   "outputs": [
    {
     "data": {
      "text/plain": [
       "type        4587\n",
       "category    4587\n",
       "review      4587\n",
       "dtype: int64"
      ]
     },
     "execution_count": 15,
     "metadata": {},
     "output_type": "execute_result"
    }
   ],
   "source": [
    "df.groupby(\"star\").count() # 350, 171, 468, 1258, 2340\n",
    "df.groupby(\"star\").count().sum() # 4587"
   ]
  },
  {
   "cell_type": "markdown",
   "metadata": {},
   "source": [
    "# 단어 필터링\n",
    "\n",
    "+ 배송 / 서비스와 관련된 단어 전처리\n",
    "+ 한글을 제외한 문자 제거"
   ]
  },
  {
   "cell_type": "markdown",
   "metadata": {},
   "source": [
    "## 함수"
   ]
  },
  {
   "cell_type": "code",
   "execution_count": 16,
   "metadata": {},
   "outputs": [],
   "source": [
    "def processing(data):\n",
    "    # 데이터 중복 제거\n",
    "    data.reset_index(inplace = True, drop = True)\n",
    "    data[\"review\"] = data[\"review\"].drop_duplicates()\n",
    "    data.dropna(inplace = True)\n",
    "    data.reset_index(inplace = True, drop = True)\n",
    "\n",
    "    # 데이터 필터링\n",
    "    ban = [\"택배\", \"배송\"] # 추가 가능\n",
    "    ban_idx = []\n",
    "    try:\n",
    "        for keyword in ban:\n",
    "            for i in range(len(data)):\n",
    "                if data[\"review\"][i].find(keyword) != -1:\n",
    "                    data = data.drop(index=i)\n",
    "    \n",
    "                elif data[\"review\"][i].find(keyword) == -1 :\n",
    "                    pass   \n",
    "            data.reset_index(inplace = True, drop = True)\n",
    "            \n",
    "    except Exception as ex :\n",
    "        print(ex, \"오류발생\")\n",
    "        pass\n",
    "    return data\n",
    "\n",
    "# 해당 행을 바로 삭제 or 인덱스 번호를 저장 후 삭제"
   ]
  },
  {
   "cell_type": "code",
   "execution_count": 17,
   "metadata": {},
   "outputs": [],
   "source": [
    "# 한글만 살리기\n",
    "def clean_str(s):\n",
    "    hangul = re.compile('[^ ㄱ-ㅣ가-힣]+')    #한글만 남겨놓고 나머지 삭제\n",
    "    s = hangul.sub(r'',str(s))\n",
    "\n",
    "    cp = re.compile(\"[\"u\"\\U00010000-\\U0010FFFF\"\"]+\", flags=re.UNICODE)  #BMP characters 이외 이모티콘삭제\n",
    "    s=cp.sub(r'',s)\n",
    "\n",
    "    s = re.sub('[-=+,#/\\?:^$.@*\\\"※~&%ㆍ!』\\\\‘|\\(\\)\\[\\]\\<\\>`\\'…》]', '', s) #특수기호 삭제\n",
    " \n",
    "    return s.strip()"
   ]
  },
  {
   "cell_type": "markdown",
   "metadata": {},
   "source": [
    "## 제품별 데이터 정제하기"
   ]
  },
  {
   "cell_type": "code",
   "execution_count": 31,
   "metadata": {},
   "outputs": [],
   "source": [
    "ipad = pd.read_csv(\"네이버 쇼핑/ipad.csv\", index_col = 0)\n",
    "iphone = pd.read_csv(\"네이버 쇼핑/iphone.csv\", index_col = 0)\n",
    "apple_watch = pd.read_csv(\"네이버 쇼핑/apple_watch.csv\", index_col = 0)\n",
    "macbook = pd.read_csv(\"네이버 쇼핑/macbook.csv\", index_col = 0)\n",
    "airpod_pro = pd.read_csv(\"네이버 쇼핑/airpod_pro.csv\", index_col = 0)"
   ]
  },
  {
   "cell_type": "code",
   "execution_count": 32,
   "metadata": {},
   "outputs": [],
   "source": [
    "##### 중복 제거 / 키워드 필터링\n",
    "ipad = processing(ipad)\n",
    "iphone = processing(iphone)\n",
    "macbook = processing(macbook)\n",
    "apple_watch = processing(apple_watch)\n",
    "airpod_pro = processing(airpod_pro)"
   ]
  },
  {
   "cell_type": "code",
   "execution_count": 33,
   "metadata": {},
   "outputs": [],
   "source": [
    "apple_total = pd.concat([ipad, iphone, apple_watch, macbook, airpod_pro])\n",
    "apple_total_test = apple_total.copy()\n",
    "\n",
    "# 테스트를 위한 복사\n",
    "apple_total_test.reset_index(inplace = True, drop = True)"
   ]
  },
  {
   "cell_type": "code",
   "execution_count": 34,
   "metadata": {},
   "outputs": [
    {
     "name": "stderr",
     "output_type": "stream",
     "text": [
      "<ipython-input-34-0ca424584ede>:3: SettingWithCopyWarning: \n",
      "A value is trying to be set on a copy of a slice from a DataFrame\n",
      "\n",
      "See the caveats in the documentation: https://pandas.pydata.org/pandas-docs/stable/user_guide/indexing.html#returning-a-view-versus-a-copy\n",
      "  apple_total_test[\"review\"][i] = clean_str(apple_total_test[\"review\"][i])\n"
     ]
    }
   ],
   "source": [
    "try: \n",
    "    for i in range(len(apple_total_test)):\n",
    "        apple_total_test[\"review\"][i] = clean_str(apple_total_test[\"review\"][i])\n",
    "    apple_total_test\n",
    "except: pass"
   ]
  },
  {
   "cell_type": "code",
   "execution_count": 37,
   "metadata": {},
   "outputs": [],
   "source": [
    "apple_total_test.to_csv(\"네이버 쇼핑/Apple(finish).csv\")"
   ]
  }
 ],
 "metadata": {
  "kernelspec": {
   "display_name": "Python 3",
   "language": "python",
   "name": "python3"
  },
  "language_info": {
   "codemirror_mode": {
    "name": "ipython",
    "version": 3
   },
   "file_extension": ".py",
   "mimetype": "text/x-python",
   "name": "python",
   "nbconvert_exporter": "python",
   "pygments_lexer": "ipython3",
   "version": "3.8.5"
  },
  "toc": {
   "base_numbering": 1,
   "nav_menu": {},
   "number_sections": true,
   "sideBar": true,
   "skip_h1_title": false,
   "title_cell": "Table of Contents",
   "title_sidebar": "Contents",
   "toc_cell": false,
   "toc_position": {},
   "toc_section_display": true,
   "toc_window_display": true
  }
 },
 "nbformat": 4,
 "nbformat_minor": 4
}
