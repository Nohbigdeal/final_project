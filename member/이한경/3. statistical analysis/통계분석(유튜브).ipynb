{
 "cells": [
  {
   "cell_type": "code",
   "execution_count": 21,
   "id": "946fdca0",
   "metadata": {},
   "outputs": [],
   "source": [
    "from bs4 import BeautifulSoup\n",
    "from selenium import webdriver\n",
    "import selenium\n",
    "from urllib.parse import  urlparse\n",
    "import time\n",
    "import lxml\n",
    "from urllib.request import urlopen\n",
    "from selenium.webdriver.common.keys import Keys\n",
    "import numpy as np\n",
    "import pandas as pd\n",
    "import re\n",
    "import pickle\n",
    "from contextlib import suppress\n",
    "import matplotlib.pyplot as plt\n",
    "from konlpy.tag import Okt\n",
    "from tensorflow.keras.preprocessing.text import Tokenizer\n",
    "from tensorflow.keras.preprocessing.sequence import pad_sequences\n",
    "from sklearn.model_selection import train_test_split, cross_val_score, GridSearchCV, cross_validate, KFold\n",
    "from tqdm import tqdm\n",
    "\n",
    "from tensorflow.keras.layers import Embedding, Dense, LSTM\n",
    "from tensorflow.keras.models import Sequential\n",
    "from tensorflow.keras.models import load_model\n",
    "from tensorflow.keras.callbacks import EarlyStopping, ModelCheckpoint"
   ]
  },
  {
   "cell_type": "code",
   "execution_count": 22,
   "id": "b399eb1f",
   "metadata": {},
   "outputs": [],
   "source": [
    "from collections import Counter\n",
    "import os\n",
    "plt.rcParams[\"font.family\"] = 'Malgun Gothic'\n",
    "paths = os.listdir(\"C:/netsong7/pythonwork/AI/finalproject/data cleaning(final)\")"
   ]
  },
  {
   "cell_type": "code",
   "execution_count": 23,
   "id": "b719802f",
   "metadata": {},
   "outputs": [
    {
     "name": "stdout",
     "output_type": "stream",
     "text": [
      "youtube_comment.csv\n"
     ]
    }
   ],
   "source": [
    "df = pd.read_csv(\"C:/netsong7/pythonwork/AI/finalproject/data cleaning(final)/\"+paths[-1], encoding='utf-8-sig')\n",
    "print(paths[-1])"
   ]
  },
  {
   "cell_type": "code",
   "execution_count": 24,
   "id": "11769532",
   "metadata": {},
   "outputs": [
    {
     "data": {
      "text/html": [
       "<div>\n",
       "<style scoped>\n",
       "    .dataframe tbody tr th:only-of-type {\n",
       "        vertical-align: middle;\n",
       "    }\n",
       "\n",
       "    .dataframe tbody tr th {\n",
       "        vertical-align: top;\n",
       "    }\n",
       "\n",
       "    .dataframe thead th {\n",
       "        text-align: right;\n",
       "    }\n",
       "</style>\n",
       "<table border=\"1\" class=\"dataframe\">\n",
       "  <thead>\n",
       "    <tr style=\"text-align: right;\">\n",
       "      <th></th>\n",
       "      <th>review</th>\n",
       "      <th>keyword</th>\n",
       "    </tr>\n",
       "  </thead>\n",
       "  <tbody>\n",
       "    <tr>\n",
       "      <th>0</th>\n",
       "      <td>끝없는  맥북 논란과 이슈이번에는 화면만 열어도 깨지는디스플레이가 도마 위에 올랐습니다</td>\n",
       "      <td>M1</td>\n",
       "    </tr>\n",
       "    <tr>\n",
       "      <th>1</th>\n",
       "      <td>맥북 프로 인치가 저렇게 된 적 있는데 이건 만의 문제가 아니라 맥북 의 문제인 것...</td>\n",
       "      <td>M1</td>\n",
       "    </tr>\n",
       "    <tr>\n",
       "      <th>2</th>\n",
       "      <td>개인적으로 애플은 내구성에 대해 조금더 발전된 모습이 필요해 보이는거 같음 아무리 ...</td>\n",
       "      <td>M1</td>\n",
       "    </tr>\n",
       "    <tr>\n",
       "      <th>3</th>\n",
       "      <td>고압적인  정책 강제적인 업그레이드 정책 제한된 자유도 이 가지때문에 전 애플로 못...</td>\n",
       "      <td>M1</td>\n",
       "    </tr>\n",
       "    <tr>\n",
       "      <th>4</th>\n",
       "      <td>이 영상을 맥북으로 보는 심정이 참 ㅜㅜ</td>\n",
       "      <td>M1</td>\n",
       "    </tr>\n",
       "  </tbody>\n",
       "</table>\n",
       "</div>"
      ],
      "text/plain": [
       "                                              review keyword\n",
       "0   끝없는  맥북 논란과 이슈이번에는 화면만 열어도 깨지는디스플레이가 도마 위에 올랐습니다      M1\n",
       "1  맥북 프로 인치가 저렇게 된 적 있는데 이건 만의 문제가 아니라 맥북 의 문제인 것...      M1\n",
       "2  개인적으로 애플은 내구성에 대해 조금더 발전된 모습이 필요해 보이는거 같음 아무리 ...      M1\n",
       "3  고압적인  정책 강제적인 업그레이드 정책 제한된 자유도 이 가지때문에 전 애플로 못...      M1\n",
       "4                             이 영상을 맥북으로 보는 심정이 참 ㅜㅜ      M1"
      ]
     },
     "execution_count": 24,
     "metadata": {},
     "output_type": "execute_result"
    }
   ],
   "source": [
    "df.head()"
   ]
  },
  {
   "cell_type": "code",
   "execution_count": 25,
   "id": "0122fe6a",
   "metadata": {},
   "outputs": [
    {
     "name": "stdout",
     "output_type": "stream",
     "text": [
      "전처리 후 테스트용 샘플의 개수 : 51278\n"
     ]
    },
    {
     "name": "stderr",
     "output_type": "stream",
     "text": [
      "C:\\Users\\not14\\anaconda3\\envs\\tf1\\lib\\site-packages\\ipykernel_launcher.py:2: FutureWarning: The default value of regex will change from True to False in a future version.\n",
      "  \n"
     ]
    }
   ],
   "source": [
    "df.drop_duplicates(subset = ['review'], inplace=True) # 중복 제거\n",
    "df['review'] = df['review'].str.replace(\"[^ㄱ-ㅎㅏ-ㅣ가-힣 ]\",\"\") # 정규 표현식 수행\n",
    "df['review'].replace('', np.nan, inplace=True) # 공백은 Null 값으로 변경\n",
    "df = df.dropna(how='any') # Null 값 제거\n",
    "print('전처리 후 테스트용 샘플의 개수 :',len(df))"
   ]
  },
  {
   "cell_type": "code",
   "execution_count": 26,
   "id": "c910de59",
   "metadata": {},
   "outputs": [
    {
     "name": "stderr",
     "output_type": "stream",
     "text": [
      "C:\\Users\\not14\\anaconda3\\envs\\tf1\\lib\\site-packages\\ipykernel_launcher.py:1: FutureWarning: The default value of regex will change from True to False in a future version.\n",
      "  \"\"\"Entry point for launching an IPython kernel.\n"
     ]
    },
    {
     "name": "stdout",
     "output_type": "stream",
     "text": [
      "review     0\n",
      "keyword    0\n",
      "dtype: int64\n",
      "51278\n"
     ]
    }
   ],
   "source": [
    "df['review'] = df['review'].str.replace('^ +', \"\")\n",
    "df['review'].replace('', np.nan, inplace=True)\n",
    "print(df.isnull().sum())\n",
    "\n",
    "df.loc[df.review.isnull()][:5]\n",
    "\n",
    "df = df.dropna(how = 'any')\n",
    "print(len(df))"
   ]
  },
  {
   "cell_type": "code",
   "execution_count": 27,
   "id": "d2bd0daf",
   "metadata": {},
   "outputs": [
    {
     "data": {
      "text/html": [
       "<div>\n",
       "<style scoped>\n",
       "    .dataframe tbody tr th:only-of-type {\n",
       "        vertical-align: middle;\n",
       "    }\n",
       "\n",
       "    .dataframe tbody tr th {\n",
       "        vertical-align: top;\n",
       "    }\n",
       "\n",
       "    .dataframe thead th {\n",
       "        text-align: right;\n",
       "    }\n",
       "</style>\n",
       "<table border=\"1\" class=\"dataframe\">\n",
       "  <thead>\n",
       "    <tr style=\"text-align: right;\">\n",
       "      <th></th>\n",
       "      <th>review</th>\n",
       "      <th>keyword</th>\n",
       "    </tr>\n",
       "  </thead>\n",
       "  <tbody>\n",
       "    <tr>\n",
       "      <th>0</th>\n",
       "      <td>끝없는  맥북 논란과 이슈이번에는 화면만 열어도 깨지는디스플레이가 도마 위에 올랐습니다</td>\n",
       "      <td>M1</td>\n",
       "    </tr>\n",
       "    <tr>\n",
       "      <th>1</th>\n",
       "      <td>맥북 프로 인치가 저렇게 된 적 있는데 이건 만의 문제가 아니라 맥북 의 문제인 것...</td>\n",
       "      <td>M1</td>\n",
       "    </tr>\n",
       "    <tr>\n",
       "      <th>2</th>\n",
       "      <td>개인적으로 애플은 내구성에 대해 조금더 발전된 모습이 필요해 보이는거 같음 아무리 ...</td>\n",
       "      <td>M1</td>\n",
       "    </tr>\n",
       "    <tr>\n",
       "      <th>3</th>\n",
       "      <td>고압적인  정책 강제적인 업그레이드 정책 제한된 자유도 이 가지때문에 전 애플로 못...</td>\n",
       "      <td>M1</td>\n",
       "    </tr>\n",
       "    <tr>\n",
       "      <th>4</th>\n",
       "      <td>이 영상을 맥북으로 보는 심정이 참 ㅜㅜ</td>\n",
       "      <td>M1</td>\n",
       "    </tr>\n",
       "  </tbody>\n",
       "</table>\n",
       "</div>"
      ],
      "text/plain": [
       "                                              review keyword\n",
       "0   끝없는  맥북 논란과 이슈이번에는 화면만 열어도 깨지는디스플레이가 도마 위에 올랐습니다      M1\n",
       "1  맥북 프로 인치가 저렇게 된 적 있는데 이건 만의 문제가 아니라 맥북 의 문제인 것...      M1\n",
       "2  개인적으로 애플은 내구성에 대해 조금더 발전된 모습이 필요해 보이는거 같음 아무리 ...      M1\n",
       "3  고압적인  정책 강제적인 업그레이드 정책 제한된 자유도 이 가지때문에 전 애플로 못...      M1\n",
       "4                             이 영상을 맥북으로 보는 심정이 참 ㅜㅜ      M1"
      ]
     },
     "execution_count": 27,
     "metadata": {},
     "output_type": "execute_result"
    }
   ],
   "source": [
    "df.head()"
   ]
  },
  {
   "cell_type": "markdown",
   "id": "4755c9ff",
   "metadata": {},
   "source": [
    "# 유튜브 댓글 keyword 별 pie plot"
   ]
  },
  {
   "cell_type": "code",
   "execution_count": 28,
   "id": "b9fafb5d",
   "metadata": {},
   "outputs": [
    {
     "data": {
      "image/png": "[encoded data removed]",
      "text/plain": [
       "<Figure size 864x720 with 1 Axes>"
      ]
     },
     "metadata": {},
     "output_type": "display_data"
    },
    {
     "name": "stdout",
     "output_type": "stream",
     "text": [
      "전처리 후 테스트용 샘플의 개수 : 51278\n"
     ]
    }
   ],
   "source": [
    "\n",
    "plt.figure(figsize=(12, 10))\n",
    "ratio = []\n",
    "labels = []\n",
    "for word in df[\"keyword\"].unique():\n",
    "    ratio.append(len(df[df[\"keyword\"]==word]))\n",
    "    labels.append(word)\n",
    "plt.pie(ratio, labels=labels, autopct='%.1f%%', startangle=260, counterclock=False)\n",
    "plt.show()\n",
    "print('전처리 후 테스트용 샘플의 개수 :',sum(ratio))\n"
   ]
  },
  {
   "cell_type": "markdown",
   "id": "1d59a62d",
   "metadata": {},
   "source": [
    "# 유튜브 전체 댓글 길이 분포"
   ]
  },
  {
   "cell_type": "code",
   "execution_count": 29,
   "id": "b673bbfb",
   "metadata": {},
   "outputs": [
    {
     "name": "stdout",
     "output_type": "stream",
     "text": [
      "리뷰의 최대 길이 : 3778\n",
      "리뷰의 평균 길이 : 43.561897889933306\n"
     ]
    },
    {
     "data": {
      "image/png": "[encoded data removed]",
      "text/plain": [
       "<Figure size 432x360 with 1 Axes>"
      ]
     },
     "metadata": {
      "needs_background": "light"
     },
     "output_type": "display_data"
    }
   ],
   "source": [
    "    plt.figure(figsize=(6,5))\n",
    "    print('리뷰의 최대 길이 :',max(len(l) for l in df[\"review\"]))\n",
    "    print('리뷰의 평균 길이 :',sum(map(len, df[\"review\"]))/len(df[\"review\"]))\n",
    "    plt.hist([len(s) for s in df[\"review\"]], bins=100)\n",
    "    plt.xlabel('length of samples')\n",
    "    plt.ylabel('number of samples')\n",
    "    plt.title(\"유튜브 댓글 데이터의 길이 분포\")\n",
    "    plt.show()"
   ]
  },
  {
   "cell_type": "markdown",
   "id": "57ac4d73",
   "metadata": {},
   "source": [
    "# 회사 별 pie plot"
   ]
  },
  {
   "cell_type": "code",
   "execution_count": 30,
   "id": "b84dc9f9",
   "metadata": {},
   "outputs": [],
   "source": [
    "apple = ['M1', '맥북', '아이패드', '아이폰', '애플워치', '에어팟']\n",
    "samsung = ['갤럭시기어', '갤럭시북', '갤럭시', '갤탭', '버즈라이브', '버즈플러스']\n",
    "xiaomi = ['미밴드', '샤오미워치', '샤오미폰', '샤오미휴대폰', '어메이즈핏','홍미노트']\n",
    "company = []\n",
    "for word in df[\"keyword\"]:\n",
    "    if word in apple:\n",
    "        company.append(\"apple\")\n",
    "    if word in samsung:\n",
    "        company.append(\"samsung\")\n",
    "    if word in xiaomi:\n",
    "        company.append(\"xiaomi\")\n",
    "df[\"company\"] = company"
   ]
  },
  {
   "cell_type": "code",
   "execution_count": 31,
   "id": "9c4d45e2",
   "metadata": {},
   "outputs": [
    {
     "data": {
      "image/png": "[encoded data removed]",
      "text/plain": [
       "<Figure size 864x720 with 1 Axes>"
      ]
     },
     "metadata": {},
     "output_type": "display_data"
    },
    {
     "name": "stdout",
     "output_type": "stream",
     "text": [
      "전처리 후 테스트용 샘플의 개수 : 51278\n"
     ]
    }
   ],
   "source": [
    "plt.figure(figsize=(12, 10))\n",
    "ratio = []\n",
    "labels = []\n",
    "for word in df[\"company\"].unique():\n",
    "    ratio.append(len(df[df[\"company\"]==word]))\n",
    "    labels.append(word)\n",
    "plt.pie(ratio, labels=labels, autopct='%.1f%%', startangle=260, counterclock=False)\n",
    "plt.show()\n",
    "print('전처리 후 테스트용 샘플의 개수 :',sum(ratio))"
   ]
  },
  {
   "cell_type": "code",
   "execution_count": 32,
   "id": "d67b0cae",
   "metadata": {},
   "outputs": [
    {
     "name": "stdout",
     "output_type": "stream",
     "text": [
      "['apple' 'samsung' 'xiaomi']\n",
      "[20117, 20111, 11050]\n"
     ]
    }
   ],
   "source": [
    "print(df[\"company\"].unique())\n",
    "print(ratio)"
   ]
  },
  {
   "cell_type": "markdown",
   "id": "ab3a58ad",
   "metadata": {},
   "source": [
    "# 회사 별 전체 댓글 길이 분포"
   ]
  },
  {
   "cell_type": "code",
   "execution_count": 33,
   "id": "89de9e6d",
   "metadata": {},
   "outputs": [
    {
     "name": "stdout",
     "output_type": "stream",
     "text": [
      "리뷰의 최대 길이 : 2305\n",
      "리뷰의 평균 길이 : 41.45414326191778\n"
     ]
    },
    {
     "data": {
      "image/png": "[encoded data removed]",
      "text/plain": [
       "<Figure size 432x360 with 1 Axes>"
      ]
     },
     "metadata": {
      "needs_background": "light"
     },
     "output_type": "display_data"
    },
    {
     "name": "stdout",
     "output_type": "stream",
     "text": [
      "리뷰의 최대 길이 : 3778\n",
      "리뷰의 평균 길이 : 47.91939734473671\n"
     ]
    },
    {
     "data": {
      "image/png": "[encoded data removed]",
      "text/plain": [
       "<Figure size 432x360 with 1 Axes>"
      ]
     },
     "metadata": {
      "needs_background": "light"
     },
     "output_type": "display_data"
    },
    {
     "name": "stdout",
     "output_type": "stream",
     "text": [
      "리뷰의 최대 길이 : 2609\n",
      "리뷰의 평균 길이 : 39.46850678733032\n"
     ]
    },
    {
     "data": {
      "image/png": "[encoded data removed]",
      "text/plain": [
       "<Figure size 432x360 with 1 Axes>"
      ]
     },
     "metadata": {
      "needs_background": "light"
     },
     "output_type": "display_data"
    }
   ],
   "source": [
    "\n",
    "for word in df[\"company\"].unique():\n",
    "    plt.figure(figsize=(6,5))\n",
    "    print('리뷰의 최대 길이 :',max(len(l) for l in df[df[\"company\"]==word][\"review\"]))\n",
    "    print('리뷰의 평균 길이 :',sum(map(len, df[df[\"company\"]==word][\"review\"]))/len(df[df[\"company\"]==word][\"review\"]))\n",
    "    plt.hist([len(s) for s in df[df[\"company\"]==word][\"review\"]], bins=100)\n",
    "    plt.xlabel('length of samples')\n",
    "    plt.ylabel('number of samples')\n",
    "    plt.title(word+\" \"+\"데이터의 길이 분포\")\n",
    "    plt.show()"
   ]
  },
  {
   "cell_type": "markdown",
   "id": "ddb75da1",
   "metadata": {},
   "source": [
    "# keyword 별 전체 댓글 길이 분포"
   ]
  },
  {
   "cell_type": "code",
   "execution_count": 34,
   "id": "fc34afb5",
   "metadata": {
    "scrolled": false
   },
   "outputs": [
    {
     "name": "stdout",
     "output_type": "stream",
     "text": [
      "리뷰의 최대 길이 : 967\n",
      "리뷰의 평균 길이 : 42.92004504504504\n"
     ]
    },
    {
     "data": {
      "image/png": "[encoded data removed]",
      "text/plain": [
       "<Figure size 432x360 with 1 Axes>"
      ]
     },
     "metadata": {
      "needs_background": "light"
     },
     "output_type": "display_data"
    },
    {
     "name": "stdout",
     "output_type": "stream",
     "text": [
      "리뷰의 최대 길이 : 1017\n",
      "리뷰의 평균 길이 : 47.70481012658228\n"
     ]
    },
    {
     "data": {
      "image/png": "[encoded data removed]",
      "text/plain": [
       "<Figure size 432x360 with 1 Axes>"
      ]
     },
     "metadata": {
      "needs_background": "light"
     },
     "output_type": "display_data"
    },
    {
     "name": "stdout",
     "output_type": "stream",
     "text": [
      "리뷰의 최대 길이 : 2290\n",
      "리뷰의 평균 길이 : 50.1235531628533\n"
     ]
    },
    {
     "data": {
      "image/png": "[encoded data removed]",
      "text/plain": [
       "<Figure size 432x360 with 1 Axes>"
      ]
     },
     "metadata": {
      "needs_background": "light"
     },
     "output_type": "display_data"
    },
    {
     "name": "stdout",
     "output_type": "stream",
     "text": [
      "리뷰의 최대 길이 : 843\n",
      "리뷰의 평균 길이 : 45.83526187576127\n"
     ]
    },
    {
     "data": {
      "image/png": "[encoded data removed]",
      "text/plain": [
       "<Figure size 432x360 with 1 Axes>"
      ]
     },
     "metadata": {
      "needs_background": "light"
     },
     "output_type": "display_data"
    },
    {
     "name": "stdout",
     "output_type": "stream",
     "text": [
      "리뷰의 최대 길이 : 1103\n",
      "리뷰의 평균 길이 : 53.21110242376857\n"
     ]
    },
    {
     "data": {
      "image/png": "[encoded data removed]",
      "text/plain": [
       "<Figure size 432x360 with 1 Axes>"
      ]
     },
     "metadata": {
      "needs_background": "light"
     },
     "output_type": "display_data"
    },
    {
     "name": "stdout",
     "output_type": "stream",
     "text": [
      "리뷰의 최대 길이 : 606\n",
      "리뷰의 평균 길이 : 46.48796409628723\n"
     ]
    },
    {
     "data": {
      "image/png": "[encoded data removed]",
      "text/plain": [
       "<Figure size 432x360 with 1 Axes>"
      ]
     },
     "metadata": {
      "needs_background": "light"
     },
     "output_type": "display_data"
    },
    {
     "name": "stdout",
     "output_type": "stream",
     "text": [
      "리뷰의 최대 길이 : 556\n",
      "리뷰의 평균 길이 : 39.832662192393734\n"
     ]
    },
    {
     "data": {
      "image/png": "[encoded data removed]",
      "text/plain": [
       "<Figure size 432x360 with 1 Axes>"
      ]
     },
     "metadata": {
      "needs_background": "light"
     },
     "output_type": "display_data"
    },
    {
     "name": "stdout",
     "output_type": "stream",
     "text": [
      "리뷰의 최대 길이 : 3778\n",
      "리뷰의 평균 길이 : 44.988655563601256\n"
     ]
    },
    {
     "data": {
      "image/png": "[encoded data removed]",
      "text/plain": [
       "<Figure size 432x360 with 1 Axes>"
      ]
     },
     "metadata": {
      "needs_background": "light"
     },
     "output_type": "display_data"
    },
    {
     "name": "stdout",
     "output_type": "stream",
     "text": [
      "리뷰의 최대 길이 : 1215\n",
      "리뷰의 평균 길이 : 45.04244535951853\n"
     ]
    },
    {
     "data": {
      "image/png": "[encoded data removed]",
      "text/plain": [
       "<Figure size 432x360 with 1 Axes>"
      ]
     },
     "metadata": {
      "needs_background": "light"
     },
     "output_type": "display_data"
    },
    {
     "name": "stdout",
     "output_type": "stream",
     "text": [
      "리뷰의 최대 길이 : 2609\n",
      "리뷰의 평균 길이 : 39.682454969979986\n"
     ]
    },
    {
     "data": {
      "image/png": "[encoded data removed]",
      "text/plain": [
       "<Figure size 432x360 with 1 Axes>"
      ]
     },
     "metadata": {
      "needs_background": "light"
     },
     "output_type": "display_data"
    },
    {
     "name": "stdout",
     "output_type": "stream",
     "text": [
      "리뷰의 최대 길이 : 735\n",
      "리뷰의 평균 길이 : 38.43875278396437\n"
     ]
    },
    {
     "data": {
      "image/png": "[encoded data removed]",
      "text/plain": [
       "<Figure size 432x360 with 1 Axes>"
      ]
     },
     "metadata": {
      "needs_background": "light"
     },
     "output_type": "display_data"
    },
    {
     "name": "stdout",
     "output_type": "stream",
     "text": [
      "리뷰의 최대 길이 : 424\n",
      "리뷰의 평균 길이 : 36.59713701431493\n"
     ]
    },
    {
     "data": {
      "image/png": "[encoded data removed]",
      "text/plain": [
       "<Figure size 432x360 with 1 Axes>"
      ]
     },
     "metadata": {
      "needs_background": "light"
     },
     "output_type": "display_data"
    },
    {
     "name": "stdout",
     "output_type": "stream",
     "text": [
      "리뷰의 최대 길이 : 1380\n",
      "리뷰의 평균 길이 : 44.1103003087286\n"
     ]
    },
    {
     "data": {
      "image/png": "[encoded data removed]",
      "text/plain": [
       "<Figure size 432x360 with 1 Axes>"
      ]
     },
     "metadata": {
      "needs_background": "light"
     },
     "output_type": "display_data"
    },
    {
     "name": "stdout",
     "output_type": "stream",
     "text": [
      "리뷰의 최대 길이 : 1177\n",
      "리뷰의 평균 길이 : 38.48918511066398\n"
     ]
    },
    {
     "data": {
      "image/png": "[encoded data removed]",
      "text/plain": [
       "<Figure size 432x360 with 1 Axes>"
      ]
     },
     "metadata": {
      "needs_background": "light"
     },
     "output_type": "display_data"
    },
    {
     "name": "stdout",
     "output_type": "stream",
     "text": [
      "리뷰의 최대 길이 : 1772\n",
      "리뷰의 평균 길이 : 41.28524945770065\n"
     ]
    },
    {
     "data": {
      "image/png": "[encoded data removed]",
      "text/plain": [
       "<Figure size 432x360 with 1 Axes>"
      ]
     },
     "metadata": {
      "needs_background": "light"
     },
     "output_type": "display_data"
    },
    {
     "name": "stdout",
     "output_type": "stream",
     "text": [
      "리뷰의 최대 길이 : 512\n",
      "리뷰의 평균 길이 : 42.99167822468793\n"
     ]
    },
    {
     "data": {
      "image/png": "[encoded data removed]",
      "text/plain": [
       "<Figure size 432x360 with 1 Axes>"
      ]
     },
     "metadata": {
      "needs_background": "light"
     },
     "output_type": "display_data"
    },
    {
     "name": "stdout",
     "output_type": "stream",
     "text": [
      "리뷰의 최대 길이 : 2305\n",
      "리뷰의 평균 길이 : 37.932185430463576\n"
     ]
    },
    {
     "data": {
      "image/png": "[encoded data removed]",
      "text/plain": [
       "<Figure size 432x360 with 1 Axes>"
      ]
     },
     "metadata": {
      "needs_background": "light"
     },
     "output_type": "display_data"
    },
    {
     "name": "stdout",
     "output_type": "stream",
     "text": [
      "리뷰의 최대 길이 : 591\n",
      "리뷰의 평균 길이 : 42.2265625\n"
     ]
    },
    {
     "data": {
      "image/png": "[encoded data removed]",
      "text/plain": [
       "<Figure size 432x360 with 1 Axes>"
      ]
     },
     "metadata": {
      "needs_background": "light"
     },
     "output_type": "display_data"
    }
   ],
   "source": [
    "for word in df[\"keyword\"].unique():\n",
    "    plt.figure(figsize=(6,5))\n",
    "    print('리뷰의 최대 길이 :',max(len(l) for l in df[df[\"keyword\"]==word][\"review\"]))\n",
    "    print('리뷰의 평균 길이 :',sum(map(len, df[df[\"keyword\"]==word][\"review\"]))/len(df[df[\"keyword\"]==word][\"review\"]))\n",
    "    plt.hist([len(s) for s in df[df[\"keyword\"]==word][\"review\"]], bins=100)\n",
    "    plt.xlabel('length of samples')\n",
    "    plt.ylabel('number of samples')\n",
    "    plt.title(word+\" \"+\"데이터의 길이 분포\")\n",
    "    plt.show()"
   ]
  },
  {
   "cell_type": "code",
   "execution_count": null,
   "id": "8fd3310a",
   "metadata": {},
   "outputs": [],
   "source": []
  },
  {
   "cell_type": "markdown",
   "id": "57676512",
   "metadata": {},
   "source": [
    "# 유튜브 댓글 keyword 별 형태소 랭크"
   ]
  },
  {
   "cell_type": "code",
   "execution_count": 35,
   "id": "b5fede76",
   "metadata": {},
   "outputs": [
    {
     "name": "stderr",
     "output_type": "stream",
     "text": [
      "b'Skipping line 276: expected 1 fields, saw 2\\n'\n"
     ]
    }
   ],
   "source": [
    "okt = Okt()\n",
    "stopwords = pd.read_table(\"C:/netsong7/pythonwork/AI/stopwords1.txt\", encoding='utf-8-sig', header=None,error_bad_lines=False)\n",
    "stopwords = list(stopwords[0])"
   ]
  },
  {
   "cell_type": "code",
   "execution_count": 36,
   "id": "af8efb1a",
   "metadata": {},
   "outputs": [],
   "source": [
    "keyword = df[\"keyword\"].unique()"
   ]
  },
  {
   "cell_type": "code",
   "execution_count": 37,
   "id": "9c17554a",
   "metadata": {
    "scrolled": true
   },
   "outputs": [
    {
     "name": "stdout",
     "output_type": "stream",
     "text": [
      "M1======M1======\n",
      "[('있다', 416), ('보다', 402), ('되다', 388), ('좋다', 322), ('애플', 284), ('영상', 248), ('없다', 224), ('이다', 223), ('요', 198), ('너무', 197), ('아니다', 189), ('맥북', 185), ('만', 177), ('안', 177), ('프로', 151), ('진짜', 151), ('가다', 150), ('나오다', 150), ('아이맥', 150), ('자다', 149), ('쓰다', 146), ('사용', 143), ('더', 135), ('오다', 134), ('ㅋㅋ', 132), ('아이패드', 131), ('인텔', 129), ('님', 128), ('적', 125), ('사다', 121), ('윈도우', 121), ('않다', 120), ('거', 114), ('맥', 114), ('ㅠㅠ', 109), ('성능', 108), ('생각', 107), ('수', 107), ('소리', 107), ('인치', 104), ('ㅋㅋㅋ', 103), ('들다', 100), ('그렇다', 97), ('형', 94), ('ㅎㅎ', 91), ('못', 90), ('세대', 87), ('용', 87), ('알다', 86), ('일', 86), ('해주다', 85), ('하고', 84), ('중', 82), ('정도', 81), ('총', 80), ('그냥', 79), ('안되다', 78), ('이번', 75), ('보고', 75), ('만들다', 75), ('코어', 75), ('인데', 74), ('서', 74), ('정말', 74), ('리뷰', 73), ('감사하다', 73), ('내', 71), ('말', 71), ('사람', 71), ('싶다', 71), ('면', 70), ('노트북', 70), ('살다', 69), ('칩', 67), ('마이크', 67), ('제품', 66), ('ㅋㅋㅋㅋ', 66), ('많다', 66), ('오늘', 65), ('문제', 64), ('이랑', 63), ('지금', 63), ('랑', 61), ('어떻다', 61), ('게임', 59), ('클립', 59), ('에어', 58), ('기', 57), ('궁금하다', 57), ('이렇다', 56), ('많이', 56), ('년', 55), ('크다', 55), ('구매', 55), ('맥북에어', 54), ('모르다', 54), ('전', 53), ('이나', 53), ('분', 53), ('해보다', 53)]\n",
      "==================================================================================================================\n",
      "갤럭시기어======갤럭시기어======\n",
      "[('있다', 451), ('워치', 402), ('보다', 389), ('되다', 389), ('좋다', 285), ('요', 205), ('님', 200), ('영상', 198), ('갤럭시', 191), ('리뷰', 181), ('없다', 178), ('이다', 171), ('기능', 166), ('사용', 164), ('자다', 161), ('만', 153), ('삼성', 149), ('너무', 146), ('감사하다', 143), ('선수', 141), ('가다', 137), ('액티브', 135), ('기어', 130), ('쓰다', 123), ('나오다', 121), ('가능하다', 120), ('중', 120), ('안', 119), ('밴드', 115), ('더', 113), ('해주다', 112), ('아니다', 108), ('오다', 108), ('않다', 108), ('잇다', 108), ('애플', 108), ('핏', 106), ('보고', 105), ('폰', 100), ('랑', 98), ('밉다', 98), ('시계', 97), ('섭', 97), ('진짜', 94), ('하고', 91), ('적', 90), ('사다', 90), ('인데', 89), ('ㅠㅠ', 89), ('김연경', 89), ('궁금하다', 83), ('아이폰', 82), ('많다', 81), ('구매', 79), ('테크', 77), ('정말', 76), ('거', 76), ('많이', 75), ('ㅎㅎ', 74), ('몽', 74), ('성', 73), ('고민', 72), ('어떻다', 70), ('들다', 68), ('싶다', 68), ('수', 68), ('안되다', 67), ('디자인', 67), ('생각', 64), ('모델', 64), ('블루투스', 63), ('ㅋㅋ', 62), ('지금', 61), ('가요', 59), ('못', 59), ('제품', 58), ('삼', 58), ('되어다', 57), ('크다', 57), ('알다', 56), ('배터리', 55), ('전', 55), ('이번', 55), ('ㅠ', 54), ('그냥', 54), ('그렇다', 54), ('형', 52), ('페이', 51), ('가격', 50), ('늘다', 50), ('사람', 50), ('정도', 49), ('면', 49), ('배구', 48), ('노트', 47), ('ㅋㅋㅋ', 47), ('받다', 47), ('시리즈', 47), ('써다', 46), ('년', 45)]\n",
      "==================================================================================================================\n",
      "갤럭시북======갤럭시북======\n",
      "[('있다', 773), ('보다', 726), ('좋다', 709), ('노트북', 638), ('되다', 628), ('영상', 582), ('북', 415), ('요', 400), ('프로', 364), ('없다', 346), ('사용', 323), ('만', 323), ('갤럭시', 320), ('너무', 319), ('리뷰', 310), ('이다', 309), ('아니다', 309), ('님', 291), ('삼성', 285), ('쓰다', 285), ('더', 283), ('진짜', 273), ('자다', 254), ('제품', 248), ('이온', 238), ('나오다', 230), ('안', 225), ('가다', 225), ('그램', 223), ('형', 207), ('플렉스', 207), ('거', 203), ('가격', 202), ('많이', 195), ('잇다', 188), ('비교', 188), ('사다', 186), ('오다', 186), ('성능', 186), ('중', 185), ('생각', 184), ('섭', 180), ('적', 179), ('해주다', 179), ('감사하다', 178), ('인데', 176), ('않다', 174), ('정도', 174), ('ㅠㅠ', 171), ('수', 168), ('정말', 164), ('하고', 154), ('인트', 145), ('구매', 145), ('맥북', 144), ('ㅎㅎ', 144), ('보고', 143), ('궁금하다', 141), ('많다', 141), ('만원', 138), ('들다', 133), ('면', 133), ('인치', 133), ('그냥', 131), ('가능하다', 130), ('펜', 126), ('어떻다', 125), ('ㅋㅋㅋ', 122), ('용', 122), ('쓸다', 121), ('모델', 121), ('싶다', 119), ('테크', 117), ('만들다', 116), ('랑', 116), ('작업', 114), ('윈도우', 113), ('고민', 111), ('못', 110), ('그렇다', 110), ('분', 109), ('알다', 106), ('크다', 105), ('키', 105), ('ㅋㅋ', 103), ('받다', 102), ('안되다', 102), ('보드', 102), ('문제', 100), ('이나', 99), ('성', 99), ('써다', 98), ('살다', 96), ('괜찮다', 95), ('오늘', 94), ('이번', 94), ('되어다', 93), ('뭐', 93), ('이랑', 93), ('서', 93)]\n",
      "==================================================================================================================\n",
      "갤럭시======갤럭시======\n",
      "[('보다', 589), ('좋다', 568), ('있다', 519), ('되다', 507), ('쓰다', 461), ('폰', 368), ('진짜', 328), ('삼성', 298), ('너무', 297), ('이다', 292), ('없다', 282), ('만', 274), ('아이폰', 271), ('갤럭시', 257), ('나오다', 248), ('영상', 247), ('안', 246), ('요', 233), ('플립', 227), ('디자인', 225), ('가다', 209), ('중', 209), ('님', 208), ('더', 207), ('사용', 205), ('아니다', 205), ('폴드', 188), ('자다', 165), ('생각', 157), ('들다', 155), ('ㅋㅋㅋ', 154), ('ㅋㅋ', 154), ('않다', 153), ('노트', 152), ('리뷰', 144), ('인데', 142), ('적', 140), ('오다', 140), ('면', 139), ('사다', 135), ('ㅠㅠ', 134), ('시리즈', 131), ('못', 129), ('거', 128), ('워치', 124), ('정말', 123), ('가격', 122), ('하고', 122), ('카메라', 122), ('기능', 119), ('써다', 115), ('보고', 115), ('애플', 114), ('화면', 113), ('이쁘다', 110), ('감사하다', 110), ('년', 110), ('싶다', 109), ('많이', 107), ('형', 107), ('사람', 107), ('해주다', 106), ('쓸다', 106), ('지금', 105), ('ㅎㅎ', 104), ('성', 104), ('정도', 102), ('늘다', 100), ('이번', 100), ('그냥', 100), ('단점', 99), ('수', 98), ('바꾸다', 93), ('전', 92), ('그렇다', 92), ('ㅋㅋㅋㅋ', 91), ('모르다', 90), ('만들다', 89), ('인트', 88), ('안되다', 87), ('내', 85), ('잇다', 85), ('폴', 84), ('성능', 84), ('기', 83), ('분', 83), ('많다', 82), ('구매', 81), ('섭', 81), ('크다', 80), ('뭐', 80), ('랑', 77), ('말', 76), ('어떻다', 76), ('알다', 75), ('넘다', 74), ('삼', 73), ('때문', 72), ('느낌', 71), ('급', 71)]\n",
      "==================================================================================================================\n",
      "갤탭======갤탭======\n",
      "[('있다', 904), ('좋다', 872), ('보다', 746), ('영상', 695), ('되다', 658), ('아이패드', 621), ('쓰다', 474), ('님', 473), ('갤탭', 442), ('너무', 425), ('펜', 390), ('진짜', 389), ('테크', 377), ('감사하다', 375), ('사용', 373), ('요', 373), ('몽', 357), ('탭', 352), ('자다', 350), ('필기', 320), ('없다', 318), ('만', 315), ('더', 313), ('노트', 309), ('사다', 291), ('이다', 286), ('중', 283), ('많이', 281), ('안', 273), ('삼성', 257), ('가다', 254), ('보고', 246), ('ㅠㅠ', 244), ('아니다', 241), ('인데', 238), ('오다', 232), ('나오다', 224), ('태블릿', 221), ('거', 214), ('가격', 211), ('리뷰', 208), ('화면', 205), ('해주다', 202), ('정말', 202), ('구매', 197), ('적', 196), ('수', 194), ('하고', 192), ('갤럭시', 191), ('생각', 187), ('랑', 179), ('ㅎㅎ', 178), ('고민', 176), ('프로', 175), ('애플', 174), ('않다', 172), ('싶다', 171), ('받다', 167), ('기능', 165), ('면', 161), ('알다', 159), ('써다', 156), ('앱', 152), ('성', 150), ('비교', 150), ('ㅋㅋ', 148), ('쓸다', 142), ('제품', 141), ('이번', 141), ('어떻다', 136), ('못', 134), ('정보', 129), ('들다', 128), ('부분', 127), ('펜촉', 127), ('많다', 124), ('전', 123), ('크다', 123), ('그냥', 123), ('ㅋㅋㅋ', 122), ('모르다', 122), ('용', 118), ('사람', 117), ('삼', 114), ('그렇다', 113), ('정도', 112), ('기', 110), ('ㅠ', 108), ('궁금하다', 107), ('아쉽다', 105), ('차이', 104), ('되어다', 104), ('비', 104), ('에어', 104), ('근데', 103), ('설명', 102), ('서', 102), ('하나', 100), ('키', 100), ('안되다', 98)]\n",
      "==================================================================================================================\n",
      "맥북======맥북======\n",
      "[('맥북', 566), ('있다', 523), ('영상', 417), ('보다', 410), ('좋다', 395), ('되다', 344), ('너무', 283), ('요', 279), ('님', 277), ('감사하다', 264), ('사용', 258), ('쓰다', 247), ('없다', 221), ('맥', 218), ('이다', 196), ('진짜', 195), ('ㅠㅠ', 190), ('프로', 174), ('윈도우', 170), ('애플', 167), ('만', 162), ('자다', 161), ('사다', 159), ('아니다', 151), ('가다', 151), ('오다', 137), ('중', 136), ('안', 135), ('아이패드', 133), ('나오다', 132), ('ㅎㅎ', 125), ('알다', 120), ('보고', 120), ('인데', 118), ('에어', 118), ('수', 114), ('많이', 110), ('더', 109), ('하고', 108), ('인치', 107), ('맥북에어', 97), ('싶다', 96), ('어떻다', 93), ('거', 93), ('잇다', 92), ('노트북', 92), ('꿀팁', 89), ('형', 88), ('정말', 88), ('생각', 87), ('맥북프로', 87), ('않다', 87), ('모르다', 87), ('섭', 86), ('가능하다', 86), ('작업', 86), ('써다', 86), ('년', 86), ('받다', 86), ('고민', 85), ('적', 82), ('구매', 82), ('서', 80), ('쓸다', 79), ('들다', 78), ('오늘', 78), ('주연', 78), ('ㅋㅋㅋ', 77), ('사람', 77), ('많다', 76), ('전', 74), ('정보', 73), ('해주다', 72), ('기능', 71), ('안되다', 70), ('가격', 69), ('랑', 69), ('용', 69), ('못', 68), ('지금', 67), ('분', 65), ('ㅋㅋ', 65), ('그렇다', 64), ('이번', 63), ('살다', 63), ('그냥', 63), ('이나', 62), ('말', 61), ('설정', 61), ('알', 61), ('언니', 60), ('되어다', 59), ('ㅠ', 59), ('가노', 59), ('궁금하다', 57), ('유용하다', 57), ('정도', 56), ('편집', 55), ('ㅜㅜ', 55), ('크다', 55)]\n",
      "==================================================================================================================\n"
     ]
    },
    {
     "name": "stdout",
     "output_type": "stream",
     "text": [
      "미밴드======미밴드======\n",
      "[('밴드', 581), ('밉다', 506), ('있다', 371), ('되다', 319), ('좋다', 290), ('보다', 244), ('요', 199), ('없다', 177), ('이다', 171), ('님', 157), ('아니다', 155), ('안', 146), ('워치', 144), ('영상', 140), ('만', 140), ('쓰다', 132), ('진짜', 132), ('너무', 129), ('자다', 119), ('알다', 118), ('핏', 113), ('나오다', 113), ('ㅠㅠ', 112), ('선수', 109), ('김연경', 108), ('감사하다', 107), ('수', 103), ('어떻다', 103), ('사람', 100), ('잇다', 97), ('사다', 97), ('사용', 97), ('오다', 96), ('거', 96), ('중', 94), ('더', 94), ('가다', 94), ('기능', 93), ('리뷰', 91), ('않다', 90), ('안되다', 89), ('섭', 88), ('하고', 82), ('인데', 82), ('운동', 80), ('못', 80), ('받다', 78), ('애플', 76), ('형', 73), ('갤럭시', 73), ('해주다', 72), ('설정', 72), ('보고', 71), ('갓', 68), ('가능하다', 67), ('ㅎㅎ', 66), ('화면', 66), ('알림', 66), ('랑', 64), ('구매', 64), ('면', 64), ('들다', 63), ('돼다', 62), ('충전', 62), ('살다', 61), ('모르다', 61), ('적', 60), ('아이폰', 60), ('정말', 59), ('ㅋㅋ', 58), ('샤오미', 56), ('차다', 55), ('그냥', 55), ('내', 55), ('말', 55), ('박수홍', 54), ('나다', 53), ('뭐', 53), ('많다', 52), ('그렇다', 52), ('카톡', 52), ('여자', 52), ('고민', 51), ('ㅋㅋㅋ', 51), ('제품', 51), ('가요', 51), ('정도', 50), ('싶다', 50), ('연경', 49), ('분', 48), ('뜨다', 48), ('걸', 46), ('두목', 46), ('되어다', 45), ('전', 44), ('오늘', 44), ('중국', 44), ('배구', 44), ('많이', 43), ('근데', 43)]\n",
      "==================================================================================================================\n",
      "버즈라이브======버즈라이브======\n",
      "[('버즈', 1223), ('좋다', 871), ('보다', 829), ('라이브', 723), ('있다', 625), ('진짜', 570), ('너무', 560), ('님', 478), ('영상', 465), ('되다', 440), ('이다', 419), ('형', 416), ('자다', 328), ('노래', 327), ('민경훈', 306), ('요', 288), ('없다', 283), ('오다', 283), ('안', 275), ('에어팟', 262), ('귀', 255), ('착용', 254), ('ㅠㅠ', 247), ('리뷰', 239), ('더', 238), ('아니다', 237), ('만', 235), ('하람', 219), ('중', 216), ('들다', 212), ('오픈', 204), ('감사하다', 201), ('쓰다', 199), ('프로', 198), ('나오다', 196), ('잘생기다', 195), ('가다', 190), ('거', 189), ('사용', 188), ('이어폰', 179), ('인데', 178), ('소리', 178), ('ㅋㅋ', 177), ('플러스', 176), ('ㅋㅋㅋ', 174), ('ㅎㅎ', 171), ('생각', 170), ('사람', 170), ('정말', 170), ('보고', 164), ('사다', 162), ('않다', 156), ('오늘', 155), ('이쁘다', 154), ('노캔', 149), ('못', 147), ('내', 144), ('커널', 140), ('음질', 140), ('목소리', 140), ('지금', 140), ('적', 139), ('많이', 135), ('하고', 134), ('듣다', 128), ('갤럭시', 128), ('정도', 119), ('예쁘다', 119), ('랑', 119), ('얼굴', 119), ('그냥', 118), ('면', 116), ('수', 113), ('알다', 113), ('통화', 111), ('그렇다', 110), ('싶다', 109), ('받다', 107), ('제품', 107), ('맞다', 105), ('넘다', 105), ('귀엽다', 105), ('사랑', 105), ('전', 104), ('ㅠ', 104), ('어떻다', 103), ('케이스', 102), ('ㅋㅋㅋㅋ', 101), ('해주다', 100), ('항상', 100), ('구매', 100), ('ㅜㅜ', 99), ('삼성', 97), ('크다', 96), ('아프다', 96), ('개', 96), ('강낭콩', 94), ('언니', 93), ('부르다', 93), ('비교', 92)]\n",
      "==================================================================================================================\n",
      "버즈플러스======버즈플러스======\n",
      "[('버즈', 1337), ('좋다', 640), ('보다', 587), ('플러스', 556), ('있다', 551), ('프로', 441), ('영상', 380), ('되다', 379), ('에어팟', 359), ('님', 355), ('리뷰', 345), ('너무', 336), ('요', 283), ('이다', 276), ('없다', 257), ('사다', 232), ('쓰다', 230), ('진짜', 221), ('갤럭시', 216), ('더', 209), ('소리', 201), ('안', 198), ('중', 194), ('음질', 190), ('자다', 189), ('케이스', 180), ('해주다', 177), ('ㅎㅎ', 176), ('오다', 174), ('나오다', 173), ('가다', 169), ('통화', 165), ('주연', 164), ('ㅠㅠ', 162), ('감사하다', 162), ('사용', 159), ('만', 159), ('들다', 146), ('이어폰', 145), ('비교', 142), ('보고', 141), ('인데', 139), ('아니다', 138), ('거', 138), ('랑', 134), ('오늘', 127), ('노캔', 124), ('구매', 120), ('라이브', 120), ('적', 119), ('싶다', 119), ('이쁘다', 119), ('면', 118), ('알다', 118), ('제품', 116), ('고민', 115), ('생각', 115), ('않다', 115), ('많이', 113), ('하고', 112), ('정말', 110), ('테크', 108), ('그렇다', 108), ('기능', 107), ('어떻다', 107), ('귀', 107), ('ㅋㅋㅋ', 102), ('몽', 100), ('정도', 100), ('형', 98), ('가격', 97), ('삼성', 97), ('배터리', 96), ('ㅋㅋ', 92), ('수', 90), ('많다', 88), ('주변', 86), ('품질', 85), ('ㅠ', 81), ('써다', 80), ('역시', 79), ('폰', 79), ('궁금하다', 79), ('부분', 78), ('전', 76), ('마이', 74), ('설명', 73), ('두', 73), ('분', 72), ('듣기', 72), ('블루', 72), ('사람', 72), ('시', 70), ('들리다', 70), ('이번', 69), ('살다', 69), ('느낌', 68), ('목소리', 68), ('가요', 68), ('못', 67)]\n",
      "==================================================================================================================\n",
      "샤오미워치======샤오미워치======\n",
      "[('있다', 270), ('좋다', 255), ('워치', 251), ('되다', 232), ('보다', 207), ('요', 184), ('밴드', 162), ('밉다', 146), ('기능', 145), ('샤오미', 126), ('사용', 119), ('리뷰', 111), ('없다', 109), ('영상', 99), ('제품', 97), ('중', 97), ('만', 96), ('감사하다', 96), ('가다', 95), ('오다', 95), ('안', 93), ('애플', 91), ('미우다', 89), ('화면', 85), ('자다', 84), ('나오다', 84), ('거', 82), ('쓰다', 81), ('인데', 80), ('너무', 80), ('이다', 79), ('진짜', 74), ('안되다', 73), ('가격', 72), ('알림', 71), ('ㅎㅎ', 69), ('사다', 68), ('ㅠㅠ', 68), ('어떻다', 68), ('가성', 67), ('알다', 64), ('시계', 63), ('님', 63), ('비', 60), ('설정', 58), ('더', 57), ('싶다', 57), ('구매', 56), ('않다', 55), ('랑', 54), ('수', 53), ('아니다', 53), ('배터리', 53), ('보고', 50), ('갤럭시', 50), ('스마트워치', 50), ('해주다', 49), ('가요', 49), ('가능하다', 49), ('정말', 48), ('핏', 47), ('정보', 47), ('카톡', 47), ('보이다', 45), ('크다', 45), ('전화', 45), ('하고', 43), ('ㅋㅋ', 43), ('연결', 42), ('궁금하다', 41), ('면', 41), ('중국', 41), ('운동', 40), ('많다', 40), ('오늘', 40), ('ㅠ', 39), ('들다', 38), ('이나', 38), ('받다', 38), ('설명', 37), ('그렇다', 37), ('못', 37), ('스트랩', 36), ('정도', 36), ('고민', 36), ('돼다', 35), ('디자인', 35), ('만원', 35), ('어플', 34), ('뜨다', 34), ('많이', 34), ('인트', 34), ('일', 33), ('그냥', 33), ('아이폰', 32), ('괜찮다', 32), ('이쁘다', 32), ('비교', 31), ('어메', 31), ('생각', 31)]\n",
      "==================================================================================================================\n",
      "샤오미폰======샤오미폰======\n",
      "[('좋다', 576), ('있다', 538), ('보다', 505), ('폰', 495), ('샤오미', 478), ('되다', 440), ('요', 307), ('중국', 301), ('없다', 295), ('삼성', 281), ('쓰다', 256), ('가격', 248), ('만', 242), ('번', 235), ('아니다', 227), ('이다', 220), ('안', 216), ('진짜', 203), ('가성', 197), ('님', 186), ('영상', 183), ('거', 173), ('않다', 171), ('가다', 167), ('더', 165), ('제품', 163), ('비', 159), ('면', 159), ('디자인', 156), ('중', 152), ('너무', 152), ('사용', 152), ('나오다', 150), ('리뷰', 148), ('오다', 148), ('생각', 148), ('카메라', 142), ('홍', 141), ('자다', 140), ('밉다', 140), ('ㅋㅋ', 138), ('형', 131), ('사다', 129), ('싶다', 128), ('프로', 123), ('해주다', 122), ('미노트', 120), ('인데', 120), ('ㅎㅎ', 120), ('갤럭시', 115), ('적', 114), ('만원', 111), ('랑', 111), ('정도', 109), ('들다', 109), ('하고', 105), ('많이', 103), ('ㅠㅠ', 100), ('수', 99), ('괜찮다', 98), ('쓸다', 98), ('ㅋㅋㅋ', 98), ('정말', 95), ('안되다', 95), ('못', 94), ('포코', 93), ('가습기', 93), ('보고', 92), ('어떻다', 91), ('감사하다', 89), ('이쁘다', 86), ('기', 85), ('성능', 85), ('만들다', 85), ('그렇다', 84), ('애플', 84), ('그냥', 83), ('알다', 83), ('울트라', 83), ('궁금하다', 82), ('잇다', 81), ('정발', 81), ('구매', 79), ('스펙', 78), ('이제', 78), ('체중', 78), ('섭', 77), ('아이폰', 77), ('계', 77), ('늘다', 76), ('스마트폰', 76), ('ㅋㅋㅋㅋ', 76), ('크다', 75), ('하나', 75), ('가능하다', 75), ('사람', 75), ('국내', 75), ('비교', 72), ('써다', 72), ('정보', 72)]\n",
      "==================================================================================================================\n",
      "샤오미휴대폰======샤오미휴대폰======\n",
      "[('좋다', 264), ('보다', 239), ('폰', 227), ('있다', 172), ('샤오미', 160), ('되다', 158), ('가성', 148), ('요', 140), ('없다', 127), ('비', 126), ('가격', 111), ('만', 110), ('홍', 108), ('아니다', 103), ('가다', 101), ('중국', 99), ('삼성', 96), ('포코', 93), ('진짜', 89), ('오다', 85), ('자다', 84), ('미노트', 84), ('영상', 81), ('이다', 81), ('ㅋㅋ', 79), ('면', 73), ('너무', 70), ('안', 69), ('리뷰', 69), ('거', 68), ('쓰다', 67), ('카메라', 63), ('밉다', 60), ('정말', 59), ('제품', 58), ('더', 57), ('ㅋㅋㅋ', 56), ('사용', 56), ('님', 56), ('감사하다', 55), ('ㅎㅎ', 54), ('나오다', 53), ('만원', 52), ('아쉽다', 50), ('이네', 50), ('오늘', 49), ('갤럭시', 48), ('생각', 48), ('성능', 47), ('프로', 47), ('사다', 46), ('인트', 46), ('적', 44), ('보고', 44), ('넣다', 43), ('안되다', 43), ('않다', 41), ('괜찮다', 41), ('중', 40), ('인데', 39), ('스마트폰', 39), ('못', 38), ('싶다', 38), ('문제', 38), ('써다', 38), ('정발', 36), ('만들다', 36), ('정도', 36), ('국내', 35), ('정보', 34), ('해주다', 34), ('말', 34), ('쓸다', 34), ('요즘', 34), ('싸다', 34), ('크다', 33), ('디자인', 33), ('노트', 33), ('기', 33), ('ㄷㄷ', 33), ('늘다', 32), ('들다', 32), ('충전', 32), ('ㅠㅠ', 32), ('역시', 32), ('많다', 32), ('이나', 31), ('보이다', 31), ('부분', 31), ('주다', 30), ('비다', 30), ('하고', 29), ('엘지', 29), ('이쁘다', 29), ('수', 28), ('분', 28), ('차다', 28), ('그냥', 28), ('랑', 28), ('구매', 27)]\n",
      "==================================================================================================================\n"
     ]
    },
    {
     "name": "stdout",
     "output_type": "stream",
     "text": [
      "아이패드======아이패드======\n",
      "[('아이패드', 1288), ('있다', 702), ('프로', 689), ('보다', 678), ('영상', 670), ('좋다', 635), ('너무', 514), ('세대', 493), ('에어', 477), ('사다', 351), ('되다', 340), ('요', 334), ('쓰다', 325), ('ㅠㅠ', 314), ('님', 285), ('진짜', 275), ('미니', 270), ('사용', 252), ('없다', 244), ('자다', 233), ('가다', 220), ('만', 217), ('ㅎㅎ', 211), ('이다', 208), ('보고', 207), ('중', 206), ('감사하다', 198), ('안', 194), ('랑', 194), ('오다', 191), ('필기', 189), ('더', 188), ('거', 184), ('아니다', 175), ('하고', 166), ('인치', 165), ('인데', 161), ('고민', 159), ('나오다', 158), ('어떻다', 152), ('애플', 148), ('싶다', 140), ('수', 139), ('많이', 136), ('ㅠ', 135), ('해주다', 133), ('공부', 132), ('알다', 129), ('살다', 129), ('생각', 123), ('넘다', 122), ('들다', 121), ('정말', 120), ('쓸다', 118), ('언니', 118), ('구매', 116), ('노트', 116), ('않다', 113), ('키', 113), ('기', 111), ('ㅋㅋ', 110), ('용', 110), ('케이스', 107), ('패드', 105), ('앱', 105), ('전', 105), ('정보', 104), ('오늘', 103), ('추천', 103), ('이쁘다', 103), ('부럽다', 102), ('크다', 101), ('못', 101), ('그림', 101), ('ㅋㅋㅋ', 98), ('분', 98), ('이번', 97), ('잇다', 96), ('굿', 95), ('나다', 94), ('써다', 94), ('귀엽다', 93), ('예쁘다', 91), ('소람님', 91), ('목소리', 90), ('보드', 88), ('그냥', 87), ('그렇다', 86), ('사람', 86), ('뭐', 85), ('이랑', 85), ('적', 85), ('차이', 85), ('펜슬', 85), ('유튜브', 84), ('받다', 84), ('많다', 82), ('면', 82), ('궁금하다', 81), ('화면', 80)]\n",
      "==================================================================================================================\n",
      "아이폰======아이폰======\n",
      "[('아이폰', 959), ('좋다', 497), ('보다', 475), ('있다', 463), ('되다', 429), ('진짜', 376), ('쓰다', 364), ('님', 361), ('너무', 349), ('폰', 342), ('안', 280), ('요', 276), ('영상', 263), ('없다', 245), ('프로', 240), ('ㅠㅠ', 237), ('사다', 236), ('ㅋㅋ', 232), ('배터리', 229), ('만', 228), ('이다', 226), ('오다', 221), ('ㅋㅋㅋ', 215), ('년', 214), ('아니다', 207), ('가다', 205), ('거', 204), ('갤럭시', 192), ('더', 190), ('나오다', 176), ('인데', 161), ('애플', 161), ('ㅋㅋㅋㅋ', 152), ('그냥', 145), ('않다', 145), ('써다', 143), ('사용', 141), ('자다', 139), ('중', 137), ('전', 131), ('사주다', 131), ('싶다', 125), ('바꾸다', 125), ('엄마', 124), ('ㅋㅋㅋㅋㅋ', 120), ('핸드폰', 117), ('개', 116), ('못', 114), ('ㅎㅎ', 114), ('지금', 111), ('면', 110), ('성능', 110), ('말', 109), ('들다', 107), ('보고', 105), ('많이', 105), ('어떻다', 105), ('하고', 105), ('그렇다', 104), ('생각', 101), ('해주다', 101), ('적', 100), ('알다', 99), ('근데', 96), ('넘다', 96), ('카메라', 95), ('내', 95), ('충전', 95), ('형', 94), ('살다', 94), ('돼다', 94), ('마이', 93), ('수', 92), ('삼성', 92), ('정도', 91), ('많다', 91), ('사람', 90), ('뭐', 88), ('기능', 88), ('이쁘다', 88), ('감사하다', 87), ('안되다', 86), ('맞다', 84), ('기다리다', 80), ('미니', 79), ('나다', 78), ('린', 78), ('디자인', 78), ('랑', 77), ('공감', 77), ('명', 76), ('준', 75), ('장', 74), ('모르다', 73), ('이랑', 72), ('정말', 72), ('부럽다', 71), ('ㅋㅋㅋㅋㅋㅋ', 70), ('ㅠ', 70), ('이번', 70)]\n",
      "==================================================================================================================\n",
      "애플워치======애플워치======\n",
      "[('워치', 1508), ('애플', 1251), ('있다', 726), ('보다', 629), ('영상', 548), ('너무', 443), ('좋다', 417), ('되다', 416), ('요', 343), ('님', 342), ('사다', 320), ('쓰다', 297), ('ㅠㅠ', 296), ('없다', 296), ('안', 278), ('기능', 269), ('자다', 265), ('사용', 226), ('진짜', 225), ('나오다', 219), ('감사하다', 202), ('만', 199), ('가다', 196), ('알다', 195), ('중', 186), ('이다', 183), ('보고', 182), ('구매', 181), ('오다', 179), ('스트랩', 179), ('수', 174), ('ㅋㅋㅋ', 168), ('하고', 162), ('아니다', 161), ('고민', 156), ('정보', 156), ('거', 156), ('ㅎㅎ', 154), ('이쁘다', 147), ('싶다', 144), ('해주다', 144), ('아이폰', 142), ('어떻다', 140), ('오늘', 138), ('인데', 130), ('ㅠ', 128), ('예쁘다', 126), ('않다', 122), ('ㅋㅋ', 118), ('더', 117), ('운동', 115), ('안되다', 115), ('랑', 113), ('못', 112), ('분', 110), ('앱', 110), ('제품', 108), ('넘다', 108), ('많이', 107), ('주연', 107), ('생각', 103), ('밴드', 103), ('살다', 102), ('가능하다', 102), ('받다', 101), ('그냥', 100), ('페이스', 99), ('들다', 99), ('궁금하다', 96), ('전', 95), ('알', 95), ('뭐', 94), ('정말', 94), ('언니', 93), ('ㅋㅋㅋㅋ', 91), ('지금', 88), ('화면', 87), ('셀룰러', 87), ('시계', 86), ('사고', 84), ('쓸다', 84), ('모르다', 80), ('사람', 80), ('갤럭시', 80), ('가요', 80), ('유용하다', 79), ('설정', 79), ('늘다', 79), ('내', 79), ('케이스', 79), ('가격', 78), ('뜨다', 78), ('그렇다', 77), ('용', 76), ('목소리', 76), ('써다', 76), ('추천', 75), ('적', 74), ('돼다', 74), ('많다', 73)]\n",
      "==================================================================================================================\n",
      "어메이즈핏======어메이즈핏======\n",
      "[('있다', 174), ('되다', 157), ('워치', 141), ('보다', 123), ('좋다', 94), ('기능', 94), ('요', 89), ('없다', 75), ('사용', 70), ('시계', 67), ('만', 65), ('영상', 64), ('제품', 60), ('가다', 59), ('리뷰', 55), ('애플', 55), ('오다', 54), ('중', 54), ('이다', 54), ('거', 53), ('너무', 52), ('구매', 52), ('가능하다', 52), ('자다', 51), ('쓰다', 48), ('아니다', 43), ('가요', 41), ('인데', 41), ('밴드', 39), ('알다', 39), ('배터리', 39), ('안', 38), ('전화', 38), ('사다', 37), ('알림', 37), ('더', 36), ('진동', 35), ('스마트워치', 34), ('수', 34), ('핏', 34), ('감사하다', 33), ('어떻다', 33), ('디자인', 33), ('어메', 33), ('가격', 32), ('즈', 32), ('카톡', 32), ('스트랩', 31), ('궁금하다', 31), ('밉다', 30), ('운동', 28), ('ㅎㅎ', 28), ('갤럭시', 28), ('생각', 28), ('랑', 27), ('그냥', 27), ('안되다', 26), ('만원', 26), ('늘다', 25), ('통화', 25), ('나오다', 25), ('모델', 25), ('못', 25), ('정도', 24), ('문자', 23), ('줄', 22), ('ㅠㅠ', 22), ('스마트', 22), ('비교', 22), ('비', 22), ('해주다', 22), ('않다', 22), ('ㅋㅋ', 22), ('화면', 22), ('라', 22), ('님', 21), ('적', 21), ('받다', 21), ('가성', 21), ('많이', 21), ('아쉽다', 21), ('분', 21), ('진짜', 21), ('면', 21), ('페이스', 20), ('하고', 20), ('설정', 20), ('고민', 19), ('어플', 19), ('괜찮다', 19), ('차다', 18), ('보고', 18), ('보이다', 18), ('미니', 18), ('블루투스', 18), ('내', 18), ('이랑', 18), ('어디서', 17), ('인가요', 17), ('샤오미', 17)]\n",
      "==================================================================================================================\n",
      "에어팟======에어팟======\n",
      "[('에어팟', 1253), ('있다', 552), ('좋다', 497), ('보다', 490), ('프로', 403), ('되다', 396), ('님', 395), ('너무', 349), ('영상', 339), ('진짜', 311), ('안', 272), ('요', 260), ('없다', 226), ('아니다', 221), ('가다', 218), ('거', 214), ('만', 211), ('세대', 207), ('오다', 206), ('ㅠㅠ', 204), ('ㅋㅋ', 199), ('더', 190), ('사다', 189), ('하람', 181), ('이다', 179), ('애플', 178), ('쓰다', 176), ('자다', 172), ('형', 166), ('ㅋㅋㅋ', 164), ('나오다', 154), ('오늘', 153), ('언니', 153), ('무선', 150), ('ㅋㅋㅋㅋ', 145), ('귀엽다', 142), ('ㅎㅎ', 139), ('잇다', 136), ('감사하다', 132), ('버즈', 129), ('충전', 127), ('인데', 126), ('섭', 125), ('이어폰', 125), ('부럽다', 122), ('그냥', 121), ('리뷰', 120), ('면', 120), ('들다', 119), ('않다', 119), ('귀', 119), ('아이폰', 117), ('알다', 115), ('케이스', 114), ('사람', 113), ('중', 112), ('받다', 111), ('많이', 108), ('축하', 106), ('랑', 104), ('가격', 103), ('돈', 103), ('ㅋㅋㅋㅋㅋ', 101), ('만원', 99), ('해주다', 98), ('싶다', 98), ('보고', 98), ('ㅠ', 96), ('못', 93), ('그렇다', 91), ('개', 91), ('드리다', 88), ('전', 88), ('하고', 87), ('근데', 87), ('항상', 86), ('넘다', 86), ('기능', 86), ('끼다', 85), ('써다', 84), ('사용', 83), ('제품', 83), ('정말', 82), ('소리', 80), ('내', 80), ('어떻다', 79), ('끼', 79), ('생각', 78), ('말', 78), ('수', 77), ('나다', 75), ('살다', 75), ('인트', 74), ('정도', 74), ('지금', 74), ('유선', 73), ('적', 72), ('뭐', 72), ('원', 71), ('짜다', 71)]\n",
      "==================================================================================================================\n",
      "홍미노트======홍미노트======\n",
      "[('홍', 284), ('있다', 241), ('좋다', 237), ('미노트', 220), ('보다', 220), ('폰', 219), ('되다', 210), ('없다', 172), ('샤오미', 170), ('쓰다', 134), ('가성', 124), ('더', 119), ('가격', 115), ('요', 115), ('만', 112), ('아니다', 109), ('안', 108), ('이다', 105), ('중국', 103), ('삼성', 102), ('가다', 100), ('노트', 91), ('비', 90), ('중', 85), ('일본', 85), ('한국', 84), ('거', 81), ('리뷰', 81), ('면', 79), ('밉다', 78), ('영상', 74), ('성능', 72), ('비교', 71), ('생각', 70), ('적', 67), ('진짜', 67), ('사용', 65), ('않다', 64), ('프로', 63), ('나오다', 63), ('만원', 62), ('정도', 60), ('갤럭시', 60), ('사다', 60), ('인데', 59), ('자다', 58), ('아이폰', 57), ('안되다', 56), ('카메라', 56), ('정말', 55), ('하고', 54), ('못', 53), ('써다', 53), ('많이', 53), ('ㅋㅋ', 53), ('너무', 53), ('들다', 51), ('님', 50), ('보고', 49), ('페이', 49), ('랑', 49), ('제품', 48), ('그렇다', 47), ('괜찮다', 47), ('어떻다', 45), ('사람', 45), ('그냥', 44), ('수', 43), ('구매', 43), ('알다', 43), ('비다', 42), ('기', 41), ('나다', 41), ('쓸다', 41), ('디자인', 40), ('대', 40), ('니', 40), ('삼', 38), ('성', 38), ('게임', 38), ('싶다', 38), ('받다', 37), ('ㅋ', 36), ('살다', 36), ('가능하다', 36), ('모르다', 35), ('많다', 35), ('하나', 35), ('싸다', 35), ('가요', 35), ('차이', 34), ('해주다', 34), ('뭐', 34), ('감사하다', 33), ('년', 33), ('말', 32), ('오다', 32), ('전', 32), ('늘다', 31), ('ㅎㅎ', 31)]\n",
      "==================================================================================================================\n"
     ]
    }
   ],
   "source": [
    "for word in keyword:    \n",
    "    positve = []\n",
    "    for sentence in df[df[\"keyword\"]==word][\"review\"]:\n",
    "        temp_X = okt.morphs(sentence, stem=True) # 토큰화\n",
    "        temp_X = [word for word in temp_X if not word in stopwords] # 불용어 제거\n",
    "        positve.append(temp_X)\n",
    "    words_positve = np.hstack(positve)\n",
    "    words_positve_count = Counter(words_positve)\n",
    "    print(word+\"======\"+word+\"======\")\n",
    "    print(words_positve_count.most_common(100))\n",
    "    print(\"==================================================================================================================\")"
   ]
  },
  {
   "cell_type": "code",
   "execution_count": 38,
   "id": "011188d5",
   "metadata": {},
   "outputs": [
    {
     "name": "stderr",
     "output_type": "stream",
     "text": [
      "C:\\Users\\not14\\anaconda3\\envs\\tf1\\lib\\site-packages\\konlpy\\tag\\_okt.py:16: UserWarning: \"Twitter\" has changed to \"Okt\" since KoNLPy v0.4.5.\n",
      "  warn('\"Twitter\" has changed to \"Okt\" since KoNLPy v0.4.5.')\n"
     ]
    }
   ],
   "source": [
    "from konlpy.tag import Mecab\n",
    "from konlpy.tag import Twitter\n",
    "twitter = Twitter()"
   ]
  },
  {
   "cell_type": "code",
   "execution_count": 39,
   "id": "dd4dfad7",
   "metadata": {
    "scrolled": true
   },
   "outputs": [
    {
     "name": "stdout",
     "output_type": "stream",
     "text": [
      "M1======M1======\n",
      "[('있다', 416), ('보다', 402), ('되다', 388), ('좋다', 322), ('애플', 284), ('영상', 248), ('없다', 224), ('이다', 223), ('요', 198), ('너무', 197), ('아니다', 189), ('맥북', 185), ('만', 177), ('안', 177), ('프로', 151), ('진짜', 151), ('가다', 150), ('나오다', 150), ('아이맥', 150), ('자다', 149), ('쓰다', 146), ('사용', 143), ('더', 135), ('오다', 134), ('ㅋㅋ', 132), ('아이패드', 131), ('인텔', 129), ('님', 128), ('적', 125), ('사다', 121), ('윈도우', 121), ('않다', 120), ('거', 114), ('맥', 114), ('ㅠㅠ', 109), ('성능', 108), ('생각', 107), ('수', 107), ('소리', 107), ('인치', 104), ('ㅋㅋㅋ', 103), ('들다', 100), ('그렇다', 97), ('형', 94), ('ㅎㅎ', 91), ('못', 90), ('세대', 87), ('용', 87), ('알다', 86), ('일', 86), ('해주다', 85), ('하고', 84), ('중', 82), ('정도', 81), ('총', 80), ('그냥', 79), ('안되다', 78), ('이번', 75), ('보고', 75), ('만들다', 75), ('코어', 75), ('인데', 74), ('서', 74), ('정말', 74), ('리뷰', 73), ('감사하다', 73), ('내', 71), ('말', 71), ('사람', 71), ('싶다', 71), ('면', 70), ('노트북', 70), ('살다', 69), ('칩', 67), ('마이크', 67), ('제품', 66), ('ㅋㅋㅋㅋ', 66), ('많다', 66), ('오늘', 65), ('문제', 64), ('이랑', 63), ('지금', 63), ('랑', 61), ('어떻다', 61), ('게임', 59), ('클립', 59), ('에어', 58), ('기', 57), ('궁금하다', 57), ('이렇다', 56), ('많이', 56), ('년', 55), ('크다', 55), ('구매', 55), ('맥북에어', 54), ('모르다', 54), ('전', 53), ('이나', 53), ('분', 53), ('해보다', 53)]\n",
      "==================================================================================================================\n",
      "갤럭시기어======갤럭시기어======\n",
      "[('있다', 451), ('워치', 402), ('보다', 389), ('되다', 389), ('좋다', 285), ('요', 205), ('님', 200), ('영상', 198), ('갤럭시', 191), ('리뷰', 181), ('없다', 178), ('이다', 171), ('기능', 166), ('사용', 164), ('자다', 161), ('만', 153), ('삼성', 149), ('너무', 146), ('감사하다', 143), ('선수', 141), ('가다', 137), ('액티브', 135), ('기어', 130), ('쓰다', 123), ('나오다', 121), ('가능하다', 120), ('중', 120), ('안', 119), ('밴드', 115), ('더', 113), ('해주다', 112), ('아니다', 108), ('오다', 108), ('않다', 108), ('잇다', 108), ('애플', 108), ('핏', 106), ('보고', 105), ('폰', 100), ('랑', 98), ('밉다', 98), ('시계', 97), ('섭', 97), ('진짜', 94), ('하고', 91), ('적', 90), ('사다', 90), ('인데', 89), ('ㅠㅠ', 89), ('김연경', 89), ('궁금하다', 83), ('아이폰', 82), ('많다', 81), ('구매', 79), ('테크', 77), ('정말', 76), ('거', 76), ('많이', 75), ('ㅎㅎ', 74), ('몽', 74), ('성', 73), ('고민', 72), ('어떻다', 70), ('들다', 68), ('싶다', 68), ('수', 68), ('안되다', 67), ('디자인', 67), ('생각', 64), ('모델', 64), ('블루투스', 63), ('ㅋㅋ', 62), ('지금', 61), ('가요', 59), ('못', 59), ('제품', 58), ('삼', 58), ('되어다', 57), ('크다', 57), ('알다', 56), ('배터리', 55), ('전', 55), ('이번', 55), ('ㅠ', 54), ('그냥', 54), ('그렇다', 54), ('형', 52), ('페이', 51), ('가격', 50), ('늘다', 50), ('사람', 50), ('정도', 49), ('면', 49), ('배구', 48), ('노트', 47), ('ㅋㅋㅋ', 47), ('받다', 47), ('시리즈', 47), ('써다', 46), ('년', 45)]\n",
      "==================================================================================================================\n",
      "갤럭시북======갤럭시북======\n",
      "[('있다', 773), ('보다', 726), ('좋다', 709), ('노트북', 638), ('되다', 628), ('영상', 582), ('북', 415), ('요', 400), ('프로', 364), ('없다', 346), ('사용', 323), ('만', 323), ('갤럭시', 320), ('너무', 319), ('리뷰', 310), ('이다', 309), ('아니다', 309), ('님', 291), ('삼성', 285), ('쓰다', 285), ('더', 283), ('진짜', 273), ('자다', 254), ('제품', 248), ('이온', 238), ('나오다', 230), ('안', 225), ('가다', 225), ('그램', 223), ('형', 207), ('플렉스', 207), ('거', 203), ('가격', 202), ('많이', 195), ('잇다', 188), ('비교', 188), ('사다', 186), ('오다', 186), ('성능', 186), ('중', 185), ('생각', 184), ('섭', 180), ('적', 179), ('해주다', 179), ('감사하다', 178), ('인데', 176), ('않다', 174), ('정도', 174), ('ㅠㅠ', 171), ('수', 168), ('정말', 164), ('하고', 154), ('인트', 145), ('구매', 145), ('맥북', 144), ('ㅎㅎ', 144), ('보고', 143), ('궁금하다', 141), ('많다', 141), ('만원', 138), ('들다', 133), ('면', 133), ('인치', 133), ('그냥', 131), ('가능하다', 130), ('펜', 126), ('어떻다', 125), ('ㅋㅋㅋ', 122), ('용', 122), ('쓸다', 121), ('모델', 121), ('싶다', 119), ('테크', 117), ('만들다', 116), ('랑', 116), ('작업', 114), ('윈도우', 113), ('고민', 111), ('못', 110), ('그렇다', 110), ('분', 109), ('알다', 106), ('크다', 105), ('키', 105), ('ㅋㅋ', 103), ('받다', 102), ('안되다', 102), ('보드', 102), ('문제', 100), ('이나', 99), ('성', 99), ('써다', 98), ('살다', 96), ('괜찮다', 95), ('오늘', 94), ('이번', 94), ('되어다', 93), ('뭐', 93), ('이랑', 93), ('서', 93)]\n",
      "==================================================================================================================\n",
      "갤럭시======갤럭시======\n",
      "[('보다', 589), ('좋다', 568), ('있다', 519), ('되다', 507), ('쓰다', 461), ('폰', 368), ('진짜', 328), ('삼성', 298), ('너무', 297), ('이다', 292), ('없다', 282), ('만', 274), ('아이폰', 271), ('갤럭시', 257), ('나오다', 248), ('영상', 247), ('안', 246), ('요', 233), ('플립', 227), ('디자인', 225), ('가다', 209), ('중', 209), ('님', 208), ('더', 207), ('사용', 205), ('아니다', 205), ('폴드', 188), ('자다', 165), ('생각', 157), ('들다', 155), ('ㅋㅋㅋ', 154), ('ㅋㅋ', 154), ('않다', 153), ('노트', 152), ('리뷰', 144), ('인데', 142), ('적', 140), ('오다', 140), ('면', 139), ('사다', 135), ('ㅠㅠ', 134), ('시리즈', 131), ('못', 129), ('거', 128), ('워치', 124), ('정말', 123), ('가격', 122), ('하고', 122), ('카메라', 122), ('기능', 119), ('써다', 115), ('보고', 115), ('애플', 114), ('화면', 113), ('이쁘다', 110), ('감사하다', 110), ('년', 110), ('싶다', 109), ('많이', 107), ('형', 107), ('사람', 107), ('해주다', 106), ('쓸다', 106), ('지금', 105), ('ㅎㅎ', 104), ('성', 104), ('정도', 102), ('늘다', 100), ('이번', 100), ('그냥', 100), ('단점', 99), ('수', 98), ('바꾸다', 93), ('전', 92), ('그렇다', 92), ('ㅋㅋㅋㅋ', 91), ('모르다', 90), ('만들다', 89), ('인트', 88), ('안되다', 87), ('내', 85), ('잇다', 85), ('폴', 84), ('성능', 84), ('기', 83), ('분', 83), ('많다', 82), ('구매', 81), ('섭', 81), ('크다', 80), ('뭐', 80), ('랑', 77), ('말', 76), ('어떻다', 76), ('알다', 75), ('넘다', 74), ('삼', 73), ('때문', 72), ('느낌', 71), ('급', 71)]\n",
      "==================================================================================================================\n",
      "갤탭======갤탭======\n",
      "[('있다', 904), ('좋다', 872), ('보다', 746), ('영상', 695), ('되다', 658), ('아이패드', 621), ('쓰다', 474), ('님', 473), ('갤탭', 442), ('너무', 425), ('펜', 390), ('진짜', 389), ('테크', 377), ('감사하다', 375), ('사용', 373), ('요', 373), ('몽', 357), ('탭', 352), ('자다', 350), ('필기', 320), ('없다', 318), ('만', 315), ('더', 313), ('노트', 309), ('사다', 291), ('이다', 286), ('중', 283), ('많이', 281), ('안', 273), ('삼성', 257), ('가다', 254), ('보고', 246), ('ㅠㅠ', 244), ('아니다', 241), ('인데', 238), ('오다', 232), ('나오다', 224), ('태블릿', 221), ('거', 214), ('가격', 211), ('리뷰', 208), ('화면', 205), ('해주다', 202), ('정말', 202), ('구매', 197), ('적', 196), ('수', 194), ('하고', 192), ('갤럭시', 191), ('생각', 187), ('랑', 179), ('ㅎㅎ', 178), ('고민', 176), ('프로', 175), ('애플', 174), ('않다', 172), ('싶다', 171), ('받다', 167), ('기능', 165), ('면', 161), ('알다', 159), ('써다', 156), ('앱', 152), ('성', 150), ('비교', 150), ('ㅋㅋ', 148), ('쓸다', 142), ('제품', 141), ('이번', 141), ('어떻다', 136), ('못', 134), ('정보', 129), ('들다', 128), ('부분', 127), ('펜촉', 127), ('많다', 124), ('전', 123), ('크다', 123), ('그냥', 123), ('ㅋㅋㅋ', 122), ('모르다', 122), ('용', 118), ('사람', 117), ('삼', 114), ('그렇다', 113), ('정도', 112), ('기', 110), ('ㅠ', 108), ('궁금하다', 107), ('아쉽다', 105), ('차이', 104), ('되어다', 104), ('비', 104), ('에어', 104), ('근데', 103), ('설명', 102), ('서', 102), ('하나', 100), ('키', 100), ('안되다', 98)]\n",
      "==================================================================================================================\n",
      "맥북======맥북======\n",
      "[('맥북', 566), ('있다', 523), ('영상', 417), ('보다', 410), ('좋다', 395), ('되다', 344), ('너무', 283), ('요', 279), ('님', 277), ('감사하다', 264), ('사용', 258), ('쓰다', 247), ('없다', 221), ('맥', 218), ('이다', 196), ('진짜', 195), ('ㅠㅠ', 190), ('프로', 174), ('윈도우', 170), ('애플', 167), ('만', 162), ('자다', 161), ('사다', 159), ('아니다', 151), ('가다', 151), ('오다', 137), ('중', 136), ('안', 135), ('아이패드', 133), ('나오다', 132), ('ㅎㅎ', 125), ('알다', 120), ('보고', 120), ('인데', 118), ('에어', 118), ('수', 114), ('많이', 110), ('더', 109), ('하고', 108), ('인치', 107), ('맥북에어', 97), ('싶다', 96), ('어떻다', 93), ('거', 93), ('잇다', 92), ('노트북', 92), ('꿀팁', 89), ('형', 88), ('정말', 88), ('생각', 87), ('맥북프로', 87), ('않다', 87), ('모르다', 87), ('섭', 86), ('가능하다', 86), ('작업', 86), ('써다', 86), ('년', 86), ('받다', 86), ('고민', 85), ('적', 82), ('구매', 82), ('서', 80), ('쓸다', 79), ('들다', 78), ('오늘', 78), ('주연', 78), ('ㅋㅋㅋ', 77), ('사람', 77), ('많다', 76), ('전', 74), ('정보', 73), ('해주다', 72), ('기능', 71), ('안되다', 70), ('가격', 69), ('랑', 69), ('용', 69), ('못', 68), ('지금', 67), ('분', 65), ('ㅋㅋ', 65), ('그렇다', 64), ('이번', 63), ('살다', 63), ('그냥', 63), ('이나', 62), ('말', 61), ('설정', 61), ('알', 61), ('언니', 60), ('되어다', 59), ('ㅠ', 59), ('가노', 59), ('궁금하다', 57), ('유용하다', 57), ('정도', 56), ('편집', 55), ('ㅜㅜ', 55), ('크다', 55)]\n",
      "==================================================================================================================\n"
     ]
    },
    {
     "name": "stdout",
     "output_type": "stream",
     "text": [
      "미밴드======미밴드======\n",
      "[('밴드', 581), ('밉다', 506), ('있다', 371), ('되다', 319), ('좋다', 290), ('보다', 244), ('요', 199), ('없다', 177), ('이다', 171), ('님', 157), ('아니다', 155), ('안', 146), ('워치', 144), ('영상', 140), ('만', 140), ('쓰다', 132), ('진짜', 132), ('너무', 129), ('자다', 119), ('알다', 118), ('핏', 113), ('나오다', 113), ('ㅠㅠ', 112), ('선수', 109), ('김연경', 108), ('감사하다', 107), ('수', 103), ('어떻다', 103), ('사람', 100), ('잇다', 97), ('사다', 97), ('사용', 97), ('오다', 96), ('거', 96), ('중', 94), ('더', 94), ('가다', 94), ('기능', 93), ('리뷰', 91), ('않다', 90), ('안되다', 89), ('섭', 88), ('하고', 82), ('인데', 82), ('운동', 80), ('못', 80), ('받다', 78), ('애플', 76), ('형', 73), ('갤럭시', 73), ('해주다', 72), ('설정', 72), ('보고', 71), ('갓', 68), ('가능하다', 67), ('ㅎㅎ', 66), ('화면', 66), ('알림', 66), ('랑', 64), ('구매', 64), ('면', 64), ('들다', 63), ('돼다', 62), ('충전', 62), ('살다', 61), ('모르다', 61), ('적', 60), ('아이폰', 60), ('정말', 59), ('ㅋㅋ', 58), ('샤오미', 56), ('차다', 55), ('그냥', 55), ('내', 55), ('말', 55), ('박수홍', 54), ('나다', 53), ('뭐', 53), ('많다', 52), ('그렇다', 52), ('카톡', 52), ('여자', 52), ('고민', 51), ('ㅋㅋㅋ', 51), ('제품', 51), ('가요', 51), ('정도', 50), ('싶다', 50), ('연경', 49), ('분', 48), ('뜨다', 48), ('걸', 46), ('두목', 46), ('되어다', 45), ('전', 44), ('오늘', 44), ('중국', 44), ('배구', 44), ('많이', 43), ('근데', 43)]\n",
      "==================================================================================================================\n",
      "버즈라이브======버즈라이브======\n",
      "[('버즈', 1223), ('좋다', 871), ('보다', 829), ('라이브', 723), ('있다', 625), ('진짜', 570), ('너무', 560), ('님', 478), ('영상', 465), ('되다', 440), ('이다', 419), ('형', 416), ('자다', 328), ('노래', 327), ('민경훈', 306), ('요', 288), ('없다', 283), ('오다', 283), ('안', 275), ('에어팟', 262), ('귀', 255), ('착용', 254), ('ㅠㅠ', 247), ('리뷰', 239), ('더', 238), ('아니다', 237), ('만', 235), ('하람', 219), ('중', 216), ('들다', 212), ('오픈', 204), ('감사하다', 201), ('쓰다', 199), ('프로', 198), ('나오다', 196), ('잘생기다', 195), ('가다', 190), ('거', 189), ('사용', 188), ('이어폰', 179), ('인데', 178), ('소리', 178), ('ㅋㅋ', 177), ('플러스', 176), ('ㅋㅋㅋ', 174), ('ㅎㅎ', 171), ('생각', 170), ('사람', 170), ('정말', 170), ('보고', 164), ('사다', 162), ('않다', 156), ('오늘', 155), ('이쁘다', 154), ('노캔', 149), ('못', 147), ('내', 144), ('커널', 140), ('음질', 140), ('목소리', 140), ('지금', 140), ('적', 139), ('많이', 135), ('하고', 134), ('듣다', 128), ('갤럭시', 128), ('정도', 119), ('예쁘다', 119), ('랑', 119), ('얼굴', 119), ('그냥', 118), ('면', 116), ('수', 113), ('알다', 113), ('통화', 111), ('그렇다', 110), ('싶다', 109), ('받다', 107), ('제품', 107), ('맞다', 105), ('넘다', 105), ('귀엽다', 105), ('사랑', 105), ('전', 104), ('ㅠ', 104), ('어떻다', 103), ('케이스', 102), ('ㅋㅋㅋㅋ', 101), ('해주다', 100), ('항상', 100), ('구매', 100), ('ㅜㅜ', 99), ('삼성', 97), ('크다', 96), ('아프다', 96), ('개', 96), ('강낭콩', 94), ('언니', 93), ('부르다', 93), ('비교', 92)]\n",
      "==================================================================================================================\n",
      "버즈플러스======버즈플러스======\n",
      "[('버즈', 1337), ('좋다', 640), ('보다', 587), ('플러스', 556), ('있다', 551), ('프로', 441), ('영상', 380), ('되다', 379), ('에어팟', 359), ('님', 355), ('리뷰', 345), ('너무', 336), ('요', 283), ('이다', 276), ('없다', 257), ('사다', 232), ('쓰다', 230), ('진짜', 221), ('갤럭시', 216), ('더', 209), ('소리', 201), ('안', 198), ('중', 194), ('음질', 190), ('자다', 189), ('케이스', 180), ('해주다', 177), ('ㅎㅎ', 176), ('오다', 174), ('나오다', 173), ('가다', 169), ('통화', 165), ('주연', 164), ('ㅠㅠ', 162), ('감사하다', 162), ('사용', 159), ('만', 159), ('들다', 146), ('이어폰', 145), ('비교', 142), ('보고', 141), ('인데', 139), ('아니다', 138), ('거', 138), ('랑', 134), ('오늘', 127), ('노캔', 124), ('구매', 120), ('라이브', 120), ('적', 119), ('싶다', 119), ('이쁘다', 119), ('면', 118), ('알다', 118), ('제품', 116), ('고민', 115), ('생각', 115), ('않다', 115), ('많이', 113), ('하고', 112), ('정말', 110), ('테크', 108), ('그렇다', 108), ('기능', 107), ('어떻다', 107), ('귀', 107), ('ㅋㅋㅋ', 102), ('몽', 100), ('정도', 100), ('형', 98), ('가격', 97), ('삼성', 97), ('배터리', 96), ('ㅋㅋ', 92), ('수', 90), ('많다', 88), ('주변', 86), ('품질', 85), ('ㅠ', 81), ('써다', 80), ('역시', 79), ('폰', 79), ('궁금하다', 79), ('부분', 78), ('전', 76), ('마이', 74), ('설명', 73), ('두', 73), ('분', 72), ('듣기', 72), ('블루', 72), ('사람', 72), ('시', 70), ('들리다', 70), ('이번', 69), ('살다', 69), ('느낌', 68), ('목소리', 68), ('가요', 68), ('못', 67)]\n",
      "==================================================================================================================\n",
      "샤오미워치======샤오미워치======\n",
      "[('있다', 270), ('좋다', 255), ('워치', 251), ('되다', 232), ('보다', 207), ('요', 184), ('밴드', 162), ('밉다', 146), ('기능', 145), ('샤오미', 126), ('사용', 119), ('리뷰', 111), ('없다', 109), ('영상', 99), ('제품', 97), ('중', 97), ('만', 96), ('감사하다', 96), ('가다', 95), ('오다', 95), ('안', 93), ('애플', 91), ('미우다', 89), ('화면', 85), ('자다', 84), ('나오다', 84), ('거', 82), ('쓰다', 81), ('인데', 80), ('너무', 80), ('이다', 79), ('진짜', 74), ('안되다', 73), ('가격', 72), ('알림', 71), ('ㅎㅎ', 69), ('사다', 68), ('ㅠㅠ', 68), ('어떻다', 68), ('가성', 67), ('알다', 64), ('시계', 63), ('님', 63), ('비', 60), ('설정', 58), ('더', 57), ('싶다', 57), ('구매', 56), ('않다', 55), ('랑', 54), ('수', 53), ('아니다', 53), ('배터리', 53), ('보고', 50), ('갤럭시', 50), ('스마트워치', 50), ('해주다', 49), ('가요', 49), ('가능하다', 49), ('정말', 48), ('핏', 47), ('정보', 47), ('카톡', 47), ('보이다', 45), ('크다', 45), ('전화', 45), ('하고', 43), ('ㅋㅋ', 43), ('연결', 42), ('궁금하다', 41), ('면', 41), ('중국', 41), ('운동', 40), ('많다', 40), ('오늘', 40), ('ㅠ', 39), ('들다', 38), ('이나', 38), ('받다', 38), ('설명', 37), ('그렇다', 37), ('못', 37), ('스트랩', 36), ('정도', 36), ('고민', 36), ('돼다', 35), ('디자인', 35), ('만원', 35), ('어플', 34), ('뜨다', 34), ('많이', 34), ('인트', 34), ('일', 33), ('그냥', 33), ('아이폰', 32), ('괜찮다', 32), ('이쁘다', 32), ('비교', 31), ('어메', 31), ('생각', 31)]\n",
      "==================================================================================================================\n",
      "샤오미폰======샤오미폰======\n",
      "[('좋다', 576), ('있다', 538), ('보다', 505), ('폰', 495), ('샤오미', 478), ('되다', 440), ('요', 307), ('중국', 301), ('없다', 295), ('삼성', 281), ('쓰다', 256), ('가격', 248), ('만', 242), ('번', 235), ('아니다', 227), ('이다', 220), ('안', 216), ('진짜', 203), ('가성', 197), ('님', 186), ('영상', 183), ('거', 173), ('않다', 171), ('가다', 167), ('더', 165), ('제품', 163), ('비', 159), ('면', 159), ('디자인', 156), ('중', 152), ('너무', 152), ('사용', 152), ('나오다', 150), ('리뷰', 148), ('오다', 148), ('생각', 148), ('카메라', 142), ('홍', 141), ('자다', 140), ('밉다', 140), ('ㅋㅋ', 138), ('형', 131), ('사다', 129), ('싶다', 128), ('프로', 123), ('해주다', 122), ('미노트', 120), ('인데', 120), ('ㅎㅎ', 120), ('갤럭시', 115), ('적', 114), ('만원', 111), ('랑', 111), ('정도', 109), ('들다', 109), ('하고', 105), ('많이', 103), ('ㅠㅠ', 100), ('수', 99), ('괜찮다', 98), ('쓸다', 98), ('ㅋㅋㅋ', 98), ('정말', 95), ('안되다', 95), ('못', 94), ('포코', 93), ('가습기', 93), ('보고', 92), ('어떻다', 91), ('감사하다', 89), ('이쁘다', 86), ('기', 85), ('성능', 85), ('만들다', 85), ('그렇다', 84), ('애플', 84), ('그냥', 83), ('알다', 83), ('울트라', 83), ('궁금하다', 82), ('잇다', 81), ('정발', 81), ('구매', 79), ('스펙', 78), ('이제', 78), ('체중', 78), ('섭', 77), ('아이폰', 77), ('계', 77), ('늘다', 76), ('스마트폰', 76), ('ㅋㅋㅋㅋ', 76), ('크다', 75), ('하나', 75), ('가능하다', 75), ('사람', 75), ('국내', 75), ('비교', 72), ('써다', 72), ('정보', 72)]\n",
      "==================================================================================================================\n",
      "샤오미휴대폰======샤오미휴대폰======\n",
      "[('좋다', 264), ('보다', 239), ('폰', 227), ('있다', 172), ('샤오미', 160), ('되다', 158), ('가성', 148), ('요', 140), ('없다', 127), ('비', 126), ('가격', 111), ('만', 110), ('홍', 108), ('아니다', 103), ('가다', 101), ('중국', 99), ('삼성', 96), ('포코', 93), ('진짜', 89), ('오다', 85), ('자다', 84), ('미노트', 84), ('영상', 81), ('이다', 81), ('ㅋㅋ', 79), ('면', 73), ('너무', 70), ('안', 69), ('리뷰', 69), ('거', 68), ('쓰다', 67), ('카메라', 63), ('밉다', 60), ('정말', 59), ('제품', 58), ('더', 57), ('ㅋㅋㅋ', 56), ('사용', 56), ('님', 56), ('감사하다', 55), ('ㅎㅎ', 54), ('나오다', 53), ('만원', 52), ('아쉽다', 50), ('이네', 50), ('오늘', 49), ('갤럭시', 48), ('생각', 48), ('성능', 47), ('프로', 47), ('사다', 46), ('인트', 46), ('적', 44), ('보고', 44), ('넣다', 43), ('안되다', 43), ('않다', 41), ('괜찮다', 41), ('중', 40), ('인데', 39), ('스마트폰', 39), ('못', 38), ('싶다', 38), ('문제', 38), ('써다', 38), ('정발', 36), ('만들다', 36), ('정도', 36), ('국내', 35), ('정보', 34), ('해주다', 34), ('말', 34), ('쓸다', 34), ('요즘', 34), ('싸다', 34), ('크다', 33), ('디자인', 33), ('노트', 33), ('기', 33), ('ㄷㄷ', 33), ('늘다', 32), ('들다', 32), ('충전', 32), ('ㅠㅠ', 32), ('역시', 32), ('많다', 32), ('이나', 31), ('보이다', 31), ('부분', 31), ('주다', 30), ('비다', 30), ('하고', 29), ('엘지', 29), ('이쁘다', 29), ('수', 28), ('분', 28), ('차다', 28), ('그냥', 28), ('랑', 28), ('구매', 27)]\n",
      "==================================================================================================================\n"
     ]
    },
    {
     "name": "stdout",
     "output_type": "stream",
     "text": [
      "아이패드======아이패드======\n",
      "[('아이패드', 1288), ('있다', 702), ('프로', 689), ('보다', 678), ('영상', 670), ('좋다', 635), ('너무', 514), ('세대', 493), ('에어', 477), ('사다', 351), ('되다', 340), ('요', 334), ('쓰다', 325), ('ㅠㅠ', 314), ('님', 285), ('진짜', 275), ('미니', 270), ('사용', 252), ('없다', 244), ('자다', 233), ('가다', 220), ('만', 217), ('ㅎㅎ', 211), ('이다', 208), ('보고', 207), ('중', 206), ('감사하다', 198), ('안', 194), ('랑', 194), ('오다', 191), ('필기', 189), ('더', 188), ('거', 184), ('아니다', 175), ('하고', 166), ('인치', 165), ('인데', 161), ('고민', 159), ('나오다', 158), ('어떻다', 152), ('애플', 148), ('싶다', 140), ('수', 139), ('많이', 136), ('ㅠ', 135), ('해주다', 133), ('공부', 132), ('알다', 129), ('살다', 129), ('생각', 123), ('넘다', 122), ('들다', 121), ('정말', 120), ('쓸다', 118), ('언니', 118), ('구매', 116), ('노트', 116), ('않다', 113), ('키', 113), ('기', 111), ('ㅋㅋ', 110), ('용', 110), ('케이스', 107), ('패드', 105), ('앱', 105), ('전', 105), ('정보', 104), ('오늘', 103), ('추천', 103), ('이쁘다', 103), ('부럽다', 102), ('크다', 101), ('못', 101), ('그림', 101), ('ㅋㅋㅋ', 98), ('분', 98), ('이번', 97), ('잇다', 96), ('굿', 95), ('나다', 94), ('써다', 94), ('귀엽다', 93), ('예쁘다', 91), ('소람님', 91), ('목소리', 90), ('보드', 88), ('그냥', 87), ('그렇다', 86), ('사람', 86), ('뭐', 85), ('이랑', 85), ('적', 85), ('차이', 85), ('펜슬', 85), ('유튜브', 84), ('받다', 84), ('많다', 82), ('면', 82), ('궁금하다', 81), ('화면', 80)]\n",
      "==================================================================================================================\n",
      "아이폰======아이폰======\n",
      "[('아이폰', 959), ('좋다', 497), ('보다', 475), ('있다', 463), ('되다', 429), ('진짜', 376), ('쓰다', 364), ('님', 361), ('너무', 349), ('폰', 342), ('안', 280), ('요', 276), ('영상', 263), ('없다', 245), ('프로', 240), ('ㅠㅠ', 237), ('사다', 236), ('ㅋㅋ', 232), ('배터리', 229), ('만', 228), ('이다', 226), ('오다', 221), ('ㅋㅋㅋ', 215), ('년', 214), ('아니다', 207), ('가다', 205), ('거', 204), ('갤럭시', 192), ('더', 190), ('나오다', 176), ('인데', 161), ('애플', 161), ('ㅋㅋㅋㅋ', 152), ('그냥', 145), ('않다', 145), ('써다', 143), ('사용', 141), ('자다', 139), ('중', 137), ('전', 131), ('사주다', 131), ('싶다', 125), ('바꾸다', 125), ('엄마', 124), ('ㅋㅋㅋㅋㅋ', 120), ('핸드폰', 117), ('개', 116), ('못', 114), ('ㅎㅎ', 114), ('지금', 111), ('면', 110), ('성능', 110), ('말', 109), ('들다', 107), ('보고', 105), ('많이', 105), ('어떻다', 105), ('하고', 105), ('그렇다', 104), ('생각', 101), ('해주다', 101), ('적', 100), ('알다', 99), ('근데', 96), ('넘다', 96), ('카메라', 95), ('내', 95), ('충전', 95), ('형', 94), ('살다', 94), ('돼다', 94), ('마이', 93), ('수', 92), ('삼성', 92), ('정도', 91), ('많다', 91), ('사람', 90), ('뭐', 88), ('기능', 88), ('이쁘다', 88), ('감사하다', 87), ('안되다', 86), ('맞다', 84), ('기다리다', 80), ('미니', 79), ('나다', 78), ('린', 78), ('디자인', 78), ('랑', 77), ('공감', 77), ('명', 76), ('준', 75), ('장', 74), ('모르다', 73), ('이랑', 72), ('정말', 72), ('부럽다', 71), ('ㅋㅋㅋㅋㅋㅋ', 70), ('ㅠ', 70), ('이번', 70)]\n",
      "==================================================================================================================\n",
      "애플워치======애플워치======\n",
      "[('워치', 1508), ('애플', 1251), ('있다', 726), ('보다', 629), ('영상', 548), ('너무', 443), ('좋다', 417), ('되다', 416), ('요', 343), ('님', 342), ('사다', 320), ('쓰다', 297), ('ㅠㅠ', 296), ('없다', 296), ('안', 278), ('기능', 269), ('자다', 265), ('사용', 226), ('진짜', 225), ('나오다', 219), ('감사하다', 202), ('만', 199), ('가다', 196), ('알다', 195), ('중', 186), ('이다', 183), ('보고', 182), ('구매', 181), ('오다', 179), ('스트랩', 179), ('수', 174), ('ㅋㅋㅋ', 168), ('하고', 162), ('아니다', 161), ('고민', 156), ('정보', 156), ('거', 156), ('ㅎㅎ', 154), ('이쁘다', 147), ('싶다', 144), ('해주다', 144), ('아이폰', 142), ('어떻다', 140), ('오늘', 138), ('인데', 130), ('ㅠ', 128), ('예쁘다', 126), ('않다', 122), ('ㅋㅋ', 118), ('더', 117), ('운동', 115), ('안되다', 115), ('랑', 113), ('못', 112), ('분', 110), ('앱', 110), ('제품', 108), ('넘다', 108), ('많이', 107), ('주연', 107), ('생각', 103), ('밴드', 103), ('살다', 102), ('가능하다', 102), ('받다', 101), ('그냥', 100), ('페이스', 99), ('들다', 99), ('궁금하다', 96), ('전', 95), ('알', 95), ('뭐', 94), ('정말', 94), ('언니', 93), ('ㅋㅋㅋㅋ', 91), ('지금', 88), ('화면', 87), ('셀룰러', 87), ('시계', 86), ('사고', 84), ('쓸다', 84), ('모르다', 80), ('사람', 80), ('갤럭시', 80), ('가요', 80), ('유용하다', 79), ('설정', 79), ('늘다', 79), ('내', 79), ('케이스', 79), ('가격', 78), ('뜨다', 78), ('그렇다', 77), ('용', 76), ('목소리', 76), ('써다', 76), ('추천', 75), ('적', 74), ('돼다', 74), ('많다', 73)]\n",
      "==================================================================================================================\n",
      "어메이즈핏======어메이즈핏======\n",
      "[('있다', 174), ('되다', 157), ('워치', 141), ('보다', 123), ('좋다', 94), ('기능', 94), ('요', 89), ('없다', 75), ('사용', 70), ('시계', 67), ('만', 65), ('영상', 64), ('제품', 60), ('가다', 59), ('리뷰', 55), ('애플', 55), ('오다', 54), ('중', 54), ('이다', 54), ('거', 53), ('너무', 52), ('구매', 52), ('가능하다', 52), ('자다', 51), ('쓰다', 48), ('아니다', 43), ('가요', 41), ('인데', 41), ('밴드', 39), ('알다', 39), ('배터리', 39), ('안', 38), ('전화', 38), ('사다', 37), ('알림', 37), ('더', 36), ('진동', 35), ('스마트워치', 34), ('수', 34), ('핏', 34), ('감사하다', 33), ('어떻다', 33), ('디자인', 33), ('어메', 33), ('가격', 32), ('즈', 32), ('카톡', 32), ('스트랩', 31), ('궁금하다', 31), ('밉다', 30), ('운동', 28), ('ㅎㅎ', 28), ('갤럭시', 28), ('생각', 28), ('랑', 27), ('그냥', 27), ('안되다', 26), ('만원', 26), ('늘다', 25), ('통화', 25), ('나오다', 25), ('모델', 25), ('못', 25), ('정도', 24), ('문자', 23), ('줄', 22), ('ㅠㅠ', 22), ('스마트', 22), ('비교', 22), ('비', 22), ('해주다', 22), ('않다', 22), ('ㅋㅋ', 22), ('화면', 22), ('라', 22), ('님', 21), ('적', 21), ('받다', 21), ('가성', 21), ('많이', 21), ('아쉽다', 21), ('분', 21), ('진짜', 21), ('면', 21), ('페이스', 20), ('하고', 20), ('설정', 20), ('고민', 19), ('어플', 19), ('괜찮다', 19), ('차다', 18), ('보고', 18), ('보이다', 18), ('미니', 18), ('블루투스', 18), ('내', 18), ('이랑', 18), ('어디서', 17), ('인가요', 17), ('샤오미', 17)]\n",
      "==================================================================================================================\n",
      "에어팟======에어팟======\n",
      "[('에어팟', 1253), ('있다', 552), ('좋다', 497), ('보다', 490), ('프로', 403), ('되다', 396), ('님', 395), ('너무', 349), ('영상', 339), ('진짜', 311), ('안', 272), ('요', 260), ('없다', 226), ('아니다', 221), ('가다', 218), ('거', 214), ('만', 211), ('세대', 207), ('오다', 206), ('ㅠㅠ', 204), ('ㅋㅋ', 199), ('더', 190), ('사다', 189), ('하람', 181), ('이다', 179), ('애플', 178), ('쓰다', 176), ('자다', 172), ('형', 166), ('ㅋㅋㅋ', 164), ('나오다', 154), ('오늘', 153), ('언니', 153), ('무선', 150), ('ㅋㅋㅋㅋ', 145), ('귀엽다', 142), ('ㅎㅎ', 139), ('잇다', 136), ('감사하다', 132), ('버즈', 129), ('충전', 127), ('인데', 126), ('섭', 125), ('이어폰', 125), ('부럽다', 122), ('그냥', 121), ('리뷰', 120), ('면', 120), ('들다', 119), ('않다', 119), ('귀', 119), ('아이폰', 117), ('알다', 115), ('케이스', 114), ('사람', 113), ('중', 112), ('받다', 111), ('많이', 108), ('축하', 106), ('랑', 104), ('가격', 103), ('돈', 103), ('ㅋㅋㅋㅋㅋ', 101), ('만원', 99), ('해주다', 98), ('싶다', 98), ('보고', 98), ('ㅠ', 96), ('못', 93), ('그렇다', 91), ('개', 91), ('드리다', 88), ('전', 88), ('하고', 87), ('근데', 87), ('항상', 86), ('넘다', 86), ('기능', 86), ('끼다', 85), ('써다', 84), ('사용', 83), ('제품', 83), ('정말', 82), ('소리', 80), ('내', 80), ('어떻다', 79), ('끼', 79), ('생각', 78), ('말', 78), ('수', 77), ('나다', 75), ('살다', 75), ('인트', 74), ('정도', 74), ('지금', 74), ('유선', 73), ('적', 72), ('뭐', 72), ('원', 71), ('짜다', 71)]\n",
      "==================================================================================================================\n",
      "홍미노트======홍미노트======\n",
      "[('홍', 284), ('있다', 241), ('좋다', 237), ('미노트', 220), ('보다', 220), ('폰', 219), ('되다', 210), ('없다', 172), ('샤오미', 170), ('쓰다', 134), ('가성', 124), ('더', 119), ('가격', 115), ('요', 115), ('만', 112), ('아니다', 109), ('안', 108), ('이다', 105), ('중국', 103), ('삼성', 102), ('가다', 100), ('노트', 91), ('비', 90), ('중', 85), ('일본', 85), ('한국', 84), ('거', 81), ('리뷰', 81), ('면', 79), ('밉다', 78), ('영상', 74), ('성능', 72), ('비교', 71), ('생각', 70), ('적', 67), ('진짜', 67), ('사용', 65), ('않다', 64), ('프로', 63), ('나오다', 63), ('만원', 62), ('정도', 60), ('갤럭시', 60), ('사다', 60), ('인데', 59), ('자다', 58), ('아이폰', 57), ('안되다', 56), ('카메라', 56), ('정말', 55), ('하고', 54), ('못', 53), ('써다', 53), ('많이', 53), ('ㅋㅋ', 53), ('너무', 53), ('들다', 51), ('님', 50), ('보고', 49), ('페이', 49), ('랑', 49), ('제품', 48), ('그렇다', 47), ('괜찮다', 47), ('어떻다', 45), ('사람', 45), ('그냥', 44), ('수', 43), ('구매', 43), ('알다', 43), ('비다', 42), ('기', 41), ('나다', 41), ('쓸다', 41), ('디자인', 40), ('대', 40), ('니', 40), ('삼', 38), ('성', 38), ('게임', 38), ('싶다', 38), ('받다', 37), ('ㅋ', 36), ('살다', 36), ('가능하다', 36), ('모르다', 35), ('많다', 35), ('하나', 35), ('싸다', 35), ('가요', 35), ('차이', 34), ('해주다', 34), ('뭐', 34), ('감사하다', 33), ('년', 33), ('말', 32), ('오다', 32), ('전', 32), ('늘다', 31), ('ㅎㅎ', 31)]\n",
      "==================================================================================================================\n"
     ]
    }
   ],
   "source": [
    "for word in keyword:    \n",
    "    positve = []\n",
    "    for sentence in df[df[\"keyword\"]==word][\"review\"]:\n",
    "        temp_X = twitter.morphs(sentence, stem=True) # 토큰화\n",
    "        temp_X = [word for word in temp_X if not word in stopwords] # 불용어 제거\n",
    "        positve.append(temp_X)\n",
    "    words_positve = np.hstack(positve)\n",
    "    words_positve_count = Counter(words_positve)\n",
    "    print(word+\"======\"+word+\"======\")\n",
    "    print(words_positve_count.most_common(100))\n",
    "    print(\"==================================================================================================================\")"
   ]
  },
  {
   "cell_type": "code",
   "execution_count": null,
   "id": "6907c631",
   "metadata": {},
   "outputs": [],
   "source": []
  },
  {
   "cell_type": "code",
   "execution_count": null,
   "id": "4e8597b1",
   "metadata": {},
   "outputs": [],
   "source": []
  },
  {
   "cell_type": "code",
   "execution_count": 50,
   "id": "772e60ed",
   "metadata": {},
   "outputs": [
    {
     "name": "stderr",
     "output_type": "stream",
     "text": [
      "C:\\Users\\not14\\anaconda3\\envs\\tf1\\lib\\site-packages\\ipykernel_launcher.py:10: SettingWithCopyWarning: \n",
      "A value is trying to be set on a copy of a slice from a DataFrame\n",
      "\n",
      "See the caveats in the documentation: https://pandas.pydata.org/pandas-docs/stable/user_guide/indexing.html#returning-a-view-versus-a-copy\n",
      "  # Remove the CWD from sys.path while we load stuff.\n",
      "C:\\Users\\not14\\anaconda3\\envs\\tf1\\lib\\site-packages\\ipykernel_launcher.py:11: SettingWithCopyWarning: \n",
      "A value is trying to be set on a copy of a slice from a DataFrame\n",
      "\n",
      "See the caveats in the documentation: https://pandas.pydata.org/pandas-docs/stable/user_guide/indexing.html#returning-a-view-versus-a-copy\n",
      "  # This is added back by InteractiveShellApp.init_path()\n",
      "C:\\Users\\not14\\anaconda3\\envs\\tf1\\lib\\site-packages\\ipykernel_launcher.py:14: FutureWarning: The default value of regex will change from True to False in a future version.\n",
      "  \n",
      "C:\\Users\\not14\\anaconda3\\envs\\tf1\\lib\\site-packages\\ipykernel_launcher.py:15: SettingWithCopyWarning: \n",
      "A value is trying to be set on a copy of a slice from a DataFrame\n",
      "\n",
      "See the caveats in the documentation: https://pandas.pydata.org/pandas-docs/stable/user_guide/indexing.html#returning-a-view-versus-a-copy\n",
      "  from ipykernel import kernelapp as app\n",
      "C:\\Users\\not14\\anaconda3\\envs\\tf1\\lib\\site-packages\\ipykernel_launcher.py:16: FutureWarning: The default value of regex will change from True to False in a future version.\n",
      "  app.launch_new_instance()\n",
      "C:\\Users\\not14\\anaconda3\\envs\\tf1\\lib\\site-packages\\ipykernel_launcher.py:16: SettingWithCopyWarning: \n",
      "A value is trying to be set on a copy of a slice from a DataFrame.\n",
      "Try using .loc[row_indexer,col_indexer] = value instead\n",
      "\n",
      "See the caveats in the documentation: https://pandas.pydata.org/pandas-docs/stable/user_guide/indexing.html#returning-a-view-versus-a-copy\n",
      "  app.launch_new_instance()\n",
      "C:\\Users\\not14\\anaconda3\\envs\\tf1\\lib\\site-packages\\pandas\\core\\series.py:4515: SettingWithCopyWarning: \n",
      "A value is trying to be set on a copy of a slice from a DataFrame\n",
      "\n",
      "See the caveats in the documentation: https://pandas.pydata.org/pandas-docs/stable/user_guide/indexing.html#returning-a-view-versus-a-copy\n",
      "  method=method,\n",
      "C:\\Users\\not14\\anaconda3\\envs\\tf1\\lib\\site-packages\\ipykernel_launcher.py:19: FutureWarning: The default value of regex will change from True to False in a future version.\n",
      "b'Skipping line 276: expected 1 fields, saw 2\\n'\n",
      "C:\\Users\\not14\\anaconda3\\envs\\tf1\\lib\\site-packages\\numpy\\core\\_asarray.py:102: VisibleDeprecationWarning: Creating an ndarray from ragged nested sequences (which is a list-or-tuple of lists-or-tuples-or ndarrays with different lengths or shapes) is deprecated. If you meant to do this, you must specify 'dtype=object' when creating the ndarray.\n",
      "  return array(a, dtype, copy=False, order=order)\n"
     ]
    }
   ],
   "source": [
    "ds_star = pd.read_csv(\"C:/netsong7/pythonwork/AI/finalproject/data cleaning(final)/shopping_ds.csv\")\n",
    "ds_star.drop_duplicates(subset=['type', 'review', 'star'], inplace=True)\n",
    "ds_star[\"label\"] = 0\n",
    "ds_star.loc[ds_star[\"star\"] > 3.5, \"label\"] = 1\n",
    "del ds_star[\"Unnamed: 0\"]\n",
    "ds_star_1_dummy, ds_star_1_train = train_test_split(ds_star[ds_star[\"label\"]==1], test_size=5432, random_state = 42)\n",
    "ds_star_0_train = ds_star[ds_star[\"label\"]==0]\n",
    "ds_star_balance = pd.concat([ds_star_1_train, ds_star_0_train])\n",
    "train_data, test_data = train_test_split(ds_star_balance, test_size=0.3, random_state = 0)\n",
    "train_data.drop_duplicates(subset=[\"review\", \"star\"], inplace=True)\n",
    "test_data.drop_duplicates(subset=[\"review\", \"star\"], inplace=True)\n",
    "train_data.loc[train_data.review.isnull()]\n",
    "train_data = train_data.dropna(how = 'any')\n",
    "train_data['review'] = train_data['review'].str.replace(\"[^ㄱ-ㅎㅏ-ㅣ가-힣 ]\",\"\")\n",
    "test_data.drop_duplicates(subset = ['review'], inplace=True) # 중복 제거\n",
    "test_data['review'] = test_data['review'].str.replace(\"[^ㄱ-ㅎㅏ-ㅣ가-힣 ]\",\"\") # 정규 표현식 수행\n",
    "test_data['review'].replace('', np.nan, inplace=True) # 공백은 Null 값으로 변경\n",
    "test_data = test_data.dropna(how='any') # Null 값 제거\n",
    "train_data['review'] = train_data['review'].str.replace('^ +', \"\")\n",
    "train_data['review'].replace('', np.nan, inplace=True)\n",
    "train_data = train_data.dropna(how = 'any')\n",
    "\n",
    "okt = Okt()\n",
    "#stopwords = ['가','게','고','과','네','는','다','도','들','듯','를','에','와','으로',\n",
    "#             '은','을','의','이','인','임','자','잘','좀','지','하다','한']\n",
    "stopwords = pd.read_table(\"C:/netsong7/pythonwork/AI/stopwords1.txt\", encoding='utf-8-sig', header=None,error_bad_lines=False)\n",
    "stopwords = list(stopwords[0])\n",
    "\n",
    "X_train = []\n",
    "for sentence in train_data['review']:\n",
    "    temp_X = okt.morphs(sentence, stem=True) # 토큰화\n",
    "    temp_X = [word for word in temp_X if not word in stopwords] # 불용어 제거\n",
    "    X_train.append(temp_X)\n",
    "\n",
    "X_test = []\n",
    "for sentence in test_data['review']:\n",
    "    temp_X = okt.morphs(sentence, stem=True) # 토큰화\n",
    "    temp_X = [word for word in temp_X if not word in stopwords] # 불용어 제거\n",
    "    X_test.append(temp_X)\n",
    "    \n",
    "tokenizer = Tokenizer()\n",
    "tokenizer.fit_on_texts(X_train)\n",
    "\n",
    "threshold = 3\n",
    "total_cnt = len(tokenizer.word_index) # 단어의 수\n",
    "rare_cnt = 0 # 등장 빈도수가 threshold보다 작은 단어의 개수를 카운트\n",
    "total_freq = 0 # 훈련 데이터의 전체 단어 빈도수 총 합\n",
    "rare_freq = 0 # 등장 빈도수가 threshold보다 작은 단어의 등장 빈도수의 총 합\n",
    "\n",
    "# 단어와 빈도수의 쌍(pair)을 key와 value로 받는다.\n",
    "for key, value in tokenizer.word_counts.items():\n",
    "    total_freq = total_freq + value\n",
    "\n",
    "    # 단어의 등장 빈도수가 threshold보다 작으면\n",
    "    if(value < threshold):\n",
    "        rare_cnt = rare_cnt + 1\n",
    "        rare_freq = rare_freq + value\n",
    "vocab_size = total_cnt - rare_cnt + 1    \n",
    "\n",
    "tokenizer = Tokenizer(vocab_size) \n",
    "tokenizer.fit_on_texts(X_train)\n",
    "\n",
    "X_train = tokenizer.texts_to_sequences(X_train)\n",
    "X_test = tokenizer.texts_to_sequences(X_test)\n",
    "y_train = np.array(train_data['label'])\n",
    "y_test = np.array(test_data['label'])\n",
    "\n",
    "drop_train = [index for index, sentence in enumerate(X_train) if len(sentence) < 1]\n",
    "X_train = np.delete(X_train, drop_train, axis=0)\n",
    "y_train = np.delete(y_train, drop_train, axis=0)\n",
    "\n",
    "max_len = 100\n",
    "\n"
   ]
  },
  {
   "cell_type": "code",
   "execution_count": null,
   "id": "9336a41a",
   "metadata": {},
   "outputs": [],
   "source": []
  },
  {
   "cell_type": "code",
   "execution_count": 56,
   "id": "7281d8c4",
   "metadata": {},
   "outputs": [
    {
     "data": {
      "text/html": [
       "<div>\n",
       "<style scoped>\n",
       "    .dataframe tbody tr th:only-of-type {\n",
       "        vertical-align: middle;\n",
       "    }\n",
       "\n",
       "    .dataframe tbody tr th {\n",
       "        vertical-align: top;\n",
       "    }\n",
       "\n",
       "    .dataframe thead th {\n",
       "        text-align: right;\n",
       "    }\n",
       "</style>\n",
       "<table border=\"1\" class=\"dataframe\">\n",
       "  <thead>\n",
       "    <tr style=\"text-align: right;\">\n",
       "      <th></th>\n",
       "      <th>review</th>\n",
       "      <th>keyword</th>\n",
       "      <th>company</th>\n",
       "    </tr>\n",
       "  </thead>\n",
       "  <tbody>\n",
       "    <tr>\n",
       "      <th>0</th>\n",
       "      <td>끝없는  맥북 논란과 이슈이번에는 화면만 열어도 깨지는디스플레이가 도마 위에 올랐습니다</td>\n",
       "      <td>M1</td>\n",
       "      <td>apple</td>\n",
       "    </tr>\n",
       "  </tbody>\n",
       "</table>\n",
       "</div>"
      ],
      "text/plain": [
       "                                             review keyword company\n",
       "0  끝없는  맥북 논란과 이슈이번에는 화면만 열어도 깨지는디스플레이가 도마 위에 올랐습니다      M1   apple"
      ]
     },
     "execution_count": 56,
     "metadata": {},
     "output_type": "execute_result"
    }
   ],
   "source": [
    "df.head(1)"
   ]
  },
  {
   "cell_type": "code",
   "execution_count": 51,
   "id": "160c814f",
   "metadata": {},
   "outputs": [],
   "source": [
    "from keras.models import load_model\n",
    "model_test = load_model('model_lstm.h5')"
   ]
  },
  {
   "cell_type": "code",
   "execution_count": 52,
   "id": "de491dff",
   "metadata": {},
   "outputs": [],
   "source": [
    "def sentiment_predict(new_sentence):\n",
    "  new_sentence = okt.morphs(new_sentence) # 토큰화\n",
    "  new_sentence = [word for word in new_sentence if not word in stopwords] # 불용어 제거\n",
    "  encoded = tokenizer.texts_to_sequences([new_sentence]) # 정수 인코딩\n",
    "  pad_new = pad_sequences(encoded, maxlen = 100) # 패딩\n",
    "  score = float(model_test.predict(pad_new)) # 예측\n",
    "  if(score > 0.5):\n",
    "    print(\"{:.2f}% 확률로 긍정 리뷰입니다.\".format(score * 100))\n",
    "  else:\n",
    "    print(\"{:.2f}% 확률로 부정 리뷰입니다.\".format((1 - score) * 100))"
   ]
  },
  {
   "cell_type": "code",
   "execution_count": 53,
   "id": "f6a07810",
   "metadata": {},
   "outputs": [
    {
     "data": {
      "text/plain": [
       "'끝없는  맥북 논란과 이슈이번에는 화면만 열어도 깨지는디스플레이가 도마 위에 올랐습니다'"
      ]
     },
     "execution_count": 53,
     "metadata": {},
     "output_type": "execute_result"
    }
   ],
   "source": [
    "df[\"review\"][0]"
   ]
  },
  {
   "cell_type": "code",
   "execution_count": 54,
   "id": "afbf3d2c",
   "metadata": {
    "scrolled": true
   },
   "outputs": [
    {
     "name": "stdout",
     "output_type": "stream",
     "text": [
      "53.79% 확률로 부정 리뷰입니다.\n"
     ]
    }
   ],
   "source": [
    "sentiment_predict(df[\"review\"][0])"
   ]
  },
  {
   "cell_type": "code",
   "execution_count": null,
   "id": "56aee4e7",
   "metadata": {},
   "outputs": [],
   "source": []
  },
  {
   "cell_type": "code",
   "execution_count": 75,
   "id": "786de81d",
   "metadata": {},
   "outputs": [],
   "source": [
    "label = []\n",
    "score_list = []\n",
    "for review in df[df[\"company\"]==\"apple\"][\"review\"]:\n",
    "    new_sentence = okt.morphs(review) # 토큰화\n",
    "    new_sentence = [word for word in new_sentence if not word in stopwords] # 불용어 제거\n",
    "    encoded = tokenizer.texts_to_sequences([new_sentence]) # 정수 인코딩\n",
    "    pad_new = pad_sequences(encoded, maxlen = 100)\n",
    "    score = float(model_test.predict(pad_new))\n",
    "    if(score > 0.5):\n",
    "        label.append(1)\n",
    "        score_list.append(score)\n",
    "    else:\n",
    "        label.append(0)\n",
    "        score_list.append(score)\n",
    "\n",
    "apple_score = pd.DataFrame([label, score_list]).T\n",
    "apple_score.columns = [\"label\", \"score\"]"
   ]
  },
  {
   "cell_type": "code",
   "execution_count": 76,
   "id": "e8696cb5",
   "metadata": {},
   "outputs": [
    {
     "data": {
      "text/plain": [
       "label    0.000000\n",
       "score    0.236195\n",
       "dtype: float64"
      ]
     },
     "execution_count": 76,
     "metadata": {},
     "output_type": "execute_result"
    }
   ],
   "source": [
    "apple_score[apple_score[\"label\"]==0].mean()"
   ]
  },
  {
   "cell_type": "code",
   "execution_count": 77,
   "id": "f8bcc410",
   "metadata": {},
   "outputs": [
    {
     "data": {
      "text/plain": [
       "label    1.00000\n",
       "score    0.77669\n",
       "dtype: float64"
      ]
     },
     "execution_count": 77,
     "metadata": {},
     "output_type": "execute_result"
    }
   ],
   "source": [
    "apple_score[apple_score[\"label\"]==1].mean()"
   ]
  },
  {
   "cell_type": "code",
   "execution_count": 78,
   "id": "34ca1188",
   "metadata": {},
   "outputs": [
    {
     "data": {
      "text/html": [
       "<div>\n",
       "<style scoped>\n",
       "    .dataframe tbody tr th:only-of-type {\n",
       "        vertical-align: middle;\n",
       "    }\n",
       "\n",
       "    .dataframe tbody tr th {\n",
       "        vertical-align: top;\n",
       "    }\n",
       "\n",
       "    .dataframe thead th {\n",
       "        text-align: right;\n",
       "    }\n",
       "</style>\n",
       "<table border=\"1\" class=\"dataframe\">\n",
       "  <thead>\n",
       "    <tr style=\"text-align: right;\">\n",
       "      <th></th>\n",
       "      <th>label</th>\n",
       "      <th>score</th>\n",
       "    </tr>\n",
       "  </thead>\n",
       "  <tbody>\n",
       "    <tr>\n",
       "      <th>count</th>\n",
       "      <td>20117.000000</td>\n",
       "      <td>20117.000000</td>\n",
       "    </tr>\n",
       "    <tr>\n",
       "      <th>mean</th>\n",
       "      <td>0.421683</td>\n",
       "      <td>0.464113</td>\n",
       "    </tr>\n",
       "    <tr>\n",
       "      <th>std</th>\n",
       "      <td>0.493841</td>\n",
       "      <td>0.304285</td>\n",
       "    </tr>\n",
       "    <tr>\n",
       "      <th>min</th>\n",
       "      <td>0.000000</td>\n",
       "      <td>0.000294</td>\n",
       "    </tr>\n",
       "    <tr>\n",
       "      <th>25%</th>\n",
       "      <td>0.000000</td>\n",
       "      <td>0.204277</td>\n",
       "    </tr>\n",
       "    <tr>\n",
       "      <th>50%</th>\n",
       "      <td>0.000000</td>\n",
       "      <td>0.411476</td>\n",
       "    </tr>\n",
       "    <tr>\n",
       "      <th>75%</th>\n",
       "      <td>1.000000</td>\n",
       "      <td>0.736177</td>\n",
       "    </tr>\n",
       "    <tr>\n",
       "      <th>max</th>\n",
       "      <td>1.000000</td>\n",
       "      <td>0.999599</td>\n",
       "    </tr>\n",
       "  </tbody>\n",
       "</table>\n",
       "</div>"
      ],
      "text/plain": [
       "              label         score\n",
       "count  20117.000000  20117.000000\n",
       "mean       0.421683      0.464113\n",
       "std        0.493841      0.304285\n",
       "min        0.000000      0.000294\n",
       "25%        0.000000      0.204277\n",
       "50%        0.000000      0.411476\n",
       "75%        1.000000      0.736177\n",
       "max        1.000000      0.999599"
      ]
     },
     "execution_count": 78,
     "metadata": {},
     "output_type": "execute_result"
    }
   ],
   "source": [
    "apple_score.describe()"
   ]
  },
  {
   "cell_type": "code",
   "execution_count": null,
   "id": "7555fd1a",
   "metadata": {},
   "outputs": [],
   "source": []
  },
  {
   "cell_type": "code",
   "execution_count": null,
   "id": "e0ba3ca4",
   "metadata": {},
   "outputs": [],
   "source": []
  },
  {
   "cell_type": "code",
   "execution_count": 65,
   "id": "c3c7f4bf",
   "metadata": {},
   "outputs": [],
   "source": [
    "label = []\n",
    "score_list = []\n",
    "for review in df[df[\"company\"]==\"samsung\"][\"review\"]:\n",
    "    new_sentence = okt.morphs(review) # 토큰화\n",
    "    new_sentence = [word for word in new_sentence if not word in stopwords] # 불용어 제거\n",
    "    encoded = tokenizer.texts_to_sequences([new_sentence]) # 정수 인코딩\n",
    "    pad_new = pad_sequences(encoded, maxlen = 100)\n",
    "    score = float(model_test.predict(pad_new))\n",
    "    if(score > 0.5):\n",
    "        label.append(1)\n",
    "        score_list.append(score)\n",
    "    else:\n",
    "        label.append(0)\n",
    "        score_list.append(score)\n",
    "\n",
    "samsung_score = pd.DataFrame([label, score_list]).T\n",
    "samsung_score.columns = [\"label\", \"score\"]"
   ]
  },
  {
   "cell_type": "code",
   "execution_count": 67,
   "id": "6b12d66d",
   "metadata": {},
   "outputs": [
    {
     "data": {
      "text/plain": [
       "label    0.000000\n",
       "score    0.224895\n",
       "dtype: float64"
      ]
     },
     "execution_count": 67,
     "metadata": {},
     "output_type": "execute_result"
    }
   ],
   "source": [
    "samsung_score[samsung_score[\"label\"]==0].mean()"
   ]
  },
  {
   "cell_type": "code",
   "execution_count": 68,
   "id": "44b67ef9",
   "metadata": {},
   "outputs": [
    {
     "data": {
      "text/plain": [
       "label    1.000000\n",
       "score    0.775078\n",
       "dtype: float64"
      ]
     },
     "execution_count": 68,
     "metadata": {},
     "output_type": "execute_result"
    }
   ],
   "source": [
    "samsung_score[samsung_score[\"label\"]==1].mean()"
   ]
  },
  {
   "cell_type": "code",
   "execution_count": 82,
   "id": "03ca1eff",
   "metadata": {},
   "outputs": [
    {
     "data": {
      "text/html": [
       "<div>\n",
       "<style scoped>\n",
       "    .dataframe tbody tr th:only-of-type {\n",
       "        vertical-align: middle;\n",
       "    }\n",
       "\n",
       "    .dataframe tbody tr th {\n",
       "        vertical-align: top;\n",
       "    }\n",
       "\n",
       "    .dataframe thead th {\n",
       "        text-align: right;\n",
       "    }\n",
       "</style>\n",
       "<table border=\"1\" class=\"dataframe\">\n",
       "  <thead>\n",
       "    <tr style=\"text-align: right;\">\n",
       "      <th></th>\n",
       "      <th>label</th>\n",
       "      <th>score</th>\n",
       "    </tr>\n",
       "  </thead>\n",
       "  <tbody>\n",
       "    <tr>\n",
       "      <th>count</th>\n",
       "      <td>20111.000000</td>\n",
       "      <td>20111.000000</td>\n",
       "    </tr>\n",
       "    <tr>\n",
       "      <th>mean</th>\n",
       "      <td>0.394461</td>\n",
       "      <td>0.441921</td>\n",
       "    </tr>\n",
       "    <tr>\n",
       "      <th>std</th>\n",
       "      <td>0.488747</td>\n",
       "      <td>0.306040</td>\n",
       "    </tr>\n",
       "    <tr>\n",
       "      <th>min</th>\n",
       "      <td>0.000000</td>\n",
       "      <td>0.001033</td>\n",
       "    </tr>\n",
       "    <tr>\n",
       "      <th>25%</th>\n",
       "      <td>0.000000</td>\n",
       "      <td>0.172755</td>\n",
       "    </tr>\n",
       "    <tr>\n",
       "      <th>50%</th>\n",
       "      <td>0.000000</td>\n",
       "      <td>0.382359</td>\n",
       "    </tr>\n",
       "    <tr>\n",
       "      <th>75%</th>\n",
       "      <td>1.000000</td>\n",
       "      <td>0.708176</td>\n",
       "    </tr>\n",
       "    <tr>\n",
       "      <th>max</th>\n",
       "      <td>1.000000</td>\n",
       "      <td>0.999583</td>\n",
       "    </tr>\n",
       "  </tbody>\n",
       "</table>\n",
       "</div>"
      ],
      "text/plain": [
       "              label         score\n",
       "count  20111.000000  20111.000000\n",
       "mean       0.394461      0.441921\n",
       "std        0.488747      0.306040\n",
       "min        0.000000      0.001033\n",
       "25%        0.000000      0.172755\n",
       "50%        0.000000      0.382359\n",
       "75%        1.000000      0.708176\n",
       "max        1.000000      0.999583"
      ]
     },
     "execution_count": 82,
     "metadata": {},
     "output_type": "execute_result"
    }
   ],
   "source": [
    "samsung_score.describe()"
   ]
  },
  {
   "cell_type": "code",
   "execution_count": null,
   "id": "6e900a32",
   "metadata": {},
   "outputs": [],
   "source": []
  },
  {
   "cell_type": "code",
   "execution_count": null,
   "id": "cec36c98",
   "metadata": {},
   "outputs": [],
   "source": []
  },
  {
   "cell_type": "code",
   "execution_count": 69,
   "id": "18d6750b",
   "metadata": {},
   "outputs": [],
   "source": [
    "label = []\n",
    "score_list = []\n",
    "for review in df[df[\"company\"]==\"xiaomi\"][\"review\"]:\n",
    "    new_sentence = okt.morphs(review) # 토큰화\n",
    "    new_sentence = [word for word in new_sentence if not word in stopwords] # 불용어 제거\n",
    "    encoded = tokenizer.texts_to_sequences([new_sentence]) # 정수 인코딩\n",
    "    pad_new = pad_sequences(encoded, maxlen = 100)\n",
    "    score = float(model_test.predict(pad_new))\n",
    "    if(score > 0.5):\n",
    "        label.append(1)\n",
    "        score_list.append(score)\n",
    "    else:\n",
    "        label.append(0)\n",
    "        score_list.append(score)\n",
    "\n",
    "xiaomi_score = pd.DataFrame([label, score_list]).T\n",
    "xiaomi_score.columns = [\"label\", \"score\"]"
   ]
  },
  {
   "cell_type": "code",
   "execution_count": 70,
   "id": "27d641e5",
   "metadata": {},
   "outputs": [
    {
     "data": {
      "text/plain": [
       "label    0.000000\n",
       "score    0.230109\n",
       "dtype: float64"
      ]
     },
     "execution_count": 70,
     "metadata": {},
     "output_type": "execute_result"
    }
   ],
   "source": [
    "xiaomi_score[xiaomi_score[\"label\"]==0].mean()"
   ]
  },
  {
   "cell_type": "code",
   "execution_count": 83,
   "id": "2fc8bf03",
   "metadata": {},
   "outputs": [
    {
     "name": "stdout",
     "output_type": "stream",
     "text": [
      "label    1.000000\n",
      "score    0.744083\n",
      "dtype: float64\n"
     ]
    }
   ],
   "source": [
    "xiaomi_score[xiaomi_score[\"label\"]==1].mean()"
   ]
  },
  {
   "cell_type": "code",
   "execution_count": 80,
   "id": "4a73eb32",
   "metadata": {},
   "outputs": [
    {
     "data": {
      "text/html": [
       "<div>\n",
       "<style scoped>\n",
       "    .dataframe tbody tr th:only-of-type {\n",
       "        vertical-align: middle;\n",
       "    }\n",
       "\n",
       "    .dataframe tbody tr th {\n",
       "        vertical-align: top;\n",
       "    }\n",
       "\n",
       "    .dataframe thead th {\n",
       "        text-align: right;\n",
       "    }\n",
       "</style>\n",
       "<table border=\"1\" class=\"dataframe\">\n",
       "  <thead>\n",
       "    <tr style=\"text-align: right;\">\n",
       "      <th></th>\n",
       "      <th>label</th>\n",
       "      <th>score</th>\n",
       "    </tr>\n",
       "  </thead>\n",
       "  <tbody>\n",
       "    <tr>\n",
       "      <th>count</th>\n",
       "      <td>11050.000000</td>\n",
       "      <td>11050.000000</td>\n",
       "    </tr>\n",
       "    <tr>\n",
       "      <th>mean</th>\n",
       "      <td>0.365520</td>\n",
       "      <td>0.417977</td>\n",
       "    </tr>\n",
       "    <tr>\n",
       "      <th>std</th>\n",
       "      <td>0.481598</td>\n",
       "      <td>0.286300</td>\n",
       "    </tr>\n",
       "    <tr>\n",
       "      <th>min</th>\n",
       "      <td>0.000000</td>\n",
       "      <td>0.000631</td>\n",
       "    </tr>\n",
       "    <tr>\n",
       "      <th>25%</th>\n",
       "      <td>0.000000</td>\n",
       "      <td>0.171708</td>\n",
       "    </tr>\n",
       "    <tr>\n",
       "      <th>50%</th>\n",
       "      <td>0.000000</td>\n",
       "      <td>0.361418</td>\n",
       "    </tr>\n",
       "    <tr>\n",
       "      <th>75%</th>\n",
       "      <td>1.000000</td>\n",
       "      <td>0.644604</td>\n",
       "    </tr>\n",
       "    <tr>\n",
       "      <th>max</th>\n",
       "      <td>1.000000</td>\n",
       "      <td>0.998846</td>\n",
       "    </tr>\n",
       "  </tbody>\n",
       "</table>\n",
       "</div>"
      ],
      "text/plain": [
       "              label         score\n",
       "count  11050.000000  11050.000000\n",
       "mean       0.365520      0.417977\n",
       "std        0.481598      0.286300\n",
       "min        0.000000      0.000631\n",
       "25%        0.000000      0.171708\n",
       "50%        0.000000      0.361418\n",
       "75%        1.000000      0.644604\n",
       "max        1.000000      0.998846"
      ]
     },
     "execution_count": 80,
     "metadata": {},
     "output_type": "execute_result"
    }
   ],
   "source": [
    "xiaomi_score.describe()"
   ]
  },
  {
   "cell_type": "code",
   "execution_count": 86,
   "id": "9c40cc36",
   "metadata": {},
   "outputs": [
    {
     "data": {
      "text/plain": [
       "'apple'"
      ]
     },
     "execution_count": 86,
     "metadata": {},
     "output_type": "execute_result"
    }
   ],
   "source": [
    "df[df[\"keyword\"]==\"M1\"][\"company\"].unique()[0]"
   ]
  },
  {
   "cell_type": "code",
   "execution_count": 87,
   "id": "7b48468e",
   "metadata": {
    "scrolled": false
   },
   "outputs": [
    {
     "name": "stdout",
     "output_type": "stream",
     "text": [
      "M1  apple\n",
      "label    0.000000\n",
      "score    0.239886\n",
      "dtype: float64\n",
      "label    1.000000\n",
      "score    0.756351\n",
      "dtype: float64\n",
      "             label        score\n",
      "count  2664.000000  2664.000000\n",
      "mean      0.394895     0.443835\n",
      "std       0.488920     0.290931\n",
      "min       0.000000     0.000294\n",
      "25%       0.000000     0.200231\n",
      "50%       0.000000     0.388998\n",
      "75%       1.000000     0.680971\n",
      "max       1.000000     0.997786\n",
      "-------------------------------------------------------------------------------------------\n",
      "갤럭시기어  samsung\n",
      "label    0.000000\n",
      "score    0.223804\n",
      "dtype: float64\n",
      "label    1.000000\n",
      "score    0.760232\n",
      "dtype: float64\n",
      "             label        score\n",
      "count  1975.000000  1975.000000\n",
      "mean      0.346329     0.409585\n",
      "std       0.475920     0.292863\n",
      "min       0.000000     0.003022\n",
      "25%       0.000000     0.158054\n",
      "50%       0.000000     0.341415\n",
      "75%       1.000000     0.647948\n",
      "max       1.000000     0.997394\n",
      "-------------------------------------------------------------------------------------------\n",
      "갤럭시북  samsung\n",
      "label    0.000000\n",
      "score    0.231957\n",
      "dtype: float64\n",
      "label    1.000000\n",
      "score    0.785557\n",
      "dtype: float64\n",
      "             label        score\n",
      "count  3715.000000  3715.000000\n",
      "mean      0.433109     0.471726\n",
      "std       0.495572     0.310139\n",
      "min       0.000000     0.002556\n",
      "25%       0.000000     0.201500\n",
      "50%       0.000000     0.416459\n",
      "75%       1.000000     0.758837\n",
      "max       1.000000     0.999408\n",
      "-------------------------------------------------------------------------------------------\n",
      "갤럭시  samsung\n",
      "label    0.000000\n",
      "score    0.227785\n",
      "dtype: float64\n",
      "label    1.000000\n",
      "score    0.766739\n",
      "dtype: float64\n",
      "             label        score\n",
      "count  3284.000000  3284.000000\n",
      "mean      0.399817     0.443268\n",
      "std       0.489935     0.301254\n",
      "min       0.000000     0.002040\n",
      "25%       0.000000     0.179190\n",
      "50%       0.000000     0.391075\n",
      "75%       1.000000     0.707962\n",
      "max       1.000000     0.998436\n",
      "-------------------------------------------------------------------------------------------\n",
      "갤탭  samsung\n",
      "label    0.000000\n",
      "score    0.222832\n",
      "dtype: float64\n",
      "label    1.000000\n",
      "score    0.815007\n",
      "dtype: float64\n",
      "             label        score\n",
      "count  3837.000000  3837.000000\n",
      "mean      0.518634     0.529954\n",
      "std       0.499718     0.330402\n",
      "min       0.000000     0.001864\n",
      "25%       0.000000     0.222664\n",
      "50%       1.000000     0.528763\n",
      "75%       1.000000     0.862163\n",
      "max       1.000000     0.999583\n",
      "-------------------------------------------------------------------------------------------\n",
      "맥북  apple\n",
      "label    0.000000\n",
      "score    0.242141\n",
      "dtype: float64\n",
      "label    1.000000\n",
      "score    0.792609\n",
      "dtype: float64\n",
      "             label        score\n",
      "count  2451.000000  2451.000000\n",
      "mean      0.498164     0.516365\n",
      "std       0.500099     0.311318\n",
      "min       0.000000     0.006728\n",
      "25%       0.000000     0.240062\n",
      "50%       0.000000     0.496348\n",
      "75%       1.000000     0.817271\n",
      "max       1.000000     0.998983\n",
      "-------------------------------------------------------------------------------------------\n",
      "미밴드  xiaomi\n",
      "label    0.000000\n",
      "score    0.221195\n",
      "dtype: float64\n",
      "label    1.000000\n",
      "score    0.725211\n",
      "dtype: float64\n",
      "             label        score\n",
      "count  2235.000000  2235.000000\n",
      "mean      0.286353     0.365522\n",
      "std       0.452158     0.268025\n",
      "min       0.000000     0.002086\n",
      "25%       0.000000     0.134794\n",
      "50%       0.000000     0.308741\n",
      "75%       1.000000     0.548272\n",
      "max       1.000000     0.996175\n",
      "-------------------------------------------------------------------------------------------\n",
      "버즈라이브  samsung\n",
      "label    0.000000\n",
      "score    0.230694\n",
      "dtype: float64\n",
      "label    1.000000\n",
      "score    0.743343\n",
      "dtype: float64\n",
      "             label        score\n",
      "count  4143.000000  4143.000000\n",
      "mean      0.336230     0.403062\n",
      "std       0.472476     0.282337\n",
      "min       0.000000     0.001033\n",
      "25%       0.000000     0.163200\n",
      "50%       0.000000     0.348822\n",
      "75%       1.000000     0.606500\n",
      "max       1.000000     0.997306\n",
      "-------------------------------------------------------------------------------------------\n",
      "버즈플러스  samsung\n",
      "label    0.000000\n",
      "score    0.210754\n",
      "dtype: float64\n",
      "label    1.00000\n",
      "score    0.74223\n",
      "dtype: float64\n",
      "             label        score\n",
      "count  3157.000000  3157.000000\n",
      "mean      0.299018     0.369675\n",
      "std       0.457900     0.282711\n",
      "min       0.000000     0.002066\n",
      "25%       0.000000     0.124701\n",
      "50%       0.000000     0.308741\n",
      "75%       1.000000     0.572858\n",
      "max       1.000000     0.998553\n",
      "-------------------------------------------------------------------------------------------\n",
      "샤오미워치  xiaomi\n",
      "label    0.000000\n",
      "score    0.223597\n",
      "dtype: float64\n",
      "label    1.000000\n",
      "score    0.733945\n",
      "dtype: float64\n",
      "             label        score\n",
      "count  1499.000000  1499.000000\n",
      "mean      0.346898     0.400635\n",
      "std       0.476142     0.281695\n",
      "min       0.000000     0.001102\n",
      "25%       0.000000     0.162116\n",
      "50%       0.000000     0.343649\n",
      "75%       1.000000     0.622508\n",
      "max       1.000000     0.993839\n",
      "-------------------------------------------------------------------------------------------\n",
      "샤오미폰  xiaomi\n",
      "label    0.000000\n",
      "score    0.235623\n",
      "dtype: float64\n",
      "label    1.000000\n",
      "score    0.749864\n",
      "dtype: float64\n",
      "             label        score\n",
      "count  3592.000000  3592.000000\n",
      "mean      0.394209     0.438342\n",
      "std       0.488748     0.290123\n",
      "min       0.000000     0.001124\n",
      "25%       0.000000     0.185783\n",
      "50%       0.000000     0.392989\n",
      "75%       1.000000     0.677632\n",
      "max       1.000000     0.996894\n",
      "-------------------------------------------------------------------------------------------\n",
      "샤오미휴대폰  xiaomi\n",
      "label    0.000000\n",
      "score    0.243046\n",
      "dtype: float64\n",
      "label    1.00000\n",
      "score    0.75153\n",
      "dtype: float64\n",
      "             label        score\n",
      "count  1467.000000  1467.000000\n",
      "mean      0.405590     0.449282\n",
      "std       0.491173     0.288468\n",
      "min       0.000000     0.002429\n",
      "25%       0.000000     0.204926\n",
      "50%       0.000000     0.407806\n",
      "75%       1.000000     0.682368\n",
      "max       1.000000     0.997976\n",
      "-------------------------------------------------------------------------------------------\n",
      "아이패드  apple\n",
      "label    0.000000\n",
      "score    0.245622\n",
      "dtype: float64\n",
      "label    1.00000\n",
      "score    0.82697\n",
      "dtype: float64\n",
      "             label        score\n",
      "count  3563.000000  3563.000000\n",
      "mean      0.591075     0.589242\n",
      "std       0.491704     0.320734\n",
      "min       0.000000     0.002047\n",
      "25%       0.000000     0.307106\n",
      "50%       1.000000     0.626519\n",
      "75%       1.000000     0.904676\n",
      "max       1.000000     0.999599\n",
      "-------------------------------------------------------------------------------------------\n",
      "아이폰  apple\n",
      "label    0.000000\n",
      "score    0.238112\n",
      "dtype: float64\n",
      "label    1.000000\n",
      "score    0.752589\n",
      "dtype: float64\n",
      "             label        score\n",
      "count  3976.000000  3976.000000\n",
      "mean      0.375503     0.431300\n",
      "std       0.484313     0.288270\n",
      "min       0.000000     0.001541\n",
      "25%       0.000000     0.197092\n",
      "50%       0.000000     0.372581\n",
      "75%       1.000000     0.655108\n",
      "max       1.000000     0.998580\n",
      "-------------------------------------------------------------------------------------------\n",
      "애플워치  apple\n",
      "label    0.000000\n",
      "score    0.240979\n",
      "dtype: float64\n",
      "label    1.000000\n",
      "score    0.761864\n",
      "dtype: float64\n",
      "             label        score\n",
      "count  3688.000000  3688.000000\n",
      "mean      0.394794     0.446621\n",
      "std       0.488873     0.292089\n",
      "min       0.000000     0.001258\n",
      "25%       0.000000     0.198009\n",
      "50%       0.000000     0.390847\n",
      "75%       1.000000     0.692045\n",
      "max       1.000000     0.998416\n",
      "-------------------------------------------------------------------------------------------\n",
      "어메이즈핏  xiaomi\n",
      "label    0.000000\n",
      "score    0.212903\n",
      "dtype: float64\n",
      "label    1.00000\n",
      "score    0.73134\n",
      "dtype: float64\n",
      "            label       score\n",
      "count  721.000000  721.000000\n",
      "mean     0.317614    0.377566\n",
      "std      0.465872    0.280211\n",
      "min      0.000000    0.002888\n",
      "25%      0.000000    0.139912\n",
      "50%      0.000000    0.308741\n",
      "75%      1.000000    0.581002\n",
      "max      1.000000    0.996066\n",
      "-------------------------------------------------------------------------------------------\n",
      "에어팟  apple\n",
      "label    0.000000\n",
      "score    0.219999\n",
      "dtype: float64\n",
      "label    1.000000\n",
      "score    0.736549\n",
      "dtype: float64\n",
      "             label        score\n",
      "count  3775.000000  3775.000000\n",
      "mean      0.305960     0.378043\n",
      "std       0.460874     0.277886\n",
      "min       0.000000     0.001840\n",
      "25%       0.000000     0.140239\n",
      "50%       0.000000     0.308940\n",
      "75%       1.000000     0.571305\n",
      "max       1.000000     0.998588\n",
      "-------------------------------------------------------------------------------------------\n"
     ]
    },
    {
     "name": "stdout",
     "output_type": "stream",
     "text": [
      "홍미노트  xiaomi\n",
      "label    0.000000\n",
      "score    0.236552\n",
      "dtype: float64\n",
      "label    1.000000\n",
      "score    0.756057\n",
      "dtype: float64\n",
      "             label        score\n",
      "count  1536.000000  1536.000000\n",
      "mean      0.416016     0.452674\n",
      "std       0.493057     0.294319\n",
      "min       0.000000     0.000631\n",
      "25%       0.000000     0.207641\n",
      "50%       0.000000     0.417226\n",
      "75%       1.000000     0.704832\n",
      "max       1.000000     0.998846\n",
      "-------------------------------------------------------------------------------------------\n"
     ]
    }
   ],
   "source": [
    "\n",
    "for keyword in df[\"keyword\"].unique():\n",
    "    label = []\n",
    "    score_list = []\n",
    "    company = df[df[\"keyword\"]==keyword][\"company\"].unique()[0]\n",
    "    df[df[\"keyword\"]==keyword][\"company\"]\n",
    "    for review in df[df[\"keyword\"]==keyword][\"review\"]:\n",
    "        new_sentence = okt.morphs(review) # 토큰화\n",
    "        new_sentence = [word for word in new_sentence if not word in stopwords] # 불용어 제거\n",
    "        encoded = tokenizer.texts_to_sequences([new_sentence]) # 정수 인코딩\n",
    "        pad_new = pad_sequences(encoded, maxlen = 100)\n",
    "        score = float(model_test.predict(pad_new))\n",
    "        if(score > 0.5):\n",
    "            label.append(1)\n",
    "            score_list.append(score)\n",
    "        else:\n",
    "            label.append(0)\n",
    "            score_list.append(score)\n",
    "\n",
    "    xiaomi_score = pd.DataFrame([label, score_list]).T\n",
    "    xiaomi_score.columns = [\"label\", \"score\"]\n",
    "    print(keyword + \"  \" + company)\n",
    "    print(xiaomi_score[xiaomi_score[\"label\"]==0].mean())\n",
    "    print(xiaomi_score[xiaomi_score[\"label\"]==1].mean())\n",
    "    print(xiaomi_score.describe())\n",
    "    print('-------------------------------------------------------------------------------------------')\n",
    "    "
   ]
  },
  {
   "cell_type": "code",
   "execution_count": null,
   "id": "38d68577",
   "metadata": {},
   "outputs": [],
   "source": []
  },
  {
   "cell_type": "code",
   "execution_count": null,
   "id": "f5e26bf2",
   "metadata": {},
   "outputs": [],
   "source": []
  }
 ],
 "metadata": {
  "kernelspec": {
   "display_name": "Python 3",
   "language": "python",
   "name": "python3"
  },
  "language_info": {
   "codemirror_mode": {
    "name": "ipython",
    "version": 3
   },
   "file_extension": ".py",
   "mimetype": "text/x-python",
   "name": "python",
   "nbconvert_exporter": "python",
   "pygments_lexer": "ipython3",
   "version": "3.7.10"
  }
 },
 "nbformat": 4,
 "nbformat_minor": 5
}
