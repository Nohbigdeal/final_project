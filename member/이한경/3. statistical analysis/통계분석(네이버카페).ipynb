{
 "cells": [
  {
   "cell_type": "code",
   "execution_count": 1,
   "id": "9a75c88b",
   "metadata": {},
   "outputs": [],
   "source": [
    "from bs4 import BeautifulSoup\n",
    "from selenium import webdriver\n",
    "import selenium\n",
    "from urllib.parse import  urlparse\n",
    "import time\n",
    "import lxml\n",
    "from urllib.request import urlopen\n",
    "from selenium.webdriver.common.keys import Keys\n",
    "import numpy as np\n",
    "import pandas as pd\n",
    "import re\n",
    "import pickle\n",
    "from contextlib import suppress\n",
    "import matplotlib.pyplot as plt\n",
    "from konlpy.tag import Okt\n",
    "from tensorflow.keras.preprocessing.text import Tokenizer\n",
    "from tensorflow.keras.preprocessing.sequence import pad_sequences\n",
    "from sklearn.model_selection import train_test_split, cross_val_score, GridSearchCV, cross_validate, KFold\n",
    "from tqdm import tqdm\n",
    "\n",
    "import pickle\n",
    "import seaborn as sns\n",
    "import pandas as pd\n",
    "import matplotlib.pyplot as plt\n",
    "\n",
    "from tensorflow.keras.layers import Embedding, Dense, LSTM\n",
    "from tensorflow.keras.models import Sequential\n",
    "from tensorflow.keras.models import load_model\n",
    "from tensorflow.keras.callbacks import EarlyStopping, ModelCheckpoint"
   ]
  },
  {
   "cell_type": "code",
   "execution_count": 2,
   "id": "dfd42ea1",
   "metadata": {},
   "outputs": [],
   "source": [
    "plt.rcParams[\"font.family\"] = 'Malgun Gothic'"
   ]
  },
  {
   "cell_type": "code",
   "execution_count": 3,
   "id": "361d2e65",
   "metadata": {},
   "outputs": [],
   "source": [
    "from collections import Counter\n",
    "import os\n",
    "paths = os.listdir(\"C:/netsong7/pythonwork/AI/finalproject/data cleaning(final)\")"
   ]
  },
  {
   "cell_type": "code",
   "execution_count": 4,
   "id": "3bf493d2",
   "metadata": {},
   "outputs": [
    {
     "name": "stdout",
     "output_type": "stream",
     "text": [
      "cafe_Apple.csv\n",
      "cafe_Samsung.csv\n",
      "cafe_Xiaomi.csv\n"
     ]
    }
   ],
   "source": [
    "df_apple = pd.read_csv(\"C:/netsong7/pythonwork/AI/finalproject/data cleaning(final)/\"+paths[2], encoding='utf-8-sig')\n",
    "print(paths[2])\n",
    "df_samsung = pd.read_csv(\"C:/netsong7/pythonwork/AI/finalproject/data cleaning(final)/\"+paths[3], encoding='utf-8-sig')\n",
    "print(paths[3])\n",
    "df_xiaomi = pd.read_csv(\"C:/netsong7/pythonwork/AI/finalproject/data cleaning(final)/\"+paths[4], encoding='utf-8-sig')\n",
    "print(paths[4])"
   ]
  },
  {
   "cell_type": "code",
   "execution_count": 5,
   "id": "595585a4",
   "metadata": {},
   "outputs": [
    {
     "data": {
      "text/html": [
       "<div>\n",
       "<style scoped>\n",
       "    .dataframe tbody tr th:only-of-type {\n",
       "        vertical-align: middle;\n",
       "    }\n",
       "\n",
       "    .dataframe tbody tr th {\n",
       "        vertical-align: top;\n",
       "    }\n",
       "\n",
       "    .dataframe thead th {\n",
       "        text-align: right;\n",
       "    }\n",
       "</style>\n",
       "<table border=\"1\" class=\"dataframe\">\n",
       "  <thead>\n",
       "    <tr style=\"text-align: right;\">\n",
       "      <th></th>\n",
       "      <th>title</th>\n",
       "      <th>review</th>\n",
       "      <th>date</th>\n",
       "    </tr>\n",
       "  </thead>\n",
       "  <tbody>\n",
       "    <tr>\n",
       "      <th>0</th>\n",
       "      <td>인치 가지고 왔습니다</td>\n",
       "      <td>칩을 품은 아이패드 프로 하나 가지고왔습니다 게임용이 주목적으로 구입했고 휴대성도 ...</td>\n",
       "      <td>2021.08.11. 21:02</td>\n",
       "    </tr>\n",
       "    <tr>\n",
       "      <th>1</th>\n",
       "      <td>미니</td>\n",
       "      <td>NaN</td>\n",
       "      <td>2021.08.11. 14:14</td>\n",
       "    </tr>\n",
       "    <tr>\n",
       "      <th>2</th>\n",
       "      <td>애플펜슬 교환받고 왔는데요ㅠ</td>\n",
       "      <td>아이패드 프로 세대 인치 사용한지는 년 넘었어요굿노트에서 자꾸 필기 오류가 생겨서 ...</td>\n",
       "      <td>2021.08.11. 13:36</td>\n",
       "    </tr>\n",
       "    <tr>\n",
       "      <th>3</th>\n",
       "      <td>패드로 책 읽으시는 분 계신가요</td>\n",
       "      <td>출퇴근할 때 전철에서 아이패드로 전자책 읽는데눈이 좀 아픈 것 같아요 ㅜㅜㅜㅜ아이패...</td>\n",
       "      <td>2021.08.11. 09:26</td>\n",
       "    </tr>\n",
       "    <tr>\n",
       "      <th>4</th>\n",
       "      <td>아이패드펜촉 팁 글씨필기감</td>\n",
       "      <td>도움말라이센스            동영상 인코딩 중입니다분 이상 소요될 수 있으며 ...</td>\n",
       "      <td>2021.08.11. 01:36</td>\n",
       "    </tr>\n",
       "  </tbody>\n",
       "</table>\n",
       "</div>"
      ],
      "text/plain": [
       "               title                                             review  \\\n",
       "0        인치 가지고 왔습니다  칩을 품은 아이패드 프로 하나 가지고왔습니다 게임용이 주목적으로 구입했고 휴대성도 ...   \n",
       "1                 미니                                                NaN   \n",
       "2    애플펜슬 교환받고 왔는데요ㅠ  아이패드 프로 세대 인치 사용한지는 년 넘었어요굿노트에서 자꾸 필기 오류가 생겨서 ...   \n",
       "3  패드로 책 읽으시는 분 계신가요  출퇴근할 때 전철에서 아이패드로 전자책 읽는데눈이 좀 아픈 것 같아요 ㅜㅜㅜㅜ아이패...   \n",
       "4     아이패드펜촉 팁 글씨필기감  도움말라이센스            동영상 인코딩 중입니다분 이상 소요될 수 있으며 ...   \n",
       "\n",
       "                date  \n",
       "0  2021.08.11. 21:02  \n",
       "1  2021.08.11. 14:14  \n",
       "2  2021.08.11. 13:36  \n",
       "3  2021.08.11. 09:26  \n",
       "4  2021.08.11. 01:36  "
      ]
     },
     "execution_count": 5,
     "metadata": {},
     "output_type": "execute_result"
    }
   ],
   "source": [
    "del df_apple[\"Unnamed: 0\"]\n",
    "df_apple.columns = [\"title\", \"review\", \"date\"]\n",
    "df_apple.head()"
   ]
  },
  {
   "cell_type": "code",
   "execution_count": 6,
   "id": "33d908b2",
   "metadata": {},
   "outputs": [
    {
     "data": {
      "text/html": [
       "<div>\n",
       "<style scoped>\n",
       "    .dataframe tbody tr th:only-of-type {\n",
       "        vertical-align: middle;\n",
       "    }\n",
       "\n",
       "    .dataframe tbody tr th {\n",
       "        vertical-align: top;\n",
       "    }\n",
       "\n",
       "    .dataframe thead th {\n",
       "        text-align: right;\n",
       "    }\n",
       "</style>\n",
       "<table border=\"1\" class=\"dataframe\">\n",
       "  <thead>\n",
       "    <tr style=\"text-align: right;\">\n",
       "      <th></th>\n",
       "      <th>review</th>\n",
       "      <th>date</th>\n",
       "    </tr>\n",
       "  </thead>\n",
       "  <tbody>\n",
       "    <tr>\n",
       "      <th>0</th>\n",
       "      <td>사람들이 불만이 많아 걱정 많이했습니다사고 난 1일7일 발열 느껴졌습니다하지만 이 ...</td>\n",
       "      <td>2021.08.12. 10:54</td>\n",
       "    </tr>\n",
       "    <tr>\n",
       "      <th>1</th>\n",
       "      <td>s10 5g에서 기변했는데 카페글에 발열 심하다는 얘기가 많아 불안했지만 카메라가...</td>\n",
       "      <td>2021.08.12. 10:39</td>\n",
       "    </tr>\n",
       "    <tr>\n",
       "      <th>2</th>\n",
       "      <td>s21울트라로 기변했습니다침수된 s20는 as비용만 8090만원이 나오는지라저렴하게...</td>\n",
       "      <td>2021.08.10. 07:09</td>\n",
       "    </tr>\n",
       "    <tr>\n",
       "      <th>3</th>\n",
       "      <td>안녕하세요4월 말에 구매해서 지금까지 울트라 잘 사용하고 있습니다s21시리즈 문제때...</td>\n",
       "      <td>2021.08.09. 17:50</td>\n",
       "    </tr>\n",
       "    <tr>\n",
       "      <th>4</th>\n",
       "      <td>사용기종 s21최대가 3435도고 카메라 사용시 36도까지 찍었네요</td>\n",
       "      <td>2021.08.09. 17:00</td>\n",
       "    </tr>\n",
       "  </tbody>\n",
       "</table>\n",
       "</div>"
      ],
      "text/plain": [
       "                                              review               date\n",
       "0  사람들이 불만이 많아 걱정 많이했습니다사고 난 1일7일 발열 느껴졌습니다하지만 이 ...  2021.08.12. 10:54\n",
       "1   s10 5g에서 기변했는데 카페글에 발열 심하다는 얘기가 많아 불안했지만 카메라가...  2021.08.12. 10:39\n",
       "2  s21울트라로 기변했습니다침수된 s20는 as비용만 8090만원이 나오는지라저렴하게...  2021.08.10. 07:09\n",
       "3  안녕하세요4월 말에 구매해서 지금까지 울트라 잘 사용하고 있습니다s21시리즈 문제때...  2021.08.09. 17:50\n",
       "4             사용기종 s21최대가 3435도고 카메라 사용시 36도까지 찍었네요   2021.08.09. 17:00"
      ]
     },
     "execution_count": 6,
     "metadata": {},
     "output_type": "execute_result"
    }
   ],
   "source": [
    "del df_samsung[\"Unnamed: 0\"]\n",
    "df_samsung.columns = [\"review\", \"date\"]\n",
    "df_samsung.head()"
   ]
  },
  {
   "cell_type": "code",
   "execution_count": 7,
   "id": "ecdca210",
   "metadata": {},
   "outputs": [
    {
     "data": {
      "text/html": [
       "<div>\n",
       "<style scoped>\n",
       "    .dataframe tbody tr th:only-of-type {\n",
       "        vertical-align: middle;\n",
       "    }\n",
       "\n",
       "    .dataframe tbody tr th {\n",
       "        vertical-align: top;\n",
       "    }\n",
       "\n",
       "    .dataframe thead th {\n",
       "        text-align: right;\n",
       "    }\n",
       "</style>\n",
       "<table border=\"1\" class=\"dataframe\">\n",
       "  <thead>\n",
       "    <tr style=\"text-align: right;\">\n",
       "      <th></th>\n",
       "      <th>title</th>\n",
       "      <th>review</th>\n",
       "      <th>keyword</th>\n",
       "      <th>date</th>\n",
       "    </tr>\n",
       "  </thead>\n",
       "  <tbody>\n",
       "    <tr>\n",
       "      <th>0</th>\n",
       "      <td>홍미노트 시리즈의 고질병 2</td>\n",
       "      <td>홍미노트 프로 프로 프로 프로까지 쭉 써오고 있는데사용 중에 가장 불편하고 짜증...</td>\n",
       "      <td>스마트폰</td>\n",
       "      <td>2021.08.11. 03:56</td>\n",
       "    </tr>\n",
       "    <tr>\n",
       "      <th>1</th>\n",
       "      <td>홍미노트 틴 츠로(10 프로) 터치후기</td>\n",
       "      <td>내손이 똥손인거 이 폰이 똥 폰인가내 손이 똥손일까요 이 폰이 똥폰일까요아무리써...</td>\n",
       "      <td>스마트폰</td>\n",
       "      <td>2021.08.11. 01:33</td>\n",
       "    </tr>\n",
       "    <tr>\n",
       "      <th>2</th>\n",
       "      <td>미10라에서 미10라줌 롬으로 교체 사용기</td>\n",
       "      <td>안녕하세요미라 단말기에 미라줌 롬 교체기 입니다교체 이유는 주간롬 사용 및 베터...</td>\n",
       "      <td>스마트폰</td>\n",
       "      <td>2021.08.11. 00:44</td>\n",
       "    </tr>\n",
       "    <tr>\n",
       "      <th>3</th>\n",
       "      <td>아이폰에서 홍미노트 10 바꾼 후 간단한 일주일 후기입니다.</td>\n",
       "      <td>안녕하세요 기존에 아이폰 미니를 쓰다가안드로이드도 써보고 싶고 샤오미도 궁금하고...</td>\n",
       "      <td>스마트폰</td>\n",
       "      <td>2021.08.07. 20:37</td>\n",
       "    </tr>\n",
       "    <tr>\n",
       "      <th>4</th>\n",
       "      <td>poco m3 pro 5g 일주일 사용기 (수정)</td>\n",
       "      <td>어느덧 포코  프로 를 받고 사용한지 일주일이 다되가네요이전에 간단하게 짧은 후...</td>\n",
       "      <td>스마트폰</td>\n",
       "      <td>2021.08.07. 11:57</td>\n",
       "    </tr>\n",
       "  </tbody>\n",
       "</table>\n",
       "</div>"
      ],
      "text/plain": [
       "                               title  \\\n",
       "0                    홍미노트 시리즈의 고질병 2   \n",
       "1              홍미노트 틴 츠로(10 프로) 터치후기   \n",
       "2            미10라에서 미10라줌 롬으로 교체 사용기   \n",
       "3  아이폰에서 홍미노트 10 바꾼 후 간단한 일주일 후기입니다.   \n",
       "4        poco m3 pro 5g 일주일 사용기 (수정)   \n",
       "\n",
       "                                              review keyword  \\\n",
       "0    홍미노트 프로 프로 프로 프로까지 쭉 써오고 있는데사용 중에 가장 불편하고 짜증...    스마트폰   \n",
       "1    내손이 똥손인거 이 폰이 똥 폰인가내 손이 똥손일까요 이 폰이 똥폰일까요아무리써...    스마트폰   \n",
       "2    안녕하세요미라 단말기에 미라줌 롬 교체기 입니다교체 이유는 주간롬 사용 및 베터...    스마트폰   \n",
       "3    안녕하세요 기존에 아이폰 미니를 쓰다가안드로이드도 써보고 싶고 샤오미도 궁금하고...    스마트폰   \n",
       "4    어느덧 포코  프로 를 받고 사용한지 일주일이 다되가네요이전에 간단하게 짧은 후...    스마트폰   \n",
       "\n",
       "                date  \n",
       "0  2021.08.11. 03:56  \n",
       "1  2021.08.11. 01:33  \n",
       "2  2021.08.11. 00:44  \n",
       "3  2021.08.07. 20:37  \n",
       "4  2021.08.07. 11:57  "
      ]
     },
     "execution_count": 7,
     "metadata": {},
     "output_type": "execute_result"
    }
   ],
   "source": [
    "df_xiaomi.head()"
   ]
  },
  {
   "cell_type": "code",
   "execution_count": 8,
   "id": "c15d1bf3",
   "metadata": {},
   "outputs": [
    {
     "name": "stdout",
     "output_type": "stream",
     "text": [
      "전처리 후 테스트용 샘플의 개수 : 2250\n"
     ]
    },
    {
     "name": "stderr",
     "output_type": "stream",
     "text": [
      "C:\\Users\\not14\\anaconda3\\envs\\tf1\\lib\\site-packages\\ipykernel_launcher.py:2: FutureWarning: The default value of regex will change from True to False in a future version.\n",
      "  \n"
     ]
    }
   ],
   "source": [
    "df_apple.drop_duplicates(subset = ['review'], inplace=True) # 중복 제거\n",
    "df_apple['review'] = df_apple['review'].str.replace(\"[^ㄱ-ㅎㅏ-ㅣ가-힣 ]\",\"\") # 정규 표현식 수행\n",
    "df_apple['review'].replace('', np.nan, inplace=True) # 공백은 Null 값으로 변경\n",
    "df_apple = df_apple.dropna(how='any') # Null 값 제거\n",
    "print('전처리 후 테스트용 샘플의 개수 :',len(df_apple))"
   ]
  },
  {
   "cell_type": "code",
   "execution_count": 9,
   "id": "b09221e8",
   "metadata": {},
   "outputs": [
    {
     "name": "stdout",
     "output_type": "stream",
     "text": [
      "전처리 후 테스트용 샘플의 개수 : 1422\n"
     ]
    },
    {
     "name": "stderr",
     "output_type": "stream",
     "text": [
      "C:\\Users\\not14\\anaconda3\\envs\\tf1\\lib\\site-packages\\ipykernel_launcher.py:2: FutureWarning: The default value of regex will change from True to False in a future version.\n",
      "  \n"
     ]
    }
   ],
   "source": [
    "df_samsung.drop_duplicates(subset = ['review'], inplace=True) # 중복 제거\n",
    "df_samsung['review'] = df_samsung['review'].str.replace(\"[^ㄱ-ㅎㅏ-ㅣ가-힣 ]\",\"\") # 정규 표현식 수행\n",
    "df_samsung['review'].replace('', np.nan, inplace=True) # 공백은 Null 값으로 변경\n",
    "df_samsung = df_samsung.dropna(how='any') # Null 값 제거\n",
    "print('전처리 후 테스트용 샘플의 개수 :',len(df_samsung))"
   ]
  },
  {
   "cell_type": "code",
   "execution_count": 10,
   "id": "079f7f26",
   "metadata": {},
   "outputs": [
    {
     "name": "stdout",
     "output_type": "stream",
     "text": [
      "전처리 후 테스트용 샘플의 개수 : 600\n"
     ]
    },
    {
     "name": "stderr",
     "output_type": "stream",
     "text": [
      "C:\\Users\\not14\\anaconda3\\envs\\tf1\\lib\\site-packages\\ipykernel_launcher.py:2: FutureWarning: The default value of regex will change from True to False in a future version.\n",
      "  \n"
     ]
    }
   ],
   "source": [
    "df_xiaomi.drop_duplicates(subset = ['review'], inplace=True) # 중복 제거\n",
    "df_xiaomi['review'] = df_xiaomi['review'].str.replace(\"[^ㄱ-ㅎㅏ-ㅣ가-힣 ]\",\"\") # 정규 표현식 수행\n",
    "df_xiaomi['review'].replace('', np.nan, inplace=True) # 공백은 Null 값으로 변경\n",
    "df_xiaomi = df_xiaomi.dropna(how='any') # Null 값 제거\n",
    "print('전처리 후 테스트용 샘플의 개수 :',len(df_xiaomi))"
   ]
  },
  {
   "cell_type": "markdown",
   "id": "9004dcbe",
   "metadata": {},
   "source": [
    "# 네이버 카페 리뷰 회사 별 리뷰 pie plot"
   ]
  },
  {
   "cell_type": "code",
   "execution_count": 11,
   "id": "f2ef0921",
   "metadata": {},
   "outputs": [
    {
     "data": {
      "image/png": "[encoded data removed]",
      "text/plain": [
       "<Figure size 864x720 with 1 Axes>"
      ]
     },
     "metadata": {},
     "output_type": "display_data"
    },
    {
     "name": "stdout",
     "output_type": "stream",
     "text": [
      "전처리 후 테스트용 샘플의 개수 : 4272\n"
     ]
    }
   ],
   "source": [
    "plt.figure(figsize=(12, 10))\n",
    "ratio = [len(df_apple), len(df_samsung), len(df_xiaomi) ]\n",
    "labels = [\"apple\",\"samsung\",\"xiaomi\"]\n",
    "\n",
    "\n",
    "\n",
    "plt.pie(ratio, labels=labels, autopct='%.1f%%', startangle=260, counterclock=False)\n",
    "plt.show()\n",
    "print('전처리 후 테스트용 샘플의 개수 :',len(df_apple)+len(df_samsung)+len(df_xiaomi))\n"
   ]
  },
  {
   "cell_type": "markdown",
   "id": "a6433070",
   "metadata": {},
   "source": [
    "# 네이버 카페 리뷰 길이 분포"
   ]
  },
  {
   "cell_type": "code",
   "execution_count": 12,
   "id": "6280d4c3",
   "metadata": {},
   "outputs": [
    {
     "name": "stdout",
     "output_type": "stream",
     "text": [
      "리뷰의 최대 길이 : 23341\n",
      "리뷰의 평균 길이 : 335.19955555555555\n"
     ]
    },
    {
     "data": {
      "image/png": "[encoded data removed]",
      "text/plain": [
       "<Figure size 432x288 with 1 Axes>"
      ]
     },
     "metadata": {
      "needs_background": "light"
     },
     "output_type": "display_data"
    }
   ],
   "source": [
    "print('리뷰의 최대 길이 :',max(len(l) for l in df_apple['review']))\n",
    "print('리뷰의 평균 길이 :',sum(map(len, df_apple['review']))/len(df_apple['review']))\n",
    "plt.hist([len(s) for s in df_apple['review']], bins=100)\n",
    "plt.xlabel('length of samples')\n",
    "plt.ylabel('number of samples')\n",
    "plt.title(\"네이버 카페 데이터의 길이 분포\")\n",
    "plt.show()"
   ]
  },
  {
   "cell_type": "code",
   "execution_count": 13,
   "id": "43eac362",
   "metadata": {},
   "outputs": [
    {
     "name": "stdout",
     "output_type": "stream",
     "text": [
      "title     0\n",
      "review    0\n",
      "date      0\n",
      "dtype: int64\n",
      "2250\n"
     ]
    },
    {
     "name": "stderr",
     "output_type": "stream",
     "text": [
      "C:\\Users\\not14\\anaconda3\\envs\\tf1\\lib\\site-packages\\ipykernel_launcher.py:1: FutureWarning: The default value of regex will change from True to False in a future version.\n",
      "  \"\"\"Entry point for launching an IPython kernel.\n"
     ]
    }
   ],
   "source": [
    "df_apple['review'] = df_apple['review'].str.replace('^ +', \"\")\n",
    "df_apple['review'].replace('', np.nan, inplace=True)\n",
    "print(df_apple.isnull().sum())\n",
    "\n",
    "df_apple.loc[df_apple.review.isnull()][:5]\n",
    "\n",
    "df_apple = df_apple.dropna(how = 'any')\n",
    "print(len(df_apple))"
   ]
  },
  {
   "cell_type": "markdown",
   "id": "f431ffce",
   "metadata": {},
   "source": [
    "# 네이버 카페 리뷰 회사 별 리뷰 길이 분포"
   ]
  },
  {
   "cell_type": "code",
   "execution_count": 14,
   "id": "00663a6c",
   "metadata": {},
   "outputs": [
    {
     "name": "stdout",
     "output_type": "stream",
     "text": [
      "리뷰의 최대 길이 : 23341\n",
      "리뷰의 평균 길이 : 335.18\n"
     ]
    },
    {
     "data": {
      "image/png": "[encoded data removed]",
      "text/plain": [
       "<Figure size 432x288 with 1 Axes>"
      ]
     },
     "metadata": {
      "needs_background": "light"
     },
     "output_type": "display_data"
    }
   ],
   "source": [
    "print('리뷰의 최대 길이 :',max(len(l) for l in df_apple['review']))\n",
    "print('리뷰의 평균 길이 :',sum(map(len, df_apple['review']))/len(df_apple['review']))\n",
    "plt.hist([len(s) for s in df_apple['review']], bins=100)\n",
    "plt.xlabel('length of samples')\n",
    "plt.ylabel('number of samples')\n",
    "plt.title(\"네이버 카페(apple) 데이터의 길이 분포\")\n",
    "plt.show()"
   ]
  },
  {
   "cell_type": "code",
   "execution_count": 15,
   "id": "693f9632",
   "metadata": {},
   "outputs": [
    {
     "name": "stdout",
     "output_type": "stream",
     "text": [
      "review    1\n",
      "date      0\n",
      "dtype: int64\n",
      "1421\n"
     ]
    },
    {
     "name": "stderr",
     "output_type": "stream",
     "text": [
      "C:\\Users\\not14\\anaconda3\\envs\\tf1\\lib\\site-packages\\ipykernel_launcher.py:1: FutureWarning: The default value of regex will change from True to False in a future version.\n",
      "  \"\"\"Entry point for launching an IPython kernel.\n"
     ]
    }
   ],
   "source": [
    "df_samsung['review'] = df_samsung['review'].str.replace('^ +', \"\")\n",
    "df_samsung['review'].replace('', np.nan, inplace=True)\n",
    "print(df_samsung.isnull().sum())\n",
    "\n",
    "df_samsung.loc[df_samsung.review.isnull()][:5]\n",
    "\n",
    "df_samsung = df_samsung.dropna(how = 'any')\n",
    "print(len(df_samsung))"
   ]
  },
  {
   "cell_type": "code",
   "execution_count": 16,
   "id": "62798aa4",
   "metadata": {},
   "outputs": [
    {
     "name": "stdout",
     "output_type": "stream",
     "text": [
      "리뷰의 최대 길이 : 7624\n",
      "리뷰의 평균 길이 : 367.8029556650246\n"
     ]
    },
    {
     "data": {
      "image/png": "[encoded data removed]",
      "text/plain": [
       "<Figure size 432x288 with 1 Axes>"
      ]
     },
     "metadata": {
      "needs_background": "light"
     },
     "output_type": "display_data"
    }
   ],
   "source": [
    "print('리뷰의 최대 길이 :',max(len(l) for l in df_samsung['review']))\n",
    "print('리뷰의 평균 길이 :',sum(map(len, df_samsung['review']))/len(df_samsung['review']))\n",
    "plt.hist([len(s) for s in df_samsung['review']], bins=100)\n",
    "plt.xlabel('length of samples')\n",
    "plt.ylabel('number of samples')\n",
    "plt.title(\"네이버 카페(samsung) 데이터의 길이 분포\")\n",
    "plt.show()"
   ]
  },
  {
   "cell_type": "code",
   "execution_count": 17,
   "id": "43736930",
   "metadata": {},
   "outputs": [
    {
     "name": "stdout",
     "output_type": "stream",
     "text": [
      "title      0\n",
      "review     2\n",
      "keyword    0\n",
      "date       0\n",
      "dtype: int64\n",
      "598\n"
     ]
    },
    {
     "name": "stderr",
     "output_type": "stream",
     "text": [
      "C:\\Users\\not14\\anaconda3\\envs\\tf1\\lib\\site-packages\\ipykernel_launcher.py:1: FutureWarning: The default value of regex will change from True to False in a future version.\n",
      "  \"\"\"Entry point for launching an IPython kernel.\n"
     ]
    }
   ],
   "source": [
    "df_xiaomi['review'] = df_xiaomi['review'].str.replace('^ +', \"\")\n",
    "df_xiaomi['review'].replace('', np.nan, inplace=True)\n",
    "print(df_xiaomi.isnull().sum())\n",
    "\n",
    "df_xiaomi.loc[df_xiaomi.review.isnull()][:5]\n",
    "\n",
    "df_xiaomi = df_xiaomi.dropna(how = 'any')\n",
    "print(len(df_xiaomi))"
   ]
  },
  {
   "cell_type": "code",
   "execution_count": 18,
   "id": "4830f0fa",
   "metadata": {},
   "outputs": [
    {
     "name": "stdout",
     "output_type": "stream",
     "text": [
      "리뷰의 최대 길이 : 11025\n",
      "리뷰의 평균 길이 : 984.2993311036789\n"
     ]
    },
    {
     "data": {
      "image/png": "[encoded data removed]",
      "text/plain": [
       "<Figure size 432x288 with 1 Axes>"
      ]
     },
     "metadata": {
      "needs_background": "light"
     },
     "output_type": "display_data"
    }
   ],
   "source": [
    "print('리뷰의 최대 길이 :',max(len(l) for l in df_xiaomi['review']))\n",
    "print('리뷰의 평균 길이 :',sum(map(len, df_xiaomi['review']))/len(df_xiaomi['review']))\n",
    "plt.hist([len(s) for s in df_xiaomi['review']], bins=100)\n",
    "plt.xlabel('length of samples')\n",
    "plt.ylabel('number of samples')\n",
    "plt.title(\"네이버 카페(xiaomi) 데이터의 길이 분포\")\n",
    "plt.show()"
   ]
  },
  {
   "cell_type": "code",
   "execution_count": null,
   "id": "34057ba3",
   "metadata": {},
   "outputs": [],
   "source": []
  },
  {
   "cell_type": "code",
   "execution_count": null,
   "id": "6e18d645",
   "metadata": {},
   "outputs": [],
   "source": []
  },
  {
   "cell_type": "markdown",
   "id": "6a5f6d1a",
   "metadata": {},
   "source": [
    "# 네이버 카페 리뷰 회사 별 형태소 랭크"
   ]
  },
  {
   "cell_type": "code",
   "execution_count": 19,
   "id": "50cc3420",
   "metadata": {},
   "outputs": [
    {
     "name": "stderr",
     "output_type": "stream",
     "text": [
      "b'Skipping line 276: expected 1 fields, saw 2\\n'\n"
     ]
    }
   ],
   "source": [
    "okt = Okt()\n",
    "stopwords = pd.read_table(\"C:/netsong7/pythonwork/AI/stopwords1.txt\", encoding='utf-8-sig', header=None,error_bad_lines=False)\n",
    "stopwords = list(stopwords[0])"
   ]
  },
  {
   "cell_type": "code",
   "execution_count": 20,
   "id": "dd4fea39",
   "metadata": {},
   "outputs": [
    {
     "name": "stdout",
     "output_type": "stream",
     "text": [
      "[('있다', 3196), ('되다', 2290), ('보다', 2144), ('이다', 2062), ('사용', 2015), ('프로', 1369), ('없다', 1365), ('좋다', 1211), ('애플', 1100), ('않다', 1048), ('맥북', 984), ('수', 932), ('인치', 927), ('쓰다', 905), ('들다', 874), ('더', 870), ('생각', 870), ('하고', 868), ('아이패드', 860), ('키', 835), ('아이폰', 830), ('안', 823), ('만', 819), ('요', 807), ('정도', 761), ('아니다', 758), ('구매', 751), ('적', 747), ('분', 734), ('보드', 730), ('자다', 711), ('중', 671), ('너무', 670), ('워치', 658), ('세대', 641), ('작업', 624), ('그렇다', 609), ('되어다', 569), ('해보다', 566), ('맥', 561), ('영상', 559), ('가다', 542), ('오다', 540), ('케이스', 528), ('받다', 517), ('제품', 515), ('많이', 509), ('문제', 501), ('후', 500), ('배터리', 492), ('나오다', 483), ('써다', 478), ('ㅎㅎ', 469), ('크다', 463), ('년', 462), ('화면', 458), ('면', 445), ('많다', 443), ('때문', 440), ('그냥', 436), ('싶다', 434), ('못', 429), ('인데', 427), ('정말', 422), ('거', 419), ('형', 419), ('매직', 416), ('미니', 411), ('사다', 401), ('오늘', 395), ('고민', 385), ('서', 383), ('사진', 381), ('에는', 378), ('느낌', 374), ('부분', 372), ('기', 366), ('성능', 359), ('전', 357), ('구입', 356), ('이번', 347), ('모르다', 344), ('가격', 343), ('발열', 341), ('일', 339), ('ㅠㅠ', 329), ('쓸다', 329), ('경우', 326), ('해주다', 324), ('모델', 324), ('맥북프로', 324), ('말', 316), ('앱', 311), ('글', 310), ('지금', 308), ('에어팟', 303), ('기본', 297), ('만원', 295), ('이나', 295), ('시', 295), ('하나', 294), ('이라', 291), ('처음', 291), ('점', 290), ('보이다', 289), ('에어', 285), ('기능', 283), ('올리다', 283), ('처럼', 283), ('선택', 282), ('안되다', 282), ('패드', 280), ('개', 279), ('알다', 275), ('마우스', 271), ('느끼다', 264), ('윈도우', 263), ('페이스', 262), ('이렇다', 259), ('ㅋㅋ', 258), ('노트북', 254), ('위', 253), ('모니터', 253), ('걸', 247), ('차이', 247), ('다시', 245), ('한번', 244), ('가능하다', 244), ('없이', 243), ('디스플레이', 243), ('충전', 239), ('진짜', 239), ('편하다', 238), ('필름', 238), ('두다', 235), ('이제', 235), ('니', 232), ('바꾸다', 231), ('사실', 230), ('에서는', 230), ('랑', 227), ('이렇게', 227), ('맥북에어', 226), ('비교', 226), ('보고', 224), ('스트랩', 222), ('가지', 220), ('지원', 220), ('기존', 220), ('계속', 219), ('설치', 218), ('사람', 218), ('설정', 217), ('일단', 217), ('소리', 217), ('카메라', 217), ('어떻다', 217), ('확실하다', 214), ('디자인', 214), ('폰', 213), ('두', 212), ('게임', 210), ('용', 210), ('추천', 210), ('원', 209), ('예쁘다', 209), ('확인', 208), ('드리다', 207), ('만들다', 206), ('무게', 206), ('나다', 205), ('가장', 205), ('뭐', 202), ('돼다', 202), ('연결', 201), ('기기', 199), ('다니다', 198), ('라', 196), ('역시', 196), ('아직', 196), ('늘다', 194), ('음악', 194), ('크기', 192), ('엔', 192), ('괜찮다', 192), ('월', 192), ('주다', 191), ('넘다', 188), ('펜슬', 188), ('프로그램', 186), ('이쁘다', 185), ('아주', 185), ('맞다', 184), ('ㅋㅋㅋ', 183), ('색상', 183), ('아이맥', 182), ('대', 181), ('버전', 180), ('매우', 179), ('상태', 175)]\n",
      "==================================================================================================================\n"
     ]
    }
   ],
   "source": [
    "# apple\n",
    "positve = []\n",
    "for sentence in df_apple[\"review\"]:\n",
    "    temp_X = okt.morphs(sentence, stem=True) # 토큰화\n",
    "    temp_X = [word for word in temp_X if not word in stopwords] # 불용어 제거\n",
    "    positve.append(temp_X)\n",
    "words_positve = np.hstack(positve)\n",
    "words_positve_count = Counter(words_positve)\n",
    "print(words_positve_count.most_common(200))\n",
    "print(\"==================================================================================================================\")"
   ]
  },
  {
   "cell_type": "code",
   "execution_count": 21,
   "id": "d1dde852",
   "metadata": {},
   "outputs": [
    {
     "name": "stdout",
     "output_type": "stream",
     "text": [
      "[('있다', 2158), ('보다', 1693), ('되다', 1573), ('이다', 1430), ('사용', 1406), ('좋다', 1188), ('없다', 1167), ('노트', 1134), ('쓰다', 959), ('화면', 807), ('폰', 799), ('않다', 777), ('더', 700), ('정도', 696), ('만', 667), ('적', 666), ('요', 655), ('안', 641), ('생각', 631), ('너무', 630), ('발열', 617), ('카메라', 607), ('아니다', 570), ('하고', 562), ('구매', 553), ('들다', 533), ('울트라', 520), ('받다', 511), ('분', 509), ('써다', 505), ('수', 501), ('가다', 493), ('못', 490), ('자다', 488), ('중', 480), ('후', 479), ('삼성', 471), ('크다', 471), ('갤럭시', 452), ('펜', 445), ('그렇다', 435), ('영상', 429), ('나오다', 422), ('많이', 399), ('아이폰', 390), ('게임', 387), ('부분', 385), ('면', 384), ('사진', 383), ('느낌', 381), ('오다', 376), ('배터리', 366), ('많다', 359), ('문제', 350), ('케이스', 350), ('되어다', 350), ('필기', 345), ('해보다', 333), ('그냥', 327), ('때문', 319), ('거', 318), ('인데', 310), ('폴드', 308), ('찍다', 302), ('전', 301), ('쓸다', 299), ('에는', 299), ('글', 296), ('느끼다', 291), ('아이패드', 291), ('필름', 290), ('안되다', 288), ('모르다', 286), ('정말', 280), ('기능', 280), ('제품', 276), ('일', 274), ('고민', 274), ('프로', 268), ('기', 267), ('서', 265), ('사다', 259), ('탭', 256), ('싶다', 252), ('진짜', 251), ('화질', 250), ('시', 249), ('년', 242), ('무게', 240), ('성능', 239), ('바꾸다', 239), ('충전', 235), ('이라', 234), ('불편하다', 234), ('이나', 231), ('키', 229), ('원', 228), ('점', 227), ('괜찮다', 224), ('성', 222), ('액정', 222), ('차이', 221), ('보이다', 218), ('라', 216), ('비교', 209), ('하나', 209), ('만족하다', 209), ('경우', 208), ('태블릿', 208), ('감', 207), ('뭐', 205), ('체감', 204), ('말', 203), ('확실하다', 202), ('이번', 201), ('느껴지다', 200), ('만원', 199), ('동영상', 198), ('센터', 197), ('앱', 195), ('계속', 195), ('디자인', 193), ('복사', 193), ('디스플레이', 190), ('처음', 190), ('보고', 188), ('다시', 188), ('플러스', 187), ('늘다', 186), ('도움말', 186), ('크게', 185), ('월', 184), ('기기', 184), ('이렇다', 183), ('후기', 183), ('모드', 183), ('지원', 183), ('근데', 182), ('보드', 181), ('놓다', 181), ('알다', 180), ('아쉽다', 179), ('구입', 178), ('모델', 178), ('일단', 178), ('편하다', 178), ('갤럭시탭', 178), ('인식', 177), ('아직', 176), ('해주다', 175), ('서비스', 172), ('갤탭', 171), ('삼', 170), ('단점', 167), ('사', 165), ('에서는', 164), ('지금', 163), ('나다', 163), ('없이', 160), ('개', 160), ('개인', 160), ('크기', 159), ('내', 158), ('선택', 157), ('광고', 157), ('심하다', 155), ('주', 155), ('유튜브', 154), ('처럼', 153), ('랑', 152), ('주다', 151), ('넘어오다', 151), ('개다', 146), ('시리즈', 146), ('엄청', 146), ('넘다', 144), ('가능하다', 144), ('손', 144), ('가격', 143), ('기존', 143), ('어플', 142), ('두', 142), ('추천', 142), ('걸', 141), ('가장', 141), ('이고', 140), ('색상', 138), ('아주', 138), ('전체', 138), ('교환', 138), ('사실', 137), ('오래', 137), ('한번', 137), ('상', 136), ('맞다', 136), ('장점', 134), ('노트북', 134), ('인치', 131), ('무겁다', 131), ('눈', 131)]\n",
      "==================================================================================================================\n"
     ]
    }
   ],
   "source": [
    "# samsung\n",
    "positve = []\n",
    "for sentence in df_samsung[\"review\"]:\n",
    "    temp_X = okt.morphs(sentence, stem=True) # 토큰화\n",
    "    temp_X = [word for word in temp_X if not word in stopwords] # 불용어 제거\n",
    "    positve.append(temp_X)\n",
    "words_positve = np.hstack(positve)\n",
    "words_positve_count = Counter(words_positve)\n",
    "print(words_positve_count.most_common(200))\n",
    "print(\"==================================================================================================================\")"
   ]
  },
  {
   "cell_type": "code",
   "execution_count": 22,
   "id": "945d201c",
   "metadata": {},
   "outputs": [
    {
     "name": "stdout",
     "output_type": "stream",
     "text": [
      "[('있다', 3364), ('되다', 2516), ('이다', 1694), ('사용', 1569), ('보다', 1520), ('밴드', 1494), ('밉다', 1211), ('수', 1178), ('기능', 1125), ('없다', 982), ('않다', 980), ('좋다', 912), ('되어다', 850), ('적', 818), ('워치', 797), ('화면', 785), ('제품', 700), ('더', 672), ('앱', 667), ('핏', 654), ('배터리', 629), ('설정', 628), ('폰', 603), ('하고', 596), ('받다', 576), ('만', 573), ('측정', 572), ('정도', 568), ('가다', 567), ('자다', 557), ('어메', 515), ('아니다', 507), ('즈', 507), ('충전', 503), ('중', 499), ('가능하다', 495), ('후', 476), ('부분', 476), ('크다', 472), ('해보다', 471), ('일', 470), ('안', 461), ('샤오미', 454), ('생각', 450), ('분', 448), ('나오다', 445), ('쓰다', 444), ('에는', 444), ('늘다', 441), ('페이스', 441), ('면', 434), ('들다', 420), ('운동', 416), ('카메라', 414), ('오다', 402), ('수면', 384), ('알림', 373), ('요', 367), ('보이다', 365), ('구매', 362), ('확인', 347), ('시', 342), ('사진', 338), ('그렇다', 330), ('느낌', 323), ('점', 320), ('지원', 320), ('기본', 314), ('개', 313), ('안되다', 296), ('가격', 294), ('많다', 291), ('많이', 291), ('못', 291), ('라이트', 290), ('홍', 286), ('롬', 286), ('글', 278), ('시계', 278), ('써다', 276), ('때문', 274), ('추가', 271), ('기', 267), ('제공', 266), ('프로', 265), ('위', 264), ('비교', 264), ('미노트', 263), ('서', 260), ('문제', 259), ('경우', 258), ('모드', 258), ('산소', 258), ('리뷰', 257), ('이나', 256), ('에서는', 254), ('해주다', 251), ('통화', 247), ('선택', 247), ('기기', 241), ('너무', 239), ('싶다', 239), ('모르다', 238), ('거', 237), ('디자인', 233), ('케이스', 228), ('전', 228), ('인데', 226), ('누르다', 223), ('상태', 222), ('알다', 219), ('아래', 219), ('차이', 219), ('가지', 218), ('포화', 218), ('이라', 217), ('내', 216), ('어플', 216), ('하나', 215), ('다시', 210), ('데이터', 207), ('장점', 206), ('아쉽다', 205), ('원', 202), ('년', 200), ('스피커', 199), ('올리다', 199), ('게임', 197), ('처음', 197), ('버튼', 197), ('착용', 197), ('작성', 196), ('스트랩', 196), ('연결', 195), ('두', 194), ('처럼', 194), ('설치', 192), ('자동', 191), ('웨어', 188), ('심박수', 186), ('그냥', 184), ('단', 184), ('변경', 183), ('가장', 182), ('쓸다', 182), ('번', 181), ('켜다', 181), ('디스플레이', 181), ('이번', 181), ('바꾸다', 178), ('업데이트', 178), ('성능', 178), ('갤럭시', 175), ('드리다', 174), ('사', 174), ('음악', 174), ('아주', 173), ('느끼다', 172), ('체험', 172), ('정말', 171), ('정보', 171), ('단점', 170), ('포코', 170), ('버전', 169), ('개인', 168), ('뜨다', 167), ('일단', 167), ('없이', 167), ('주다', 166), ('스마트워치', 166), ('들어가다', 165), ('시작', 165), ('에도', 164), ('비', 164), ('휴대폰', 164), ('전화', 163), ('손목', 163), ('기존', 162), ('터치', 160), ('월', 160), ('출시', 159), ('영상', 158), ('센서', 158), ('무상', 158), ('볼', 157), ('메뉴', 157), ('보호', 157), ('표시', 157), ('필름', 156), ('참고', 155), ('해당', 155), ('가볍다', 154), ('후기', 154), ('인식', 152), ('한번', 152), ('박스', 149), ('소리', 149), ('통해', 148), ('구', 148), ('일반', 145)]\n",
      "==================================================================================================================\n"
     ]
    }
   ],
   "source": [
    "# xiaomi\n",
    "positve = []\n",
    "for sentence in df_xiaomi[\"review\"]:\n",
    "    temp_X = okt.morphs(sentence, stem=True) # 토큰화\n",
    "    temp_X = [word for word in temp_X if not word in stopwords] # 불용어 제거\n",
    "    positve.append(temp_X)\n",
    "words_positve = np.hstack(positve)\n",
    "words_positve_count = Counter(words_positve)\n",
    "print(words_positve_count.most_common(200))\n",
    "print(\"==================================================================================================================\")"
   ]
  },
  {
   "cell_type": "code",
   "execution_count": null,
   "id": "af99bd85",
   "metadata": {},
   "outputs": [],
   "source": []
  },
  {
   "cell_type": "code",
   "execution_count": 23,
   "id": "0e50adad",
   "metadata": {},
   "outputs": [
    {
     "name": "stderr",
     "output_type": "stream",
     "text": [
      "C:\\Users\\not14\\anaconda3\\envs\\tf1\\lib\\site-packages\\ipykernel_launcher.py:10: SettingWithCopyWarning: \n",
      "A value is trying to be set on a copy of a slice from a DataFrame\n",
      "\n",
      "See the caveats in the documentation: https://pandas.pydata.org/pandas-docs/stable/user_guide/indexing.html#returning-a-view-versus-a-copy\n",
      "  # Remove the CWD from sys.path while we load stuff.\n",
      "C:\\Users\\not14\\anaconda3\\envs\\tf1\\lib\\site-packages\\ipykernel_launcher.py:11: SettingWithCopyWarning: \n",
      "A value is trying to be set on a copy of a slice from a DataFrame\n",
      "\n",
      "See the caveats in the documentation: https://pandas.pydata.org/pandas-docs/stable/user_guide/indexing.html#returning-a-view-versus-a-copy\n",
      "  # This is added back by InteractiveShellApp.init_path()\n",
      "C:\\Users\\not14\\anaconda3\\envs\\tf1\\lib\\site-packages\\ipykernel_launcher.py:14: FutureWarning: The default value of regex will change from True to False in a future version.\n",
      "  \n",
      "C:\\Users\\not14\\anaconda3\\envs\\tf1\\lib\\site-packages\\ipykernel_launcher.py:15: SettingWithCopyWarning: \n",
      "A value is trying to be set on a copy of a slice from a DataFrame\n",
      "\n",
      "See the caveats in the documentation: https://pandas.pydata.org/pandas-docs/stable/user_guide/indexing.html#returning-a-view-versus-a-copy\n",
      "  from ipykernel import kernelapp as app\n",
      "C:\\Users\\not14\\anaconda3\\envs\\tf1\\lib\\site-packages\\ipykernel_launcher.py:16: FutureWarning: The default value of regex will change from True to False in a future version.\n",
      "  app.launch_new_instance()\n",
      "C:\\Users\\not14\\anaconda3\\envs\\tf1\\lib\\site-packages\\ipykernel_launcher.py:16: SettingWithCopyWarning: \n",
      "A value is trying to be set on a copy of a slice from a DataFrame.\n",
      "Try using .loc[row_indexer,col_indexer] = value instead\n",
      "\n",
      "See the caveats in the documentation: https://pandas.pydata.org/pandas-docs/stable/user_guide/indexing.html#returning-a-view-versus-a-copy\n",
      "  app.launch_new_instance()\n",
      "C:\\Users\\not14\\anaconda3\\envs\\tf1\\lib\\site-packages\\pandas\\core\\series.py:4515: SettingWithCopyWarning: \n",
      "A value is trying to be set on a copy of a slice from a DataFrame\n",
      "\n",
      "See the caveats in the documentation: https://pandas.pydata.org/pandas-docs/stable/user_guide/indexing.html#returning-a-view-versus-a-copy\n",
      "  method=method,\n",
      "C:\\Users\\not14\\anaconda3\\envs\\tf1\\lib\\site-packages\\ipykernel_launcher.py:19: FutureWarning: The default value of regex will change from True to False in a future version.\n",
      "b'Skipping line 276: expected 1 fields, saw 2\\n'\n",
      "C:\\Users\\not14\\anaconda3\\envs\\tf1\\lib\\site-packages\\numpy\\core\\_asarray.py:102: VisibleDeprecationWarning: Creating an ndarray from ragged nested sequences (which is a list-or-tuple of lists-or-tuples-or ndarrays with different lengths or shapes) is deprecated. If you meant to do this, you must specify 'dtype=object' when creating the ndarray.\n",
      "  return array(a, dtype, copy=False, order=order)\n"
     ]
    }
   ],
   "source": [
    "ds_star = pd.read_csv(\"C:/netsong7/pythonwork/AI/finalproject/data cleaning(final)/shopping_ds.csv\")\n",
    "ds_star.drop_duplicates(subset=['type', 'review', 'star'], inplace=True)\n",
    "ds_star[\"label\"] = 0\n",
    "ds_star.loc[ds_star[\"star\"] > 3.5, \"label\"] = 1\n",
    "del ds_star[\"Unnamed: 0\"]\n",
    "ds_star_1_dummy, ds_star_1_train = train_test_split(ds_star[ds_star[\"label\"]==1], test_size=5432, random_state = 42)\n",
    "ds_star_0_train = ds_star[ds_star[\"label\"]==0]\n",
    "ds_star_balance = pd.concat([ds_star_1_train, ds_star_0_train])\n",
    "train_data, test_data = train_test_split(ds_star_balance, test_size=0.3, random_state = 0)\n",
    "train_data.drop_duplicates(subset=[\"review\", \"star\"], inplace=True)\n",
    "test_data.drop_duplicates(subset=[\"review\", \"star\"], inplace=True)\n",
    "train_data.loc[train_data.review.isnull()]\n",
    "train_data = train_data.dropna(how = 'any')\n",
    "train_data['review'] = train_data['review'].str.replace(\"[^ㄱ-ㅎㅏ-ㅣ가-힣 ]\",\"\")\n",
    "test_data.drop_duplicates(subset = ['review'], inplace=True) # 중복 제거\n",
    "test_data['review'] = test_data['review'].str.replace(\"[^ㄱ-ㅎㅏ-ㅣ가-힣 ]\",\"\") # 정규 표현식 수행\n",
    "test_data['review'].replace('', np.nan, inplace=True) # 공백은 Null 값으로 변경\n",
    "test_data = test_data.dropna(how='any') # Null 값 제거\n",
    "train_data['review'] = train_data['review'].str.replace('^ +', \"\")\n",
    "train_data['review'].replace('', np.nan, inplace=True)\n",
    "train_data = train_data.dropna(how = 'any')\n",
    "\n",
    "okt = Okt()\n",
    "#stopwords = ['가','게','고','과','네','는','다','도','들','듯','를','에','와','으로',\n",
    "#             '은','을','의','이','인','임','자','잘','좀','지','하다','한']\n",
    "stopwords = pd.read_table(\"C:/netsong7/pythonwork/AI/stopwords1.txt\", encoding='utf-8-sig', header=None,error_bad_lines=False)\n",
    "stopwords = list(stopwords[0])\n",
    "\n",
    "X_train = []\n",
    "for sentence in train_data['review']:\n",
    "    temp_X = okt.morphs(sentence, stem=True) # 토큰화\n",
    "    temp_X = [word for word in temp_X if not word in stopwords] # 불용어 제거\n",
    "    X_train.append(temp_X)\n",
    "\n",
    "X_test = []\n",
    "for sentence in test_data['review']:\n",
    "    temp_X = okt.morphs(sentence, stem=True) # 토큰화\n",
    "    temp_X = [word for word in temp_X if not word in stopwords] # 불용어 제거\n",
    "    X_test.append(temp_X)\n",
    "    \n",
    "tokenizer = Tokenizer()\n",
    "tokenizer.fit_on_texts(X_train)\n",
    "\n",
    "threshold = 3\n",
    "total_cnt = len(tokenizer.word_index) # 단어의 수\n",
    "rare_cnt = 0 # 등장 빈도수가 threshold보다 작은 단어의 개수를 카운트\n",
    "total_freq = 0 # 훈련 데이터의 전체 단어 빈도수 총 합\n",
    "rare_freq = 0 # 등장 빈도수가 threshold보다 작은 단어의 등장 빈도수의 총 합\n",
    "\n",
    "# 단어와 빈도수의 쌍(pair)을 key와 value로 받는다.\n",
    "for key, value in tokenizer.word_counts.items():\n",
    "    total_freq = total_freq + value\n",
    "\n",
    "    # 단어의 등장 빈도수가 threshold보다 작으면\n",
    "    if(value < threshold):\n",
    "        rare_cnt = rare_cnt + 1\n",
    "        rare_freq = rare_freq + value\n",
    "vocab_size = total_cnt - rare_cnt + 1    \n",
    "\n",
    "tokenizer = Tokenizer(vocab_size) \n",
    "tokenizer.fit_on_texts(X_train)\n",
    "\n",
    "X_train = tokenizer.texts_to_sequences(X_train)\n",
    "X_test = tokenizer.texts_to_sequences(X_test)\n",
    "y_train = np.array(train_data['label'])\n",
    "y_test = np.array(test_data['label'])\n",
    "\n",
    "drop_train = [index for index, sentence in enumerate(X_train) if len(sentence) < 1]\n",
    "X_train = np.delete(X_train, drop_train, axis=0)\n",
    "y_train = np.delete(y_train, drop_train, axis=0)\n",
    "\n",
    "max_len = 100"
   ]
  },
  {
   "cell_type": "code",
   "execution_count": 24,
   "id": "9d382ff7",
   "metadata": {},
   "outputs": [
    {
     "name": "stdout",
     "output_type": "stream",
     "text": [
      "WARNING:tensorflow:From C:\\Users\\not14\\anaconda3\\envs\\tf1\\lib\\site-packages\\tensorflow_core\\python\\ops\\resource_variable_ops.py:1630: calling BaseResourceVariable.__init__ (from tensorflow.python.ops.resource_variable_ops) with constraint is deprecated and will be removed in a future version.\n",
      "Instructions for updating:\n",
      "If using Keras pass *_constraint arguments to layers.\n"
     ]
    },
    {
     "name": "stderr",
     "output_type": "stream",
     "text": [
      "Using TensorFlow backend.\n"
     ]
    },
    {
     "name": "stdout",
     "output_type": "stream",
     "text": [
      "WARNING:tensorflow:From C:\\Users\\not14\\anaconda3\\envs\\tf1\\lib\\site-packages\\tensorflow_core\\python\\ops\\nn_impl.py:183: where (from tensorflow.python.ops.array_ops) is deprecated and will be removed in a future version.\n",
      "Instructions for updating:\n",
      "Use tf.where in 2.0, which has the same broadcast rule as np.where\n",
      "WARNING:tensorflow:From C:\\Users\\not14\\anaconda3\\envs\\tf1\\lib\\site-packages\\keras\\backend\\tensorflow_backend.py:422: The name tf.global_variables is deprecated. Please use tf.compat.v1.global_variables instead.\n",
      "\n"
     ]
    }
   ],
   "source": [
    "from keras.models import load_model\n",
    "model_test = load_model('model_lstm.h5')"
   ]
  },
  {
   "cell_type": "code",
   "execution_count": null,
   "id": "7fb896df",
   "metadata": {},
   "outputs": [],
   "source": []
  },
  {
   "cell_type": "code",
   "execution_count": null,
   "id": "1a0ea4d0",
   "metadata": {},
   "outputs": [],
   "source": []
  },
  {
   "cell_type": "code",
   "execution_count": 26,
   "id": "eaf255a4",
   "metadata": {},
   "outputs": [
    {
     "name": "stdout",
     "output_type": "stream",
     "text": [
      "label    0.000000\n",
      "score    0.207032\n",
      "dtype: float64\n",
      "label    1.000000\n",
      "score    0.863782\n",
      "dtype: float64\n",
      "             label        score\n",
      "count  2250.000000  2250.000000\n",
      "mean      0.658222     0.639320\n",
      "std       0.474411     0.344702\n",
      "min       0.000000     0.002578\n",
      "25%       0.000000     0.318488\n",
      "50%       1.000000     0.768040\n",
      "75%       1.000000     0.961851\n",
      "max       1.000000     0.999201\n",
      "-------------------------------------------------------------------------------------------\n"
     ]
    }
   ],
   "source": [
    "    label = []\n",
    "    score_list = []\n",
    "    for review in df_apple[\"review\"]:\n",
    "        new_sentence = okt.morphs(review) # 토큰화\n",
    "        new_sentence = [word for word in new_sentence if not word in stopwords] # 불용어 제거\n",
    "        encoded = tokenizer.texts_to_sequences([new_sentence]) # 정수 인코딩\n",
    "        pad_new = pad_sequences(encoded, maxlen = 100)\n",
    "        score = float(model_test.predict(pad_new))\n",
    "        if(score > 0.5):\n",
    "            label.append(1)\n",
    "            score_list.append(score)\n",
    "        else:\n",
    "            label.append(0)\n",
    "            score_list.append(score)\n",
    "\n",
    "    xiaomi_score = pd.DataFrame([label, score_list]).T\n",
    "    xiaomi_score.columns = [\"label\", \"score\"]\n",
    "    print(xiaomi_score[xiaomi_score[\"label\"]==0].mean())\n",
    "    print(xiaomi_score[xiaomi_score[\"label\"]==1].mean())\n",
    "    print(xiaomi_score.describe())\n",
    "    print('-------------------------------------------------------------------------------------------')"
   ]
  },
  {
   "cell_type": "code",
   "execution_count": 28,
   "id": "fe78a47b",
   "metadata": {},
   "outputs": [
    {
     "name": "stdout",
     "output_type": "stream",
     "text": [
      "label    0.000000\n",
      "score    0.206288\n",
      "dtype: float64\n",
      "label    1.000000\n",
      "score    0.874746\n",
      "dtype: float64\n",
      "             label        score\n",
      "count  1421.000000  1421.000000\n",
      "mean      0.695285     0.671057\n",
      "std       0.460449     0.338299\n",
      "min       0.000000     0.002628\n",
      "25%       0.000000     0.372983\n",
      "50%       1.000000     0.823559\n",
      "75%       1.000000     0.966880\n",
      "max       1.000000     0.998767\n",
      "-------------------------------------------------------------------------------------------\n"
     ]
    }
   ],
   "source": [
    "    label = []\n",
    "    score_list = []\n",
    "    for review in df_samsung[\"review\"]:\n",
    "        new_sentence = okt.morphs(review) # 토큰화\n",
    "        new_sentence = [word for word in new_sentence if not word in stopwords] # 불용어 제거\n",
    "        encoded = tokenizer.texts_to_sequences([new_sentence]) # 정수 인코딩\n",
    "        pad_new = pad_sequences(encoded, maxlen = 100)\n",
    "        score = float(model_test.predict(pad_new))\n",
    "        if(score > 0.5):\n",
    "            label.append(1)\n",
    "            score_list.append(score)\n",
    "        else:\n",
    "            label.append(0)\n",
    "            score_list.append(score)\n",
    "\n",
    "    xiaomi_score = pd.DataFrame([label, score_list]).T\n",
    "    xiaomi_score.columns = [\"label\", \"score\"]\n",
    "    print(xiaomi_score[xiaomi_score[\"label\"]==0].mean())\n",
    "    print(xiaomi_score[xiaomi_score[\"label\"]==1].mean())\n",
    "    print(xiaomi_score.describe())\n",
    "    print('-------------------------------------------------------------------------------------------')"
   ]
  },
  {
   "cell_type": "code",
   "execution_count": 29,
   "id": "7af5f9c5",
   "metadata": {},
   "outputs": [
    {
     "name": "stdout",
     "output_type": "stream",
     "text": [
      "label    0.000000\n",
      "score    0.198157\n",
      "dtype: float64\n",
      "label    1.000000\n",
      "score    0.901951\n",
      "dtype: float64\n",
      "            label       score\n",
      "count  598.000000  598.000000\n",
      "mean     0.789298    0.753660\n",
      "std      0.408149    0.313595\n",
      "min      0.000000    0.002463\n",
      "25%      1.000000    0.605136\n",
      "50%      1.000000    0.918632\n",
      "75%      1.000000    0.974123\n",
      "max      1.000000    0.998602\n",
      "-------------------------------------------------------------------------------------------\n"
     ]
    }
   ],
   "source": [
    "    label = []\n",
    "    score_list = []\n",
    "    for review in df_xiaomi[\"review\"]:\n",
    "        new_sentence = okt.morphs(review) # 토큰화\n",
    "        new_sentence = [word for word in new_sentence if not word in stopwords] # 불용어 제거\n",
    "        encoded = tokenizer.texts_to_sequences([new_sentence]) # 정수 인코딩\n",
    "        pad_new = pad_sequences(encoded, maxlen = 100)\n",
    "        score = float(model_test.predict(pad_new))\n",
    "        if(score > 0.5):\n",
    "            label.append(1)\n",
    "            score_list.append(score)\n",
    "        else:\n",
    "            label.append(0)\n",
    "            score_list.append(score)\n",
    "\n",
    "    xiaomi_score = pd.DataFrame([label, score_list]).T\n",
    "    xiaomi_score.columns = [\"label\", \"score\"]\n",
    "    print(xiaomi_score[xiaomi_score[\"label\"]==0].mean())\n",
    "    print(xiaomi_score[xiaomi_score[\"label\"]==1].mean())\n",
    "    print(xiaomi_score.describe())\n",
    "    print('-------------------------------------------------------------------------------------------')"
   ]
  },
  {
   "cell_type": "code",
   "execution_count": null,
   "id": "e7ef81d1",
   "metadata": {},
   "outputs": [],
   "source": []
  }
 ],
 "metadata": {
  "kernelspec": {
   "display_name": "Python 3",
   "language": "python",
   "name": "python3"
  },
  "language_info": {
   "codemirror_mode": {
    "name": "ipython",
    "version": 3
   },
   "file_extension": ".py",
   "mimetype": "text/x-python",
   "name": "python",
   "nbconvert_exporter": "python",
   "pygments_lexer": "ipython3",
   "version": "3.7.10"
  }
 },
 "nbformat": 4,
 "nbformat_minor": 5
}
