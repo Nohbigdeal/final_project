{
 "cells": [
  {
   "cell_type": "markdown",
   "id": "41757fdf",
   "metadata": {},
   "source": [
    "# 2. 분류"
   ]
  },
  {
   "cell_type": "code",
   "execution_count": 1,
   "id": "68a27942",
   "metadata": {},
   "outputs": [],
   "source": [
    "import numpy as np\n",
    "import pandas as pd\n",
    "import os\n",
    "from konlpy.tag import Okt\n",
    "from sklearn.feature_extraction.text import TfidfVectorizer\n",
    "from xgboost import XGBClassifier\n",
    "from sklearn.metrics import classification_report\n",
    "from sklearn.metrics import confusion_matrix\n",
    "from sklearn.metrics import plot_confusion_matrix\n",
    "import matplotlib.pyplot as plt\n",
    "import matplotlib.font_manager as fm\n",
    "font_name = fm.FontProperties(fname=\"C:/Windows/Fonts/malgun.ttf\").get_name()\n",
    "plt.rc(\"font\", family=font_name)\n",
    "import matplotlib as mlp\n",
    "mlp.rcParams[\"axes.unicode_minus\"] = False\n",
    "import seaborn as sns\n",
    "plt.style.use(\"fivethirtyeight\")\n",
    "import warnings\n",
    "warnings.filterwarnings(\"ignore\")\n",
    "from sklearn.model_selection import train_test_split\n",
    "from collections import Counter"
   ]
  },
  {
   "cell_type": "code",
   "execution_count": 2,
   "id": "bc990a22",
   "metadata": {},
   "outputs": [],
   "source": [
    "df_youtube = pd.read_csv(\"C:/netsong7/pythonwork/AI/data cleaning(final)/youtubecomment.csv\", encoding='utf-8-sig')\n",
    "df_cafe = pd.read_csv(\"C:/netsong7/pythonwork/AI/data cleaning(final)/navercafe.csv\", encoding='utf-8-sig')\n",
    "df_shopping = pd.read_csv(\"C:/netsong7/pythonwork/AI/data cleaning(final)/navershopping.csv\", encoding='utf-8-sig')"
   ]
  },
  {
   "cell_type": "code",
   "execution_count": 18,
   "id": "b1af82ec",
   "metadata": {},
   "outputs": [],
   "source": [
    "okt = Okt()"
   ]
  },
  {
   "cell_type": "code",
   "execution_count": 21,
   "id": "bfef8b40",
   "metadata": {},
   "outputs": [],
   "source": [
    "stopwords = pd.read_table(\"stopwords.txt\", encoding='utf-8-sig', header=None)\n",
    "stopwords = list(stopwords[0])"
   ]
  },
  {
   "cell_type": "code",
   "execution_count": 22,
   "id": "976e2afe",
   "metadata": {},
   "outputs": [],
   "source": [
    "total_data = df_shopping[[\"review\",\"star\"]]"
   ]
  },
  {
   "cell_type": "code",
   "execution_count": 23,
   "id": "8731b94d",
   "metadata": {},
   "outputs": [],
   "source": [
    "total_data[\"review\"] = list(map(str, list(total_data[\"review\"])))"
   ]
  },
  {
   "cell_type": "code",
   "execution_count": 24,
   "id": "080151da",
   "metadata": {},
   "outputs": [],
   "source": [
    "# df_cafe, df_shopping, df_youtube\n",
    "total_data['tokenized'] = total_data['review'].apply(okt.morphs)\n",
    "total_data['tokenized'] = total_data['tokenized'].apply(lambda x: [item for item in x if item not in stopwords])"
   ]
  },
  {
   "cell_type": "code",
   "execution_count": 25,
   "id": "2bdea83a",
   "metadata": {},
   "outputs": [
    {
     "data": {
      "text/html": [
       "<div>\n",
       "<style scoped>\n",
       "    .dataframe tbody tr th:only-of-type {\n",
       "        vertical-align: middle;\n",
       "    }\n",
       "\n",
       "    .dataframe tbody tr th {\n",
       "        vertical-align: top;\n",
       "    }\n",
       "\n",
       "    .dataframe thead th {\n",
       "        text-align: right;\n",
       "    }\n",
       "</style>\n",
       "<table border=\"1\" class=\"dataframe\">\n",
       "  <thead>\n",
       "    <tr style=\"text-align: right;\">\n",
       "      <th></th>\n",
       "      <th>tokenized</th>\n",
       "      <th>star</th>\n",
       "    </tr>\n",
       "  </thead>\n",
       "  <tbody>\n",
       "    <tr>\n",
       "      <th>0</th>\n",
       "      <td>[말, 그래도, 최고, 입니다, 당일, 배송, 맞구요, 택배, 파업, 늦어질, 줄,...</td>\n",
       "      <td>5</td>\n",
       "    </tr>\n",
       "    <tr>\n",
       "      <th>1</th>\n",
       "      <td>[삼성, 전자, 갤럭시, 워치, 사고, 싶지만, 가격, 대가, 높아서, 망설이던, ...</td>\n",
       "      <td>5</td>\n",
       "    </tr>\n",
       "    <tr>\n",
       "      <th>2</th>\n",
       "      <td>[실, 구매, 원, 구매, 했습니다, 친구, 선물, 로, 사줬는데, 엄청, 좋아하네...</td>\n",
       "      <td>5</td>\n",
       "    </tr>\n",
       "    <tr>\n",
       "      <th>3</th>\n",
       "      <td>[제, 생일, 기념, 해서, 부모님, 께, 각각, 왓치, 하나, 씩, 사, 드렸어요...</td>\n",
       "      <td>5</td>\n",
       "    </tr>\n",
       "    <tr>\n",
       "      <th>4</th>\n",
       "      <td>[화면, 큰, 걸, 로, 하고싶어서, 실버, 로, 구매, 했는데, 손목, 대비, 살...</td>\n",
       "      <td>5</td>\n",
       "    </tr>\n",
       "    <tr>\n",
       "      <th>...</th>\n",
       "      <td>...</td>\n",
       "      <td>...</td>\n",
       "    </tr>\n",
       "    <tr>\n",
       "      <th>13433</th>\n",
       "      <td>[제품, 좋아요, 사용, 하고, 있습니다]</td>\n",
       "      <td>3</td>\n",
       "    </tr>\n",
       "    <tr>\n",
       "      <th>13434</th>\n",
       "      <td>[삼성]</td>\n",
       "      <td>3</td>\n",
       "    </tr>\n",
       "    <tr>\n",
       "      <th>13435</th>\n",
       "      <td>[개인정보, 만, 털린게, 아닌지, 어쨌든, 기대, 해봅니다]</td>\n",
       "      <td>2</td>\n",
       "    </tr>\n",
       "    <tr>\n",
       "      <th>13436</th>\n",
       "      <td>[구, 매, 확정, 하, 래, ㅋㄲㅋ, 증시, 난다]</td>\n",
       "      <td>1</td>\n",
       "    </tr>\n",
       "    <tr>\n",
       "      <th>13437</th>\n",
       "      <td>[진정, 당첨, 되는, 분, 있을까, 좋으시것다, 난, 아니니까, 별, 하나, 만]</td>\n",
       "      <td>1</td>\n",
       "    </tr>\n",
       "  </tbody>\n",
       "</table>\n",
       "<p>13438 rows × 2 columns</p>\n",
       "</div>"
      ],
      "text/plain": [
       "                                               tokenized  star\n",
       "0      [말, 그래도, 최고, 입니다, 당일, 배송, 맞구요, 택배, 파업, 늦어질, 줄,...     5\n",
       "1      [삼성, 전자, 갤럭시, 워치, 사고, 싶지만, 가격, 대가, 높아서, 망설이던, ...     5\n",
       "2      [실, 구매, 원, 구매, 했습니다, 친구, 선물, 로, 사줬는데, 엄청, 좋아하네...     5\n",
       "3      [제, 생일, 기념, 해서, 부모님, 께, 각각, 왓치, 하나, 씩, 사, 드렸어요...     5\n",
       "4      [화면, 큰, 걸, 로, 하고싶어서, 실버, 로, 구매, 했는데, 손목, 대비, 살...     5\n",
       "...                                                  ...   ...\n",
       "13433                            [제품, 좋아요, 사용, 하고, 있습니다]     3\n",
       "13434                                               [삼성]     3\n",
       "13435                 [개인정보, 만, 털린게, 아닌지, 어쨌든, 기대, 해봅니다]     2\n",
       "13436                      [구, 매, 확정, 하, 래, ㅋㄲㅋ, 증시, 난다]     1\n",
       "13437     [진정, 당첨, 되는, 분, 있을까, 좋으시것다, 난, 아니니까, 별, 하나, 만]     1\n",
       "\n",
       "[13438 rows x 2 columns]"
      ]
     },
     "execution_count": 25,
     "metadata": {},
     "output_type": "execute_result"
    }
   ],
   "source": [
    "total_data = total_data[[\"tokenized\",\"star\"]]\n",
    "total_data"
   ]
  },
  {
   "cell_type": "code",
   "execution_count": 102,
   "id": "ff42aa69",
   "metadata": {},
   "outputs": [
    {
     "data": {
      "text/html": [
       "<div>\n",
       "<style scoped>\n",
       "    .dataframe tbody tr th:only-of-type {\n",
       "        vertical-align: middle;\n",
       "    }\n",
       "\n",
       "    .dataframe tbody tr th {\n",
       "        vertical-align: top;\n",
       "    }\n",
       "\n",
       "    .dataframe thead th {\n",
       "        text-align: right;\n",
       "    }\n",
       "</style>\n",
       "<table border=\"1\" class=\"dataframe\">\n",
       "  <thead>\n",
       "    <tr style=\"text-align: right;\">\n",
       "      <th></th>\n",
       "      <th>tokenized</th>\n",
       "      <th>star</th>\n",
       "      <th>label</th>\n",
       "    </tr>\n",
       "  </thead>\n",
       "  <tbody>\n",
       "    <tr>\n",
       "      <th>0</th>\n",
       "      <td>[말, 그래도, 최고, 입니다, 당일, 배송, 맞구요, 택배, 파업, 늦어질, 줄,...</td>\n",
       "      <td>5</td>\n",
       "      <td>1</td>\n",
       "    </tr>\n",
       "    <tr>\n",
       "      <th>1</th>\n",
       "      <td>[삼성, 전자, 갤럭시, 워치, 사고, 싶지만, 가격, 대가, 높아서, 망설이던, ...</td>\n",
       "      <td>5</td>\n",
       "      <td>1</td>\n",
       "    </tr>\n",
       "    <tr>\n",
       "      <th>2</th>\n",
       "      <td>[실, 구매, 원, 구매, 했습니다, 친구, 선물, 로, 사줬는데, 엄청, 좋아하네...</td>\n",
       "      <td>5</td>\n",
       "      <td>1</td>\n",
       "    </tr>\n",
       "    <tr>\n",
       "      <th>3</th>\n",
       "      <td>[제, 생일, 기념, 해서, 부모님, 께, 각각, 왓치, 하나, 씩, 사, 드렸어요...</td>\n",
       "      <td>5</td>\n",
       "      <td>1</td>\n",
       "    </tr>\n",
       "    <tr>\n",
       "      <th>4</th>\n",
       "      <td>[화면, 큰, 걸, 로, 하고싶어서, 실버, 로, 구매, 했는데, 손목, 대비, 살...</td>\n",
       "      <td>5</td>\n",
       "      <td>1</td>\n",
       "    </tr>\n",
       "    <tr>\n",
       "      <th>...</th>\n",
       "      <td>...</td>\n",
       "      <td>...</td>\n",
       "      <td>...</td>\n",
       "    </tr>\n",
       "    <tr>\n",
       "      <th>13433</th>\n",
       "      <td>[제품, 좋아요, 사용, 하고, 있습니다]</td>\n",
       "      <td>3</td>\n",
       "      <td>0</td>\n",
       "    </tr>\n",
       "    <tr>\n",
       "      <th>13434</th>\n",
       "      <td>[삼성]</td>\n",
       "      <td>3</td>\n",
       "      <td>0</td>\n",
       "    </tr>\n",
       "    <tr>\n",
       "      <th>13435</th>\n",
       "      <td>[개인정보, 만, 털린게, 아닌지, 어쨌든, 기대, 해봅니다]</td>\n",
       "      <td>2</td>\n",
       "      <td>0</td>\n",
       "    </tr>\n",
       "    <tr>\n",
       "      <th>13436</th>\n",
       "      <td>[구, 매, 확정, 하, 래, ㅋㄲㅋ, 증시, 난다]</td>\n",
       "      <td>1</td>\n",
       "      <td>0</td>\n",
       "    </tr>\n",
       "    <tr>\n",
       "      <th>13437</th>\n",
       "      <td>[진정, 당첨, 되는, 분, 있을까, 좋으시것다, 난, 아니니까, 별, 하나, 만]</td>\n",
       "      <td>1</td>\n",
       "      <td>0</td>\n",
       "    </tr>\n",
       "  </tbody>\n",
       "</table>\n",
       "<p>13438 rows × 3 columns</p>\n",
       "</div>"
      ],
      "text/plain": [
       "                                               tokenized  star  label\n",
       "0      [말, 그래도, 최고, 입니다, 당일, 배송, 맞구요, 택배, 파업, 늦어질, 줄,...     5      1\n",
       "1      [삼성, 전자, 갤럭시, 워치, 사고, 싶지만, 가격, 대가, 높아서, 망설이던, ...     5      1\n",
       "2      [실, 구매, 원, 구매, 했습니다, 친구, 선물, 로, 사줬는데, 엄청, 좋아하네...     5      1\n",
       "3      [제, 생일, 기념, 해서, 부모님, 께, 각각, 왓치, 하나, 씩, 사, 드렸어요...     5      1\n",
       "4      [화면, 큰, 걸, 로, 하고싶어서, 실버, 로, 구매, 했는데, 손목, 대비, 살...     5      1\n",
       "...                                                  ...   ...    ...\n",
       "13433                            [제품, 좋아요, 사용, 하고, 있습니다]     3      0\n",
       "13434                                               [삼성]     3      0\n",
       "13435                 [개인정보, 만, 털린게, 아닌지, 어쨌든, 기대, 해봅니다]     2      0\n",
       "13436                      [구, 매, 확정, 하, 래, ㅋㄲㅋ, 증시, 난다]     1      0\n",
       "13437     [진정, 당첨, 되는, 분, 있을까, 좋으시것다, 난, 아니니까, 별, 하나, 만]     1      0\n",
       "\n",
       "[13438 rows x 3 columns]"
      ]
     },
     "execution_count": 102,
     "metadata": {},
     "output_type": "execute_result"
    }
   ],
   "source": [
    "total_data['label'] = np.select([total_data.star > 4], [1], default=0)\n",
    "total_data"
   ]
  },
  {
   "cell_type": "code",
   "execution_count": 26,
   "id": "7373a645",
   "metadata": {},
   "outputs": [
    {
     "name": "stdout",
     "output_type": "stream",
     "text": [
      "훈련용 리뷰의 개수 : 10750\n",
      "테스트용 리뷰의 개수 : 2688\n"
     ]
    }
   ],
   "source": [
    "train_data, test_data = train_test_split(total_data, test_size=0.2, random_state=0)\n",
    "print('훈련용 리뷰의 개수 :', len(train_data))\n",
    "print('테스트용 리뷰의 개수 :', len(test_data))"
   ]
  },
  {
   "cell_type": "code",
   "execution_count": 55,
   "id": "6fccc320",
   "metadata": {},
   "outputs": [
    {
     "data": {
      "text/plain": [
       "array([3, 5, 4, 1, 2], dtype=int64)"
      ]
     },
     "execution_count": 55,
     "metadata": {},
     "output_type": "execute_result"
    }
   ],
   "source": [
    "train_data[\"star\"].unique()"
   ]
  },
  {
   "cell_type": "code",
   "execution_count": 27,
   "id": "4eb5541e",
   "metadata": {},
   "outputs": [],
   "source": [
    "words_1 = np.hstack(train_data[train_data[\"star\"] == 1]['tokenized'].values)\n",
    "words_2 = np.hstack(train_data[train_data[\"star\"] == 2]['tokenized'].values)\n",
    "words_3 = np.hstack(train_data[train_data[\"star\"] == 3]['tokenized'].values)\n",
    "words_4 = np.hstack(train_data[train_data[\"star\"] == 4]['tokenized'].values)\n",
    "words_5 = np.hstack(train_data[train_data[\"star\"] == 5]['tokenized'].values)"
   ]
  },
  {
   "cell_type": "code",
   "execution_count": 28,
   "id": "b90bc036",
   "metadata": {},
   "outputs": [
    {
     "name": "stdout",
     "output_type": "stream",
     "text": [
      "[('센터', 279), ('배송', 259), ('안', 247), ('제품', 246), ('서비스', 234), ('불량', 182), ('로', 166), ('하고', 164), ('에서', 162), ('구매', 144), ('요', 137), ('일', 134), ('상품', 122), ('교환', 117), ('삼성', 115), ('판매', 114), ('반품', 111), ('했는데', 108), ('만', 103), ('해서', 98)]\n",
      "==================================================================================\n",
      "[('배송', 126), ('센터', 115), ('제품', 108), ('서비스', 91), ('안', 89), ('불량', 75), ('너무', 75), ('로', 62), ('사용', 61), ('에서', 56), ('구매', 56), ('요', 54), ('교환', 53), ('하고', 53), ('해서', 46), ('때', 45), ('것', 44), ('귀', 43), ('일', 42), ('이어폰', 41)]\n",
      "==================================================================================\n",
      "[('배송', 480), ('사용', 284), ('제품', 273), ('안', 226), ('로', 192), ('구매', 192), ('요', 182), ('너무', 182), ('좋아요', 175), ('것', 167), ('센터', 159), ('했는데', 157), ('하고', 144), ('음질', 144), ('에서', 143), ('가격', 141), ('서비스', 136), ('생각', 133), ('더', 130), ('때', 130)]\n",
      "==================================================================================\n",
      "[('배송', 1135), ('사용', 973), ('로', 756), ('구매', 626), ('너무', 623), ('제품', 570), ('것', 570), ('버즈', 529), ('좋아요', 523), ('안', 496), ('하고', 460), ('때', 451), ('에서', 442), ('더', 423), ('음질', 420), ('보다', 418), ('요', 413), ('했는데', 411), ('생각', 405), ('기능', 365)]\n",
      "==================================================================================\n",
      "[('사용', 2780), ('로', 2401), ('너무', 2185), ('배송', 2090), ('구매', 2041), ('것', 1878), ('노트북', 1696), ('버즈', 1581), ('에서', 1453), ('제품', 1409), ('하고', 1354), ('갤럭시', 1236), ('할', 1187), ('생각', 1153), ('했는데', 1146), ('때', 1105), ('기능', 1091), ('더', 1080), ('프로', 1060), ('제', 1015)]\n"
     ]
    }
   ],
   "source": [
    "words_1_count = Counter(words_1)\n",
    "print(words_1_count.most_common(20))\n",
    "print(\"==================================================================================\")\n",
    "words_2_count = Counter(words_2)\n",
    "print(words_2_count.most_common(20))\n",
    "print(\"==================================================================================\")\n",
    "words_3_count = Counter(words_3)\n",
    "print(words_3_count.most_common(20))\n",
    "print(\"==================================================================================\")\n",
    "words_4_count = Counter(words_4)\n",
    "print(words_4_count.most_common(20))\n",
    "print(\"==================================================================================\")\n",
    "words_5_count = Counter(words_5)\n",
    "print(words_5_count.most_common(20))"
   ]
  },
  {
   "cell_type": "code",
   "execution_count": 29,
   "id": "f89e3a3e",
   "metadata": {},
   "outputs": [
    {
     "name": "stdout",
     "output_type": "stream",
     "text": [
      "1점 리뷰의 평균 길이 : 34.569940476190474\n",
      "2점 리뷰의 평균 길이 : 25.935897435897434\n",
      "3점 리뷰의 평균 길이 : 20.27255985267035\n",
      "4점 리뷰의 평균 길이 : 29.775\n",
      "5점 리뷰의 평균 길이 : 56.67841316733488\n"
     ]
    },
    {
     "data": {
      "image/png": "[encoded data removed]",
      "text/plain": [
       "<Figure size 1440x360 with 5 Axes>"
      ]
     },
     "metadata": {},
     "output_type": "display_data"
    }
   ],
   "source": [
    "fig,(ax1,ax2,ax3,ax4,ax5) = plt.subplots(1,5,figsize=(20,5))\n",
    "text_len = train_data[train_data['star']==1]['tokenized'].map(lambda x: len(x))\n",
    "ax1.hist(text_len, color='red')\n",
    "ax1.set_title('Positive Reviews')\n",
    "ax1.set_xlabel('length of samples')\n",
    "ax1.set_ylabel('number of samples')\n",
    "print('1점 리뷰의 평균 길이 :', np.mean(text_len))\n",
    "\n",
    "text_len = train_data[train_data['star']==2]['tokenized'].map(lambda x: len(x))\n",
    "ax2.hist(text_len, color='blue')\n",
    "ax2.set_title('Negative Reviews')\n",
    "fig.suptitle('Words in texts')\n",
    "ax2.set_xlabel('length of samples')\n",
    "ax2.set_ylabel('number of samples')\n",
    "print('2점 리뷰의 평균 길이 :', np.mean(text_len))\n",
    "\n",
    "text_len = train_data[train_data['star']==3]['tokenized'].map(lambda x: len(x))\n",
    "ax3.hist(text_len, color='blue')\n",
    "ax3.set_title('Negative Reviews')\n",
    "fig.suptitle('Words in texts')\n",
    "ax3.set_xlabel('length of samples')\n",
    "ax3.set_ylabel('number of samples')\n",
    "print('3점 리뷰의 평균 길이 :', np.mean(text_len))\n",
    "\n",
    "text_len = train_data[train_data['star']==4]['tokenized'].map(lambda x: len(x))\n",
    "ax4.hist(text_len, color='blue')\n",
    "ax4.set_title('Negative Reviews')\n",
    "fig.suptitle('Words in texts')\n",
    "ax4.set_xlabel('length of samples')\n",
    "ax4.set_ylabel('number of samples')\n",
    "print('4점 리뷰의 평균 길이 :', np.mean(text_len))\n",
    "\n",
    "text_len = train_data[train_data['star']==5]['tokenized'].map(lambda x: len(x))\n",
    "ax5.hist(text_len, color='blue')\n",
    "ax5.set_title('Negative Reviews')\n",
    "fig.suptitle('Words in texts')\n",
    "ax5.set_xlabel('length of samples')\n",
    "ax5.set_ylabel('number of samples')\n",
    "print('5점 리뷰의 평균 길이 :', np.mean(text_len))\n",
    "plt.show()"
   ]
  },
  {
   "cell_type": "code",
   "execution_count": 30,
   "id": "feacc407",
   "metadata": {},
   "outputs": [],
   "source": [
    "X_train = train_data['tokenized'].values\n",
    "y_train = train_data['star'].values\n",
    "X_test= test_data['tokenized'].values\n",
    "y_test = test_data['star'].values"
   ]
  },
  {
   "cell_type": "code",
   "execution_count": 31,
   "id": "f347d674",
   "metadata": {},
   "outputs": [],
   "source": [
    "from tensorflow.keras.preprocessing.text import Tokenizer\n",
    "from tensorflow.keras.preprocessing.sequence import pad_sequences\n",
    "tokenizer = Tokenizer()\n",
    "tokenizer.fit_on_texts(X_train)"
   ]
  },
  {
   "cell_type": "code",
   "execution_count": 32,
   "id": "4647282f",
   "metadata": {},
   "outputs": [
    {
     "name": "stdout",
     "output_type": "stream",
     "text": [
      "단어 집합(vocabulary)의 크기 : 29907\n",
      "등장 빈도가 1번 이하인 희귀 단어의 수: 14879\n",
      "단어 집합에서 희귀 단어의 비율: 49.7508944394289\n",
      "전체 등장 빈도에서 희귀 단어 등장 빈도 비율: 3.42974768453421\n"
     ]
    }
   ],
   "source": [
    "threshold = 2\n",
    "total_cnt = len(tokenizer.word_index) # 단어의 수\n",
    "rare_cnt = 0 # 등장 빈도수가 threshold보다 작은 단어의 개수를 카운트\n",
    "total_freq = 0 # 훈련 데이터의 전체 단어 빈도수 총 합\n",
    "rare_freq = 0 # 등장 빈도수가 threshold보다 작은 단어의 등장 빈도수의 총 합\n",
    "\n",
    "# 단어와 빈도수의 쌍(pair)을 key와 value로 받는다.\n",
    "for key, value in tokenizer.word_counts.items():\n",
    "    total_freq = total_freq + value\n",
    "\n",
    "    # 단어의 등장 빈도수가 threshold보다 작으면\n",
    "    if(value < threshold):\n",
    "        rare_cnt = rare_cnt + 1\n",
    "        rare_freq = rare_freq + value\n",
    "\n",
    "print('단어 집합(vocabulary)의 크기 :',total_cnt)\n",
    "print('등장 빈도가 %s번 이하인 희귀 단어의 수: %s'%(threshold - 1, rare_cnt))\n",
    "print(\"단어 집합에서 희귀 단어의 비율:\", (rare_cnt / total_cnt)*100)\n",
    "print(\"전체 등장 빈도에서 희귀 단어 등장 빈도 비율:\", (rare_freq / total_freq)*100)"
   ]
  },
  {
   "cell_type": "code",
   "execution_count": 33,
   "id": "54c350e2",
   "metadata": {},
   "outputs": [
    {
     "name": "stdout",
     "output_type": "stream",
     "text": [
      "단어 집합의 크기 : 15030\n"
     ]
    }
   ],
   "source": [
    "vocab_size = total_cnt - rare_cnt + 2\n",
    "print('단어 집합의 크기 :',vocab_size)"
   ]
  },
  {
   "cell_type": "code",
   "execution_count": 34,
   "id": "75c4b44c",
   "metadata": {},
   "outputs": [],
   "source": [
    "tokenizer = Tokenizer(vocab_size, oov_token = 'OOV') \n",
    "tokenizer.fit_on_texts(X_train)\n",
    "X_train = tokenizer.texts_to_sequences(X_train)\n",
    "X_test = tokenizer.texts_to_sequences(X_test)"
   ]
  },
  {
   "cell_type": "code",
   "execution_count": 35,
   "id": "30017b90",
   "metadata": {},
   "outputs": [
    {
     "name": "stdout",
     "output_type": "stream",
     "text": [
      "리뷰의 최대 길이 : 1242\n",
      "리뷰의 평균 길이 : 40.35553488372093\n"
     ]
    },
    {
     "data": {
      "image/png": "[encoded data removed]",
      "text/plain": [
       "<Figure size 432x288 with 1 Axes>"
      ]
     },
     "metadata": {},
     "output_type": "display_data"
    }
   ],
   "source": [
    "print('리뷰의 최대 길이 :',max(len(l) for l in X_train))\n",
    "print('리뷰의 평균 길이 :',sum(map(len, X_train))/len(X_train))\n",
    "plt.hist([len(s) for s in X_train], bins=50)\n",
    "plt.xlabel('length of samples')\n",
    "plt.ylabel('number of samples')\n",
    "plt.show()"
   ]
  },
  {
   "cell_type": "code",
   "execution_count": 36,
   "id": "183c4f09",
   "metadata": {},
   "outputs": [],
   "source": [
    "def below_threshold_len(max_len, nested_list):\n",
    "    cnt = 0\n",
    "    for s in nested_list:\n",
    "        if(len(s) <= max_len):\n",
    "            cnt = cnt + 1\n",
    "    print('전체 샘플 중 길이가 %s 이하인 샘플의 비율: %s'%(max_len, (cnt / len(nested_list))*100))\n"
   ]
  },
  {
   "cell_type": "code",
   "execution_count": 37,
   "id": "add0da75",
   "metadata": {},
   "outputs": [
    {
     "name": "stdout",
     "output_type": "stream",
     "text": [
      "전체 샘플 중 길이가 500 이하인 샘플의 비율: 99.86046511627907\n"
     ]
    }
   ],
   "source": [
    "max_len = 500\n",
    "below_threshold_len(max_len, X_train)"
   ]
  },
  {
   "cell_type": "code",
   "execution_count": 38,
   "id": "5a09797c",
   "metadata": {},
   "outputs": [],
   "source": [
    "X_train = pad_sequences(X_train, maxlen = max_len)\n",
    "X_test = pad_sequences(X_test, maxlen = max_len)"
   ]
  },
  {
   "cell_type": "code",
   "execution_count": 45,
   "id": "dfdeb6f5",
   "metadata": {},
   "outputs": [
    {
     "name": "stdout",
     "output_type": "stream",
     "text": [
      "(10750, 500)\n",
      "(2688, 500)\n",
      "(10750,)\n",
      "(2688,)\n"
     ]
    }
   ],
   "source": [
    "print(X_train.shape)\n",
    "print(X_test.shape)\n",
    "print(y_train.shape)\n",
    "print(y_test.shape)\n"
   ]
  },
  {
   "cell_type": "code",
   "execution_count": 75,
   "id": "f200ac36",
   "metadata": {},
   "outputs": [
    {
     "name": "stdout",
     "output_type": "stream",
     "text": [
      "(10750, 500, 1)\n",
      "(2688, 500, 1)\n",
      "(10750, 6)\n",
      "(2688, 6)\n"
     ]
    }
   ],
   "source": [
    "from keras.utils import to_categorical\n",
    "X_train = X_train.reshape(X_train.shape[0], X_train.shape[1], 1)\n",
    "print(X_train.shape)\n",
    "\n",
    "X_test = X_test.reshape(X_test.shape[0], X_test.shape[1], 1)\n",
    "print(X_test.shape)\n",
    "\n",
    "y_data = np.concatenate((y_train, y_test))\n",
    "y_data = to_categorical(y_data)\n",
    "y_data\n",
    "\n",
    "y_train = y_data[:10750]\n",
    "y_test = y_data[10750:]\n",
    "\n",
    "print(y_train.shape)\n",
    "print(y_test.shape)"
   ]
  },
  {
   "cell_type": "code",
   "execution_count": 83,
   "id": "55914161",
   "metadata": {},
   "outputs": [],
   "source": [
    "from keras.layers import SimpleRNN\n",
    "import keras\n",
    "from keras.models import Sequential, load_model\n",
    "from keras.layers.core import Dense\n",
    "from keras.optimizers import RMSprop, Adam, SGD\n",
    "from keras.utils import np_utils\n",
    "from keras.callbacks import EarlyStopping\n",
    "from keras.wrappers.scikit_learn import KerasClassifier"
   ]
  },
  {
   "cell_type": "code",
   "execution_count": null,
   "id": "269f9e75",
   "metadata": {},
   "outputs": [],
   "source": [
    "# model = Sequential()\n",
    "# model.add(Dense(64, input_dim=(500,1), activation=\"relu\"))\n",
    "# model.add(Dense(64, activation=\"relu\"))\n",
    "# model.add(Dense(6, activation=\"softmax\"))\n",
    "\n",
    "# model.compile(loss=\"categorical_crossentropy\", optimizer=Adam(lr=0.001), metrics=[\"accuracy\"])\n",
    "\n",
    "# model.summary()\n",
    "\n",
    "# model.fit(X_train, y_train, epochs=15, batch_size=32)"
   ]
  },
  {
   "cell_type": "code",
   "execution_count": 91,
   "id": "1ffb1719",
   "metadata": {},
   "outputs": [],
   "source": [
    "def vanilla_rnn():\n",
    "    model = Sequential()\n",
    "    model.add(SimpleRNN(units=50, input_shape=(500, 1), return_sequences=False))\n",
    "    model.add(Dense(6, activation=\"softmax\"))\n",
    "    \n",
    "    model.compile(loss=\"categorical_crossentropy\", optimizer=Adam(lr=0.001), metrics=[\"accuracy\"])\n",
    "    \n",
    "    return model"
   ]
  },
  {
   "cell_type": "code",
   "execution_count": 92,
   "id": "1f1ab32c",
   "metadata": {},
   "outputs": [
    {
     "name": "stdout",
     "output_type": "stream",
     "text": [
      "Epoch 1/20\n",
      "10750/10750 [==============================] - 16s 1ms/step - loss: 1.3484 - accuracy: 0.4359\n",
      "Epoch 2/20\n",
      "10750/10750 [==============================] - 16s 2ms/step - loss: 1.3005 - accuracy: 0.4388\n",
      "Epoch 3/20\n",
      "10750/10750 [==============================] - 18s 2ms/step - loss: 1.2973 - accuracy: 0.4371\n",
      "Epoch 4/20\n",
      "10750/10750 [==============================] - 17s 2ms/step - loss: 1.2951 - accuracy: 0.4384\n",
      "Epoch 5/20\n",
      "10750/10750 [==============================] - 17s 2ms/step - loss: 1.2936 - accuracy: 0.4394\n",
      "Epoch 6/20\n",
      "10750/10750 [==============================] - 17s 2ms/step - loss: 1.2947 - accuracy: 0.4388\n",
      "Epoch 7/20\n",
      "10750/10750 [==============================] - 17s 2ms/step - loss: 1.2924 - accuracy: 0.4396\n",
      "Epoch 8/20\n",
      "10750/10750 [==============================] - 17s 2ms/step - loss: 1.2914 - accuracy: 0.4397\n",
      "Epoch 9/20\n",
      "10750/10750 [==============================] - 17s 2ms/step - loss: 1.2934 - accuracy: 0.4393\n",
      "Epoch 10/20\n",
      "10750/10750 [==============================] - 18s 2ms/step - loss: 1.2916 - accuracy: 0.4403\n",
      "Epoch 11/20\n",
      "10750/10750 [==============================] - 18s 2ms/step - loss: 1.2914 - accuracy: 0.4413\n",
      "Epoch 12/20\n",
      "10750/10750 [==============================] - 17s 2ms/step - loss: 1.2920 - accuracy: 0.4404\n",
      "Epoch 13/20\n",
      "10750/10750 [==============================] - 17s 2ms/step - loss: 1.2923 - accuracy: 0.4419\n",
      "Epoch 14/20\n",
      "10750/10750 [==============================] - 17s 2ms/step - loss: 1.2927 - accuracy: 0.4404\n",
      "Epoch 15/20\n",
      "10750/10750 [==============================] - 18s 2ms/step - loss: 1.2910 - accuracy: 0.4402\n",
      "Epoch 16/20\n",
      "10750/10750 [==============================] - 17s 2ms/step - loss: 1.2915 - accuracy: 0.4390\n",
      "Epoch 17/20\n",
      "10750/10750 [==============================] - 20s 2ms/step - loss: 1.2904 - accuracy: 0.4397\n",
      "Epoch 18/20\n",
      "10750/10750 [==============================] - 17s 2ms/step - loss: 1.2921 - accuracy: 0.4393\n",
      "Epoch 19/20\n",
      "10750/10750 [==============================] - 16s 2ms/step - loss: 1.2897 - accuracy: 0.4410\n",
      "Epoch 20/20\n",
      "10750/10750 [==============================] - 16s 2ms/step - loss: 1.2911 - accuracy: 0.4412\n"
     ]
    },
    {
     "data": {
      "text/plain": [
       "<keras.callbacks.callbacks.History at 0x1b17ea7fbc8>"
      ]
     },
     "execution_count": 92,
     "metadata": {},
     "output_type": "execute_result"
    }
   ],
   "source": [
    "model = KerasClassifier(build_fn=vanilla_rnn, epochs=20, batch_size=50, verbose=1)\n",
    "model.fit(X_train, y_train) # loss: 0.8624 - accuracy: 0.7405"
   ]
  },
  {
   "cell_type": "code",
   "execution_count": 93,
   "id": "980a0a6a",
   "metadata": {},
   "outputs": [
    {
     "name": "stdout",
     "output_type": "stream",
     "text": [
      "2688/2688 [==============================] - 1s 487us/step\n",
      "0.4337797619047619\n"
     ]
    }
   ],
   "source": [
    "from sklearn.metrics import accuracy_score\n",
    "\n",
    "y_pred = model.predict(X_test)\n",
    "y_test_ = np.argmax(y_test, axis=1)\n",
    "print(accuracy_score(y_pred, y_test_))"
   ]
  },
  {
   "cell_type": "code",
   "execution_count": 94,
   "id": "9dd23707",
   "metadata": {},
   "outputs": [
    {
     "name": "stdout",
     "output_type": "stream",
     "text": [
      "Epoch 1/10\n",
      "10750/10750 [==============================] - 36s 3ms/step - loss: 1.3081 - accuracy: 0.4438\n",
      "Epoch 2/10\n",
      "10750/10750 [==============================] - 38s 3ms/step - loss: 1.2880 - accuracy: 0.4475\n",
      "Epoch 3/10\n",
      "10750/10750 [==============================] - 37s 3ms/step - loss: 1.2654 - accuracy: 0.4587\n",
      "Epoch 4/10\n",
      "10750/10750 [==============================] - 38s 4ms/step - loss: 1.2684 - accuracy: 0.4588\n",
      "Epoch 5/10\n",
      "10750/10750 [==============================] - 37s 3ms/step - loss: 1.2521 - accuracy: 0.4612\n",
      "Epoch 6/10\n",
      "10750/10750 [==============================] - 38s 4ms/step - loss: 1.2476 - accuracy: 0.4671\n",
      "Epoch 7/10\n",
      "10750/10750 [==============================] - 40s 4ms/step - loss: 1.2401 - accuracy: 0.4687\n",
      "Epoch 8/10\n",
      "10750/10750 [==============================] - 37s 3ms/step - loss: 1.2384 - accuracy: 0.4624\n",
      "Epoch 9/10\n",
      "10750/10750 [==============================] - 36s 3ms/step - loss: 1.2450 - accuracy: 0.4660\n",
      "Epoch 10/10\n",
      "10750/10750 [==============================] - 36s 3ms/step - loss: 1.2318 - accuracy: 0.4710\n",
      "2688/2688 [==============================] - 3s 1ms/step\n",
      "0.45014880952380953\n"
     ]
    }
   ],
   "source": [
    "def stacked_vanilla_rnn():\n",
    "    model = Sequential()\n",
    "    model.add(SimpleRNN(units=50, input_shape=(500, 1), return_sequences=True))\n",
    "    model.add(SimpleRNN(units=50, return_sequences=False))\n",
    "    model.add(Dense(6, activation=\"softmax\"))\n",
    "    \n",
    "    model.compile(loss=\"categorical_crossentropy\", optimizer=Adam(lr=0.001), metrics=[\"accuracy\"])\n",
    "    \n",
    "    return model\n",
    "model = KerasClassifier(build_fn=stacked_vanilla_rnn, epochs=10, batch_size=50, verbose=1)\n",
    "model.fit(X_train, y_train) # loss: 0.8624 - accuracy: 0.7405\n",
    "\n",
    "y_pred = model.predict(X_test)\n",
    "y_test_ = np.argmax(y_test, axis=1)\n",
    "print(accuracy_score(y_pred, y_test_))"
   ]
  },
  {
   "cell_type": "code",
   "execution_count": 99,
   "id": "dd555f92",
   "metadata": {},
   "outputs": [
    {
     "name": "stdout",
     "output_type": "stream",
     "text": [
      "WARNING:tensorflow:From C:\\Users\\not14\\anaconda3\\envs\\tf1\\lib\\site-packages\\keras\\backend\\tensorflow_backend.py:4070: The name tf.nn.max_pool is deprecated. Please use tf.nn.max_pool2d instead.\n",
      "\n",
      "Downloading data from https://github.com/fchollet/deep-learning-models/releases/download/v0.2/resnet50_weights_tf_dim_ordering_tf_kernels_notop.h5\n",
      "94658560/94653016 [==============================] - 106s 1us/step\n"
     ]
    }
   ],
   "source": [
    "from keras.layers import *\n",
    "from keras.models import Sequential\n",
    "from keras.applications.resnet50 import ResNet50\n",
    "\n",
    "CLASS_COUNT = 10\n",
    "\n",
    "base_model = ResNet50(\n",
    "    weights='imagenet',\n",
    "    include_top=False, \n",
    "    input_shape=(224, 224, 3), \n",
    "    pooling='avg',\n",
    ")\n",
    "base_model.trainable = False\n",
    "\n",
    "model = Sequential([\n",
    "  base_model,\n",
    "  Dense(CLASS_COUNT, activation='softmax'),\n",
    "])"
   ]
  },
  {
   "cell_type": "code",
   "execution_count": 100,
   "id": "7b8f2db2",
   "metadata": {},
   "outputs": [
    {
     "name": "stdout",
     "output_type": "stream",
     "text": [
      "Epoch 1/10\n",
      "10750/10750 [==============================] - 50s 5ms/step - loss: 1.3278 - accuracy: 0.4376\n",
      "Epoch 2/10\n",
      "10750/10750 [==============================] - 52s 5ms/step - loss: 1.2328 - accuracy: 0.4636\n",
      "Epoch 3/10\n",
      "10750/10750 [==============================] - 52s 5ms/step - loss: 1.2239 - accuracy: 0.4655\n",
      "Epoch 4/10\n",
      "10750/10750 [==============================] - 53s 5ms/step - loss: 1.2200 - accuracy: 0.4683\n",
      "Epoch 5/10\n",
      "10750/10750 [==============================] - 54s 5ms/step - loss: 1.2176 - accuracy: 0.4650\n",
      "Epoch 6/10\n",
      "10750/10750 [==============================] - 52s 5ms/step - loss: 1.2145 - accuracy: 0.4705\n",
      "Epoch 7/10\n",
      "10750/10750 [==============================] - 53s 5ms/step - loss: 1.2132 - accuracy: 0.4714\n",
      "Epoch 8/10\n",
      "10750/10750 [==============================] - 55s 5ms/step - loss: 1.2092 - accuracy: 0.4706\n",
      "Epoch 9/10\n",
      "10750/10750 [==============================] - 53s 5ms/step - loss: 1.2056 - accuracy: 0.4729\n",
      "Epoch 10/10\n",
      "10750/10750 [==============================] - 53s 5ms/step - loss: 1.2021 - accuracy: 0.4737\n",
      "2688/2688 [==============================] - 4s 2ms/step\n",
      "0.4654017857142857\n"
     ]
    }
   ],
   "source": [
    "def lstm_rnn():\n",
    "    model = Sequential()\n",
    "    model.add(LSTM(units=50, input_shape=(500, 1), return_sequences=False))\n",
    "    model.add(Dense(6, activation=\"softmax\"))\n",
    "    \n",
    "    model.compile(loss=\"categorical_crossentropy\", optimizer=Adam(lr=0.001), metrics=[\"accuracy\"])\n",
    "    \n",
    "    return model\n",
    "\n",
    "model = KerasClassifier(build_fn=lstm_rnn, epochs=10, batch_size=50, verbose=1)\n",
    "model.fit(X_train, y_train) # loss: 0.8624 - accuracy: 0.7405\n",
    "\n",
    "y_pred = model.predict(X_test)\n",
    "y_test_ = np.argmax(y_test, axis=1)\n",
    "print(accuracy_score(y_pred, y_test_))"
   ]
  },
  {
   "cell_type": "code",
   "execution_count": 101,
   "id": "e8c3f96c",
   "metadata": {},
   "outputs": [
    {
     "name": "stdout",
     "output_type": "stream",
     "text": [
      "[[  2   0   2  93  93]\n",
      " [  0   0   3  52  46]\n",
      " [  1   0   8 240 186]\n",
      " [  1   0   6 337 444]\n",
      " [  2   0   4 264 904]]\n"
     ]
    },
    {
     "data": {
      "image/png": "[encoded data removed]",
      "text/plain": [
       "<Figure size 360x360 with 2 Axes>"
      ]
     },
     "metadata": {},
     "output_type": "display_data"
    }
   ],
   "source": [
    "# confusion matrix\n",
    "\n",
    "from sklearn.metrics import confusion_matrix\n",
    "from sklearn.metrics import plot_confusion_matrix\n",
    "import matplotlib.pyplot as plt\n",
    "import matplotlib.font_manager as fm\n",
    "font_name = fm.FontProperties(fname=\"C:/Windows/Fonts/malgun.ttf\").get_name()\n",
    "plt.rc(\"font\", family=font_name)\n",
    "import matplotlib as mlp\n",
    "mlp.rcParams[\"axes.unicode_minus\"] = False\n",
    "import seaborn as sns\n",
    "plt.style.use(\"fivethirtyeight\")\n",
    "import warnings\n",
    "warnings.filterwarnings(\"ignore\")\n",
    "\n",
    "LABELS = ['1','2','3','4','5']\n",
    "mat = confusion_matrix(y_test_ , y_pred)\n",
    "\n",
    "plt.rcParams[\"figure.figsize\"] = (5,5)\n",
    "plt.title(\"리뷰 별점\")\n",
    "sns.heatmap(mat,\n",
    "            xticklabels=LABELS, yticklabels=LABELS,\n",
    "            annot = True, #실제 값 화면에 나타내기\n",
    "            cmap = 'Greens' #색상\n",
    "            )\n",
    "print(mat)"
   ]
  },
  {
   "cell_type": "code",
   "execution_count": null,
   "id": "aecf413a",
   "metadata": {},
   "outputs": [],
   "source": []
  }
 ],
 "metadata": {
  "kernelspec": {
   "display_name": "Python 3",
   "language": "python",
   "name": "python3"
  },
  "language_info": {
   "codemirror_mode": {
    "name": "ipython",
    "version": 3
   },
   "file_extension": ".py",
   "mimetype": "text/x-python",
   "name": "python",
   "nbconvert_exporter": "python",
   "pygments_lexer": "ipython3",
   "version": "3.7.10"
  }
 },
 "nbformat": 4,
 "nbformat_minor": 5
}
