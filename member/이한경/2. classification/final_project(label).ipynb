{
 "cells": [
  {
   "cell_type": "markdown",
   "id": "41757fdf",
   "metadata": {},
   "source": [
    "# 2. 분류"
   ]
  },
  {
   "cell_type": "code",
   "execution_count": 1,
   "id": "f6243263",
   "metadata": {},
   "outputs": [],
   "source": [
    "import numpy as np\n",
    "import pandas as pd\n",
    "import os\n",
    "from konlpy.tag import Okt\n",
    "from sklearn.feature_extraction.text import TfidfVectorizer\n",
    "from xgboost import XGBClassifier\n",
    "from sklearn.metrics import classification_report\n",
    "from sklearn.metrics import confusion_matrix\n",
    "from sklearn.metrics import plot_confusion_matrix\n",
    "import matplotlib.pyplot as plt\n",
    "import matplotlib.font_manager as fm\n",
    "font_name = fm.FontProperties(fname=\"C:/Windows/Fonts/malgun.ttf\").get_name()\n",
    "plt.rc(\"font\", family=font_name)\n",
    "import matplotlib as mlp\n",
    "mlp.rcParams[\"axes.unicode_minus\"] = False\n",
    "import seaborn as sns\n",
    "plt.style.use(\"fivethirtyeight\")\n",
    "import warnings\n",
    "warnings.filterwarnings(\"ignore\")\n",
    "from sklearn.model_selection import train_test_split\n",
    "from collections import Counter"
   ]
  },
  {
   "cell_type": "code",
   "execution_count": 2,
   "id": "fddb43ac",
   "metadata": {},
   "outputs": [],
   "source": [
    "df_youtube = pd.read_csv(\"C:/netsong7/pythonwork/AI/data cleaning(final)/youtubecomment.csv\", encoding='utf-8-sig')\n",
    "df_cafe = pd.read_csv(\"C:/netsong7/pythonwork/AI/data cleaning(final)/navercafe.csv\", encoding='utf-8-sig')\n",
    "df_shopping = pd.read_csv(\"C:/netsong7/pythonwork/AI/data cleaning(final)/navershopping.csv\", encoding='utf-8-sig')"
   ]
  },
  {
   "cell_type": "code",
   "execution_count": 13,
   "id": "b1af82ec",
   "metadata": {},
   "outputs": [],
   "source": [
    "okt = Okt()"
   ]
  },
  {
   "cell_type": "code",
   "execution_count": 14,
   "id": "bfef8b40",
   "metadata": {},
   "outputs": [],
   "source": [
    "stopwords = pd.read_table(\"stopwords.txt\", encoding='utf-8-sig', header=None)\n",
    "stopwords = list(stopwords[0])"
   ]
  },
  {
   "cell_type": "code",
   "execution_count": 15,
   "id": "976e2afe",
   "metadata": {},
   "outputs": [],
   "source": [
    "total_data = df_shopping[[\"review\",\"star\"]]"
   ]
  },
  {
   "cell_type": "code",
   "execution_count": 16,
   "id": "8731b94d",
   "metadata": {},
   "outputs": [],
   "source": [
    "total_data[\"review\"] = list(map(str, list(total_data[\"review\"])))"
   ]
  },
  {
   "cell_type": "code",
   "execution_count": 17,
   "id": "080151da",
   "metadata": {},
   "outputs": [],
   "source": [
    "# df_cafe, df_shopping, df_youtube\n",
    "total_data['tokenized'] = total_data['review'].apply(okt.morphs)\n",
    "total_data['tokenized'] = total_data['tokenized'].apply(lambda x: [item for item in x if item not in stopwords])"
   ]
  },
  {
   "cell_type": "code",
   "execution_count": 23,
   "id": "2bdea83a",
   "metadata": {},
   "outputs": [],
   "source": [
    "total_data = total_data[[\"tokenized\",\"star\"]]\n"
   ]
  },
  {
   "cell_type": "code",
   "execution_count": 24,
   "id": "ff42aa69",
   "metadata": {},
   "outputs": [
    {
     "data": {
      "text/html": [
       "<div>\n",
       "<style scoped>\n",
       "    .dataframe tbody tr th:only-of-type {\n",
       "        vertical-align: middle;\n",
       "    }\n",
       "\n",
       "    .dataframe tbody tr th {\n",
       "        vertical-align: top;\n",
       "    }\n",
       "\n",
       "    .dataframe thead th {\n",
       "        text-align: right;\n",
       "    }\n",
       "</style>\n",
       "<table border=\"1\" class=\"dataframe\">\n",
       "  <thead>\n",
       "    <tr style=\"text-align: right;\">\n",
       "      <th></th>\n",
       "      <th>tokenized</th>\n",
       "      <th>star</th>\n",
       "      <th>label</th>\n",
       "    </tr>\n",
       "  </thead>\n",
       "  <tbody>\n",
       "    <tr>\n",
       "      <th>0</th>\n",
       "      <td>[말, 그래도, 최고, 입니다, 당일, 배송, 맞구요, 택배, 파업, 늦어질, 줄,...</td>\n",
       "      <td>5</td>\n",
       "      <td>1</td>\n",
       "    </tr>\n",
       "    <tr>\n",
       "      <th>1</th>\n",
       "      <td>[삼성, 전자, 갤럭시, 워치, 사고, 싶지만, 가격, 대가, 높아서, 망설이던, ...</td>\n",
       "      <td>5</td>\n",
       "      <td>1</td>\n",
       "    </tr>\n",
       "    <tr>\n",
       "      <th>2</th>\n",
       "      <td>[실, 구매, 원, 구매, 했습니다, 친구, 선물, 로, 사줬는데, 엄청, 좋아하네...</td>\n",
       "      <td>5</td>\n",
       "      <td>1</td>\n",
       "    </tr>\n",
       "    <tr>\n",
       "      <th>3</th>\n",
       "      <td>[제, 생일, 기념, 해서, 부모님, 께, 각각, 왓치, 하나, 씩, 사, 드렸어요...</td>\n",
       "      <td>5</td>\n",
       "      <td>1</td>\n",
       "    </tr>\n",
       "    <tr>\n",
       "      <th>4</th>\n",
       "      <td>[화면, 큰, 걸, 로, 하고싶어서, 실버, 로, 구매, 했는데, 손목, 대비, 살...</td>\n",
       "      <td>5</td>\n",
       "      <td>1</td>\n",
       "    </tr>\n",
       "    <tr>\n",
       "      <th>...</th>\n",
       "      <td>...</td>\n",
       "      <td>...</td>\n",
       "      <td>...</td>\n",
       "    </tr>\n",
       "    <tr>\n",
       "      <th>13433</th>\n",
       "      <td>[제품, 좋아요, 사용, 하고, 있습니다]</td>\n",
       "      <td>3</td>\n",
       "      <td>0</td>\n",
       "    </tr>\n",
       "    <tr>\n",
       "      <th>13434</th>\n",
       "      <td>[삼성]</td>\n",
       "      <td>3</td>\n",
       "      <td>0</td>\n",
       "    </tr>\n",
       "    <tr>\n",
       "      <th>13435</th>\n",
       "      <td>[개인정보, 만, 털린게, 아닌지, 어쨌든, 기대, 해봅니다]</td>\n",
       "      <td>2</td>\n",
       "      <td>0</td>\n",
       "    </tr>\n",
       "    <tr>\n",
       "      <th>13436</th>\n",
       "      <td>[구, 매, 확정, 하, 래, ㅋㄲㅋ, 증시, 난다]</td>\n",
       "      <td>1</td>\n",
       "      <td>0</td>\n",
       "    </tr>\n",
       "    <tr>\n",
       "      <th>13437</th>\n",
       "      <td>[진정, 당첨, 되는, 분, 있을까, 좋으시것다, 난, 아니니까, 별, 하나, 만]</td>\n",
       "      <td>1</td>\n",
       "      <td>0</td>\n",
       "    </tr>\n",
       "  </tbody>\n",
       "</table>\n",
       "<p>13438 rows × 3 columns</p>\n",
       "</div>"
      ],
      "text/plain": [
       "                                               tokenized  star  label\n",
       "0      [말, 그래도, 최고, 입니다, 당일, 배송, 맞구요, 택배, 파업, 늦어질, 줄,...     5      1\n",
       "1      [삼성, 전자, 갤럭시, 워치, 사고, 싶지만, 가격, 대가, 높아서, 망설이던, ...     5      1\n",
       "2      [실, 구매, 원, 구매, 했습니다, 친구, 선물, 로, 사줬는데, 엄청, 좋아하네...     5      1\n",
       "3      [제, 생일, 기념, 해서, 부모님, 께, 각각, 왓치, 하나, 씩, 사, 드렸어요...     5      1\n",
       "4      [화면, 큰, 걸, 로, 하고싶어서, 실버, 로, 구매, 했는데, 손목, 대비, 살...     5      1\n",
       "...                                                  ...   ...    ...\n",
       "13433                            [제품, 좋아요, 사용, 하고, 있습니다]     3      0\n",
       "13434                                               [삼성]     3      0\n",
       "13435                 [개인정보, 만, 털린게, 아닌지, 어쨌든, 기대, 해봅니다]     2      0\n",
       "13436                      [구, 매, 확정, 하, 래, ㅋㄲㅋ, 증시, 난다]     1      0\n",
       "13437     [진정, 당첨, 되는, 분, 있을까, 좋으시것다, 난, 아니니까, 별, 하나, 만]     1      0\n",
       "\n",
       "[13438 rows x 3 columns]"
      ]
     },
     "execution_count": 24,
     "metadata": {},
     "output_type": "execute_result"
    }
   ],
   "source": [
    "total_data['label'] = np.select([total_data.star > 4], [1], default=0)\n",
    "total_data"
   ]
  },
  {
   "cell_type": "code",
   "execution_count": 59,
   "id": "5e0b3d75",
   "metadata": {},
   "outputs": [
    {
     "data": {
      "text/plain": [
       "tokenized    7525\n",
       "star         7525\n",
       "label        7525\n",
       "dtype: int64"
      ]
     },
     "execution_count": 59,
     "metadata": {},
     "output_type": "execute_result"
    }
   ],
   "source": [
    "total_data[total_data[\"label\"]==0].count()"
   ]
  },
  {
   "cell_type": "code",
   "execution_count": 60,
   "id": "ec384722",
   "metadata": {},
   "outputs": [
    {
     "data": {
      "text/plain": [
       "tokenized    5913\n",
       "star         5913\n",
       "label        5913\n",
       "dtype: int64"
      ]
     },
     "execution_count": 60,
     "metadata": {},
     "output_type": "execute_result"
    }
   ],
   "source": [
    "total_data[total_data[\"label\"]==1].count()"
   ]
  },
  {
   "cell_type": "code",
   "execution_count": 25,
   "id": "7373a645",
   "metadata": {},
   "outputs": [
    {
     "name": "stdout",
     "output_type": "stream",
     "text": [
      "훈련용 리뷰의 개수 : 10750\n",
      "테스트용 리뷰의 개수 : 2688\n"
     ]
    }
   ],
   "source": [
    "train_data, test_data = train_test_split(total_data, test_size=0.2, random_state=0)\n",
    "print('훈련용 리뷰의 개수 :', len(train_data))\n",
    "print('테스트용 리뷰의 개수 :', len(test_data))"
   ]
  },
  {
   "cell_type": "code",
   "execution_count": 26,
   "id": "6fccc320",
   "metadata": {},
   "outputs": [
    {
     "data": {
      "text/plain": [
       "array([0, 1])"
      ]
     },
     "execution_count": 26,
     "metadata": {},
     "output_type": "execute_result"
    }
   ],
   "source": [
    "train_data[\"label\"].unique()"
   ]
  },
  {
   "cell_type": "code",
   "execution_count": 69,
   "id": "bb414be7",
   "metadata": {},
   "outputs": [
    {
     "data": {
      "text/plain": [
       "tokenized    6011\n",
       "star         6011\n",
       "label        6011\n",
       "dtype: int64"
      ]
     },
     "execution_count": 69,
     "metadata": {},
     "output_type": "execute_result"
    }
   ],
   "source": [
    "train_data[train_data[\"label\"]==0].count()"
   ]
  },
  {
   "cell_type": "code",
   "execution_count": 70,
   "id": "ce24b165",
   "metadata": {},
   "outputs": [
    {
     "data": {
      "text/plain": [
       "tokenized    4739\n",
       "star         4739\n",
       "label        4739\n",
       "dtype: int64"
      ]
     },
     "execution_count": 70,
     "metadata": {},
     "output_type": "execute_result"
    }
   ],
   "source": [
    "train_data[train_data[\"label\"]==1].count()"
   ]
  },
  {
   "cell_type": "code",
   "execution_count": 27,
   "id": "4eb5541e",
   "metadata": {},
   "outputs": [],
   "source": [
    "words_1 = np.hstack(train_data[train_data[\"label\"] == 0]['tokenized'].values)\n",
    "words_2 = np.hstack(train_data[train_data[\"label\"] == 1]['tokenized'].values)\n"
   ]
  },
  {
   "cell_type": "code",
   "execution_count": 28,
   "id": "b90bc036",
   "metadata": {},
   "outputs": [
    {
     "name": "stdout",
     "output_type": "stream",
     "text": [
      "[('배송', 2000), ('사용', 1394), ('제품', 1197), ('로', 1176), ('안', 1058), ('구매', 1018), ('너무', 946), ('것', 843), ('하고', 821), ('에서', 803), ('요', 786), ('버즈', 771), ('좋아요', 729), ('했는데', 715), ('센터', 680), ('때', 665), ('생각', 620), ('음질', 611), ('더', 609), ('해서', 606)]\n",
      "==================================================================================\n",
      "[('사용', 2780), ('로', 2401), ('너무', 2185), ('배송', 2090), ('구매', 2041), ('것', 1878), ('노트북', 1696), ('버즈', 1581), ('에서', 1453), ('제품', 1409), ('하고', 1354), ('갤럭시', 1236), ('할', 1187), ('생각', 1153), ('했는데', 1146), ('때', 1105), ('기능', 1091), ('더', 1080), ('프로', 1060), ('제', 1015)]\n"
     ]
    }
   ],
   "source": [
    "words_1_count = Counter(words_1)\n",
    "print(words_1_count.most_common(20))\n",
    "print(\"==================================================================================\")\n",
    "words_2_count = Counter(words_2)\n",
    "print(words_2_count.most_common(20))"
   ]
  },
  {
   "cell_type": "code",
   "execution_count": 32,
   "id": "f89e3a3e",
   "metadata": {},
   "outputs": [
    {
     "name": "stdout",
     "output_type": "stream",
     "text": [
      "부정 리뷰의 평균 길이 : 27.486774247213443\n",
      "긍정 리뷰의 평균 길이 : 56.67841316733488\n"
     ]
    },
    {
     "data": {
      "image/png": "[encoded data removed]",
      "text/plain": [
       "<Figure size 1440x360 with 2 Axes>"
      ]
     },
     "metadata": {},
     "output_type": "display_data"
    }
   ],
   "source": [
    "fig,(ax1,ax2) = plt.subplots(1,2,figsize=(20,5))\n",
    "text_len = train_data[train_data['label']==0]['tokenized'].map(lambda x: len(x))\n",
    "ax1.hist(text_len, color='red')\n",
    "ax1.set_title('Negative Reviews')\n",
    "ax1.set_xlabel('length of samples')\n",
    "ax1.set_ylabel('number of samples')\n",
    "print('부정 리뷰의 평균 길이 :', np.mean(text_len))\n",
    "\n",
    "text_len = train_data[train_data['label']==1]['tokenized'].map(lambda x: len(x))\n",
    "ax2.hist(text_len, color='blue')\n",
    "ax2.set_title('Positive Reviews')\n",
    "fig.suptitle('Words in texts')\n",
    "ax2.set_xlabel('length of samples')\n",
    "ax2.set_ylabel('number of samples')\n",
    "print('긍정 리뷰의 평균 길이 :', np.mean(text_len))\n",
    "\n",
    "plt.show()"
   ]
  },
  {
   "cell_type": "code",
   "execution_count": 33,
   "id": "feacc407",
   "metadata": {},
   "outputs": [],
   "source": [
    "X_train = train_data['tokenized'].values\n",
    "y_train = train_data['label'].values\n",
    "X_test= test_data['tokenized'].values\n",
    "y_test = test_data['label'].values"
   ]
  },
  {
   "cell_type": "code",
   "execution_count": 34,
   "id": "f347d674",
   "metadata": {},
   "outputs": [],
   "source": [
    "from tensorflow.keras.preprocessing.text import Tokenizer\n",
    "from tensorflow.keras.preprocessing.sequence import pad_sequences\n",
    "tokenizer = Tokenizer()\n",
    "tokenizer.fit_on_texts(X_train)"
   ]
  },
  {
   "cell_type": "code",
   "execution_count": 35,
   "id": "4647282f",
   "metadata": {},
   "outputs": [
    {
     "name": "stdout",
     "output_type": "stream",
     "text": [
      "단어 집합(vocabulary)의 크기 : 29907\n",
      "등장 빈도가 1번 이하인 희귀 단어의 수: 14879\n",
      "단어 집합에서 희귀 단어의 비율: 49.7508944394289\n",
      "전체 등장 빈도에서 희귀 단어 등장 빈도 비율: 3.42974768453421\n"
     ]
    }
   ],
   "source": [
    "threshold = 2\n",
    "total_cnt = len(tokenizer.word_index) # 단어의 수\n",
    "rare_cnt = 0 # 등장 빈도수가 threshold보다 작은 단어의 개수를 카운트\n",
    "total_freq = 0 # 훈련 데이터의 전체 단어 빈도수 총 합\n",
    "rare_freq = 0 # 등장 빈도수가 threshold보다 작은 단어의 등장 빈도수의 총 합\n",
    "\n",
    "# 단어와 빈도수의 쌍(pair)을 key와 value로 받는다.\n",
    "for key, value in tokenizer.word_counts.items():\n",
    "    total_freq = total_freq + value\n",
    "\n",
    "    # 단어의 등장 빈도수가 threshold보다 작으면\n",
    "    if(value < threshold):\n",
    "        rare_cnt = rare_cnt + 1\n",
    "        rare_freq = rare_freq + value\n",
    "\n",
    "print('단어 집합(vocabulary)의 크기 :',total_cnt)\n",
    "print('등장 빈도가 %s번 이하인 희귀 단어의 수: %s'%(threshold - 1, rare_cnt))\n",
    "print(\"단어 집합에서 희귀 단어의 비율:\", (rare_cnt / total_cnt)*100)\n",
    "print(\"전체 등장 빈도에서 희귀 단어 등장 빈도 비율:\", (rare_freq / total_freq)*100)"
   ]
  },
  {
   "cell_type": "code",
   "execution_count": 36,
   "id": "54c350e2",
   "metadata": {},
   "outputs": [
    {
     "name": "stdout",
     "output_type": "stream",
     "text": [
      "단어 집합의 크기 : 15030\n"
     ]
    }
   ],
   "source": [
    "vocab_size = total_cnt - rare_cnt + 2\n",
    "print('단어 집합의 크기 :',vocab_size)"
   ]
  },
  {
   "cell_type": "code",
   "execution_count": 37,
   "id": "75c4b44c",
   "metadata": {},
   "outputs": [],
   "source": [
    "tokenizer = Tokenizer(vocab_size, oov_token = 'OOV') \n",
    "tokenizer.fit_on_texts(X_train)\n",
    "X_train = tokenizer.texts_to_sequences(X_train)\n",
    "X_test = tokenizer.texts_to_sequences(X_test)"
   ]
  },
  {
   "cell_type": "code",
   "execution_count": 38,
   "id": "30017b90",
   "metadata": {},
   "outputs": [
    {
     "name": "stdout",
     "output_type": "stream",
     "text": [
      "리뷰의 최대 길이 : 1242\n",
      "리뷰의 평균 길이 : 40.35553488372093\n"
     ]
    },
    {
     "data": {
      "image/png": "[encoded data removed]",
      "text/plain": [
       "<Figure size 432x288 with 1 Axes>"
      ]
     },
     "metadata": {},
     "output_type": "display_data"
    }
   ],
   "source": [
    "print('리뷰의 최대 길이 :',max(len(l) for l in X_train))\n",
    "print('리뷰의 평균 길이 :',sum(map(len, X_train))/len(X_train))\n",
    "plt.hist([len(s) for s in X_train], bins=50)\n",
    "plt.xlabel('length of samples')\n",
    "plt.ylabel('number of samples')\n",
    "plt.show()"
   ]
  },
  {
   "cell_type": "code",
   "execution_count": 39,
   "id": "183c4f09",
   "metadata": {},
   "outputs": [],
   "source": [
    "def below_threshold_len(max_len, nested_list):\n",
    "    cnt = 0\n",
    "    for s in nested_list:\n",
    "        if(len(s) <= max_len):\n",
    "            cnt = cnt + 1\n",
    "    print('전체 샘플 중 길이가 %s 이하인 샘플의 비율: %s'%(max_len, (cnt / len(nested_list))*100))\n"
   ]
  },
  {
   "cell_type": "code",
   "execution_count": 42,
   "id": "add0da75",
   "metadata": {},
   "outputs": [
    {
     "name": "stdout",
     "output_type": "stream",
     "text": [
      "전체 샘플 중 길이가 200 이하인 샘플의 비율: 97.76744186046513\n"
     ]
    }
   ],
   "source": [
    "max_len = 200\n",
    "below_threshold_len(max_len, X_train)"
   ]
  },
  {
   "cell_type": "code",
   "execution_count": 43,
   "id": "5a09797c",
   "metadata": {},
   "outputs": [],
   "source": [
    "X_train = pad_sequences(X_train, maxlen = max_len)\n",
    "X_test = pad_sequences(X_test, maxlen = max_len)"
   ]
  },
  {
   "cell_type": "code",
   "execution_count": 44,
   "id": "dfdeb6f5",
   "metadata": {},
   "outputs": [
    {
     "name": "stdout",
     "output_type": "stream",
     "text": [
      "(10750, 200)\n",
      "(2688, 200)\n",
      "(10750,)\n",
      "(2688,)\n"
     ]
    }
   ],
   "source": [
    "print(X_train.shape)\n",
    "print(X_test.shape)\n",
    "print(y_train.shape)\n",
    "print(y_test.shape)\n"
   ]
  },
  {
   "cell_type": "code",
   "execution_count": 46,
   "id": "ede5beac",
   "metadata": {},
   "outputs": [],
   "source": [
    "y_train = train_data['label'].values\n",
    "y_test = test_data['label'].values"
   ]
  },
  {
   "cell_type": "code",
   "execution_count": 47,
   "id": "f200ac36",
   "metadata": {},
   "outputs": [
    {
     "name": "stdout",
     "output_type": "stream",
     "text": [
      "(10750, 200, 1)\n",
      "(2688, 200, 1)\n",
      "(10750,)\n",
      "(2688,)\n"
     ]
    }
   ],
   "source": [
    "from keras.utils import to_categorical\n",
    "X_train = X_train.reshape(X_train.shape[0], X_train.shape[1], 1)\n",
    "print(X_train.shape)\n",
    "\n",
    "X_test = X_test.reshape(X_test.shape[0], X_test.shape[1], 1)\n",
    "print(X_test.shape)\n",
    "\n",
    "# y_data = np.concatenate((y_train, y_test))\n",
    "# y_data = to_categorical(y_data)\n",
    "# y_data\n",
    "\n",
    "# y_train = y_data[:10750]\n",
    "# y_test = y_data[10750:]\n",
    "\n",
    "print(y_train.shape)\n",
    "print(y_test.shape)"
   ]
  },
  {
   "cell_type": "code",
   "execution_count": 48,
   "id": "55914161",
   "metadata": {},
   "outputs": [],
   "source": [
    "from keras.layers import SimpleRNN\n",
    "import keras\n",
    "from keras.models import Sequential, load_model\n",
    "from keras.layers.core import Dense\n",
    "from keras.optimizers import RMSprop, Adam, SGD\n",
    "from keras.utils import np_utils\n",
    "from keras.callbacks import EarlyStopping\n",
    "from keras.wrappers.scikit_learn import KerasClassifier"
   ]
  },
  {
   "cell_type": "code",
   "execution_count": null,
   "id": "269f9e75",
   "metadata": {},
   "outputs": [],
   "source": [
    "# model = Sequential()\n",
    "# model.add(Dense(64, input_dim=(500,1), activation=\"relu\"))\n",
    "# model.add(Dense(64, activation=\"relu\"))\n",
    "# model.add(Dense(6, activation=\"softmax\"))\n",
    "\n",
    "# model.compile(loss=\"categorical_crossentropy\", optimizer=Adam(lr=0.001), metrics=[\"accuracy\"])\n",
    "\n",
    "# model.summary()\n",
    "\n",
    "# model.fit(X_train, y_train, epochs=15, batch_size=32)"
   ]
  },
  {
   "cell_type": "code",
   "execution_count": 53,
   "id": "1ffb1719",
   "metadata": {},
   "outputs": [],
   "source": [
    "def vanilla_rnn():\n",
    "    model = Sequential()\n",
    "    model.add(SimpleRNN(units=50, input_shape=(200, 1), return_sequences=False))\n",
    "    model.add(Dense(2, activation=\"softmax\"))\n",
    "    \n",
    "    model.compile(loss=\"categorical_crossentropy\", optimizer=Adam(lr=0.001), metrics=[\"accuracy\"])\n",
    "    \n",
    "    return model"
   ]
  },
  {
   "cell_type": "code",
   "execution_count": 54,
   "id": "1f1ab32c",
   "metadata": {},
   "outputs": [
    {
     "name": "stdout",
     "output_type": "stream",
     "text": [
      "WARNING:tensorflow:From C:\\Users\\not14\\anaconda3\\envs\\tf1\\lib\\site-packages\\keras\\backend\\tensorflow_backend.py:422: The name tf.global_variables is deprecated. Please use tf.compat.v1.global_variables instead.\n",
      "\n",
      "Epoch 1/20\n",
      "10750/10750 [==============================] - 6s 600us/step - loss: 0.6902 - accuracy: 0.5507\n",
      "Epoch 2/20\n",
      "10750/10750 [==============================] - 6s 594us/step - loss: 0.6836 - accuracy: 0.5664\n",
      "Epoch 3/20\n",
      "10750/10750 [==============================] - 6s 579us/step - loss: 0.6817 - accuracy: 0.5694\n",
      "Epoch 4/20\n",
      "10750/10750 [==============================] - 6s 602us/step - loss: 0.6846 - accuracy: 0.5527\n",
      "Epoch 5/20\n",
      "10750/10750 [==============================] - 6s 591us/step - loss: 0.6826 - accuracy: 0.5703\n",
      "Epoch 6/20\n",
      "10750/10750 [==============================] - 7s 615us/step - loss: 0.6830 - accuracy: 0.5620\n",
      "Epoch 7/20\n",
      "10750/10750 [==============================] - 7s 661us/step - loss: 0.6818 - accuracy: 0.5700\n",
      "Epoch 8/20\n",
      "10750/10750 [==============================] - 7s 664us/step - loss: 0.6825 - accuracy: 0.5667\n",
      "Epoch 9/20\n",
      "10750/10750 [==============================] - 7s 659us/step - loss: 0.6807 - accuracy: 0.5692\n",
      "Epoch 10/20\n",
      "10750/10750 [==============================] - 7s 655us/step - loss: 0.6821 - accuracy: 0.5719\n",
      "Epoch 11/20\n",
      "10750/10750 [==============================] - 7s 661us/step - loss: 0.6812 - accuracy: 0.5740\n",
      "Epoch 12/20\n",
      "10750/10750 [==============================] - 7s 658us/step - loss: 0.6809 - accuracy: 0.5730\n",
      "Epoch 13/20\n",
      "10750/10750 [==============================] - 7s 651us/step - loss: 0.6803 - accuracy: 0.5752\n",
      "Epoch 14/20\n",
      "10750/10750 [==============================] - 7s 661us/step - loss: 0.6802 - accuracy: 0.5724\n",
      "Epoch 15/20\n",
      "10750/10750 [==============================] - 7s 667us/step - loss: 0.6806 - accuracy: 0.5714\n",
      "Epoch 16/20\n",
      "10750/10750 [==============================] - 7s 663us/step - loss: 0.6812 - accuracy: 0.5697\n",
      "Epoch 17/20\n",
      "10750/10750 [==============================] - 7s 661us/step - loss: 0.6808 - accuracy: 0.5720\n",
      "Epoch 18/20\n",
      "10750/10750 [==============================] - 7s 662us/step - loss: 0.6811 - accuracy: 0.5793\n",
      "Epoch 19/20\n",
      "10750/10750 [==============================] - 7s 645us/step - loss: 0.6789 - accuracy: 0.5795\n",
      "Epoch 20/20\n",
      "10750/10750 [==============================] - 7s 643us/step - loss: 0.6802 - accuracy: 0.5753\n"
     ]
    },
    {
     "data": {
      "text/plain": [
       "<keras.callbacks.callbacks.History at 0x1e2de86b988>"
      ]
     },
     "execution_count": 54,
     "metadata": {},
     "output_type": "execute_result"
    }
   ],
   "source": [
    "model = KerasClassifier(build_fn=vanilla_rnn, epochs=20, batch_size=50, verbose=1)\n",
    "model.fit(X_train, y_train) # loss: 0.8624 - accuracy: 0.7405"
   ]
  },
  {
   "cell_type": "code",
   "execution_count": null,
   "id": "d4e50e04",
   "metadata": {},
   "outputs": [],
   "source": []
  },
  {
   "cell_type": "code",
   "execution_count": 57,
   "id": "980a0a6a",
   "metadata": {},
   "outputs": [
    {
     "name": "stdout",
     "output_type": "stream",
     "text": [
      "2688/2688 [==============================] - 1s 217us/step\n",
      "0.5814732142857143\n"
     ]
    },
    {
     "data": {
      "text/plain": [
       "array([[1316,  198],\n",
       "       [ 927,  247]], dtype=int64)"
      ]
     },
     "execution_count": 57,
     "metadata": {},
     "output_type": "execute_result"
    }
   ],
   "source": [
    "from sklearn.metrics import accuracy_score\n",
    "\n",
    "y_pred = model.predict(X_test)\n",
    "\n",
    "print(accuracy_score(y_pred, y_test))\n",
    "mat = confusion_matrix(y_test , y_pred)\n",
    "mat"
   ]
  },
  {
   "cell_type": "code",
   "execution_count": 61,
   "id": "9dd23707",
   "metadata": {},
   "outputs": [
    {
     "name": "stdout",
     "output_type": "stream",
     "text": [
      "Epoch 1/10\n",
      "10750/10750 [==============================] - 13s 1ms/step - loss: 0.6948 - accuracy: 0.5430\n",
      "Epoch 2/10\n",
      "10750/10750 [==============================] - 13s 1ms/step - loss: 0.6734 - accuracy: 0.5820\n",
      "Epoch 3/10\n",
      "10750/10750 [==============================] - 14s 1ms/step - loss: 0.6700 - accuracy: 0.5910\n",
      "Epoch 4/10\n",
      "10750/10750 [==============================] - 15s 1ms/step - loss: 0.6790 - accuracy: 0.5725\n",
      "Epoch 5/10\n",
      "10750/10750 [==============================] - 15s 1ms/step - loss: 0.6825 - accuracy: 0.5583\n",
      "Epoch 6/10\n",
      "10750/10750 [==============================] - 15s 1ms/step - loss: 0.6758 - accuracy: 0.5716\n",
      "Epoch 7/10\n",
      "10750/10750 [==============================] - 15s 1ms/step - loss: 0.6778 - accuracy: 0.5680\n",
      "Epoch 8/10\n",
      "10750/10750 [==============================] - 15s 1ms/step - loss: 0.6738 - accuracy: 0.5730\n",
      "Epoch 9/10\n",
      "10750/10750 [==============================] - 15s 1ms/step - loss: 0.6739 - accuracy: 0.5780\n",
      "Epoch 10/10\n",
      "10750/10750 [==============================] - 15s 1ms/step - loss: 0.6755 - accuracy: 0.5641\n",
      "2688/2688 [==============================] - 1s 458us/step\n"
     ]
    },
    {
     "ename": "AxisError",
     "evalue": "axis 1 is out of bounds for array of dimension 1",
     "output_type": "error",
     "traceback": [
      "\u001b[1;31m---------------------------------------------------------------------------\u001b[0m",
      "\u001b[1;31mAxisError\u001b[0m                                 Traceback (most recent call last)",
      "\u001b[1;32m<ipython-input-61-3dd26e9f42f9>\u001b[0m in \u001b[0;36m<module>\u001b[1;34m\u001b[0m\n\u001b[0;32m     12\u001b[0m \u001b[1;33m\u001b[0m\u001b[0m\n\u001b[0;32m     13\u001b[0m \u001b[0my_pred\u001b[0m \u001b[1;33m=\u001b[0m \u001b[0mmodel\u001b[0m\u001b[1;33m.\u001b[0m\u001b[0mpredict\u001b[0m\u001b[1;33m(\u001b[0m\u001b[0mX_test\u001b[0m\u001b[1;33m)\u001b[0m\u001b[1;33m\u001b[0m\u001b[1;33m\u001b[0m\u001b[0m\n\u001b[1;32m---> 14\u001b[1;33m \u001b[0my_test_\u001b[0m \u001b[1;33m=\u001b[0m \u001b[0mnp\u001b[0m\u001b[1;33m.\u001b[0m\u001b[0margmax\u001b[0m\u001b[1;33m(\u001b[0m\u001b[0my_test\u001b[0m\u001b[1;33m,\u001b[0m \u001b[0maxis\u001b[0m\u001b[1;33m=\u001b[0m\u001b[1;36m1\u001b[0m\u001b[1;33m)\u001b[0m\u001b[1;33m\u001b[0m\u001b[1;33m\u001b[0m\u001b[0m\n\u001b[0m\u001b[0;32m     15\u001b[0m \u001b[0mprint\u001b[0m\u001b[1;33m(\u001b[0m\u001b[0maccuracy_score\u001b[0m\u001b[1;33m(\u001b[0m\u001b[0my_pred\u001b[0m\u001b[1;33m,\u001b[0m \u001b[0my_test_\u001b[0m\u001b[1;33m)\u001b[0m\u001b[1;33m)\u001b[0m\u001b[1;33m\u001b[0m\u001b[1;33m\u001b[0m\u001b[0m\n\u001b[0;32m     16\u001b[0m \u001b[0mmat\u001b[0m \u001b[1;33m=\u001b[0m \u001b[0mconfusion_matrix\u001b[0m\u001b[1;33m(\u001b[0m\u001b[0my_test_\u001b[0m \u001b[1;33m,\u001b[0m \u001b[0my_pred\u001b[0m\u001b[1;33m)\u001b[0m\u001b[1;33m\u001b[0m\u001b[1;33m\u001b[0m\u001b[0m\n",
      "\u001b[1;32m<__array_function__ internals>\u001b[0m in \u001b[0;36margmax\u001b[1;34m(*args, **kwargs)\u001b[0m\n",
      "\u001b[1;32m~\\anaconda3\\envs\\tf1\\lib\\site-packages\\numpy\\core\\fromnumeric.py\u001b[0m in \u001b[0;36margmax\u001b[1;34m(a, axis, out)\u001b[0m\n\u001b[0;32m   1191\u001b[0m \u001b[1;33m\u001b[0m\u001b[0m\n\u001b[0;32m   1192\u001b[0m     \"\"\"\n\u001b[1;32m-> 1193\u001b[1;33m     \u001b[1;32mreturn\u001b[0m \u001b[0m_wrapfunc\u001b[0m\u001b[1;33m(\u001b[0m\u001b[0ma\u001b[0m\u001b[1;33m,\u001b[0m \u001b[1;34m'argmax'\u001b[0m\u001b[1;33m,\u001b[0m \u001b[0maxis\u001b[0m\u001b[1;33m=\u001b[0m\u001b[0maxis\u001b[0m\u001b[1;33m,\u001b[0m \u001b[0mout\u001b[0m\u001b[1;33m=\u001b[0m\u001b[0mout\u001b[0m\u001b[1;33m)\u001b[0m\u001b[1;33m\u001b[0m\u001b[1;33m\u001b[0m\u001b[0m\n\u001b[0m\u001b[0;32m   1194\u001b[0m \u001b[1;33m\u001b[0m\u001b[0m\n\u001b[0;32m   1195\u001b[0m \u001b[1;33m\u001b[0m\u001b[0m\n",
      "\u001b[1;32m~\\anaconda3\\envs\\tf1\\lib\\site-packages\\numpy\\core\\fromnumeric.py\u001b[0m in \u001b[0;36m_wrapfunc\u001b[1;34m(obj, method, *args, **kwds)\u001b[0m\n\u001b[0;32m     56\u001b[0m \u001b[1;33m\u001b[0m\u001b[0m\n\u001b[0;32m     57\u001b[0m     \u001b[1;32mtry\u001b[0m\u001b[1;33m:\u001b[0m\u001b[1;33m\u001b[0m\u001b[1;33m\u001b[0m\u001b[0m\n\u001b[1;32m---> 58\u001b[1;33m         \u001b[1;32mreturn\u001b[0m \u001b[0mbound\u001b[0m\u001b[1;33m(\u001b[0m\u001b[1;33m*\u001b[0m\u001b[0margs\u001b[0m\u001b[1;33m,\u001b[0m \u001b[1;33m**\u001b[0m\u001b[0mkwds\u001b[0m\u001b[1;33m)\u001b[0m\u001b[1;33m\u001b[0m\u001b[1;33m\u001b[0m\u001b[0m\n\u001b[0m\u001b[0;32m     59\u001b[0m     \u001b[1;32mexcept\u001b[0m \u001b[0mTypeError\u001b[0m\u001b[1;33m:\u001b[0m\u001b[1;33m\u001b[0m\u001b[1;33m\u001b[0m\u001b[0m\n\u001b[0;32m     60\u001b[0m         \u001b[1;31m# A TypeError occurs if the object does have such a method in its\u001b[0m\u001b[1;33m\u001b[0m\u001b[1;33m\u001b[0m\u001b[1;33m\u001b[0m\u001b[0m\n",
      "\u001b[1;31mAxisError\u001b[0m: axis 1 is out of bounds for array of dimension 1"
     ]
    }
   ],
   "source": [
    "def stacked_vanilla_rnn():\n",
    "    model = Sequential()\n",
    "    model.add(SimpleRNN(units=50, input_shape=(200, 1), return_sequences=True))\n",
    "    model.add(SimpleRNN(units=50, return_sequences=False))\n",
    "    model.add(Dense(2, activation=\"softmax\"))\n",
    "    \n",
    "    model.compile(loss=\"categorical_crossentropy\", optimizer=Adam(lr=0.001), metrics=[\"accuracy\"])\n",
    "    \n",
    "    return model\n",
    "model = KerasClassifier(build_fn=stacked_vanilla_rnn, epochs=10, batch_size=50, verbose=1)\n",
    "model.fit(X_train, y_train) # loss: 0.8624 - accuracy: 0.7405"
   ]
  },
  {
   "cell_type": "code",
   "execution_count": 64,
   "id": "87c6a733",
   "metadata": {},
   "outputs": [
    {
     "name": "stdout",
     "output_type": "stream",
     "text": [
      "2688/2688 [==============================] - 2s 843us/step\n",
      "0.5710565476190477\n"
     ]
    },
    {
     "data": {
      "text/plain": [
       "array([[1475,   39],\n",
       "       [1114,   60]], dtype=int64)"
      ]
     },
     "execution_count": 64,
     "metadata": {},
     "output_type": "execute_result"
    }
   ],
   "source": [
    "y_pred = model.predict(X_test)\n",
    "print(accuracy_score(y_pred, y_test))\n",
    "mat = confusion_matrix(y_test , y_pred)\n",
    "mat"
   ]
  },
  {
   "cell_type": "code",
   "execution_count": 65,
   "id": "dd555f92",
   "metadata": {},
   "outputs": [],
   "source": [
    "from keras.layers import *\n",
    "from keras.models import Sequential\n",
    "from keras.applications.resnet50 import ResNet50\n",
    "\n",
    "CLASS_COUNT = 10\n",
    "\n",
    "base_model = ResNet50(\n",
    "    weights='imagenet',\n",
    "    include_top=False, \n",
    "    input_shape=(224, 224, 3), \n",
    "    pooling='avg',\n",
    ")\n",
    "base_model.trainable = False\n",
    "\n",
    "model = Sequential([\n",
    "  base_model,\n",
    "  Dense(CLASS_COUNT, activation='softmax'),\n",
    "])"
   ]
  },
  {
   "cell_type": "code",
   "execution_count": 67,
   "id": "7b8f2db2",
   "metadata": {},
   "outputs": [
    {
     "name": "stdout",
     "output_type": "stream",
     "text": [
      "Epoch 1/10\n",
      "10750/10750 [==============================] - 35s 3ms/step - loss: 0.6391 - accuracy: 0.6499\n",
      "Epoch 2/10\n",
      "10750/10750 [==============================] - 37s 3ms/step - loss: 0.6297 - accuracy: 0.6600\n",
      "Epoch 3/10\n",
      "10750/10750 [==============================] - 37s 3ms/step - loss: 0.6256 - accuracy: 0.6615\n",
      "Epoch 4/10\n",
      "10750/10750 [==============================] - 38s 4ms/step - loss: 0.6246 - accuracy: 0.6628\n",
      "Epoch 5/10\n",
      "10750/10750 [==============================] - 37s 3ms/step - loss: 0.6219 - accuracy: 0.6635\n",
      "Epoch 6/10\n",
      "10750/10750 [==============================] - 37s 3ms/step - loss: 0.6195 - accuracy: 0.6701\n",
      "Epoch 7/10\n",
      "10750/10750 [==============================] - 37s 3ms/step - loss: 0.6174 - accuracy: 0.6696\n",
      "Epoch 8/10\n",
      "10750/10750 [==============================] - 38s 4ms/step - loss: 0.6134 - accuracy: 0.6715\n",
      "Epoch 9/10\n",
      "10750/10750 [==============================] - 38s 4ms/step - loss: 0.6128 - accuracy: 0.6740\n",
      "Epoch 10/10\n",
      "10750/10750 [==============================] - 38s 4ms/step - loss: 0.6117 - accuracy: 0.6753\n",
      "2688/2688 [==============================] - 4s 2ms/step\n",
      "0.6741071428571429\n"
     ]
    },
    {
     "data": {
      "text/plain": [
       "array([[1272,  242],\n",
       "       [ 634,  540]], dtype=int64)"
      ]
     },
     "execution_count": 67,
     "metadata": {},
     "output_type": "execute_result"
    }
   ],
   "source": [
    "def lstm_rnn():\n",
    "    model = Sequential()\n",
    "    model.add(LSTM(units=100, input_shape=(200, 1), return_sequences=False))\n",
    "    model.add(Dense(64, activation=\"relu\"))\n",
    "    model.add(Dense(64, activation=\"relu\"))\n",
    "    model.add(Dense(2, activation=\"softmax\"))\n",
    "    model.compile(loss=\"categorical_crossentropy\", optimizer=Adam(lr=0.001), metrics=[\"accuracy\"])\n",
    "    \n",
    "    return model\n",
    "\n",
    "model = KerasClassifier(build_fn=lstm_rnn, epochs=10, batch_size=50, verbose=1)\n",
    "model.fit(X_train, y_train) # loss: 0.8624 - accuracy: 0.7405\n",
    "\n",
    "y_pred = model.predict(X_test)\n",
    "print(accuracy_score(y_pred, y_test))\n",
    "mat = confusion_matrix(y_test , y_pred)\n",
    "mat"
   ]
  },
  {
   "cell_type": "code",
   "execution_count": 68,
   "id": "aecf413a",
   "metadata": {},
   "outputs": [
    {
     "name": "stdout",
     "output_type": "stream",
     "text": [
      "Epoch 1/10\n",
      "10750/10750 [==============================] - 24s 2ms/step - loss: 0.6429 - accuracy: 0.6408\n",
      "Epoch 2/10\n",
      "10750/10750 [==============================] - 24s 2ms/step - loss: 0.6285 - accuracy: 0.6603\n",
      "Epoch 3/10\n",
      "10750/10750 [==============================] - 23s 2ms/step - loss: 0.6274 - accuracy: 0.6649\n",
      "Epoch 4/10\n",
      "10750/10750 [==============================] - 23s 2ms/step - loss: 0.6236 - accuracy: 0.6649\n",
      "Epoch 5/10\n",
      "10750/10750 [==============================] - 23s 2ms/step - loss: 0.6216 - accuracy: 0.6659\n",
      "Epoch 6/10\n",
      "10750/10750 [==============================] - 23s 2ms/step - loss: 0.6194 - accuracy: 0.6680\n",
      "Epoch 7/10\n",
      "10750/10750 [==============================] - 23s 2ms/step - loss: 0.6187 - accuracy: 0.6678\n",
      "Epoch 8/10\n",
      "10750/10750 [==============================] - 23s 2ms/step - loss: 0.6139 - accuracy: 0.6722\n",
      "Epoch 9/10\n",
      "10750/10750 [==============================] - 23s 2ms/step - loss: 0.6129 - accuracy: 0.6744\n",
      "Epoch 10/10\n",
      "10750/10750 [==============================] - 23s 2ms/step - loss: 0.6110 - accuracy: 0.6729\n",
      "2688/2688 [==============================] - 2s 887us/step\n",
      "0.6726190476190477\n"
     ]
    },
    {
     "data": {
      "text/plain": [
       "array([[1267,  247],\n",
       "       [ 633,  541]], dtype=int64)"
      ]
     },
     "execution_count": 68,
     "metadata": {},
     "output_type": "execute_result"
    }
   ],
   "source": [
    "def lstm_rnn():\n",
    "    model = Sequential()\n",
    "    model.add(LSTM(units=50, input_shape=(200, 1), return_sequences=False))\n",
    "    model.add(Dense(2, activation=\"softmax\"))\n",
    "    model.compile(loss=\"categorical_crossentropy\", optimizer=Adam(lr=0.001), metrics=[\"accuracy\"])\n",
    "    \n",
    "    return model\n",
    "\n",
    "model = KerasClassifier(build_fn=lstm_rnn, epochs=10, batch_size=50, verbose=1)\n",
    "model.fit(X_train, y_train) # loss: 0.8624 - accuracy: 0.7405\n",
    "\n",
    "y_pred = model.predict(X_test)\n",
    "print(accuracy_score(y_pred, y_test))\n",
    "mat = confusion_matrix(y_test , y_pred)\n",
    "mat"
   ]
  },
  {
   "cell_type": "code",
   "execution_count": null,
   "id": "5740d9e8",
   "metadata": {},
   "outputs": [],
   "source": []
  }
 ],
 "metadata": {
  "kernelspec": {
   "display_name": "Python 3",
   "language": "python",
   "name": "python3"
  },
  "language_info": {
   "codemirror_mode": {
    "name": "ipython",
    "version": 3
   },
   "file_extension": ".py",
   "mimetype": "text/x-python",
   "name": "python",
   "nbconvert_exporter": "python",
   "pygments_lexer": "ipython3",
   "version": "3.7.10"
  }
 },
 "nbformat": 4,
 "nbformat_minor": 5
}
