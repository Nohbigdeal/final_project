{
 "cells": [
  {
   "cell_type": "code",
   "execution_count": 40,
   "id": "d46ed820",
   "metadata": {},
   "outputs": [],
   "source": [
    "from bs4 import BeautifulSoup\n",
    "from selenium import webdriver\n",
    "import selenium\n",
    "from urllib.parse import  urlparse\n",
    "import time\n",
    "import lxml\n",
    "import xlrd\n",
    "from urllib.request import urlopen\n",
    "from selenium.webdriver.common.keys import Keys\n",
    "import numpy as np\n",
    "import pandas as pd"
   ]
  },
  {
   "cell_type": "code",
   "execution_count": 3,
   "id": "eee96d4e",
   "metadata": {},
   "outputs": [],
   "source": [
    "# for word in [\"갤럭시\", \"버즈라이브\", \"버즈플러스\", \"갤탭\", \"갤럭시북\", \"갤럭시기어\"]:\n",
    "# for word in [\"맥북\", \"M1\", \"아이폰\", \"에어팟\", \"애플워치\", \"아이패드\"]:\n",
    "# for word in [\"미밴드\", \"홍미노트\", \"샤오미워치\", \"어메이즈핏\", \"샤오미폰\", \"샤오미휴대폰\"]:\n",
    "\n",
    "# for 문으로 줄이기\n",
    "samsung1 = pd.read_csv(\"C:/690009/TP2/final_project/member/NTJ/crawlerNS/data/갤럭시20page.csv\", encoding=\"utf-8\", names=[\"제목\", \"가격\", \"등록일\", \"리뷰수\"], header=1)\n",
    "samsung2 = pd.read_csv(\"C:/690009/TP2/final_project/member/NTJ/crawlerNS/data/버즈라이브20page.csv\", encoding=\"utf-8\", names=[\"제목\", \"가격\", \"등록일\", \"리뷰수\"], header=1)\n",
    "samsung3 = pd.read_csv(\"C:/690009/TP2/final_project/member/NTJ/crawlerNS/data/버즈플러스20page.csv\", encoding=\"utf-8\", names=[\"제목\", \"가격\", \"등록일\", \"리뷰수\"], header=1)\n",
    "samsung4 = pd.read_csv(\"C:/690009/TP2/final_project/member/NTJ/crawlerNS/data/갤탭20page.csv\", encoding=\"utf-8\", names=[\"제목\", \"가격\", \"등록일\", \"리뷰수\"], header=1)\n",
    "samsung5 = pd.read_csv(\"C:/690009/TP2/final_project/member/NTJ/crawlerNS/data/갤럭시북20page.csv\", encoding=\"utf-8\", names=[\"제목\", \"가격\", \"등록일\", \"리뷰수\"], header=1)\n",
    "samsung6 = pd.read_csv(\"C:/690009/TP2/final_project/member/NTJ/crawlerNS/data/갤럭시기어20page.csv\", encoding=\"utf-8\", names=[\"제목\", \"가격\", \"등록일\", \"리뷰수\"], header=1)\n",
    "\n",
    "apple1 = pd.read_csv(\"C:/690009/TP2/final_project/member/NTJ/crawlerNS/data/M120page.csv\", encoding=\"utf-8\", names=[\"제목\", \"가격\", \"등록일\", \"리뷰수\"], header=1)\n",
    "apple2 = pd.read_csv(\"C:/690009/TP2/final_project/member/NTJ/crawlerNS/data/맥북20page.csv\", encoding=\"utf-8\", names=[\"제목\", \"가격\", \"등록일\", \"리뷰수\"], header=1)\n",
    "apple3 = pd.read_csv(\"C:/690009/TP2/final_project/member/NTJ/crawlerNS/data/아이폰20page.csv\", encoding=\"utf-8\", names=[\"제목\", \"가격\", \"등록일\", \"리뷰수\"], header=1)\n",
    "apple4 = pd.read_csv(\"C:/690009/TP2/final_project/member/NTJ/crawlerNS/data/에어팟20page.csv\", encoding=\"utf-8\", names=[\"제목\", \"가격\", \"등록일\", \"리뷰수\"], header=1)\n",
    "apple5 = pd.read_csv(\"C:/690009/TP2/final_project/member/NTJ/crawlerNS/data/애플워치20page.csv\", encoding=\"utf-8\", names=[\"제목\", \"가격\", \"등록일\", \"리뷰수\"], header=1)\n",
    "apple6 = pd.read_csv(\"C:/690009/TP2/final_project/member/NTJ/crawlerNS/data/아이패드20page.csv\", encoding=\"utf-8\", names=[\"제목\", \"가격\", \"등록일\", \"리뷰수\"], header=1)\n",
    "\n",
    "shaomi1 = pd.read_csv(\"C:/690009/TP2/final_project/member/NTJ/crawlerNS/data/미밴드20page.csv\", encoding=\"utf-8\", names=[\"제목\", \"가격\", \"등록일\", \"리뷰수\"], header=1)\n",
    "shaomi2 = pd.read_csv(\"C:/690009/TP2/final_project/member/NTJ/crawlerNS/data/홍미노트20page.csv\", encoding=\"utf-8\", names=[\"제목\", \"가격\", \"등록일\", \"리뷰수\"], header=1)\n",
    "shaomi3 = pd.read_csv(\"C:/690009/TP2/final_project/member/NTJ/crawlerNS/data/샤오미워치20page.csv\", encoding=\"utf-8\", names=[\"제목\", \"가격\", \"등록일\", \"리뷰수\"], header=1)\n",
    "shaomi4 = pd.read_csv(\"C:/690009/TP2/final_project/member/NTJ/crawlerNS/data/어메이즈핏20page.csv\", encoding=\"utf-8\", names=[\"제목\", \"가격\", \"등록일\", \"리뷰수\"], header=1)\n",
    "shaomi5 = pd.read_csv(\"C:/690009/TP2/final_project/member/NTJ/crawlerNS/data/샤오미폰20page.csv\", encoding=\"utf-8\", names=[\"제목\", \"가격\", \"등록일\", \"리뷰수\"], header=1)\n",
    "shaomi6 = pd.read_csv(\"C:/690009/TP2/final_project/member/NTJ/crawlerNS/data/샤오미휴대폰20page.csv\", encoding=\"utf-8\", names=[\"제목\", \"가격\", \"등록일\", \"리뷰수\"], header=1)"
   ]
  },
  {
   "cell_type": "code",
   "execution_count": 6,
   "id": "2955c846",
   "metadata": {},
   "outputs": [
    {
     "data": {
      "text/html": [
       "<div>\n",
       "<style scoped>\n",
       "    .dataframe tbody tr th:only-of-type {\n",
       "        vertical-align: middle;\n",
       "    }\n",
       "\n",
       "    .dataframe tbody tr th {\n",
       "        vertical-align: top;\n",
       "    }\n",
       "\n",
       "    .dataframe thead th {\n",
       "        text-align: right;\n",
       "    }\n",
       "</style>\n",
       "<table border=\"1\" class=\"dataframe\">\n",
       "  <thead>\n",
       "    <tr style=\"text-align: right;\">\n",
       "      <th></th>\n",
       "      <th>제목</th>\n",
       "      <th>가격</th>\n",
       "      <th>등록일</th>\n",
       "      <th>리뷰수</th>\n",
       "    </tr>\n",
       "  </thead>\n",
       "  <tbody>\n",
       "    <tr>\n",
       "      <th>1</th>\n",
       "      <td>삼성 갤럭시S21 256GB 팬텀바이올렛 SKT 5G 중고폰 공기계</td>\n",
       "      <td>670000</td>\n",
       "      <td>등록일 2021.03.</td>\n",
       "      <td>6341</td>\n",
       "    </tr>\n",
       "    <tr>\n",
       "      <th>2</th>\n",
       "      <td>삼성 갤럭시S9 64GB 코랄블루 SKT 중고폰 공기계,중고폰 공기계</td>\n",
       "      <td>80000</td>\n",
       "      <td>등록일 2018.04.</td>\n",
       "      <td>6267</td>\n",
       "    </tr>\n",
       "    <tr>\n",
       "      <th>3</th>\n",
       "      <td>삼성 갤럭시S10 5G 256GB 크라운실버 SKT 5G 중고폰 공기계,중고폰 공기계</td>\n",
       "      <td>110000</td>\n",
       "      <td>등록일 2019.05.</td>\n",
       "      <td>6169</td>\n",
       "    </tr>\n",
       "    <tr>\n",
       "      <th>4</th>\n",
       "      <td>삼성 갤럭시노트20울트라 256GB 미스틱브론즈 SKT 5G 중고폰 공기계</td>\n",
       "      <td>780000</td>\n",
       "      <td>등록일 2021.03.</td>\n",
       "      <td>6161</td>\n",
       "    </tr>\n",
       "    <tr>\n",
       "      <th>5</th>\n",
       "      <td>삼성 갤럭시노트10 256GB 아우라글로우 SKT 5G 중고폰 공기계,중고폰 공기계</td>\n",
       "      <td>300000</td>\n",
       "      <td>등록일 2019.10.</td>\n",
       "      <td>6141</td>\n",
       "    </tr>\n",
       "  </tbody>\n",
       "</table>\n",
       "</div>"
      ],
      "text/plain": [
       "                                                제목      가격           등록일   리뷰수\n",
       "1            삼성 갤럭시S21 256GB 팬텀바이올렛 SKT 5G 중고폰 공기계  670000  등록일 2021.03.  6341\n",
       "2           삼성 갤럭시S9 64GB 코랄블루 SKT 중고폰 공기계,중고폰 공기계   80000  등록일 2018.04.  6267\n",
       "3  삼성 갤럭시S10 5G 256GB 크라운실버 SKT 5G 중고폰 공기계,중고폰 공기계  110000  등록일 2019.05.  6169\n",
       "4        삼성 갤럭시노트20울트라 256GB 미스틱브론즈 SKT 5G 중고폰 공기계  780000  등록일 2021.03.  6161\n",
       "5   삼성 갤럭시노트10 256GB 아우라글로우 SKT 5G 중고폰 공기계,중고폰 공기계  300000  등록일 2019.10.  6141"
      ]
     },
     "execution_count": 6,
     "metadata": {},
     "output_type": "execute_result"
    }
   ],
   "source": [
    "samsung1.head()"
   ]
  },
  {
   "cell_type": "code",
   "execution_count": 31,
   "id": "fb2a4759",
   "metadata": {
    "scrolled": true
   },
   "outputs": [
    {
     "name": "stdout",
     "output_type": "stream",
     "text": [
      "제목     0\n",
      "가격     0\n",
      "등록일    0\n",
      "리뷰수    0\n",
      "dtype: int64\n",
      "제목     0\n",
      "가격     0\n",
      "등록일    0\n",
      "리뷰수    0\n",
      "dtype: int64\n"
     ]
    }
   ],
   "source": [
    "print(shaomi5.isna().sum()) # na값 없음\n",
    "print(shaomi5.isnull().sum()) #null값 없음"
   ]
  },
  {
   "cell_type": "code",
   "execution_count": 39,
   "id": "b96cac60",
   "metadata": {},
   "outputs": [
    {
     "ename": "KeyError",
     "evalue": "True",
     "output_type": "error",
     "traceback": [
      "\u001b[1;31m---------------------------------------------------------------------------\u001b[0m",
      "\u001b[1;31mKeyError\u001b[0m                                  Traceback (most recent call last)",
      "\u001b[1;32mC:\\ProgramData\\Anaconda3\\lib\\site-packages\\pandas\\core\\indexes\\base.py\u001b[0m in \u001b[0;36mget_loc\u001b[1;34m(self, key, method, tolerance)\u001b[0m\n\u001b[0;32m   3079\u001b[0m             \u001b[1;32mtry\u001b[0m\u001b[1;33m:\u001b[0m\u001b[1;33m\u001b[0m\u001b[1;33m\u001b[0m\u001b[0m\n\u001b[1;32m-> 3080\u001b[1;33m                 \u001b[1;32mreturn\u001b[0m \u001b[0mself\u001b[0m\u001b[1;33m.\u001b[0m\u001b[0m_engine\u001b[0m\u001b[1;33m.\u001b[0m\u001b[0mget_loc\u001b[0m\u001b[1;33m(\u001b[0m\u001b[0mcasted_key\u001b[0m\u001b[1;33m)\u001b[0m\u001b[1;33m\u001b[0m\u001b[1;33m\u001b[0m\u001b[0m\n\u001b[0m\u001b[0;32m   3081\u001b[0m             \u001b[1;32mexcept\u001b[0m \u001b[0mKeyError\u001b[0m \u001b[1;32mas\u001b[0m \u001b[0merr\u001b[0m\u001b[1;33m:\u001b[0m\u001b[1;33m\u001b[0m\u001b[1;33m\u001b[0m\u001b[0m\n",
      "\u001b[1;32mpandas\\_libs\\index.pyx\u001b[0m in \u001b[0;36mpandas._libs.index.IndexEngine.get_loc\u001b[1;34m()\u001b[0m\n",
      "\u001b[1;32mpandas\\_libs\\index.pyx\u001b[0m in \u001b[0;36mpandas._libs.index.IndexEngine.get_loc\u001b[1;34m()\u001b[0m\n",
      "\u001b[1;32mpandas\\_libs\\hashtable_class_helper.pxi\u001b[0m in \u001b[0;36mpandas._libs.hashtable.PyObjectHashTable.get_item\u001b[1;34m()\u001b[0m\n",
      "\u001b[1;32mpandas\\_libs\\hashtable_class_helper.pxi\u001b[0m in \u001b[0;36mpandas._libs.hashtable.PyObjectHashTable.get_item\u001b[1;34m()\u001b[0m\n",
      "\u001b[1;31mKeyError\u001b[0m: True",
      "\nThe above exception was the direct cause of the following exception:\n",
      "\u001b[1;31mKeyError\u001b[0m                                  Traceback (most recent call last)",
      "\u001b[1;32m<ipython-input-39-0a32f8d13154>\u001b[0m in \u001b[0;36m<module>\u001b[1;34m\u001b[0m\n\u001b[0;32m      2\u001b[0m \u001b[1;31m# print(sam1)\u001b[0m\u001b[1;33m\u001b[0m\u001b[1;33m\u001b[0m\u001b[1;33m\u001b[0m\u001b[0m\n\u001b[0;32m      3\u001b[0m \u001b[1;31m#공기계?\u001b[0m\u001b[1;33m\u001b[0m\u001b[1;33m\u001b[0m\u001b[1;33m\u001b[0m\u001b[0m\n\u001b[1;32m----> 4\u001b[1;33m \u001b[0msam2\u001b[0m \u001b[1;33m=\u001b[0m \u001b[0msamsung2\u001b[0m\u001b[1;33m[\u001b[0m\u001b[1;34m\"케이스\"\u001b[0m \u001b[1;32mnot\u001b[0m \u001b[1;32min\u001b[0m \u001b[0msamsung2\u001b[0m\u001b[1;33m.\u001b[0m\u001b[0m제목\u001b[0m\u001b[1;33m]\u001b[0m\u001b[1;33m\u001b[0m\u001b[1;33m\u001b[0m\u001b[0m\n\u001b[0m",
      "\u001b[1;32mC:\\ProgramData\\Anaconda3\\lib\\site-packages\\pandas\\core\\frame.py\u001b[0m in \u001b[0;36m__getitem__\u001b[1;34m(self, key)\u001b[0m\n\u001b[0;32m   3022\u001b[0m             \u001b[1;32mif\u001b[0m \u001b[0mself\u001b[0m\u001b[1;33m.\u001b[0m\u001b[0mcolumns\u001b[0m\u001b[1;33m.\u001b[0m\u001b[0mnlevels\u001b[0m \u001b[1;33m>\u001b[0m \u001b[1;36m1\u001b[0m\u001b[1;33m:\u001b[0m\u001b[1;33m\u001b[0m\u001b[1;33m\u001b[0m\u001b[0m\n\u001b[0;32m   3023\u001b[0m                 \u001b[1;32mreturn\u001b[0m \u001b[0mself\u001b[0m\u001b[1;33m.\u001b[0m\u001b[0m_getitem_multilevel\u001b[0m\u001b[1;33m(\u001b[0m\u001b[0mkey\u001b[0m\u001b[1;33m)\u001b[0m\u001b[1;33m\u001b[0m\u001b[1;33m\u001b[0m\u001b[0m\n\u001b[1;32m-> 3024\u001b[1;33m             \u001b[0mindexer\u001b[0m \u001b[1;33m=\u001b[0m \u001b[0mself\u001b[0m\u001b[1;33m.\u001b[0m\u001b[0mcolumns\u001b[0m\u001b[1;33m.\u001b[0m\u001b[0mget_loc\u001b[0m\u001b[1;33m(\u001b[0m\u001b[0mkey\u001b[0m\u001b[1;33m)\u001b[0m\u001b[1;33m\u001b[0m\u001b[1;33m\u001b[0m\u001b[0m\n\u001b[0m\u001b[0;32m   3025\u001b[0m             \u001b[1;32mif\u001b[0m \u001b[0mis_integer\u001b[0m\u001b[1;33m(\u001b[0m\u001b[0mindexer\u001b[0m\u001b[1;33m)\u001b[0m\u001b[1;33m:\u001b[0m\u001b[1;33m\u001b[0m\u001b[1;33m\u001b[0m\u001b[0m\n\u001b[0;32m   3026\u001b[0m                 \u001b[0mindexer\u001b[0m \u001b[1;33m=\u001b[0m \u001b[1;33m[\u001b[0m\u001b[0mindexer\u001b[0m\u001b[1;33m]\u001b[0m\u001b[1;33m\u001b[0m\u001b[1;33m\u001b[0m\u001b[0m\n",
      "\u001b[1;32mC:\\ProgramData\\Anaconda3\\lib\\site-packages\\pandas\\core\\indexes\\base.py\u001b[0m in \u001b[0;36mget_loc\u001b[1;34m(self, key, method, tolerance)\u001b[0m\n\u001b[0;32m   3080\u001b[0m                 \u001b[1;32mreturn\u001b[0m \u001b[0mself\u001b[0m\u001b[1;33m.\u001b[0m\u001b[0m_engine\u001b[0m\u001b[1;33m.\u001b[0m\u001b[0mget_loc\u001b[0m\u001b[1;33m(\u001b[0m\u001b[0mcasted_key\u001b[0m\u001b[1;33m)\u001b[0m\u001b[1;33m\u001b[0m\u001b[1;33m\u001b[0m\u001b[0m\n\u001b[0;32m   3081\u001b[0m             \u001b[1;32mexcept\u001b[0m \u001b[0mKeyError\u001b[0m \u001b[1;32mas\u001b[0m \u001b[0merr\u001b[0m\u001b[1;33m:\u001b[0m\u001b[1;33m\u001b[0m\u001b[1;33m\u001b[0m\u001b[0m\n\u001b[1;32m-> 3082\u001b[1;33m                 \u001b[1;32mraise\u001b[0m \u001b[0mKeyError\u001b[0m\u001b[1;33m(\u001b[0m\u001b[0mkey\u001b[0m\u001b[1;33m)\u001b[0m \u001b[1;32mfrom\u001b[0m \u001b[0merr\u001b[0m\u001b[1;33m\u001b[0m\u001b[1;33m\u001b[0m\u001b[0m\n\u001b[0m\u001b[0;32m   3083\u001b[0m \u001b[1;33m\u001b[0m\u001b[0m\n\u001b[0;32m   3084\u001b[0m         \u001b[1;32mif\u001b[0m \u001b[0mtolerance\u001b[0m \u001b[1;32mis\u001b[0m \u001b[1;32mnot\u001b[0m \u001b[1;32mNone\u001b[0m\u001b[1;33m:\u001b[0m\u001b[1;33m\u001b[0m\u001b[1;33m\u001b[0m\u001b[0m\n",
      "\u001b[1;31mKeyError\u001b[0m: True"
     ]
    }
   ],
   "source": [
    "# sam1 = samsung1[samsung1.가격>100000]\n",
    "# print(sam1)\n",
    "#공기계?\n",
    "sam2 = samsung2[\"케이스\" not in samsung2.제목]"
   ]
  },
  {
   "cell_type": "code",
   "execution_count": 41,
   "id": "3209e017",
   "metadata": {},
   "outputs": [
    {
     "data": {
      "text/plain": [
       "1       False\n",
       "2       False\n",
       "3       False\n",
       "4       False\n",
       "5       False\n",
       "        ...  \n",
       "1595     True\n",
       "1596     True\n",
       "1597     True\n",
       "1598     True\n",
       "1599     True\n",
       "Name: 제목, Length: 1599, dtype: bool"
      ]
     },
     "execution_count": 41,
     "metadata": {},
     "output_type": "execute_result"
    }
   ],
   "source": [
    "samsung2[\"제목\"].str.contains(\"케이스\")"
   ]
  },
  {
   "cell_type": "code",
   "execution_count": 26,
   "id": "e32a030c",
   "metadata": {},
   "outputs": [
    {
     "data": {
      "text/plain": [
       "제목     0\n",
       "가격     0\n",
       "등록일    0\n",
       "리뷰수    0\n",
       "dtype: int64"
      ]
     },
     "execution_count": 26,
     "metadata": {},
     "output_type": "execute_result"
    }
   ],
   "source": [
    "#통합 후 중복 처리\n",
    "\n",
    "# samsung1.drop_duplicates(subset=['제목', '가격', '리뷰수'], keep='first')\n",
    "# samsung2.drop_duplicates(subset=['제목', '가격', '리뷰수'], keep='first')\n",
    "# samsung3.drop_duplicates(subset=['제목', '가격', '리뷰수'], keep='first')\n",
    "# samsung4.drop_duplicates(subset=['제목', '가격', '리뷰수'], keep='first')\n",
    "# samsung5.drop_duplicates(subset=['제목', '가격', '리뷰수'], keep='first')\n",
    "# samsung6.drop_duplicates(subset=['제목', '가격', '리뷰수'], keep='first')\n",
    "\n",
    "# apple1.drop_duplicates(subset=['제목', '가격', '리뷰수'], keep='first')\n",
    "# apple2.drop_duplicates(subset=['제목', '가격', '리뷰수'], keep='first')\n",
    "# apple3.drop_duplicates(subset=['제목', '가격', '리뷰수'], keep='first')\n",
    "# apple4.drop_duplicates(subset=['제목', '가격', '리뷰수'], keep='first')\n",
    "# apple5.drop_duplicates(subset=['제목', '가격', '리뷰수'], keep='first')\n",
    "# apple6.drop_duplicates(subset=['제목', '가격', '리뷰수'], keep='first')\n",
    "\n",
    "# shaomi1.drop_duplicates(subset=['제목', '가격', '리뷰수'], keep='first')\n",
    "# shaomi2.drop_duplicates(subset=['제목', '가격', '리뷰수'], keep='first')\n",
    "# shaomi3.drop_duplicates(subset=['제목', '가격', '리뷰수'], keep='first')\n",
    "# shaomi4.drop_duplicates(subset=['제목', '가격', '리뷰수'], keep='first')\n",
    "# shaomi5.drop_duplicates(subset=['제목', '가격', '리뷰수'], keep='first')\n",
    "# shaomi6.drop_duplicates(subset=['제목', '가격', '리뷰수'], keep='first')\n",
    "\n"
   ]
  },
  {
   "cell_type": "code",
   "execution_count": null,
   "id": "d2fbf4da",
   "metadata": {},
   "outputs": [],
   "source": []
  },
  {
   "cell_type": "code",
   "execution_count": null,
   "id": "78436726",
   "metadata": {},
   "outputs": [],
   "source": []
  },
  {
   "cell_type": "code",
   "execution_count": null,
   "id": "182a2868",
   "metadata": {},
   "outputs": [],
   "source": []
  },
  {
   "cell_type": "code",
   "execution_count": null,
   "id": "02e6c046",
   "metadata": {},
   "outputs": [],
   "source": []
  },
  {
   "cell_type": "code",
   "execution_count": null,
   "id": "357bddfe",
   "metadata": {},
   "outputs": [],
   "source": []
  },
  {
   "cell_type": "code",
   "execution_count": null,
   "id": "cf147a82",
   "metadata": {},
   "outputs": [],
   "source": []
  },
  {
   "cell_type": "code",
   "execution_count": null,
   "id": "19850318",
   "metadata": {},
   "outputs": [],
   "source": []
  }
 ],
 "metadata": {
  "kernelspec": {
   "display_name": "Python 3",
   "language": "python",
   "name": "python3"
  },
  "language_info": {
   "codemirror_mode": {
    "name": "ipython",
    "version": 3
   },
   "file_extension": ".py",
   "mimetype": "text/x-python",
   "name": "python",
   "nbconvert_exporter": "python",
   "pygments_lexer": "ipython3",
   "version": "3.8.8"
  }
 },
 "nbformat": 4,
 "nbformat_minor": 5
}
