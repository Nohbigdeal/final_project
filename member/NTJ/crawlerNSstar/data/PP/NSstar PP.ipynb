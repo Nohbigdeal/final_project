{
 "cells": [
  {
   "cell_type": "code",
   "execution_count": 2,
   "id": "c6c411cc",
   "metadata": {},
   "outputs": [],
   "source": [
    "from bs4 import BeautifulSoup\n",
    "from selenium import webdriver\n",
    "import selenium\n",
    "from urllib.parse import  urlparse\n",
    "import time\n",
    "import lxml\n",
    "from urllib.request import urlopen\n",
    "from selenium.webdriver.common.keys import Keys\n",
    "import numpy as np\n",
    "import pandas as pd\n",
    "import re\n",
    "import pickle\n",
    "from contextlib import suppress\n",
    "\n",
    "from konlpy.tag import Okt\n",
    "from tensorflow.keras.preprocessing.text import Tokenizer\n",
    "from tensorflow.keras.preprocessing.sequence import pad_sequences"
   ]
  },
  {
   "cell_type": "code",
   "execution_count": 6,
   "id": "6f6f5ad5",
   "metadata": {},
   "outputs": [],
   "source": [
    "xia1 = pd.read_csv(\"C:/690009/TP2/final_project/member/NTJ/crawlerNSStar/data/샤오미 레드미노트7.csv\", encoding=\"utf-8\", names=[\"type\", \"review\", \"star\"], header=1)\n",
    "xia2 = pd.read_csv(\"C:/690009/TP2/final_project/member/NTJ/crawlerNSStar/data/샤오미 미밴드5.csv\", encoding=\"utf-8\", names=[\"type\", \"review\", \"star\"], header=1)\n",
    "xia3 = pd.read_csv(\"C:/690009/TP2/final_project/member/NTJ/crawlerNSStar/data/샤오미 포코폰 F1 64GB [자급제].csv\", encoding=\"utf-8\", names=[\"type\", \"review\", \"star\"], header=1)\n",
    "xia4 = pd.read_csv(\"C:/690009/TP2/final_project/member/NTJ/crawlerNSStar/data/샤오미 홍미노트10프로 128GB.csv\", encoding=\"utf-8\", names=[\"type\", \"review\", \"star\"], header=1)\n",
    "xia5 = pd.read_csv(\"C:/690009/TP2/final_project/member/NTJ/crawlerNSStar/data/샤오미 Airdots 청춘판.csv\", encoding=\"utf-8\", names=[\"type\", \"review\", \"star\"], header=1)\n",
    "xia6 = pd.read_csv(\"C:/690009/TP2/final_project/member/NTJ/crawlerNSStar/data/샤오미 Redmi Airdots.csv\", encoding=\"utf-8\", names=[\"type\", \"review\", \"star\"], header=1)\n",
    "xia7 = pd.read_csv(\"C:/690009/TP2/final_project/member/NTJ/crawlerNSStar/data/샤오미 레드미 에어닷 S.csv\", encoding=\"utf-8\", names=[\"type\", \"review\", \"star\"], header=1)\n",
    "xia8 = pd.read_csv(\"C:/690009/TP2/final_project/member/NTJ/crawlerNSStar/data/샤오미 미밴드2.csv\", encoding=\"utf-8\", names=[\"type\", \"review\", \"star\"], header=1)\n",
    "\n",
    "\n",
    "xia1.drop_duplicates()\n",
    "xia2.drop_duplicates()\n",
    "xia3.drop_duplicates()\n",
    "xia4.drop_duplicates()\n",
    "xia5.drop_duplicates()\n",
    "xia6.drop_duplicates()\n",
    "xia7.drop_duplicates()\n",
    "xia8.drop_duplicates()\n",
    "\n",
    "xia1[\"type\"] = \"홍미노트7\"\n",
    "xia2[\"type\"] = \"미밴드5\"\n",
    "xia3[\"type\"] = \"포코폰\"\n",
    "xia4[\"type\"] = \"홍미노트10\"\n",
    "xia5[\"type\"] = \"에어닷\"\n",
    "xia6[\"type\"] = \"에어닷\"\n",
    "xia7[\"type\"] = \"에어닷\"\n",
    "xia8[\"type\"] = \"미밴드2\"\n",
    "\n"
   ]
  },
  {
   "cell_type": "code",
   "execution_count": 9,
   "id": "99f00427",
   "metadata": {},
   "outputs": [
    {
     "name": "stderr",
     "output_type": "stream",
     "text": [
      "<ipython-input-9-3cc5715036ef>:2: FutureWarning: The default value of regex will change from True to False in a future version.\n",
      "  xia1[\"review\"] = xia1[\"review\"].str.replace(\"[^a-zA-Z가-힣 ]\", \"\")\n"
     ]
    }
   ],
   "source": [
    "xia1[\"review\"] = xia1[\"review\"].str.replace(\"배송\", \"\")\n",
    "xia1[\"review\"] = xia1[\"review\"].str.replace(\"[^a-zA-Z가-힣 ]\", \"\")\n",
    "xia1\n",
    "xia1.to_csv(\"C:/690009/TP2/final_project/member/NTJ/crawlerNSstar/data/PP/xia1.csv\")"
   ]
  },
  {
   "cell_type": "code",
   "execution_count": 10,
   "id": "4c5a9010",
   "metadata": {},
   "outputs": [
    {
     "name": "stderr",
     "output_type": "stream",
     "text": [
      "<ipython-input-10-7337e8243555>:2: FutureWarning: The default value of regex will change from True to False in a future version.\n",
      "  xia2[\"review\"] = xia2[\"review\"].str.replace(\"[^a-zA-Z가-힣 ]\", \"\")\n"
     ]
    }
   ],
   "source": [
    "xia2[\"review\"] = xia2[\"review\"].str.replace(\"배송\", \"\")\n",
    "xia2[\"review\"] = xia2[\"review\"].str.replace(\"[^a-zA-Z가-힣 ]\", \"\")\n",
    "xia2\n",
    "xia2.to_csv(\"C:/690009/TP2/final_project/member/NTJ/crawlerNSstar/data/PP/xia2.csv\")"
   ]
  },
  {
   "cell_type": "code",
   "execution_count": 11,
   "id": "b307e7e3",
   "metadata": {},
   "outputs": [
    {
     "name": "stderr",
     "output_type": "stream",
     "text": [
      "<ipython-input-11-4197146aa78f>:2: FutureWarning: The default value of regex will change from True to False in a future version.\n",
      "  xia3[\"review\"] = xia2[\"review\"].str.replace(\"[^a-zA-Z가-힣 ]\", \"\")\n"
     ]
    }
   ],
   "source": [
    "xia3[\"review\"] = xia2[\"review\"].str.replace(\"배송\", \"\")\n",
    "xia3[\"review\"] = xia2[\"review\"].str.replace(\"[^a-zA-Z가-힣 ]\", \"\")\n",
    "xia3\n",
    "xia3.to_csv(\"C:/690009/TP2/final_project/member/NTJ/crawlerNSstar/data/PP/xia3.csv\")"
   ]
  },
  {
   "cell_type": "code",
   "execution_count": 12,
   "id": "3832b7b9",
   "metadata": {
    "scrolled": true
   },
   "outputs": [
    {
     "name": "stderr",
     "output_type": "stream",
     "text": [
      "<ipython-input-12-2357fb00264a>:2: FutureWarning: The default value of regex will change from True to False in a future version.\n",
      "  xia4[\"review\"] = xia4[\"review\"].str.replace(\"[^a-zA-Z가-힣 ]\", \"\")\n"
     ]
    }
   ],
   "source": [
    "xia4[\"review\"] = xia4[\"review\"].str.replace(\"배송\", \"\")\n",
    "xia4[\"review\"] = xia4[\"review\"].str.replace(\"[^a-zA-Z가-힣 ]\", \"\")\n",
    "xia4\n",
    "xia4.to_csv(\"C:/690009/TP2/final_project/member/NTJ/crawlerNSstar/data/PP/xia4.csv\")"
   ]
  },
  {
   "cell_type": "code",
   "execution_count": 13,
   "id": "279b93a2",
   "metadata": {},
   "outputs": [
    {
     "name": "stderr",
     "output_type": "stream",
     "text": [
      "<ipython-input-13-5299880605ec>:2: FutureWarning: The default value of regex will change from True to False in a future version.\n",
      "  xia5[\"review\"] = xia5[\"review\"].str.replace(\"[^a-zA-Z가-힣 ]\", \"\")\n"
     ]
    }
   ],
   "source": [
    "xia5[\"review\"] = xia5[\"review\"].str.replace(\"배송\", \"\")\n",
    "xia5[\"review\"] = xia5[\"review\"].str.replace(\"[^a-zA-Z가-힣 ]\", \"\")\n",
    "xia5\n",
    "xia5.to_csv(\"C:/690009/TP2/final_project/member/NTJ/crawlerNSstar/data/PP/xia5.csv\")"
   ]
  },
  {
   "cell_type": "code",
   "execution_count": 14,
   "id": "583d83f8",
   "metadata": {},
   "outputs": [
    {
     "name": "stderr",
     "output_type": "stream",
     "text": [
      "<ipython-input-14-b1e88f5c07ea>:2: FutureWarning: The default value of regex will change from True to False in a future version.\n",
      "  xia6[\"review\"] = xia6[\"review\"].str.replace(\"[^a-zA-Z가-힣 ]\", \"\")\n"
     ]
    }
   ],
   "source": [
    "xia6[\"review\"] = xia6[\"review\"].str.replace(\"배송\", \"\")\n",
    "xia6[\"review\"] = xia6[\"review\"].str.replace(\"[^a-zA-Z가-힣 ]\", \"\")\n",
    "xia6\n",
    "xia6.to_csv(\"C:/690009/TP2/final_project/member/NTJ/crawlerNSstar/data/PP/xia6.csv\")"
   ]
  },
  {
   "cell_type": "code",
   "execution_count": 15,
   "id": "932671af",
   "metadata": {},
   "outputs": [
    {
     "name": "stderr",
     "output_type": "stream",
     "text": [
      "<ipython-input-15-a131d34a72cd>:2: FutureWarning: The default value of regex will change from True to False in a future version.\n",
      "  xia7[\"review\"] = xia7[\"review\"].str.replace(\"[^a-zA-Z가-힣 ]\", \"\")\n"
     ]
    }
   ],
   "source": [
    "xia7[\"review\"] = xia7[\"review\"].str.replace(\"배송\", \"\")\n",
    "xia7[\"review\"] = xia7[\"review\"].str.replace(\"[^a-zA-Z가-힣 ]\", \"\")\n",
    "xia7\n",
    "xia7.to_csv(\"C:/690009/TP2/final_project/member/NTJ/crawlerNSstar/data/PP/xia7.csv\")"
   ]
  },
  {
   "cell_type": "code",
   "execution_count": 16,
   "id": "a40b5cc2",
   "metadata": {},
   "outputs": [
    {
     "name": "stderr",
     "output_type": "stream",
     "text": [
      "<ipython-input-16-f297be45f07e>:2: FutureWarning: The default value of regex will change from True to False in a future version.\n",
      "  xia8[\"review\"] = xia8[\"review\"].str.replace(\"[^a-zA-Z가-힣 ]\", \"\")\n"
     ]
    }
   ],
   "source": [
    "xia8[\"review\"] = xia8[\"review\"].str.replace(\"배송\", \"\")\n",
    "xia8[\"review\"] = xia8[\"review\"].str.replace(\"[^a-zA-Z가-힣 ]\", \"\")\n",
    "xia8\n",
    "xia8.to_csv(\"C:/690009/TP2/final_project/member/NTJ/crawlerNSstar/data/PP/xia8.csv\")"
   ]
  },
  {
   "cell_type": "code",
   "execution_count": 17,
   "id": "a3befe1d",
   "metadata": {},
   "outputs": [],
   "source": [
    "xia = pd.merge(xia1, xia2, on=['type', 'review', 'star'], how=\"outer\")\n",
    "xia = pd.merge(xia, xia3, on=['type', 'review', 'star'], how=\"outer\")\n",
    "xia = pd.merge(xia, xia4, on=['type', 'review', 'star'], how=\"outer\")\n",
    "xia = pd.merge(xia, xia5, on=['type', 'review', 'star'], how=\"outer\")\n",
    "xia = pd.merge(xia, xia6, on=['type', 'review', 'star'], how=\"outer\")\n",
    "xia = pd.merge(xia, xia7, on=['type', 'review', 'star'], how=\"outer\")\n",
    "xia = pd.merge(xia, xia8, on=['type', 'review', 'star'], how=\"outer\")\n",
    "\n",
    "xia\n",
    "xia.to_csv(\"C:/690009/TP2/final_project/member/NTJ/crawlerNSstar/data/PP/xia.csv\")"
   ]
  },
  {
   "cell_type": "code",
   "execution_count": 18,
   "id": "5fec8e51",
   "metadata": {
    "scrolled": true
   },
   "outputs": [
    {
     "data": {
      "text/html": [
       "<div>\n",
       "<style scoped>\n",
       "    .dataframe tbody tr th:only-of-type {\n",
       "        vertical-align: middle;\n",
       "    }\n",
       "\n",
       "    .dataframe tbody tr th {\n",
       "        vertical-align: top;\n",
       "    }\n",
       "\n",
       "    .dataframe thead th {\n",
       "        text-align: right;\n",
       "    }\n",
       "</style>\n",
       "<table border=\"1\" class=\"dataframe\">\n",
       "  <thead>\n",
       "    <tr style=\"text-align: right;\">\n",
       "      <th></th>\n",
       "      <th>type</th>\n",
       "      <th>review</th>\n",
       "      <th>star</th>\n",
       "    </tr>\n",
       "  </thead>\n",
       "  <tbody>\n",
       "    <tr>\n",
       "      <th>0</th>\n",
       "      <td>홍미노트7</td>\n",
       "      <td>쓰던 삼성폰이 갑자기 먹통이 되서 구입하게 되었습니다 왜 안되는지 알수가 없다네요 ...</td>\n",
       "      <td>5</td>\n",
       "    </tr>\n",
       "    <tr>\n",
       "      <th>1</th>\n",
       "      <td>홍미노트7</td>\n",
       "      <td>자급제폰으로 검색을 하던중에 아무리 둘러봐도 홍미노트만한 녀석이 없더군요해외직구를 ...</td>\n",
       "      <td>5</td>\n",
       "    </tr>\n",
       "    <tr>\n",
       "      <th>2</th>\n",
       "      <td>홍미노트7</td>\n",
       "      <td>홍미노트 쓰다가 을 사 봤습니다작아진 후면 카메라 부분 화질은 더욱 좋아졌고 후면이...</td>\n",
       "      <td>5</td>\n",
       "    </tr>\n",
       "    <tr>\n",
       "      <th>3</th>\n",
       "      <td>홍미노트7</td>\n",
       "      <td>솔직히 말해서 포인트 받을려고 쓰는 거 보다 제품이 너무 좋아서 쓰는 것도 있지만 ...</td>\n",
       "      <td>5</td>\n",
       "    </tr>\n",
       "    <tr>\n",
       "      <th>4</th>\n",
       "      <td>홍미노트7</td>\n",
       "      <td>도 빠르고 알뜰폰 사용중이라 공기계만 필요했는데 가성비도 좋고 폰도 이쁘고 너무 좋...</td>\n",
       "      <td>5</td>\n",
       "    </tr>\n",
       "    <tr>\n",
       "      <th>...</th>\n",
       "      <td>...</td>\n",
       "      <td>...</td>\n",
       "      <td>...</td>\n",
       "    </tr>\n",
       "    <tr>\n",
       "      <th>6980</th>\n",
       "      <td>미밴드2</td>\n",
       "      <td>쓰기편한데 고무라서 그런지 얼마 안가 다시 사야할거같은 느낌적인느낌이들고 그래도 잘...</td>\n",
       "      <td>1</td>\n",
       "    </tr>\n",
       "    <tr>\n",
       "      <th>6981</th>\n",
       "      <td>미밴드2</td>\n",
       "      <td>상품평을 많은 기대를 갖고서 구입했으나 전화 수신시 알려만주고 번호는 나타나지 않으...</td>\n",
       "      <td>1</td>\n",
       "    </tr>\n",
       "    <tr>\n",
       "      <th>6982</th>\n",
       "      <td>미밴드2</td>\n",
       "      <td>금액대비 아주 좋습니다 여러모로 편리하네요 감사합니다 저렴하게 잘 산것 같아요</td>\n",
       "      <td>1</td>\n",
       "    </tr>\n",
       "    <tr>\n",
       "      <th>6983</th>\n",
       "      <td>미밴드2</td>\n",
       "      <td>일주일 걸림</td>\n",
       "      <td>1</td>\n",
       "    </tr>\n",
       "    <tr>\n",
       "      <th>6984</th>\n",
       "      <td>미밴드2</td>\n",
       "      <td>좋아요 포장도 잘 되어있고 가격도 그리 비싸진 않지만 충전기가 좀 비싼편이네염 절대...</td>\n",
       "      <td>1</td>\n",
       "    </tr>\n",
       "  </tbody>\n",
       "</table>\n",
       "<p>6985 rows × 3 columns</p>\n",
       "</div>"
      ],
      "text/plain": [
       "       type                                             review  star\n",
       "0     홍미노트7  쓰던 삼성폰이 갑자기 먹통이 되서 구입하게 되었습니다 왜 안되는지 알수가 없다네요 ...     5\n",
       "1     홍미노트7  자급제폰으로 검색을 하던중에 아무리 둘러봐도 홍미노트만한 녀석이 없더군요해외직구를 ...     5\n",
       "2     홍미노트7  홍미노트 쓰다가 을 사 봤습니다작아진 후면 카메라 부분 화질은 더욱 좋아졌고 후면이...     5\n",
       "3     홍미노트7  솔직히 말해서 포인트 받을려고 쓰는 거 보다 제품이 너무 좋아서 쓰는 것도 있지만 ...     5\n",
       "4     홍미노트7  도 빠르고 알뜰폰 사용중이라 공기계만 필요했는데 가성비도 좋고 폰도 이쁘고 너무 좋...     5\n",
       "...     ...                                                ...   ...\n",
       "6980   미밴드2  쓰기편한데 고무라서 그런지 얼마 안가 다시 사야할거같은 느낌적인느낌이들고 그래도 잘...     1\n",
       "6981   미밴드2  상품평을 많은 기대를 갖고서 구입했으나 전화 수신시 알려만주고 번호는 나타나지 않으...     1\n",
       "6982   미밴드2        금액대비 아주 좋습니다 여러모로 편리하네요 감사합니다 저렴하게 잘 산것 같아요     1\n",
       "6983   미밴드2                                             일주일 걸림     1\n",
       "6984   미밴드2  좋아요 포장도 잘 되어있고 가격도 그리 비싸진 않지만 충전기가 좀 비싼편이네염 절대...     1\n",
       "\n",
       "[6985 rows x 3 columns]"
      ]
     },
     "execution_count": 18,
     "metadata": {},
     "output_type": "execute_result"
    }
   ],
   "source": [
    "xia"
   ]
  },
  {
   "cell_type": "code",
   "execution_count": null,
   "id": "c6d43090",
   "metadata": {},
   "outputs": [],
   "source": []
  },
  {
   "cell_type": "code",
   "execution_count": null,
   "id": "4e22c3ef",
   "metadata": {},
   "outputs": [],
   "source": []
  },
  {
   "cell_type": "code",
   "execution_count": null,
   "id": "6a13debd",
   "metadata": {},
   "outputs": [],
   "source": []
  },
  {
   "cell_type": "code",
   "execution_count": null,
   "id": "b4af17c8",
   "metadata": {},
   "outputs": [],
   "source": []
  },
  {
   "cell_type": "code",
   "execution_count": null,
   "id": "0418cc88",
   "metadata": {},
   "outputs": [],
   "source": []
  },
  {
   "cell_type": "code",
   "execution_count": null,
   "id": "d35dffa0",
   "metadata": {},
   "outputs": [],
   "source": []
  },
  {
   "cell_type": "code",
   "execution_count": null,
   "id": "318f1925",
   "metadata": {},
   "outputs": [],
   "source": []
  },
  {
   "cell_type": "code",
   "execution_count": null,
   "id": "17c63ac3",
   "metadata": {},
   "outputs": [],
   "source": []
  }
 ],
 "metadata": {
  "kernelspec": {
   "display_name": "Python 3",
   "language": "python",
   "name": "python3"
  },
  "language_info": {
   "codemirror_mode": {
    "name": "ipython",
    "version": 3
   },
   "file_extension": ".py",
   "mimetype": "text/x-python",
   "name": "python",
   "nbconvert_exporter": "python",
   "pygments_lexer": "ipython3",
   "version": "3.8.8"
  }
 },
 "nbformat": 4,
 "nbformat_minor": 5
}
