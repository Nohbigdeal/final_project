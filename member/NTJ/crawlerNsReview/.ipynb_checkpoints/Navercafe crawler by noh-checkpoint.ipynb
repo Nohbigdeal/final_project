{
 "cells": [
  {
   "cell_type": "code",
   "execution_count": 13,
   "id": "4633058d",
   "metadata": {},
   "outputs": [],
   "source": [
    "from bs4 import BeautifulSoup\n",
    "from selenium import webdriver\n",
    "import selenium\n",
    "from urllib.parse import  urlparse\n",
    "import time\n",
    "import lxml\n",
    "from urllib.request import urlopen\n",
    "from selenium.webdriver.common.keys import Keys\n",
    "import numpy as np\n",
    "import pandas as pd\n",
    "import re\n",
    "import pickle\n",
    "from contextlib import suppress"
   ]
  },
  {
   "cell_type": "code",
   "execution_count": null,
   "id": "67dbbd9f",
   "metadata": {},
   "outputs": [],
   "source": [
    "# 네이버 카페 게시판의 게시물을 수집하는 크롤러(제목, 본문, 등록일"
   ]
  },
  {
   "cell_type": "code",
   "execution_count": 49,
   "id": "3ff04843",
   "metadata": {},
   "outputs": [],
   "source": [
    "# 기본 정보\n",
    "\n",
    "cafe_code = \"anycallusershow\" #str\n",
    "board_url = \"https://cafe.naver.com/ArticleList.nhn?search.clubid=13764661&search.menuid=1034&search.boardtype=L&search.totalCount=151&search.cafeId=13764661\" # 게시판 url\n",
    "page_range = 1  #int\n",
    "post_num = []\n",
    "contents_list = []"
   ]
  },
  {
   "cell_type": "code",
   "execution_count": 50,
   "id": "00ec47b2",
   "metadata": {
    "scrolled": true
   },
   "outputs": [],
   "source": [
    "# 대상 게시판의 지정된 페이지만큼 글 번호만 추출 (리스트화)\n",
    "\n",
    "driver = None\n",
    "driver = webdriver.Chrome(\"chromedriver\")\n",
    "\n",
    "for i in range(page_range):\n",
    "    url = board_url + \"&search.page=\" + str(i+1)  # 주소 지정\n",
    "        \n",
    "    driver.get(url)\n",
    "    time.sleep(1) # implicity_wait, 암묵적, 파싱 대기시간. / #time.sleep은 무조건 대기\n",
    "    driver.switch_to.frame('cafe_main')\n",
    "    \n",
    "    html = driver.page_source.encode('utf-8')\n",
    "    soup = BeautifulSoup(html, 'html.parser')\n",
    "    a = soup.find_all('div', {'class': 'board-number'})\n",
    "    \n",
    "    for n in a:\n",
    "        post_num.append(re.search(\"[0-9]{2,8}\", str(n)).group())\n",
    "    \n",
    "driver.quit()\n"
   ]
  },
  {
   "cell_type": "code",
   "execution_count": 51,
   "id": "895d5287",
   "metadata": {},
   "outputs": [
    {
     "name": "stdout",
     "output_type": "stream",
     "text": [
      "['3760682', '3760358', '3760303', '3760287', '3760144', '3760107', '3759894', '3759543', '3759082', '3758796', '3758544', '3758136', '3758116', '3758102', '3757958']\n"
     ]
    }
   ],
   "source": [
    "print(post_num) # 내용 확인\n"
   ]
  },
  {
   "cell_type": "code",
   "execution_count": 55,
   "id": "74bbe1ca",
   "metadata": {},
   "outputs": [],
   "source": [
    "# 대상 게시물의 제목, 본문, 날짜 수집\n",
    "\n",
    "driver = None\n",
    "driver = webdriver.Chrome(\"chromedriver\")\n",
    "\n",
    "temp_title = []\n",
    "temp_content = []\n",
    "temp_date = []\n",
    "    \n",
    "for i in post_num:\n",
    "    url = \"https://cafe.naver.com/\" + cafe_code + \"/\" + i\n",
    "    \n",
    "    driver.get(url)\n",
    "    time.sleep(1)\n",
    "    driver.switch_to.frame('cafe_main')\n",
    "\n",
    "    html = driver.page_source\n",
    "    soup = BeautifulSoup(html, \"html.parser\")\n",
    "    content = soup.find('div', class_='ArticleContentBox')    \n",
    "\n",
    "    with suppress(AttributeError):   # 제목 없는 게시글\n",
    "        temp_title.append(content.find('h3',class_='title_text').text.strip()) \n",
    "        temp_content.append(content.find(\"div\", class_=\"article_viewer\").text.strip())\n",
    "        temp_date.append(content.find('div',class_='article_info').find('span',class_='date').text.strip())\n",
    "        \n",
    "driver.quit()        "
   ]
  },
  {
   "cell_type": "code",
   "execution_count": 56,
   "id": "7916f947",
   "metadata": {
    "collapsed": true
   },
   "outputs": [
    {
     "name": "stdout",
     "output_type": "stream",
     "text": [
      "                                0  \\\n",
      "0                     S21울트라 기변~~   \n",
      "1                s21u 8월 업뎃 후기 인증   \n",
      "2                 전 뽑기? 성공했네요 ㅋㅋㅋ   \n",
      "3   S21_엑시노스2100은 명백한 결함이고 리콜감입니다   \n",
      "4                            생존신고   \n",
      "5            속도 강화 전 후가 이렇게 차이나네요   \n",
      "6             21+ 업데이트 후 카메라 실행속도   \n",
      "7               S21은 울트라가 제일 낫네요.   \n",
      "8                        업뎃 전후 벤치   \n",
      "9             이번 업데이트 후 발열 어떠신가요?   \n",
      "10           + 팬텀실버 산지 3일차 허접한 후기   \n",
      "11          가족폰인데 업뎃후 에어컨 벤치결과입니다   \n",
      "12                   업뎃후에 더떨어졌는데;   \n",
      "13              갤럭시S21 울트라 긱벤치 점수   \n",
      "14                        업뎃후 긱벤치   \n",
      "\n",
      "                                                    1                  2  \n",
      "0   질문/추천 금지 X​s21울트라로 기변했습니다.침수된 s20+는 as비용만 80~9...  2021.08.10. 07:09  \n",
      "1   질문/추천 금지 X​안녕하세요?​4월 말에 구매해서 지금까지 울트라 잘 사용하고 있...  2021.08.09. 17:50  \n",
      "2   ​사용기종: s21​최대가 34~35도고 카메라 사용시 36도까지 찍었네요 ㅋㅋㅋㅋ...  2021.08.09. 17:00  \n",
      "3   성능을 반으로 줄여서 발열을 잡으면 그게 플래그쉽입니까? \\n\\n\\n\\n\\n\\n\\n...  2021.08.09. 16:46  \n",
      "4   놋텐플에서 기변으로 돌아왔습니다 바꾼지5일째 지만 속도체감은 못느끼겠는데 디스플레이...  2021.08.09. 13:39  \n",
      "5   질문/추천 금지 X\\n\\n\\n\\n \\n\\n\\n\\n\\n\\n\\n\\n\\n\\n\\n\\n\\n\\...  2021.08.09. 12:46  \n",
      "6   질문/추천 금지 X​저번 업데이트때는 업글 직후에만 빠르고 다시 느려졌었는데 이번 ...  2021.08.09. 07:44  \n",
      "7   질문/추천 금지 X​S21S21플러스는 S20보다 나은게 없고그나마 울트라가 고해상...  2021.08.08. 15:56  \n",
      "8                      질문/추천 금지 XS21 7/5 구매업뎃 전후 벤치점수  2021.08.07. 22:52  \n",
      "9   질문/추천 금지 X​이번 업데이트 후 저는 한 2-3도 정도 온도가 낮아졌네요. 쓰...  2021.08.07. 16:17  \n",
      "10  질문/추천 금지 X결론부터 먼저 말씀드리면 대만족이네요. ㅎㅎ번개xx에서 s급이상 ...  2021.08.07. 10:09  \n",
      "11  테스트기종: SM-G991​에어컨쪽 측정​점수 싱글 1066멀티 3408​테스트는 ...  2021.08.06. 18:46  \n",
      "12                                        질문/추천 금지 X​  2021.08.06. 18:14  \n",
      "13  질문/추천 금지 X​산지 2주정도되는데 점점떨어지네요너무낮은데..\\n\\n\\n\\n \\...  2021.08.06. 17:54  \n",
      "14  질문/추천 금지 X\\n\\n\\n\\n \\n\\n\\n\\n\\n\\n\\n\\n\\n\\n\\n\\n\\n\\...  2021.08.06. 14:46  \n"
     ]
    }
   ],
   "source": [
    "# 내용 확인\n",
    "arr = np.vstack([np.array(temp_title), np.array(temp_content), np.array(temp_date)])\n",
    "df = pd.DataFrame(arr).T\n",
    "df"
   ]
  },
  {
   "cell_type": "code",
   "execution_count": null,
   "id": "274e4a01",
   "metadata": {},
   "outputs": [],
   "source": [
    "# temp_dict['content'] = content.find(\"div\", class_=\"article_viewer\").text.strip()\n",
    "\n",
    "#         temp_dict['date'] = content.find('div',class_='article_info').find('span',class_='date').text.strip()\n",
    "#         contents_list.append(temp_dict)"
   ]
  }
 ],
 "metadata": {
  "kernelspec": {
   "display_name": "Python 3",
   "language": "python",
   "name": "python3"
  },
  "language_info": {
   "codemirror_mode": {
    "name": "ipython",
    "version": 3
   },
   "file_extension": ".py",
   "mimetype": "text/x-python",
   "name": "python",
   "nbconvert_exporter": "python",
   "pygments_lexer": "ipython3",
   "version": "3.8.8"
  }
 },
 "nbformat": 4,
 "nbformat_minor": 5
}
