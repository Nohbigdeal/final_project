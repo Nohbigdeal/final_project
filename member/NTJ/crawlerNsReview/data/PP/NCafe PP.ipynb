{
 "cells": [
  {
   "cell_type": "code",
   "execution_count": 140,
   "id": "a6357bca",
   "metadata": {},
   "outputs": [],
   "source": [
    "from bs4 import BeautifulSoup\n",
    "from selenium import webdriver\n",
    "import selenium\n",
    "from urllib.parse import  urlparse\n",
    "import urllib.request\n",
    "import time\n",
    "import lxml\n",
    "from urllib.request import urlopen\n",
    "from selenium.webdriver.common.keys import Keys\n",
    "import numpy as np\n",
    "import pandas as pd\n",
    "import re\n",
    "import pickle\n",
    "from contextlib import suppress\n",
    "import matplotlib.pyplot as plt\n",
    "\n",
    "from konlpy.tag import Okt\n",
    "from tensorflow.keras.preprocessing.text import Tokenizer\n",
    "from tensorflow.keras.preprocessing.sequence import pad_sequences"
   ]
  },
  {
   "cell_type": "code",
   "execution_count": 113,
   "id": "6c59f0b7",
   "metadata": {},
   "outputs": [
    {
     "data": {
      "text/html": [
       "<div>\n",
       "<style scoped>\n",
       "    .dataframe tbody tr th:only-of-type {\n",
       "        vertical-align: middle;\n",
       "    }\n",
       "\n",
       "    .dataframe tbody tr th {\n",
       "        vertical-align: top;\n",
       "    }\n",
       "\n",
       "    .dataframe thead th {\n",
       "        text-align: right;\n",
       "    }\n",
       "</style>\n",
       "<table border=\"1\" class=\"dataframe\">\n",
       "  <thead>\n",
       "    <tr style=\"text-align: right;\">\n",
       "      <th></th>\n",
       "      <th>제목</th>\n",
       "      <th>내용</th>\n",
       "      <th>등록일</th>\n",
       "    </tr>\n",
       "  </thead>\n",
       "  <tbody>\n",
       "    <tr>\n",
       "      <th>1</th>\n",
       "      <td>폴드3 색상 10분간 고민하며 들은 말 (feat. 폴드2 사전예약구매자)</td>\n",
       "      <td>이 가격에 이거 누가사 한 50만원은 더 싸져야지- 240주고 산 폴드2 민팃에 넣...</td>\n",
       "      <td>2021.08.13. 21:43</td>\n",
       "    </tr>\n",
       "    <tr>\n",
       "      <th>2</th>\n",
       "      <td>폴드3 엔조케이스 구매했어요</td>\n",
       "      <td>카페 회원님 따라 저도 구매했네요​지금 각인도 해주고 최대 15,000원까지 할인해...</td>\n",
       "      <td>2021.08.13. 21:32</td>\n",
       "    </tr>\n",
       "    <tr>\n",
       "      <th>3</th>\n",
       "      <td>상담끝나고 삼성디지털프라자에서 충전케이블 살 겸 전시된 폴더블폰 신제품 보고 왔습니다~</td>\n",
       "      <td>후면카메라 작동시\\n\\n\\n\\n\\n\\n\\n\\n\\n\\n\\n\\n전면카메라 작동시\\n\\n...</td>\n",
       "      <td>2021.08.13. 19:43</td>\n",
       "    </tr>\n",
       "    <tr>\n",
       "      <th>4</th>\n",
       "      <td>갤럭시 신제품 - 궁금하실 부분들만 총정리</td>\n",
       "      <td>* 본 글은 삼성멤버스에 올렸던 게시글을 그대로 복사 붙여넣기 한 게시글입니다.\\n...</td>\n",
       "      <td>2021.08.13. 19:10</td>\n",
       "    </tr>\n",
       "    <tr>\n",
       "      <th>5</th>\n",
       "      <td>디프에서 폴드3 체험한 후기</td>\n",
       "      <td>1. 디스플레이전작과는 달리 화면이 조금 더 단단해진 느낌입니다. 전작은 우레탄 필...</td>\n",
       "      <td>2021.08.13. 15:57</td>\n",
       "    </tr>\n",
       "    <tr>\n",
       "      <th>6</th>\n",
       "      <td>폴드3 , 플립2 구경하고 왔네요.</td>\n",
       "      <td>일단 ㅈㅔ가 가장 궁금했던건 흰지가 얼마나 덜 튀어나왔냐?? udc 가 얼마나 거슬...</td>\n",
       "      <td>2021.08.13. 13:57</td>\n",
       "    </tr>\n",
       "    <tr>\n",
       "      <th>7</th>\n",
       "      <td>udc후기</td>\n",
       "      <td>블랙화면시 오프\\n\\n\\n\\n\\n\\n\\n\\n\\n\\n\\n\\n밝은 바탕시 거슬리긴 함\\...</td>\n",
       "      <td>2021.08.13. 13:23</td>\n",
       "    </tr>\n",
       "    <tr>\n",
       "      <th>8</th>\n",
       "      <td>폴드3  udc 낮,밤 비교사진</td>\n",
       "      <td>udc 반응이 뜨거워서 올리는 게시글입니다 구매하려고 하시는분이 많다고 생각하여 비...</td>\n",
       "      <td>2021.08.13. 10:01</td>\n",
       "    </tr>\n",
       "    <tr>\n",
       "      <th>9</th>\n",
       "      <td>폴드3 udc에 관하여</td>\n",
       "      <td>제가 오늘 기기 받고 사용 해본 후기입니다낮에는 솔직히 잘보입니다 다만 위와같이 영...</td>\n",
       "      <td>2021.08.12. 22:54</td>\n",
       "    </tr>\n",
       "    <tr>\n",
       "      <th>10</th>\n",
       "      <td>z폴드3 색상, UDC, s펜 후기</td>\n",
       "      <td>안녕하세요.z폴드3 간단 후기를 남깆니다.​슬의하는 날이라 주말에 보러갈까 하다가,...</td>\n",
       "      <td>2021.08.12. 20:48</td>\n",
       "    </tr>\n",
       "    <tr>\n",
       "      <th>11</th>\n",
       "      <td>디프 폴드3 상담후기</td>\n",
       "      <td>일단 사진은 다른분들이 많이 올리니 안찍었어요..​정책적인 얘기 주로 해볼려고요.....</td>\n",
       "      <td>2021.08.12. 19:37</td>\n",
       "    </tr>\n",
       "    <tr>\n",
       "      <th>12</th>\n",
       "      <td>디지털프라자 폴드3 UDC 후기</td>\n",
       "      <td>폴드3가 궁금해서 일끝나고 디지털프라자에 방문해봤는데, 카메라 부분이 생각보다 눈에...</td>\n",
       "      <td>2021.08.12. 17:48</td>\n",
       "    </tr>\n",
       "    <tr>\n",
       "      <th>13</th>\n",
       "      <td>폴드3 실기 후기</td>\n",
       "      <td>1. 디자인- 9.0점매우 예뻐요. 전작에서 과한부분은 싹 쳐냈어요. 블랙의 유광도...</td>\n",
       "      <td>2021.08.12. 17:31</td>\n",
       "    </tr>\n",
       "    <tr>\n",
       "      <th>14</th>\n",
       "      <td>폴드3구매했습니다</td>\n",
       "      <td>디프에서 색상고민 십만번 하다가​블랙과 실버중에...​결국 블랙512샀네요​저는 폴...</td>\n",
       "      <td>2021.08.12. 16:14</td>\n",
       "    </tr>\n",
       "    <tr>\n",
       "      <th>15</th>\n",
       "      <td>디프 폴드3 방문기( 내구성 의문점?)</td>\n",
       "      <td>현재 폴드2 사용자인데,S펜에 대한 갈증이 심해 폴드3로 기변할까고민하던차에 디프 ...</td>\n",
       "      <td>2021.08.12. 14:27</td>\n",
       "    </tr>\n",
       "    <tr>\n",
       "      <th>16</th>\n",
       "      <td>방금 디프가서 신제품들 구경하고 왔어요.</td>\n",
       "      <td>안녕하세요? 노트20울트라 유저인데 이번에 폴드3가 괜찮을까 싶어서 관심을 가지고 ...</td>\n",
       "      <td>2021.08.12. 14:06</td>\n",
       "    </tr>\n",
       "    <tr>\n",
       "      <th>17</th>\n",
       "      <td>폴드3 실사진(폴드2 비교, 체험후기, UDC, S펜)</td>\n",
       "      <td>Loading... player_likesound_mutesound_mutesoun...</td>\n",
       "      <td>2021.08.12. 13:34</td>\n",
       "    </tr>\n",
       "    <tr>\n",
       "      <th>18</th>\n",
       "      <td>디프에서 플립3 폴드3 보고 왔습니다.</td>\n",
       "      <td>폴드3 UDC는 실망스럽네요 ㅜㅜ굳이 이렇게 미완성으로 내놓을거면 차기작으로 내놓치...</td>\n",
       "      <td>2021.08.12. 13:31</td>\n",
       "    </tr>\n",
       "    <tr>\n",
       "      <th>19</th>\n",
       "      <td>예민하신 분들은 거슬릴 수도 있겠네요</td>\n",
       "      <td>역시 1세대 기술이라서 기대 전혀 안했는데요생각보다 티가 많이나네요ㅜㅡㅜ저는 좀 예...</td>\n",
       "      <td>2021.08.12. 13:07</td>\n",
       "    </tr>\n",
       "    <tr>\n",
       "      <th>20</th>\n",
       "      <td>폴드3 구경 및 고민 후 예구하고 온 소감입니다</td>\n",
       "      <td>​\\n\\n\\n\\n \\n\\n\\n\\n\\n\\n\\n\\n\\n\\n\\n\\n\\n\\n\\n​폴드2 사...</td>\n",
       "      <td>2021.08.12. 12:45</td>\n",
       "    </tr>\n",
       "    <tr>\n",
       "      <th>21</th>\n",
       "      <td>폴드3 그린 실버  실물컷</td>\n",
       "      <td>udc 쫌  이상함 ㅠㅠ</td>\n",
       "      <td>2021.08.12. 12:43</td>\n",
       "    </tr>\n",
       "    <tr>\n",
       "      <th>22</th>\n",
       "      <td>갤럭시z폴드3 체험후기~!</td>\n",
       "      <td>폴드2랑 디자인은 별 차이가 없지만 UDC디스플레이는 좋네요.근데 아쉬운점은 흰화면...</td>\n",
       "      <td>2021.08.12. 11:57</td>\n",
       "    </tr>\n",
       "    <tr>\n",
       "      <th>23</th>\n",
       "      <td>폴드3 실버, 블랙 실사진</td>\n",
       "      <td>​\\n\\n\\n\\n \\n\\n\\n\\n\\n\\n\\n\\n\\n\\n\\n\\n\\n\\n\\n\\n\\n\\n...</td>\n",
       "      <td>2021.08.12. 10:40</td>\n",
       "    </tr>\n",
       "  </tbody>\n",
       "</table>\n",
       "</div>"
      ],
      "text/plain": [
       "                                                  제목  \\\n",
       "1          폴드3 색상 10분간 고민하며 들은 말 (feat. 폴드2 사전예약구매자)   \n",
       "2                                    폴드3 엔조케이스 구매했어요   \n",
       "3   상담끝나고 삼성디지털프라자에서 충전케이블 살 겸 전시된 폴더블폰 신제품 보고 왔습니다~   \n",
       "4                            갤럭시 신제품 - 궁금하실 부분들만 총정리   \n",
       "5                                    디프에서 폴드3 체험한 후기   \n",
       "6                                폴드3 , 플립2 구경하고 왔네요.   \n",
       "7                                              udc후기   \n",
       "8                                  폴드3  udc 낮,밤 비교사진   \n",
       "9                                       폴드3 udc에 관하여   \n",
       "10                               z폴드3 색상, UDC, s펜 후기   \n",
       "11                                       디프 폴드3 상담후기   \n",
       "12                                 디지털프라자 폴드3 UDC 후기   \n",
       "13                                         폴드3 실기 후기   \n",
       "14                                         폴드3구매했습니다   \n",
       "15                             디프 폴드3 방문기( 내구성 의문점?)   \n",
       "16                            방금 디프가서 신제품들 구경하고 왔어요.   \n",
       "17                    폴드3 실사진(폴드2 비교, 체험후기, UDC, S펜)   \n",
       "18                             디프에서 플립3 폴드3 보고 왔습니다.   \n",
       "19                              예민하신 분들은 거슬릴 수도 있겠네요   \n",
       "20                        폴드3 구경 및 고민 후 예구하고 온 소감입니다   \n",
       "21                                    폴드3 그린 실버  실물컷   \n",
       "22                                    갤럭시z폴드3 체험후기~!   \n",
       "23                                    폴드3 실버, 블랙 실사진   \n",
       "\n",
       "                                                   내용                등록일  \n",
       "1   이 가격에 이거 누가사 한 50만원은 더 싸져야지- 240주고 산 폴드2 민팃에 넣...  2021.08.13. 21:43  \n",
       "2   카페 회원님 따라 저도 구매했네요​지금 각인도 해주고 최대 15,000원까지 할인해...  2021.08.13. 21:32  \n",
       "3   후면카메라 작동시\\n\\n\\n\\n\\n\\n\\n\\n\\n\\n\\n\\n전면카메라 작동시\\n\\n...  2021.08.13. 19:43  \n",
       "4   * 본 글은 삼성멤버스에 올렸던 게시글을 그대로 복사 붙여넣기 한 게시글입니다.\\n...  2021.08.13. 19:10  \n",
       "5   1. 디스플레이전작과는 달리 화면이 조금 더 단단해진 느낌입니다. 전작은 우레탄 필...  2021.08.13. 15:57  \n",
       "6   일단 ㅈㅔ가 가장 궁금했던건 흰지가 얼마나 덜 튀어나왔냐?? udc 가 얼마나 거슬...  2021.08.13. 13:57  \n",
       "7   블랙화면시 오프\\n\\n\\n\\n\\n\\n\\n\\n\\n\\n\\n\\n밝은 바탕시 거슬리긴 함\\...  2021.08.13. 13:23  \n",
       "8   udc 반응이 뜨거워서 올리는 게시글입니다 구매하려고 하시는분이 많다고 생각하여 비...  2021.08.13. 10:01  \n",
       "9   제가 오늘 기기 받고 사용 해본 후기입니다낮에는 솔직히 잘보입니다 다만 위와같이 영...  2021.08.12. 22:54  \n",
       "10  안녕하세요.z폴드3 간단 후기를 남깆니다.​슬의하는 날이라 주말에 보러갈까 하다가,...  2021.08.12. 20:48  \n",
       "11  일단 사진은 다른분들이 많이 올리니 안찍었어요..​정책적인 얘기 주로 해볼려고요.....  2021.08.12. 19:37  \n",
       "12  폴드3가 궁금해서 일끝나고 디지털프라자에 방문해봤는데, 카메라 부분이 생각보다 눈에...  2021.08.12. 17:48  \n",
       "13  1. 디자인- 9.0점매우 예뻐요. 전작에서 과한부분은 싹 쳐냈어요. 블랙의 유광도...  2021.08.12. 17:31  \n",
       "14  디프에서 색상고민 십만번 하다가​블랙과 실버중에...​결국 블랙512샀네요​저는 폴...  2021.08.12. 16:14  \n",
       "15  현재 폴드2 사용자인데,S펜에 대한 갈증이 심해 폴드3로 기변할까고민하던차에 디프 ...  2021.08.12. 14:27  \n",
       "16  안녕하세요? 노트20울트라 유저인데 이번에 폴드3가 괜찮을까 싶어서 관심을 가지고 ...  2021.08.12. 14:06  \n",
       "17  Loading... player_likesound_mutesound_mutesoun...  2021.08.12. 13:34  \n",
       "18  폴드3 UDC는 실망스럽네요 ㅜㅜ굳이 이렇게 미완성으로 내놓을거면 차기작으로 내놓치...  2021.08.12. 13:31  \n",
       "19  역시 1세대 기술이라서 기대 전혀 안했는데요생각보다 티가 많이나네요ㅜㅡㅜ저는 좀 예...  2021.08.12. 13:07  \n",
       "20  ​\\n\\n\\n\\n \\n\\n\\n\\n\\n\\n\\n\\n\\n\\n\\n\\n\\n\\n\\n​폴드2 사...  2021.08.12. 12:45  \n",
       "21                                      udc 쫌  이상함 ㅠㅠ  2021.08.12. 12:43  \n",
       "22  폴드2랑 디자인은 별 차이가 없지만 UDC디스플레이는 좋네요.근데 아쉬운점은 흰화면...  2021.08.12. 11:57  \n",
       "23  ​\\n\\n\\n\\n \\n\\n\\n\\n\\n\\n\\n\\n\\n\\n\\n\\n\\n\\n\\n\\n\\n\\n...  2021.08.12. 10:40  "
      ]
     },
     "execution_count": 113,
     "metadata": {},
     "output_type": "execute_result"
    }
   ],
   "source": [
    "origin = [\"갤S21\", \"갤노트20\", \"갤럭시북\", \"갤워치버즈\", \"갤탭\", \"폴드2\", \"폴드3\", \"플립3\"]\n",
    "titles = [\"sam1\",    \"sam2\",     \"sam3\",      \"sam3\",    \"sam4\",  \"sma5\", \"sma6\",  \"sma7\"]\n",
    "\n",
    "sam1 = pd.read_csv(\"C:/690009/TP2/final_project/member/NTJ/crawlerNsReview/data/갤S21.csv\", encoding=\"utf-8\", names=[\"제목\", \"내용\", \"등록일\"], header=1)\n",
    "sam2 = pd.read_csv(\"C:/690009/TP2/final_project/member/NTJ/crawlerNsReview/data/갤노트20.csv\", encoding=\"utf-8\", names=[\"제목\", \"내용\", \"등록일\"], header=1)\n",
    "sam3 = pd.read_csv(\"C:/690009/TP2/final_project/member/NTJ/crawlerNsReview/data/갤럭시북.csv\", encoding=\"utf-8\", names=[\"제목\", \"내용\", \"등록일\"], header=1)\n",
    "sam4 = pd.read_csv(\"C:/690009/TP2/final_project/member/NTJ/crawlerNsReview/data/갤워치버즈.csv\", encoding=\"utf-8\", names=[\"제목\", \"내용\", \"등록일\"], header=1)\n",
    "sam5 = pd.read_csv(\"C:/690009/TP2/final_project/member/NTJ/crawlerNsReview/data/갤탭.csv\", encoding=\"utf-8\", names=[\"제목\", \"내용\", \"등록일\"], header=1)\n",
    "sam6 = pd.read_csv(\"C:/690009/TP2/final_project/member/NTJ/crawlerNsReview/data/폴드2.csv\", encoding=\"utf-8\", names=[\"제목\", \"내용\", \"등록일\"], header=1)\n",
    "sam7 = pd.read_csv(\"C:/690009/TP2/final_project/member/NTJ/crawlerNsReview/data/폴드3.csv\", encoding=\"utf-8\", names=[\"제목\", \"내용\", \"등록일\"], header=1)\n",
    "sam8 = pd.read_csv(\"C:/690009/TP2/final_project/member/NTJ/crawlerNsReview/data/폴드3.csv\", encoding=\"utf-8\", names=[\"제목\", \"내용\", \"등록일\"], header=1)\n",
    "\n",
    "sam1.drop_duplicates()\n",
    "sam2.drop_duplicates()\n",
    "sam3.drop_duplicates()\n",
    "sam4.drop_duplicates()\n",
    "sam5.drop_duplicates()\n",
    "sam6.drop_duplicates()\n",
    "sam7.drop_duplicates()\n",
    "sam8.drop_duplicates()"
   ]
  },
  {
   "cell_type": "code",
   "execution_count": 114,
   "id": "396d113f",
   "metadata": {},
   "outputs": [
    {
     "name": "stderr",
     "output_type": "stream",
     "text": [
      "<ipython-input-114-f96a94a2caa8>:4: FutureWarning: The default value of regex will change from True to False in a future version.\n",
      "  sam1[\"내용\"] = sam1[\"내용\"].str.replace(\"[^a-zA-Z가-힣0-9 ]\", \"\")\n"
     ]
    }
   ],
   "source": [
    "sam1 = sam1.drop(\"제목\", axis=1)\n",
    "sam1[\"내용\"] = sam1[\"내용\"].str.strip(\"질문/추천 금지X\")\n",
    "sam1[\"내용\"] = sam1['내용'].str.replace(\"\\n\",\"\")\n",
    "sam1[\"내용\"] = sam1[\"내용\"].str.replace(\"[^a-zA-Z가-힣0-9 ]\", \"\")\n",
    "sam1\n",
    "sam1.to_csv(\"C:/690009/TP2/final_project/member/NTJ/crawlerNsReview/data/PP/sam1.csv\")"
   ]
  },
  {
   "cell_type": "code",
   "execution_count": 115,
   "id": "0025d226",
   "metadata": {},
   "outputs": [
    {
     "name": "stderr",
     "output_type": "stream",
     "text": [
      "<ipython-input-115-94c86e32598a>:4: FutureWarning: The default value of regex will change from True to False in a future version.\n",
      "  sam2[\"내용\"] = sam1[\"내용\"].str.replace(\"[^a-zA-Z가-힣0-9 ]\", \"\")\n"
     ]
    }
   ],
   "source": [
    "sam2 = sam2.drop(\"제목\", axis=1)\n",
    "sam2[\"내용\"] = sam1[\"내용\"].str.strip(\"질문/추천 금지X\")\n",
    "sam2[\"내용\"] = sam1['내용'].str.replace(\"\\n\",\"\")\n",
    "sam2[\"내용\"] = sam1[\"내용\"].str.replace(\"[^a-zA-Z가-힣0-9 ]\", \"\")\n",
    "sam2\n",
    "sam2.to_csv(\"C:/690009/TP2/final_project/member/NTJ/crawlerNsReview/data/PP/sam2.csv\")"
   ]
  },
  {
   "cell_type": "code",
   "execution_count": 116,
   "id": "07a99aeb",
   "metadata": {},
   "outputs": [
    {
     "name": "stderr",
     "output_type": "stream",
     "text": [
      "<ipython-input-116-85e49842b237>:4: FutureWarning: The default value of regex will change from True to False in a future version.\n",
      "  sam3[\"내용\"] = sam1[\"내용\"].str.replace(\"[^a-zA-Z가-힣0-9 ]\", \"\")\n"
     ]
    }
   ],
   "source": [
    "sam3 = sam3.drop(\"제목\", axis=1)\n",
    "sam3[\"내용\"] = sam1[\"내용\"].str.strip(\"질문/추천 금지X\")\n",
    "sam3[\"내용\"] = sam1['내용'].str.replace(\"\\n\",\"\")\n",
    "sam3[\"내용\"] = sam1[\"내용\"].str.replace(\"[^a-zA-Z가-힣0-9 ]\", \"\")\n",
    "sam3\n",
    "sam3.to_csv(\"C:/690009/TP2/final_project/member/NTJ/crawlerNsReview/data/PP/sam3.csv\")"
   ]
  },
  {
   "cell_type": "code",
   "execution_count": 117,
   "id": "91307d9a",
   "metadata": {},
   "outputs": [
    {
     "name": "stderr",
     "output_type": "stream",
     "text": [
      "<ipython-input-117-ce3c74bbaed7>:4: FutureWarning: The default value of regex will change from True to False in a future version.\n",
      "  sam4[\"내용\"] = sam1[\"내용\"].str.replace(\"[^a-zA-Z가-힣0-9 ]\", \"\")\n"
     ]
    }
   ],
   "source": [
    "sam4 = sam4.drop(\"제목\", axis=1)\n",
    "sam4[\"내용\"] = sam1[\"내용\"].str.strip(\"질문/추천 금지X\")\n",
    "sam4[\"내용\"] = sam1['내용'].str.replace(\"\\n\",\"\")\n",
    "sam4[\"내용\"] = sam1[\"내용\"].str.replace(\"[^a-zA-Z가-힣0-9 ]\", \"\")\n",
    "sam4\n",
    "sam4.to_csv(\"C:/690009/TP2/final_project/member/NTJ/crawlerNsReview/data/PP/sam4.csv\")"
   ]
  },
  {
   "cell_type": "code",
   "execution_count": 118,
   "id": "c33aaf83",
   "metadata": {},
   "outputs": [
    {
     "name": "stderr",
     "output_type": "stream",
     "text": [
      "<ipython-input-118-b8e44da6f489>:4: FutureWarning: The default value of regex will change from True to False in a future version.\n",
      "  sam5[\"내용\"] = sam1[\"내용\"].str.replace(\"[^a-zA-Z가-힣0-9 ]\", \"\")\n"
     ]
    }
   ],
   "source": [
    "sam5 = sam5.drop(\"제목\", axis=1)\n",
    "sam5[\"내용\"] = sam1[\"내용\"].str.strip(\"질문/추천 금지X\")\n",
    "sam5[\"내용\"] = sam1['내용'].str.replace(\"\\n\",\"\")\n",
    "sam5[\"내용\"] = sam1[\"내용\"].str.replace(\"[^a-zA-Z가-힣0-9 ]\", \"\")\n",
    "sam5\n",
    "sam5.to_csv(\"C:/690009/TP2/final_project/member/NTJ/crawlerNsReview/data/PP/sam5.csv\")"
   ]
  },
  {
   "cell_type": "code",
   "execution_count": 119,
   "id": "ef061291",
   "metadata": {},
   "outputs": [
    {
     "name": "stderr",
     "output_type": "stream",
     "text": [
      "<ipython-input-119-e8feb06bf62d>:4: FutureWarning: The default value of regex will change from True to False in a future version.\n",
      "  sam6[\"내용\"] = sam1[\"내용\"].str.replace(\"[^a-zA-Z가-힣0-9 ]\", \"\")\n"
     ]
    }
   ],
   "source": [
    "sam6 = sam6.drop(\"제목\", axis=1)\n",
    "sam6[\"내용\"] = sam1[\"내용\"].str.strip(\"질문/추천 금지X\")\n",
    "sam6[\"내용\"] = sam1['내용'].str.replace(\"\\n\",\"\")\n",
    "sam6[\"내용\"] = sam1[\"내용\"].str.replace(\"[^a-zA-Z가-힣0-9 ]\", \"\")\n",
    "sam6\n",
    "sam6.to_csv(\"C:/690009/TP2/final_project/member/NTJ/crawlerNsReview/data/PP/sam6.csv\")"
   ]
  },
  {
   "cell_type": "code",
   "execution_count": 120,
   "id": "240a2853",
   "metadata": {},
   "outputs": [
    {
     "name": "stderr",
     "output_type": "stream",
     "text": [
      "<ipython-input-120-9159ef0c410c>:4: FutureWarning: The default value of regex will change from True to False in a future version.\n",
      "  sam7[\"내용\"] = sam1[\"내용\"].str.replace(\"[^a-zA-Z가-힣0-9 ]\", \"\")\n"
     ]
    }
   ],
   "source": [
    "sam7 = sam7.drop(\"제목\", axis=1)\n",
    "sam7[\"내용\"] = sam1[\"내용\"].str.strip(\"질문/추천 금지X\")\n",
    "sam7[\"내용\"] = sam1['내용'].str.replace(\"\\n\",\"\")\n",
    "sam7[\"내용\"] = sam1[\"내용\"].str.replace(\"[^a-zA-Z가-힣0-9 ]\", \"\")\n",
    "sam7\n",
    "sam7.to_csv(\"C:/690009/TP2/final_project/member/NTJ/crawlerNsReview/data/PP/sam7.csv\")"
   ]
  },
  {
   "cell_type": "code",
   "execution_count": 121,
   "id": "bd96822c",
   "metadata": {},
   "outputs": [
    {
     "name": "stderr",
     "output_type": "stream",
     "text": [
      "<ipython-input-121-775235f7266f>:4: FutureWarning: The default value of regex will change from True to False in a future version.\n",
      "  sam8[\"내용\"] = sam1[\"내용\"].str.replace(\"[^a-zA-Z가-힣0-9 ]\", \"\")\n"
     ]
    }
   ],
   "source": [
    "sam8 = sam8.drop(\"제목\", axis=1)\n",
    "sam8[\"내용\"] = sam1[\"내용\"].str.strip(\"질문/추천 금지X\")\n",
    "sam8[\"내용\"] = sam1['내용'].str.replace(\"\\n\",\"\")\n",
    "sam8[\"내용\"] = sam1[\"내용\"].str.replace(\"[^a-zA-Z가-힣0-9 ]\", \"\")\n",
    "sam8\n",
    "sam8.to_csv(\"C:/690009/TP2/final_project/member/NTJ/crawlerNsReview/data/PP/sam8.csv\")"
   ]
  },
  {
   "cell_type": "code",
   "execution_count": 132,
   "id": "cd7e578e",
   "metadata": {},
   "outputs": [],
   "source": [
    "sam = pd.merge(sam1, sam2, on=['내용', '등록일'], how=\"outer\")\n",
    "sam = pd.merge(sam, sam3, on=['내용', '등록일'], how=\"outer\")\n",
    "sam = pd.merge(sam, sam4, on=['내용', '등록일'], how=\"outer\")\n",
    "sam = pd.merge(sam, sam5, on=['내용', '등록일'], how=\"outer\")\n",
    "sam = pd.merge(sam, sam6, on=['내용', '등록일'], how=\"outer\")\n",
    "sam = pd.merge(sam, sam7, on=['내용', '등록일'], how=\"outer\")\n",
    "sam = pd.merge(sam, sam8, on=['내용', '등록일'], how=\"outer\")\n",
    "sam\n",
    "\n",
    "sam.to_csv(\"C:/690009/TP2/final_project/member/NTJ/crawlerNsReview/data/PP/sam.csv\")"
   ]
  },
  {
   "cell_type": "code",
   "execution_count": 141,
   "id": "a9921f33",
   "metadata": {},
   "outputs": [
    {
     "data": {
      "text/html": [
       "<div>\n",
       "<style scoped>\n",
       "    .dataframe tbody tr th:only-of-type {\n",
       "        vertical-align: middle;\n",
       "    }\n",
       "\n",
       "    .dataframe tbody tr th {\n",
       "        vertical-align: top;\n",
       "    }\n",
       "\n",
       "    .dataframe thead th {\n",
       "        text-align: right;\n",
       "    }\n",
       "</style>\n",
       "<table border=\"1\" class=\"dataframe\">\n",
       "  <thead>\n",
       "    <tr style=\"text-align: right;\">\n",
       "      <th></th>\n",
       "      <th>내용</th>\n",
       "      <th>등록일</th>\n",
       "    </tr>\n",
       "  </thead>\n",
       "  <tbody>\n",
       "    <tr>\n",
       "      <th>0</th>\n",
       "      <td>사람들이 불만이 많아 걱정 많이했습니다사고 난 1일7일 발열 느껴졌습니다하지만 이 ...</td>\n",
       "      <td>2021.08.12. 10:54</td>\n",
       "    </tr>\n",
       "    <tr>\n",
       "      <th>1</th>\n",
       "      <td>s10 5g에서 기변했는데 카페글에 발열 심하다는 얘기가 많아 불안했지만 카메라가...</td>\n",
       "      <td>2021.08.12. 10:39</td>\n",
       "    </tr>\n",
       "    <tr>\n",
       "      <th>2</th>\n",
       "      <td>s21울트라로 기변했습니다침수된 s20는 as비용만 8090만원이 나오는지라저렴하게...</td>\n",
       "      <td>2021.08.10. 07:09</td>\n",
       "    </tr>\n",
       "    <tr>\n",
       "      <th>3</th>\n",
       "      <td>안녕하세요4월 말에 구매해서 지금까지 울트라 잘 사용하고 있습니다s21시리즈 문제때...</td>\n",
       "      <td>2021.08.09. 17:50</td>\n",
       "    </tr>\n",
       "    <tr>\n",
       "      <th>4</th>\n",
       "      <td>사용기종 s21최대가 3435도고 카메라 사용시 36도까지 찍었네요</td>\n",
       "      <td>2021.08.09. 17:00</td>\n",
       "    </tr>\n",
       "    <tr>\n",
       "      <th>...</th>\n",
       "      <td>...</td>\n",
       "      <td>...</td>\n",
       "    </tr>\n",
       "    <tr>\n",
       "      <th>1877</th>\n",
       "      <td>만질줄 몰라서 별도로 설정한건 없구요절전모드 아니구 발열은 크게 못 느끼구게임은 ...</td>\n",
       "      <td>2021.08.12. 13:07</td>\n",
       "    </tr>\n",
       "    <tr>\n",
       "      <th>1878</th>\n",
       "      <td>이뿌당 저는 모바일 게임패드 물려서 붕괴3 원신 즐겨 하는데이상하게 제 건 게임 ...</td>\n",
       "      <td>2021.08.12. 12:45</td>\n",
       "    </tr>\n",
       "    <tr>\n",
       "      <th>1879</th>\n",
       "      <td>멀티가 200점정도 떨어졌네요</td>\n",
       "      <td>2021.08.12. 12:43</td>\n",
       "    </tr>\n",
       "    <tr>\n",
       "      <th>1880</th>\n",
       "      <td>게임을 안해서 그런지는 모르겠지만 유튜브나 인터넷 사용으로는 오래써도 발열이 없네요...</td>\n",
       "      <td>2021.08.12. 11:57</td>\n",
       "    </tr>\n",
       "    <tr>\n",
       "      <th>1881</th>\n",
       "      <td>제 지난글에도 볼 수 있듯 s9에서 s21로 바꿀까 존버할까를 고민하고 디플이나 전...</td>\n",
       "      <td>2021.08.12. 10:40</td>\n",
       "    </tr>\n",
       "  </tbody>\n",
       "</table>\n",
       "<p>1882 rows × 2 columns</p>\n",
       "</div>"
      ],
      "text/plain": [
       "                                                     내용                등록일\n",
       "0     사람들이 불만이 많아 걱정 많이했습니다사고 난 1일7일 발열 느껴졌습니다하지만 이 ...  2021.08.12. 10:54\n",
       "1      s10 5g에서 기변했는데 카페글에 발열 심하다는 얘기가 많아 불안했지만 카메라가...  2021.08.12. 10:39\n",
       "2     s21울트라로 기변했습니다침수된 s20는 as비용만 8090만원이 나오는지라저렴하게...  2021.08.10. 07:09\n",
       "3     안녕하세요4월 말에 구매해서 지금까지 울트라 잘 사용하고 있습니다s21시리즈 문제때...  2021.08.09. 17:50\n",
       "4                사용기종 s21최대가 3435도고 카메라 사용시 36도까지 찍었네요   2021.08.09. 17:00\n",
       "...                                                 ...                ...\n",
       "1877   만질줄 몰라서 별도로 설정한건 없구요절전모드 아니구 발열은 크게 못 느끼구게임은 ...  2021.08.12. 13:07\n",
       "1878   이뿌당 저는 모바일 게임패드 물려서 붕괴3 원신 즐겨 하는데이상하게 제 건 게임 ...  2021.08.12. 12:45\n",
       "1879                                  멀티가 200점정도 떨어졌네요   2021.08.12. 12:43\n",
       "1880  게임을 안해서 그런지는 모르겠지만 유튜브나 인터넷 사용으로는 오래써도 발열이 없네요...  2021.08.12. 11:57\n",
       "1881  제 지난글에도 볼 수 있듯 s9에서 s21로 바꿀까 존버할까를 고민하고 디플이나 전...  2021.08.12. 10:40\n",
       "\n",
       "[1882 rows x 2 columns]"
      ]
     },
     "execution_count": 141,
     "metadata": {},
     "output_type": "execute_result"
    }
   ],
   "source": []
  }
 ],
 "metadata": {
  "kernelspec": {
   "display_name": "Python 3",
   "language": "python",
   "name": "python3"
  },
  "language_info": {
   "codemirror_mode": {
    "name": "ipython",
    "version": 3
   },
   "file_extension": ".py",
   "mimetype": "text/x-python",
   "name": "python",
   "nbconvert_exporter": "python",
   "pygments_lexer": "ipython3",
   "version": "3.8.8"
  }
 },
 "nbformat": 4,
 "nbformat_minor": 5
}
