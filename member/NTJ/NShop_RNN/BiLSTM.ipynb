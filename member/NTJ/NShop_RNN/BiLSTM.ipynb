{
 "cells": [
  {
   "cell_type": "code",
   "execution_count": 25,
   "id": "4257545e",
   "metadata": {},
   "outputs": [],
   "source": [
    "from bs4 import BeautifulSoup\n",
    "from selenium import webdriver\n",
    "import selenium\n",
    "from urllib.parse import  urlparse\n",
    "import time\n",
    "import lxml\n",
    "from urllib.request import urlopen\n",
    "from selenium.webdriver.common.keys import Keys\n",
    "import numpy as np\n",
    "import pandas as pd\n",
    "import re\n",
    "import pickle\n",
    "from contextlib import suppress\n",
    "import matplotlib.pyplot as plt\n",
    "from konlpy.tag import Okt\n",
    "from tensorflow.keras.preprocessing.text import Tokenizer\n",
    "from tensorflow.keras.preprocessing.sequence import pad_sequences\n",
    "from sklearn.model_selection import train_test_split, cross_val_score, GridSearchCV, cross_validate, KFold\n",
    "from tqdm import tqdm\n",
    "\n",
    "from tensorflow.keras.layers import Embedding, Dense, LSTM\n",
    "from tensorflow.keras.models import Sequential\n",
    "from tensorflow.keras.models import load_model\n",
    "from tensorflow.keras.callbacks import EarlyStopping, ModelCheckpoint\n",
    "from sklearn.metrics import confusion_matrix, classification_report\n",
    "from xgboost import XGBClassifier\n",
    "from konlpy.tag import Mecab\n",
    "from collections import Counter"
   ]
  },
  {
   "cell_type": "code",
   "execution_count": 3,
   "id": "85822936",
   "metadata": {},
   "outputs": [
    {
     "data": {
      "text/html": [
       "<div>\n",
       "<style scoped>\n",
       "    .dataframe tbody tr th:only-of-type {\n",
       "        vertical-align: middle;\n",
       "    }\n",
       "\n",
       "    .dataframe tbody tr th {\n",
       "        vertical-align: top;\n",
       "    }\n",
       "\n",
       "    .dataframe thead th {\n",
       "        text-align: right;\n",
       "    }\n",
       "</style>\n",
       "<table border=\"1\" class=\"dataframe\">\n",
       "  <thead>\n",
       "    <tr style=\"text-align: right;\">\n",
       "      <th></th>\n",
       "      <th>review</th>\n",
       "      <th>star</th>\n",
       "      <th>label</th>\n",
       "    </tr>\n",
       "  </thead>\n",
       "  <tbody>\n",
       "    <tr>\n",
       "      <th>0</th>\n",
       "      <td>택배가 이렇게 왔네요 정말 어이가 없어서전자제픔인데 물건을 이렇게 배송해주셔    ...</td>\n",
       "      <td>1</td>\n",
       "      <td>0</td>\n",
       "    </tr>\n",
       "    <tr>\n",
       "      <th>2</th>\n",
       "      <td>고장나서 옴 수리하기도 돈아까윰    기쁜 마음으로 개봉했는데 액정은 아니지만 뒷면...</td>\n",
       "      <td>1</td>\n",
       "      <td>0</td>\n",
       "    </tr>\n",
       "    <tr>\n",
       "      <th>4</th>\n",
       "      <td>그냥 모든게 허접해요    일단 사용해 보지 않아서 성능 기능 모릅니다시 이전 당일...</td>\n",
       "      <td>1</td>\n",
       "      <td>0</td>\n",
       "    </tr>\n",
       "    <tr>\n",
       "      <th>6</th>\n",
       "      <td>물건은 잘왔습니다 그런데 택배회사가 엉망이네요고가의 제품이라 배송전에 연락     ...</td>\n",
       "      <td>1</td>\n",
       "      <td>0</td>\n",
       "    </tr>\n",
       "    <tr>\n",
       "      <th>8</th>\n",
       "      <td>대응이 정말 안좋아요    크리스마스 선물로 일 오전 결제했는데일날 도착해서 다 망...</td>\n",
       "      <td>1</td>\n",
       "      <td>0</td>\n",
       "    </tr>\n",
       "    <tr>\n",
       "      <th>...</th>\n",
       "      <td>...</td>\n",
       "      <td>...</td>\n",
       "      <td>...</td>\n",
       "    </tr>\n",
       "    <tr>\n",
       "      <th>5017</th>\n",
       "      <td>제품 만족합니다</td>\n",
       "      <td>4</td>\n",
       "      <td>1</td>\n",
       "    </tr>\n",
       "    <tr>\n",
       "      <th>23468</th>\n",
       "      <td>빠르고 제품 맘에들어요 비싼 이어폰에 비해 성능 뒤쳐지지 않습니다 추천합니다</td>\n",
       "      <td>5</td>\n",
       "      <td>1</td>\n",
       "    </tr>\n",
       "    <tr>\n",
       "      <th>16315</th>\n",
       "      <td>기존에 쓰던 아이패드가 너무 오래되어 아이 온라인 수업을 위해 구입했습니다가격 좋고...</td>\n",
       "      <td>5</td>\n",
       "      <td>1</td>\n",
       "    </tr>\n",
       "    <tr>\n",
       "      <th>21905</th>\n",
       "      <td>도빠르고 가성비굿 끊킴도 없어요</td>\n",
       "      <td>5</td>\n",
       "      <td>1</td>\n",
       "    </tr>\n",
       "    <tr>\n",
       "      <th>22157</th>\n",
       "      <td>가격대비 성능 좋네요</td>\n",
       "      <td>4</td>\n",
       "      <td>1</td>\n",
       "    </tr>\n",
       "  </tbody>\n",
       "</table>\n",
       "<p>11460 rows × 3 columns</p>\n",
       "</div>"
      ],
      "text/plain": [
       "                                                  review  star  label\n",
       "0      택배가 이렇게 왔네요 정말 어이가 없어서전자제픔인데 물건을 이렇게 배송해주셔    ...     1      0\n",
       "2      고장나서 옴 수리하기도 돈아까윰    기쁜 마음으로 개봉했는데 액정은 아니지만 뒷면...     1      0\n",
       "4      그냥 모든게 허접해요    일단 사용해 보지 않아서 성능 기능 모릅니다시 이전 당일...     1      0\n",
       "6      물건은 잘왔습니다 그런데 택배회사가 엉망이네요고가의 제품이라 배송전에 연락     ...     1      0\n",
       "8      대응이 정말 안좋아요    크리스마스 선물로 일 오전 결제했는데일날 도착해서 다 망...     1      0\n",
       "...                                                  ...   ...    ...\n",
       "5017                                            제품 만족합니다     4      1\n",
       "23468         빠르고 제품 맘에들어요 비싼 이어폰에 비해 성능 뒤쳐지지 않습니다 추천합니다     5      1\n",
       "16315  기존에 쓰던 아이패드가 너무 오래되어 아이 온라인 수업을 위해 구입했습니다가격 좋고...     5      1\n",
       "21905                                  도빠르고 가성비굿 끊킴도 없어요     5      1\n",
       "22157                                        가격대비 성능 좋네요     4      1\n",
       "\n",
       "[11460 rows x 3 columns]"
      ]
     },
     "execution_count": 3,
     "metadata": {},
     "output_type": "execute_result"
    }
   ],
   "source": [
    "ds_star = pd.read_csv(\"C:/690009/TP2/final_project/Project/Data/shopping_ds.csv\", encoding='utf-8-sig')\n",
    "ds_star\n",
    "\n",
    "ds_star = pd.DataFrame(ds_star, columns = [\"review\", \"star\"])\n",
    "ds_star.drop_duplicates(subset=['review', 'star'], inplace=True)\n",
    "ds_star\n",
    "\n",
    "ds_star[\"label\"] = 0\n",
    "ds_star\n",
    "\n",
    "ds_star1 = ds_star.loc[ds_star[\"star\"] < 3.5]\n",
    "ds_star2 = ds_star.loc[ds_star[\"star\"] > 3.5]\n",
    "ds_star2 = ds_star2.sample(n=6000)\n",
    "ds_star2\n",
    "ds_star = pd.concat([ds_star1, ds_star2])\n",
    "ds_star.loc[ds_star[\"star\"] > 3, \"label\"] = 1\n",
    "ds_star"
   ]
  },
  {
   "cell_type": "code",
   "execution_count": 4,
   "id": "559a0bc0",
   "metadata": {
    "scrolled": true
   },
   "outputs": [
    {
     "name": "stderr",
     "output_type": "stream",
     "text": [
      "<ipython-input-4-f66e274aceb6>:2: FutureWarning: The default value of regex will change from True to False in a future version.\n",
      "  ds_star[\"review\"] = ds_star[\"review\"].str.replace(\"[^a-zA-Z가-힣0-9 ]\", \"\")\n"
     ]
    }
   ],
   "source": [
    "ds_star[\"review\"] = ds_star['review'].str.replace(\"\\n\",\"\")\n",
    "ds_star[\"review\"] = ds_star[\"review\"].str.replace(\"[^a-zA-Z가-힣0-9 ]\", \"\")"
   ]
  },
  {
   "cell_type": "code",
   "execution_count": 5,
   "id": "f51a30e7",
   "metadata": {
    "scrolled": false
   },
   "outputs": [
    {
     "data": {
      "text/html": [
       "<div>\n",
       "<style scoped>\n",
       "    .dataframe tbody tr th:only-of-type {\n",
       "        vertical-align: middle;\n",
       "    }\n",
       "\n",
       "    .dataframe tbody tr th {\n",
       "        vertical-align: top;\n",
       "    }\n",
       "\n",
       "    .dataframe thead th {\n",
       "        text-align: right;\n",
       "    }\n",
       "</style>\n",
       "<table border=\"1\" class=\"dataframe\">\n",
       "  <thead>\n",
       "    <tr style=\"text-align: right;\">\n",
       "      <th></th>\n",
       "      <th>review</th>\n",
       "      <th>label</th>\n",
       "    </tr>\n",
       "    <tr>\n",
       "      <th>star</th>\n",
       "      <th></th>\n",
       "      <th></th>\n",
       "    </tr>\n",
       "  </thead>\n",
       "  <tbody>\n",
       "    <tr>\n",
       "      <th>1</th>\n",
       "      <td>1395</td>\n",
       "      <td>1395</td>\n",
       "    </tr>\n",
       "    <tr>\n",
       "      <th>2</th>\n",
       "      <td>855</td>\n",
       "      <td>855</td>\n",
       "    </tr>\n",
       "    <tr>\n",
       "      <th>3</th>\n",
       "      <td>3210</td>\n",
       "      <td>3210</td>\n",
       "    </tr>\n",
       "    <tr>\n",
       "      <th>4</th>\n",
       "      <td>2534</td>\n",
       "      <td>2534</td>\n",
       "    </tr>\n",
       "    <tr>\n",
       "      <th>5</th>\n",
       "      <td>3466</td>\n",
       "      <td>3466</td>\n",
       "    </tr>\n",
       "  </tbody>\n",
       "</table>\n",
       "</div>"
      ],
      "text/plain": [
       "      review  label\n",
       "star               \n",
       "1       1395   1395\n",
       "2        855    855\n",
       "3       3210   3210\n",
       "4       2534   2534\n",
       "5       3466   3466"
      ]
     },
     "execution_count": 5,
     "metadata": {},
     "output_type": "execute_result"
    }
   ],
   "source": [
    "ds_star.groupby(['star']).count()"
   ]
  },
  {
   "cell_type": "code",
   "execution_count": 6,
   "id": "2667955c",
   "metadata": {},
   "outputs": [
    {
     "name": "stdout",
     "output_type": "stream",
     "text": [
      "훈련용 리뷰의 개수 : 8595\n",
      "테스트용 리뷰의 개수 : 2865\n"
     ]
    }
   ],
   "source": [
    "train_data, test_data = train_test_split(ds_star, test_size = 0.25, random_state = 42)\n",
    "print('훈련용 리뷰의 개수 :', len(train_data))\n",
    "print('테스트용 리뷰의 개수 :', len(test_data))"
   ]
  },
  {
   "cell_type": "code",
   "execution_count": 7,
   "id": "030b2417",
   "metadata": {},
   "outputs": [
    {
     "data": {
      "text/plain": [
       "<AxesSubplot:>"
      ]
     },
     "execution_count": 7,
     "metadata": {},
     "output_type": "execute_result"
    },
    {
     "data": {
      "image/png": "[encoded data removed]",
      "text/plain": [
       "<Figure size 432x288 with 1 Axes>"
      ]
     },
     "metadata": {
      "needs_background": "light"
     },
     "output_type": "display_data"
    }
   ],
   "source": [
    "train_data['label'].value_counts().plot(kind = 'bar')"
   ]
  },
  {
   "cell_type": "code",
   "execution_count": 8,
   "id": "a65e541a",
   "metadata": {},
   "outputs": [
    {
     "name": "stdout",
     "output_type": "stream",
     "text": [
      "   label  count\n",
      "0      0   4063\n",
      "1      1   4532\n"
     ]
    }
   ],
   "source": [
    "print(train_data.groupby('label').size().reset_index(name = 'count'))"
   ]
  },
  {
   "cell_type": "code",
   "execution_count": 9,
   "id": "fb9eb214",
   "metadata": {},
   "outputs": [
    {
     "name": "stdout",
     "output_type": "stream",
     "text": [
      "review    7\n",
      "star      0\n",
      "label     0\n",
      "dtype: int64\n"
     ]
    },
    {
     "name": "stderr",
     "output_type": "stream",
     "text": [
      "<ipython-input-9-9e844c844ba9>:1: FutureWarning: The default value of regex will change from True to False in a future version.\n",
      "  train_data['review'] = train_data['review'].str.replace(\"[^ㄱ-ㅎㅏ-ㅣ가-힣 ]\",\"\")\n",
      "<ipython-input-9-9e844c844ba9>:1: SettingWithCopyWarning: \n",
      "A value is trying to be set on a copy of a slice from a DataFrame.\n",
      "Try using .loc[row_indexer,col_indexer] = value instead\n",
      "\n",
      "See the caveats in the documentation: https://pandas.pydata.org/pandas-docs/stable/user_guide/indexing.html#returning-a-view-versus-a-copy\n",
      "  train_data['review'] = train_data['review'].str.replace(\"[^ㄱ-ㅎㅏ-ㅣ가-힣 ]\",\"\")\n",
      "C:\\ProgramData\\Anaconda3\\lib\\site-packages\\pandas\\core\\series.py:4509: SettingWithCopyWarning: \n",
      "A value is trying to be set on a copy of a slice from a DataFrame\n",
      "\n",
      "See the caveats in the documentation: https://pandas.pydata.org/pandas-docs/stable/user_guide/indexing.html#returning-a-view-versus-a-copy\n",
      "  return super().replace(\n"
     ]
    }
   ],
   "source": [
    "train_data['review'] = train_data['review'].str.replace(\"[^ㄱ-ㅎㅏ-ㅣ가-힣 ]\",\"\")\n",
    "train_data['review'].replace('', np.nan, inplace=True)\n",
    "print(train_data.isnull().sum())"
   ]
  },
  {
   "cell_type": "code",
   "execution_count": 10,
   "id": "6c262ee1",
   "metadata": {
    "scrolled": true
   },
   "outputs": [
    {
     "name": "stdout",
     "output_type": "stream",
     "text": [
      "전처리 후 테스트용 샘플의 개수 : 2783\n"
     ]
    },
    {
     "name": "stderr",
     "output_type": "stream",
     "text": [
      "<ipython-input-10-1f0ed5dc41ef>:1: SettingWithCopyWarning: \n",
      "A value is trying to be set on a copy of a slice from a DataFrame\n",
      "\n",
      "See the caveats in the documentation: https://pandas.pydata.org/pandas-docs/stable/user_guide/indexing.html#returning-a-view-versus-a-copy\n",
      "  test_data.drop_duplicates(subset = ['review'], inplace=True) # 중복 제거\n",
      "<ipython-input-10-1f0ed5dc41ef>:2: FutureWarning: The default value of regex will change from True to False in a future version.\n",
      "  test_data['review'] = test_data['review'].str.replace(\"[^ㄱ-ㅎㅏ-ㅣ가-힣 ]\",\"\") # 정규 표현식 수행\n",
      "<ipython-input-10-1f0ed5dc41ef>:2: SettingWithCopyWarning: \n",
      "A value is trying to be set on a copy of a slice from a DataFrame.\n",
      "Try using .loc[row_indexer,col_indexer] = value instead\n",
      "\n",
      "See the caveats in the documentation: https://pandas.pydata.org/pandas-docs/stable/user_guide/indexing.html#returning-a-view-versus-a-copy\n",
      "  test_data['review'] = test_data['review'].str.replace(\"[^ㄱ-ㅎㅏ-ㅣ가-힣 ]\",\"\") # 정규 표현식 수행\n"
     ]
    }
   ],
   "source": [
    "test_data.drop_duplicates(subset = ['review'], inplace=True) # 중복 제거\n",
    "test_data['review'] = test_data['review'].str.replace(\"[^ㄱ-ㅎㅏ-ㅣ가-힣 ]\",\"\") # 정규 표현식 수행\n",
    "test_data['review'].replace('', np.nan, inplace=True) # 공백은 Null 값으로 변경\n",
    "test_data = test_data.dropna(how='any') # Null 값 제거\n",
    "print('전처리 후 테스트용 샘플의 개수 :',len(test_data))"
   ]
  },
  {
   "cell_type": "code",
   "execution_count": 17,
   "id": "04a3d9ee",
   "metadata": {},
   "outputs": [],
   "source": [
    "okt = Okt()\n",
    "stopwords = ['가','게','고','과','네','는','다','도','들','듯','를','에','와','으로',\n",
    "             '은','을','의','이','인','임','자','잘','좀','지','하다','한']"
   ]
  },
  {
   "cell_type": "code",
   "execution_count": 484,
   "id": "59daa8e7",
   "metadata": {
    "scrolled": true
   },
   "outputs": [],
   "source": [
    "X_train = []\n",
    "for sentence in train_data['review']:\n",
    "    temp_X = okt.morphs(sentence, stem=True) # 토큰화\n",
    "    temp_X = [word for word in temp_X if not word in stopwords] # 불용어 제거\n",
    "    X_train.append(temp_X)"
   ]
  },
  {
   "cell_type": "code",
   "execution_count": 485,
   "id": "892236b6",
   "metadata": {},
   "outputs": [
    {
     "name": "stdout",
     "output_type": "stream",
     "text": [
      "[['물건', '받다', '연결', '안되다', '리뷰', '보다', '핑크', '거의', '불량', '이다', '비싸다', '쓰레기', '산', '느낌', '이에요', '이렇다', '내용', '사전', '알다', '주다', '덜', '기분', '나빳을텐데', '요', '서비스', '센터', '가깝다', '분', '만', '사다', '저', '시간', '걸리다', '가다', '야하다', '장사', '똑바로'], ['거', '도대체', '뭔', '모르다'], ['배송', '엄청', '빠르다']]\n"
     ]
    }
   ],
   "source": [
    "print(X_train[:3])"
   ]
  },
  {
   "cell_type": "code",
   "execution_count": 486,
   "id": "692bfeec",
   "metadata": {
    "scrolled": true
   },
   "outputs": [
    {
     "name": "stdout",
     "output_type": "stream",
     "text": [
      "[['품질', '만족', '밴드', '맘', '들다', '필름', '왜', '그렇게', '장애', '같다', '모르다', '붙이다', '누르다', '부분', '계속', '뜨다', '땔', '라', '그래도', '안때', '지고', '필름', '사지', '말다'], ['배송', '빠르다', '포장', '약간', '부실하다', '불안하다', '상품', '너무', '너무', '예쁘다'], ['갤럭시', '노트', '울트라', '말', '필요없다', '최고', '스마트폰', '이라고', '수', '있다', '성능', '디자인', '모두', '만족하다', '사은', '품', '중', '우산', '너무', '작다', '차안', '비상', '용', '두다', '무선', '충전', '패드', '갤럭시', '버즈', '충전', '되어다', '편하다', '사용', '하고', '있다']]\n"
     ]
    }
   ],
   "source": [
    "X_test = []\n",
    "for sentence in test_data['review']:\n",
    "    temp_X = okt.morphs(sentence, stem=True) # 토큰화\n",
    "    temp_X = [word for word in temp_X if not word in stopwords] # 불용어 제거\n",
    "    X_test.append(temp_X)\n",
    "print(X_test[:3])"
   ]
  },
  {
   "cell_type": "code",
   "execution_count": null,
   "id": "fa0fda92",
   "metadata": {
    "scrolled": false
   },
   "outputs": [],
   "source": []
  },
  {
   "cell_type": "code",
   "execution_count": 23,
   "id": "0b3ab8a1",
   "metadata": {
    "scrolled": true
   },
   "outputs": [
    {
     "name": "stdout",
     "output_type": "stream",
     "text": [
      "12189\n",
      "['물건받고 연결이 안되서 리뷰를 보니 핑크는 거의 다 불량이였네요 비싼 쓰레기 산 느낌이에요 이런 내용을 사전에 알려줬더라면 덜 기분 나빳을텐데요 서비스센터 가까우신 분들만 사세요 저는 한시간 걸려 갔다와야하네요 장사 똑바로 하세요'\n",
      " 1 0 ... '부모님께서 좋아하셔요 그런데 배송이 너무 늦습니다' 3 0]\n",
      "13596\n",
      "['이번에 출시된 풀렉스는  전 제품보가  디자인하고 성능이 더 심플하고 특히 키보드에 숫자키가 포함되 사용할때  편리하게 사용할수 장점입니다 이번에 기능인나 모두면이 좋은것 같습니다'\n",
      " 4 1 ...\n",
      " '아들 선물로 구매했는데 미니도 역시 아이패드입니다    월 일에 주문해서 일 배송 시작 일에 받았습니다 월 주에 물건 입고' 5\n",
      " 1]\n"
     ]
    }
   ],
   "source": [
    "negative_words = np.hstack(train_data[train_data.label == 0].values)\n",
    "print(len(negative_words))\n",
    "print(negative_words)\n",
    "positive_words = np.hstack(train_data[train_data.label == 1].values)\n",
    "print(len(positive_words))\n",
    "print(positive_words)"
   ]
  },
  {
   "cell_type": "code",
   "execution_count": 26,
   "id": "b0f6f56d",
   "metadata": {},
   "outputs": [
    {
     "name": "stdout",
     "output_type": "stream",
     "text": [
      "[(0, 4063), (3, 2391), (1, 1050), (2, 622), (nan, 5), ('좋긴한데 충전이 뜰려면 초 기다려야해요기계가 이상함                                           배송너무 늦어요어어                                          좋아요 좋아요 좋아요                                   배송은 늦었으나 상품은양품입니다    아이폰 와 프로 중 고민하다가 무게때문에 로 결정하고 화이트있어서 바로 구매                                     잘 받았습니다 이상없길 바래요    롯데는 요즘 같은 시기에 배송속도에 대해 신경좀 쓰셔야 할 듯 합니다쿠팡이나 컬리    구매한 지 한달되었습니다사용할수록 여기서 사길 잘했다는 생각이 듭니다     주문을 일날 하고 배송은 일에 받았어요배송은 빨리 와서 받았지만 양품인                                   역시 애플 넘깔끔하고 이쁘네요    애플워치를 사려고 고민한 지 어느덧 년이 되었어요에이 스마트워치가 뭐가 필                                비오는데 비닐로 한번더 포장 했음     상품 수급이 어렵다하시어 배송은 조금 늦어졌지만 그래도 양품으로 잘 도착했고 뽁뽁이    배송도 엄청 빨리왔구요 박스 첫개봉순간 설렘을 잊을수없네요 적은액수가 아니다보니                                    좋아아야아햐어요 호호후후하하랄랄                                           잘 돌아가고 좋아요    사자마자 월제조임에도 노이즈캔슬링 하자있었음리뷰를 보고 문제있을시 서비스센터에    착용감이좋고 조작방식이 터치가아닌 버튼식이라 좋고 커널형의 단점인 주위 바깥의 소리    배송 빠르고 제조일자 최신 걸로 받아서 좋아요 근데 미개봉 제품인데 왜 처음     에어팟 프로가 가지고 있는 노이즈 캔슬링 음질 등의 기능 및 성능 부분에 관해선     에어팟 세대를 년 반 넘게 쓰다가 년이 지나는 시기부터 점점 끊김이 숨쉬듯이', 3), ('아이폰쓰다 갤럭시로 몇년간 안드로이드적응되다보니 가 좀 헷갈리긴하는데     아이패드는 완벽한데 택배 배송이  박스가 찢어져서 왔어요 나중에는 신경좀 써주세요            예쁘고 좋아여 옆부분 살짝 찍혀서 왔지만 신경쓸정도는 아니라서 그냥 쓸게요    에서 드뎌 갈아타쑵니다솔직히 고장난것도 아니고 더써도 상관없지만 겨울이라서                크리스마스에 연말이라 배송은 오래 걸렸지만 여튼 무사히 수령 완료    대리점에서 너무 오래 기다리게 하고 자꾸 희망고문해서 자급제 사기로 결정했어요    좀 고민하다보니 품절이라 한참 기다렸어요 줄 색깔이 밝은 하얀색인줄 알았는데 실버    아내 선물 구매했는데일단 배송이 빠르고 네이버멤버쉽 적립을 받으니그만큼     판매자가 친절하고 겉 박스가 좀 파이긴 했지만 제품이 안전하게 잘 왔어요 역시 맥                                        좋은것같아용욜심해볼게용                                         양품으로 잘 받았습니다                                       좋아요 좋아요 아주 좋아요    상품은 선물한거라 잘모르겠지만 택배가 엉망이네요 선물받으시는분집이 복도형 구조 기                              배송이너무아쉽네요한달이 넘게 걸린듯요    빠른 배송과 제품 품질은 맘에 들어요역시 애플 이네요근데 제품 마감등은 영    빠른배송 생산일자 훌륭했습니다그러나 아쉬웠던건 제가 뽑기를 잘못해서인지받    아들선물로 구매했습니다싸이트 몇군데 비교해보고 최신생산품이라 하여 믿고구매했구요', 3), ('아주아주라두아주 좋라요                             깔끔하게 배송되었네요 시원한 화면이 좋습니다               완젼 이뻐용 아이폰 처음 쓰는데 여기서 자급제로 사서 개통했어용    이번에 디스플레이 문제가 있다고 해서 걱정 많이했는데 테스트 해본 결과 제 아이폰은                        주문한지 이틀만에 도착했고 제품하자없이 아주만족합니다    와 실물 미쳤습니다 생각보다 배송이 늦어질줄 알았는데 정말 배송도 빠른편입니다                  딸아이 선물입니다전결제만했어요가격이비쌌지만 어쩔수없이                         배송도 무척 빨랐고 정상작동해서 너무 좋습니다     입고가 늦게된다하셔서 오래기다렸지만 그만큼 연락도 너무 잘해주시고 신뢰도가 높다는평                                              굳굳굳굳     하루만에 받았어요 인치인데도 년 인치 프로랑 무게랑 비교 대상이 아                                  친절하시고싸고서비스 좋고 다한다다해    여기서 구매 비추드려요상자에 보내주는것도 아니고 뽁뽁이 봉투에 보내주는데 모서리    제조년월 년 월 이후로 준다고 나와있는데년 월로 받았습니다     저는 디지털위크를 이용해서 공홈보다 싸게 구매했지만원가격은 공홈보다 비싸기에     배송은 전날 시쯤 주문했는데 바로 택배 접수돼서 다음날 오후에 왔습니다 택배 상자    겁나게 공사 중인 건물 옆을 지나갈때잡음이 심한 시내버스를 탑승할때시외버', 3), ('아이패드 미니 세대   작고 사용하기 좋습니다    물건이 없어 주 정도 기다렸어요다른 색깔 있는 줄 알았으면 진작 바꿨을 텐데                                      아이들이 엄청조아라 하네요    계속 재고 뜨기만을 기다리다가 보이자마자 바로 결제했어요 그리고 바로 다음날 받았                                          안전하게 잘받았습니다    차 예약으로 구매를 해서 월 일부터 기다리고 있다가 오늘에서야 받았네요 기    조금이라도 할인되는 곳 없나 찾다가 여기서만 할인해서구매했어요 배송도 빠르고 포    와이프가 사용하던 가민워치 고장으로 새로 선물해 드렸는데 너무 좋아합니다 저까지                      믿고 사는 제품이니 무슨말이 필요할까요 잘 사용하겠습니다                                 배송도 빠르고 좋아요아주 만족 합니다                       기본형 재고가 없어 키보드 변경을 샀지만 가격 좋아요                                 배송도빠르고 저렴하게잘샀습니다     방금 받아서 에어팟 케이스 열어보니 에어팟에 먼지가 왜 이리 많이 묻어있죠 새제품                   통화시 상대방에게 잡음이 너무 많이 들어가 통화가 어려움                 다른분들은 박스가 찌그러져서 왔다는분들도 많이계셔서 걱정했는데 저는 안 찌그러져    저는 신문물을 접하는게 항상 늦은 사람이라 최근까지도 줄있은 이어폰을 쓰다가 정', 3), ('담달 배송완료빨라요    배송속도는 빨라서 좋았음제품을 수령해서 개봉한지 시간만에 카메라를 처음 켰고      한 달 사용 후기 하자 없는 제품 잘 와서 잘 쓰고 있습니다 무엇보다 가벼워서 좋아요    아이폰으로 구매했습니다 불량이 있는지 꼼꼼히 살펴봐야 하는데 성격이 무던한 아이라    퍼블 색은 정말 예쁘고 배송과 응대는 빵점 이네요 쓰다 갈아 타서 그런지 확실    기다리고 기다리던 제품 입고 되자마자 구매했습니다 카메라 너무 좋고 게임할 때 스                                      잘 사용하고 있습니다                       사고싶었던 애플워치 사게되서 너무 좋고 맘에 듭니다     좋아죽겠어요  토요일에 주문하고 오늘화 받았어요 배송은 생각했던 것 보다                                          빠른배송 잘쓰겠습니다    다른데보다 싸게 사서 우선 그점이 좋았구요 또한 상품 또한 훌륭해서 기분이 좋습니다                                         항상 구매하는곳입니다                                   코로나로 늦게 왔지만 사은품 개꿀                                         배송이 정말 빠릅니다    배송도 느리고 월 생산품은 기대도 안했지만 월이라 안내해놓고 월 제품 보내                              월이 주문한건데 제조년월 월달 아쉽네요    포장품 다 버리고 나서 확인해보니 제조년월이 이네여먼저 확인했    에어팟 사용하면서 노이즈캔슬링 기능도 필요해서 구매하게 되었는데 노이즈캔슬링 최고입    이번에 아이폰하고 애플워치 까지 구매하면서에어팟 프로까지 구매했는데요 기능', 3), ('아들 유튜브 재생목적으로 구입했는데 성능은 만족합니다근데 배송이 완전 개떡이네                      좋아요 제품은 좋은데 여기 직원친절도나 응대점수는 낮네요    배송은 주문하고 하루만에 와서 좋았어요하지만 뽑기 실패해서 외관불량으로 서비스센    프리스비가입해야 사은품주나봐요필름 참고하세오네이버플러스멤버십해서 직접    아이폰 를 엄청 오랫동안 사용하다가 더이상  업데이트가 안돼서  바꾸게     생각보다 늦게 도착해서 사전 예약 의미는 떨어진거 같아 별은 뺏습니다 제품은 하자                       좋습니다배송 일 걸렸고 기계 문제 없네요    재고 체크 하다가 골드 입고 됐길래 잽싸게 주문했네요 휴대폰은 매장에서 사는 편인                                  배송빠릅니다 아직까진 발열 없어뇨    딸아이 졸업선물로 샀어요아주 편리하다고 하더군요 그런데 자판이 없어서 조금 아쉽    예쁘고 편해요 워치페이스 앱깔아서 다양하게 꾸밀 수 있지만 귀찮아서 그냥 사진 바                                      배송이 달 걸리네요                              감사합니다저럼하게 잘 구매햇습니다    주문한 다음날 오전에 배송되서 그다음날 바로 받았습니다또 안전 포장 부탁드렸는                                배송 빠르고 답변도 신속히 잘해주셨어요                                     완전 싸게 잘구매한거 같습니다    제조일자 월 이전 상품은 음향 이슈가있어서 리콜 떴다는데 월게 왔네요 에    에어팟 빠르게 받았습니다 케이스랑 철가루방지스티커 못쓰겠던데요  케이스는 색상    배송 빠르고 물건도 정품같고 하자도 없어요  하지만   만들어진 물    에어팟 년쓰구 프로로 바꿨어여 세대도 멀쩡해서 계속 쓸까 하다 바꿨는데 왜 그렇    제가 에어팟을 년간 쓰면서이번에 새로운 모델인 에어팟 프로를 구입했습니다', 3), ('신랑이 만족하네요                                       배송이 진짜최악입니다    소재가 손에 착착 붙진 않아서 미끄럽다고 하네요 떨어뜨릴 위험이 있어보인다는     블랙이랑 고민한다면 무조건 블랙 하세요 진짜 실물 갑입니다 일체감이 진짜 매력적이고                                         쓸만합니다 역시 아이폰    일에 구매해서 금요일에 오는줄 알고 엄청 기다렸는데 결국 토욜에 받았어요 그                                                만족합니다     생각했던 것 보다 많은 기능들을 사용할 수 있어 편리합니다유용하게 잘 쓰겠습니다                                    배송인늦어져서 짜증났는데 흠                                      고민하지마시고 구매하세요                                      맥북프로 형 배송 빨라요                                       배송이 빠르고 친절하세요    진짜 열받네요어디서 불량품을 보냅니까오자마자 들어보니 갑자기 한쪽 이어폰     기대를 너무 했나봐요노캔기능 별로 다른것도 모르겠고너무 커서 조금 끼    배송이 거의 시간만에 왔어요 지역은 인천입니다 그런데 부산에서 오는데 배송    주말에 주문했었는데 월욜에 바로 출발해서 화욜에 받았어요 정품등록했고 지금까지     예약구매 마지막날 구매했는데 정말 빠르게 배송됐어요 정품등록도 했고 제조도', 3), ('배송이 좀 오래걸려서 아쉬워요                                       좋은 제품 잘 받았습니다       역시 디자인 하나보고 사는 에플폰입니다우리딸 선물로 받고 내내 행복하네요    레드가 이쁩니다실물로 레드보고 생각도 안했던 레드 바로 결제했어요모서리에                   좋아요 배송도빠르고요실버하고싶엇는데  골드햇지만만족해요    일만에 받았어요 대리점에는 재고가 항상 없고 다 전화해봐도 블루 골드 이것도                         배송빠르고 좋아요  세일했으면 좋았을것같아요                                            예뻐요    갈까말까 할 때는 묻고 더블로 가고먹을까말까 할 때는 먹고살까말까 할 때는                                 마음에듭니다역시맥북이네요                                       잘받았습니다나덥                                           배송 빠르고 좋아요                                    가격 굳 입니다 잘쓰겠습니다    받은지 며칠이 된지는 모르겠지만 한달은 안 지났네요왼쪽 에어팟 충전 연결선에 문    월 제품 받았어요 리퍼위험 있는 제품을 보내주시는지 모르고 구매했네요 당연히     애플 제품치고는 꽤 허접한 품질이 아닌가 싶습니다 이상한 약품 냄새가 깊이 배어     에어팟 사용하다가 갈아탔습니다노캔은 만족스러우나 기존타입과 달리 귀구멍을 확     아이폰플러스 년개월쓰다가 로 기변하면서 애플워치도 구매하고', 3), ('휴대성과 펜슬 사용가능해서 미니 구매했습니다아이패드 세대 보다 훨씬 슬림하고 가벼                          여기서 받은 제품 디스플레이 문제로 교환받았어요                                 아들선물로 제대하는 다담주 오픈예정요                           좋아요 와이프에게 선물해서 잘 사용하고 있어요    월요일에 주문하고 수요일에 제품 받았어요 화이트 색상이 품절이여서 수시로 확인했는    오줌액정 당첨됐지만 그거빼곤 이상 없네요 색상 조정해서 그냥 쓰려고합니다 그래파이트    역시  너무 이쁩니다실버와 그래파이트 둘중 계속 고민하고 주문했다 취소하고                                          너무 이요                                    잘받았습니다 감사합니다    선물했는데 너무 예쁘고 운동할 때 정말 좋다고 더라구요 저도 이번에 운동 시작                                        잘쓰고 있어요 만족대박요    서울에서 서울배송인데 택배가 대전으로 들어가버려서 배송은 일주일이상 걸렸습니다    안녕하세요상품 너무너무 잘 받았습니다 가격대가 높은 제품이기 때문에 아이코다                                     많이 파세요 많이 파세요                                          진짜 진짜 좋아요    물건 주문하고 주일만에 겨우 물건 받았네요두번다시 여기에서는 물건 사고싶지도    아무리 블루투스 이어폰 던지면 데미지 적은 제품이라지만 진짜 얇은 이에 달랑    에어팟프로 잘 받았습니다일단 에어팟의 성능에는 문제가 없는 듯해요그런    배송 엄청 빠르고 제품은 다 만족이에요다만 제가 노이즈 캔슬링을 처음 써보는데    에어팟 프로는 기존의 에어팟 보다 더 작게 나오고 실리콘 이어팁으로 개인적인 착용감', 3), ('잘 사요할기오 간사른다    택배에 취급주의 없어서 조금 놀랐는데  잘 포장해 주셔서 상품 겉에는 문제가 없었                                   갤럭시에서 기변 열심히 적응중    너무 빨리보내주셔서케이스도 미처 준비 못했네용하자 없는 제품으로 잘 받았습    하 아이폰 이번에 처음사용하는데갤럭시에서 아이폰  프로그램 에러나서지    일반통신사나 핸드폰가게에서 미리 선예약해도 못받은 사람도 많던데 후기읽어보고 하루     일주문 일 받았습니다어짜피 줄은 따로 구매할꺼라 가격만 비교하고                                            배송 빨라서 좋네용    일단 배송이 빨라서 좋았고  스그  재고 찾기가 힘들던데 재입고 되었길래                                배송도 빠르고 잘 도착했네요박스가    배송도 빠르고 제품도 깔끔하게 잘 받았습니당 집에서는 모니터에 연결해서 쓰는데 좋네                             년 월 생산된 얼마안됐네요 굿입니다                                   배송이 조금 늦었지만 괜찮습니다                  잘 사용하고 있습니다역시 맥북프로는 좋네요 돈값 하네요    일단 에어팟은 배송 빨라서 좋았습니다 박 일만에 도착이전에 에어팟 세          배송도 느렸고 월 제조 제품이왔네요 선물줄려고 샀는데 정상제품이길 바랄요    에어팟 부터 쓰고있는데프로도 매우 괜찮네요 노캔 기능 사용하는것도 신기하고 한    일 저녁에 주문했는뎅 빠르게 올 줄 알았는데 일 받았어요다행히 생일날     기존 세대 제품을 썼던 사람으로써 리뷰 올려요 디자인 기존 세대', 3), ('배송관련은 정말 꽝이었습니다 택배도 다른데서 찾아오고 문제가 있네요물건은 포장은                                          디자인 색상이 좋아요                                        가볍고 예뻐요 감사합니다    아이폰 사용하다 넓은화면으로 바꾸니 엄청 보기도 좋고 카메라 기능도 뛰어나서 좋은                                   너무 늦게 받았지만 좋습니다    목요일 결제하고 언제쯤 받을 수 있을까요여쭤보니 금요일 또는 토요일 배송나갈거 같                        선물용으로 번가에서 구매했어요배송이 빠르고 좋네요                                     공식 스토어라 안심가고 좋아요           좋아요 배송 한 주정도 걸린거같아요 한달정도 걸릴줄알았는대 빨라서 좋었어요    작업에 필요해서 샀는데 디자인은 덤이고 깔끔해서 너무 이쁘네요 기존에 너무 느린 노                역시 맥북입니다    도대체 충전을 어디다 한답니까 이이폰 충전기에도 안들어가고 유에스비도 아니고                                          정품 등록이 불편합니다         아직 써본지 얼마 안돼서 긴가민가 하지만 노이즈캔슬링은 정말 신기하더군요    상품은 정말 맘에 듭니다헌데 판매자분 연락 징그럽게 안되고 우체국택배인데 가    일단 배송이 빨랐구요 아무래도 쿠팡이니 리셀러니 불안한 마음을 감출수가 없어서 그냥', 3), ('배송될때 제대로 된 실시간위치정보가 동기화 안되고 택배기사도 돈 만원짜리도 아    배송올 때 박스가 뜯어져서 와서 속상했지만 아이패드는 문제 없었기 때문에 너무 만족    제품 깔끔하니 아이가 좋아하네요배송도 빨라서 새해 선물을 할수 있어서 좋았지만            택배배송이라 안전하게 올까 걱정됐지만멀쩡해 보입니다  완전 가벼워요                  배송은 좀 걸렸는데 물건은 만족합니다 애플사이트보다는 비싸요    원래 이번주오는건데 더 빨리 보내주셨어요너무 행복합니다 좋은 핸드폰으로 받았구요    배송이 살짝 늦게 도착한거 빼고는 아주 맘에 드네요 깔끔하고 사진고 동일 하네요 아           역시 너무 이뻐요 엄청 고민하다가 결국 구매 잘 사용해야할텐데     윤 대표님 너무 친절하시고 설명도 너무 감사했습니다하루만에 받았어요 정말 빠    맥북 프로 인치 인터넷으로 알아보다가 여기가 젤 싸고 괜찮아보여서 주문하고 다음                                    빠르고 안전하게 배송 받았습니다    물건 받고 얼마 쓰지도 않았는데 노이즈 캔슬링이 안됩니다 이런 경우는 처음이네요 제                         일만에 제품을 받아보긴했지만 상품은 만족합니다                이어팁에 검은색 먼지가 붙어있었지만 그 외의 이상은 없어서 잘쓸게요    일단 월 일에 주문했었는데 기존에 사용중이던 에어팟를 잃어버려서 샀어욤     오늘은 에어팟 프로 산자 둘째날입니다노래를 들어면서 정말 감격하고 또 감격하게 됩', 3), ('일 발송이라고 해놓고 일에 발송했네요                              생각보다 별로배송은 생각보다 빨리왔어요                                아이가 넘 조아하는아이폰 넘 조으넹    너무 영롱하고 예쁜 보랏빛입니다미니랑 사이즈 고민했는데 딱 적당한 사이즈인것      쓰다가 바꿨는데 좋네요 특히 카메라배송도 빠르고 주문한 케이스가 배송지    배송 빨리해주셔서 출시 당일날 바로 받았어요역시 새폰이라 너무 좋네요블                                      정품맞네여  감사합다                      받자마자 줄갈다가 뒷면 줄끼는곳 양쪽다 기스낫지롱여                                          항상 주문하는곳 좋아요                          배송이 정말 빠르네요 잘받았습니다 감사합니다                             상담도 친절하고 무엇보다 가격이 너무 착해요    년 월 제조이며 에어팟은 만족스럽습니다하지만 배송 문제에 있어 실망스럽습니                               사자마자 가격이 만원 떨어지는 매직                         불량인제 모르겟는데 오른쪽귀에서 틱틱하는 소리가나요    선물 받은 분이 좋아해요근데 월로 와서 서로 찝찝합니다리뷰 보니 월꺼    기존 에어팟을 쓰다가 바꾸고 싶어하는 아들을 위해 선물했어요 핸드폰이 스마트 폴더', 3), ('그냥 아이패드라 좋아요                                      우리 아들이 너무 좋아합니다                                     충전기 이어폰 없는게 아쉽네요    배송이 엄청 빨랐구요 용달블루에 꽂혀서 샀는데 제 선택에 프로 만족합니다                                한달넘게 사용중인데 이상 없고 좋습니다    아이폰  넘 구매하고 싶었는데 자급제라 에서 대기하다 매번 놓쳐서 인터                   사야 낫는 애플병저한테 전혀 필요없지만 이뻐서 안고가요                         배송 엄청 빠르네여 아 정말 너무 좋아여    목요일 구매해서 금요일에 받았습니다배송 진짜 빨라요덕분에 좀 더 빠르게                                   금요일주문했는데화요일도착목빠지는줄            포장도 꼼꼼하게 해주시고 배송도 빠르고친절하게 대응해주셔서 감사합니다                                    빠른배송과 좋은제품 감사합니다                         배송빠르고 답변 빠르고 전화 통화 잘 더고 좋습니다    아니 배송을 왜 도대체 사람한테 안알리고 하시는겁니까이게 한두푼짜리에요 아니 한                                       월자 잘 받았습니다     오늘받았어요에어팟제품은 이상없는듯 하네요문제 케이스커버배송비따로받고 받    한달동안 사용하면서 느낀점은 프로는 저랑 안맞는것같아요  물론 무선이어폰 자    저 참고로 갤럭시 이용자인데 호환 아주 잘됩니다노이즈캔슬링도 완전 신세계', 3), ('예판으로 구매했는데 배송이 너무 느리네요    아이패드는 말해 뭐해 당연히 좋구요 업으로 삼을 사람이 아니라면 프로까지 갈 필                                     좋아요 배송도 빠르고 추천해요    이전 아이폰플러스를 오래 쓰고 있었는데 이번에 바꿨어요비싸긴하지만 잘만쓰면 오래    가끔 멍 때릴때가 있긴한데 재부팅 하고 나면 괜찮아져요 그래도 그럴때면 간이 철렁    영롱합니다 아이폰 텐에서 프로로 갈아탔는데 겁나 빠릿빠릿하고 감격입니다퍼    걱정 많이 했는데 문제 없이 잘 사용중입니다공홈보다 빠르게 받을수있어서 너무너                                      너무 만족합니다 잘쓰고있어용    우선 상품을 받아보고 역시 맥프로 너무 좋아요 신계입니다그리고 퀵으로 보     맥북 프로 터치바 인치를 사용중인데아내에게 선물하려고 년 맥북              배송 빠르고 워낙 비싼 노트북이어서 가격도 저렴하게 구입해서 만족합니다                        년 월꺼가왔네요  이번년도제품올줄알았는데    정품 맞겠지만 배송상태가 엉망이었습니다 써본지 얼마 안되서 치지직거리는 잡음도                                          아주좋네요잘쓰겠습디    정품 인증도 잘 되고 저렴해서 좋아요 노이즈 캔슬링 기능도 우수하고 전반적으로     이번에 아이폰 구매하면서 프로를 구매해봤어요 처음엔 쿠에서 시켰었는데 웬걸 월', 3)]\n"
     ]
    }
   ],
   "source": [
    "negative_word_count = Counter(negative_words)\n",
    "print(negative_word_count.most_common(20))"
   ]
  },
  {
   "cell_type": "code",
   "execution_count": 27,
   "id": "77055189",
   "metadata": {},
   "outputs": [
    {
     "name": "stdout",
     "output_type": "stream",
     "text": [
      "[(1, 4532), (5, 2593), (4, 1939), ('상품은 만족합니다배송은 좀 느려요    빠른배송 상품 다 좋습니다많이들 파세용                잘샀다 알람기능 너무 좋아요            빠른 배송과 저렴한 가격 감사합니다', 2), ('어머니사드렸는데 맘에 드신다고 좋아하시네요                            일에 주문하고 일에 도착했어요                 진짜 온라인 애플매장인줄 알고 샀는데 무튼 오긴왔으니까 다행임                                   배송이 생각보다 빨라서 좋습니다    잘 받았습니다다행히 양품인것 같아요 받자마자 바로 바꾸느라 지금 새폰으    옥천버뮤나에서 잠시 머물렀으나 무사 탈출하여 일정도 배송은 걸렸구요제품은 다                                 좋은 제춤을 좋은 가격에 잘 샀어요    배송은 엄청 빠르진 않았지만 불량인 부분도 없었고 무엇보다도 공홈에서 사는 것 보다                                           생각보다 배송 빠름                  일 걸린다 더니 빠르게 준비해서 보내주셨네요잘 사용하겠습니다                                    잘받았습니다감사합니다                                    년 월 제품을 받았네요              한쪽만 충전되는 불량이 왔어요 하러가야되겟네요배송은 참 빨랏습니다                                          배송이 빨라서 조아요    스마일 빅세일이랑 삼성카드 해서 만원에 개싸게삼일날 시켰는데 일날 옴    에어팟 프로는 전에 에어팟 세대 사용했던거랑 차원이 달랐습니다 노이즈캔슬링', 2), ('잘 도착했는데 박스 비닐 일부가 조금 벗겨져서 왔어요그대로 안전하게 도착했고                                            잘받았어요 잘쓸께요                         출고예정이었은데 일에 받았어요 너무 예뻐요               선물했는데 엄청 좋아하네요실버로 사고 싶었지만 골드도 이쁨    존버하다 구입했어요운동도 열심히 하는편이라 비싸긴해도 샀는데 참 코로나 시국에                                배송도 빠르고 포장도 꼼꼼하고 좋아요                              맥북 프로 형 년형                                                                                  생각보다 빨리와서 좋습니다    노래 한곡이 다 듣기전에 중간중간 노래가 끊기는데 불량인가요 월요일 고객센터 문의    배송이 진짜 느려여저렴하지만 넉넉잡아 일주일 이상은 기다린다고 생각하면 맘    온라인에서는 여기가 제일 쌀 겁니다에어팟 프로 노이즈 캔슬링 기능 때문에 사게    너무너무 만족해요 기존에 에어팟무선 쓰고 있었는데 한쪽을 잃어버려서 고민하다가 프로', 2), ('액정 불량화소 있어서 말하니 센터가서 처리하라고하네 편하게 받고 싶은데 다시 가서    패드는 아직 개봉전이나 문제없을거구문제는 배송 월욜 점심쯤 주문한게 목욜 점심때    여긴 공홈이 아닙니다 불량시 폰 교환 힘들어요 폰 불량 당첨  거기다 폰케이          폰은 잘받았습니다 근데 강화유리필름 테두리 깨져있어서 반품안하고 버렸습니다    배송 빠르고 저렴하게 삼포장상태가 아주 가관임큰박스에 뽁뽁이 한번감고    월요일 오전에 주문하고 금요일 저녁에 받았어요 수요일 저녁 이후 폭설 영향이라고     일단 배송이 엄청 빨랐어요 재고 기다리다가 일 날 떠서 바로 결제했는데 하루만에       일 주문해서 일에 받았습니다 연휴가 껴있었다고 해도 늦어도 너무너무 늦어요                           배송이굉장히 빨라요 근데 포장을 너무 대충했어요                초기화면에서 다음으로 안넘어가서 서비스센타같따와음아이폰 안좋음    아이폰만한 기능이 없기에쭉 아이폰만 고집했습니다처음 아이폰 를 년정도     그래파이트 들어오기를 오래 기다렸는데 배송도 주문한 바로 다음날 오고 무엇보다 너어                                          빠르게 잘 받았습니다    후기보면 다들 빨리 받았다고 하는데 연말이라 그런지 딱 일주일 걸려 받았아요 쿠팡                                         너무너무너무너무 좋아요    예상보다 빠르게 배송받아서 너무 좋았어요 애플워치는 이번에 처음 입문이라 로    배송은 빠르지만 물건이 작년 생산분으로 왔습니다 그래서 배터리가 방전되어 있구요 상                               상품은 만족하지만 배송에 문제가 많습니다    빠른 배송에 상품은 좋지만 옥션보다 만원 비싸네요 리뷰작성하지 않으려다 번    서비스가 좋습니다 배송이 빠릅니다 제품의 품질이 좋숩니다 제품의 디자인이 좋습니다    불량화소나 빛샘현상도 없고 안전하게 잘 도착 했습니다에어캡 안전포장 해주신 사진    월일 주문 월일 수령늦으면 늦는다 말만했어도 곱게 기다렸는데마치                                          배송에 일 걸렸어요    음 그냥 그래요가격은 비싼데 영상제작할때 렉도걸리고 한글편집할때도 렉 걸    배송이 늦어진다고 연라도 주시고 해서 기다려는데 잘 받았습니다근데 배송기사님이     박스가 왜이렇게 온건지 잘못하면 상품이 누락되서 올뻔했네요  아직 써보지않았는데    갤러식 이용자입니다그전에도 세대로 연결해서 썼기에 이번에도 프로 구매해 썼는데    물건은 빠르고 이쁘게 배송됐습니다다만 받자말자 왼쪽 유닛 팁에 털들이 가    에어팟쓰다가 프로로 넘어왔어요 노이즈캔슬링은 너무 신기하네요 생각했던 것보다 더     이번에 아이폰사면서같이구매했습니다배송도 바로 다음날도착했어요', 2), ('만족합니다 나쁘지않아요                             처음엔 불량으로 다시 받느라 시간이좀거렷네요                                          배송이 빠르고 좋아요    처음 아이폰을 써봐서 기대 많이하고 샀는데통화 녹음 기능 없는거 빼고 다 좋아요                                     배송  골드 쁘네요    배송도 빠르고 좋아요포장 상태도 좋아요제품도 좋아요 역시 사과폰이    저녁에 주문했는데도 다음날 바로 배송왔어요빠르고 좋은데 패키지가 한 번 열린 듯                                       좋아요 편해요 잇는듯엄는듯                                 쾌속 배송과 좋은 품질에 반했습니다                                           좋아요조아요    굳굳굳 추천합니다 역시 맥북은 컴퓨존에서 구매해요 다른 타 사이트보다 전화연결                                          빠른배송 좋았습니다                                          너무좋아요    리콜이라서 늦게 구매했는데작년 월제품 개월이나 지난제품을 보냈네요슬픈 이                                  제조이자 년 월입니다    상품 받고 뜯지도 않고 정품인증 했습니다개봉하고보니 케이스에 검은 먼지들이 덕    일단 만족해요 성능부분은요신생아 아가가 있어서 신랑이랑 교대로 잠을 자야하는데     가품들이 판매되고 있다는 소문과 글들을 보면서어떻게 할까 고민하다가 선택해서', 2), ('포인트 캐시백과 카드 할인 받아서 나름 저렴하게 산거 같아요 펜과 함께 패드를 쓰니                                        배송감사합니다 많이파세요                  빠른배송 만족합니다 동생 선물용으로 샀는데 너무 좋아하네요                        배송 확실하고 제품 상태 좋습니다 사업 번창 하세요    배송이 너무 빨라서 문제네요취소했는데 판매자취소거부당해서 개구매제품은 택배 보', 2), ('잘받았습니다', 2), ('택배가 이렇게 왔네요 정말 어이가 없어서전자제픔인데 물건을 이렇게 배송해주셔    상자 뜯었는데 기기 전원이 켜져있었고 밧데리도 퍼센트였네요 쓰던 제품이 온건가    이런 사이트 첨보네요 공식 사이트라고 해놓고 제품 불량이라고 하니까 그것은 애플    갤럭시만 쓰다가 아이폰은 처음 구매합니다 지금 일째    어플로    배송은 차 구매라 빠른배송 기대하지않아서 일에 받은것도 만족하는데요애들꺼    금욜늦은저녁에 주문해서 오늘화요일에 받았어요 정말 이 화이트를 주문하기까지 얼    꺅  영롱 그자체 넘모 예뻐요저 사자마자 품절 뜨던데 제가    배송때문에 정말 리얼 화나네요쿠팡 번가 시 사전예약 놓쳐서 실망하고있    일단 핸드폰 불량이 없는게 왔네요 그 부분은 만족해요 그렇지만 일에 예    포장은 뽁뽁이 한겹싸져있고 박스는 두껍고 튼튼하긴 했어요폰 키자마자 불량테스트랑    배송 화요일 오전에 시켜서 다음주 월요일에 받았습니다인천김포이천군    아이폰을 사고 배송받은 뒤 며칠 사용해본 후에 리뷰 작성하고 싶어서 이제서야 후기를                                                조아요마니    일단 기계는 빨리와서 좋았지만 옵션으로 신청한 강화필름은 주나 늦게 도착했어요     붉은세로선 교환 오래걸린다고 환불하라그러고 서비스센터에서 일만에 교환받았는데    우선 일하면서 핸드폰을 소지하지 않아도 된다는 편리함이 있고 애플워치에 비해 블루    물건 받긴 했습니다 남자친구와 기념일로 해서 같이 주문을 했은데 내역은 같이 배송이    살까말까 고민한게 개월 정도 되는데요 큰맘먹구 샀습니당 배송은 진짜빨랐어요 하    너무 늦게왓어요 당일배송할것처럼 판매해놓고 한달 다되서 받았네요 저말고 다른분들도     주문한지 주만에 키보드자판 떨어짐 밖에도 일부러 안들고 다니고 애지중지 하면서 다    배송 너무 빠르고 제품도 문제없이 온거같아 만족합니다애플 특성상 문제 있을까봐    어제받아서 사용중입니다근데 어제 첫사용중 트랙패드 클릭이 아예 안먹혀 재부팅하니     현충일 껴있던 관계로그래도배송은 매우 빨랐습니다어쨋든 애플제품은 밀봉되어나오기 때    대박 대박 이런 대박이 없습니다 보고나서 바로 질러버렸네요 앞으로도 번창하시고요 구    제가 월 일 구매를 하고 일 토요일 빠르게 배송을 받았습니다이때까지                                 제품이야 맥북인데 배송이 넘 늦네요    무사히 잘 받았네요 당일 배송 문구와 저렴했던 가격 보고 바로 주문했습니다 업무    우선 맥북 성능이야 미리 알고 구매한거라 문제는 없었지만년 월 제조 제품인    년 맥북프로 인치를 쓰다가 넘어왔습니다인치 디스플레이는 명불허전    택배가 이렇게 엉망인건 처음 받아봐요 찌그러진것도 그렇지만 젖어서 에어팟 포장지    추가추가 지금 문의게시판 난리 났네요 가품 판정 받으신 분들 많다고 저도 이    전 운이안좋은지 주말에 시키고 수요일에 받았네요  빨리올줄알았는데 그래도 왔으니됐    에어팟 쓰고 있다가 배터리가 금방 닳고 호환도 잘 안되서 새로 구매하려고 생각하다    와진짜 좋아요우선 에어팟 자체에 입문이 처음입니다배송은 일', 2), ('지난번 노트울트라 쇼마젠시에서구입하고 만족하여 이번에 엄마핸드폰 로바꿔드렸어요배송도 빨랐고 제품은 만족해요스마트스위치 기능 이용하여 데이터도 잘 넘겼구요다만 사은품으로 보내주신 우산이 부속품파손으로 사용할수가없어서 아쉬웠어요사은품 교환되나요손잡이잡고 펴면 손잡이 완전분리되요사은품땜에 구입한건 아닌데 아쉽네요', 2), ('신랑이 만족하네요                                       배송이 진짜최악입니다    소재가 손에 착착 붙진 않아서 미끄럽다고 하네요 떨어뜨릴 위험이 있어보인다는     블랙이랑 고민한다면 무조건 블랙 하세요 진짜 실물 갑입니다 일체감이 진짜 매력적이고                                         쓸만합니다 역시 아이폰    일에 구매해서 금요일에 오는줄 알고 엄청 기다렸는데 결국 토욜에 받았어요 그                                                만족합니다     생각했던 것 보다 많은 기능들을 사용할 수 있어 편리합니다유용하게 잘 쓰겠습니다                                    배송인늦어져서 짜증났는데 흠                                      고민하지마시고 구매하세요                                      맥북프로 형 배송 빨라요                                       배송이 빠르고 친절하세요    진짜 열받네요어디서 불량품을 보냅니까오자마자 들어보니 갑자기 한쪽 이어폰     기대를 너무 했나봐요노캔기능 별로 다른것도 모르겠고너무 커서 조금 끼    배송이 거의 시간만에 왔어요 지역은 인천입니다 그런데 부산에서 오는데 배송    주말에 주문했었는데 월욜에 바로 출발해서 화욜에 받았어요 정품등록했고 지금까지     예약구매 마지막날 구매했는데 정말 빠르게 배송됐어요 정품등록도 했고 제조도', 2), ('첨으로 아이패드를 쓰는데 아이폰을 썼던 사람이라 그런지 쉽네요  그리고 역시 미                      그레이 사고 싶어서 여기서 구매했어요남편이 멈 좋아하네요                                    공홈보다 배송 빠름 아주 좋아요                                좋아요 잘 쓰고 있어요 오래기다렸어요', 2), ('상품좋아요 배송도빠르고    배송이 빨라서 좋았어요세트로 샀는데 그부분은 후회중이네요케이스 펜슬 필름 따로                                       배송 살짝늦어요 생각보다커요    월요일날 주문해서 크리스마스 지나고 툐요일날 받았어요 배송은 다소 느린 편이었지만         배송은 만족 아이폰도 대체로 만족뒷판에 작은 스크래치가있는 그냥 쓰려구요    아이폰플러스프로 짝수에디션 사용자가 됐네요 플러스 아직 너무 멀쩡하                           즈아요배송도 빠르고 좋아브럿어요또 사요또또또    아 너무 좋음 마스크착용한 상태에서 열리는것도 은근 삶의 질 올라가고      문제없이 정상동작하고 정말 멋지네요  배송이 좀 마음에 안들었지만 그래도 저렴하게                 배송 빠르고 상품도 하자 없이 좋은 물건으로 왔네요 만족합니다                                          좋아요배송빠르네요          너무 친절하세요  번거로운 부탁이었는데 잘 처리해주셔서 감사드립니다    롯데택배에서만원짜리 제품을 그냥 문앞에 하고 던져놓고갔네요배송메모에 분               그런데 월것이 왔네요음 월생산물건이 올줄 알았는데    제품은 애플꺼니 패스배송이 아주 엿같음회의중이에서 작은소리로 이야기했더니 소    배송은 주문일로부터 이틀 만에 왔습니다쿠팡 로켓 배송을 받는 속도와 비슷했던     배송이 정말 빨리 왔습니다 주문 다음날 바로 오네요 제품도 리콜이슈이후 제품으로', 2), ('포장은 잘되어서 만족했습니다 배송은 좀 그렇고 일정도 걸렷습니다 포장은                              포장도 잘 되어서 왔어요 배송도 빠릅니다                                   한달 사용해도 문제 없고 튼튼해요                      배송도 빠르고 색상도 너무 이뻐요대만족 입니다    원래는 공홈에서 주문했는데 일 넘게 출고할 생각을 안해서 네이버 재고 뜬거 보고    사려는 옵션이 공홈과 동일한 조건에서 더 저렴해서 구입했습니다배송 안전하게 왔고                                        좋은제품 잘보내주셔서감사                                                                             서울이라 퀵으로 배송받았어요감사합니다                제조일자가 진짜 별로에요월제조라하고 월제조를 보내주네요        최근제조 상품으로 잘 받았아요다만 별도의 공지없이 배송이 너무 늦어서 아쉽네요    정품 싼 가격에 구매한거같아서 좋아요 배송은 다른분들은 많이 빠르다해서 기대했는     배송기간  택배로 충북기준 구매 후 일이내 도착 포장상태', 2), ('스그  셀룰러 구매했는데 기기는 정말 만족스럽습니다 다만 배송이 추석 연휴                                      평소갖고싶었더거라 그냥 좋았음                                       너무 예뻐요오 간지 왕                                   아주 좋은 제품이내요감사합니다', 2), ('잘 받았습니다 번창하세요                                         이쁘고 배송도 만족해요                                          아주 만족스러웟습니다    배송은 이틀정도 걸렸고 폰박스에 뽁뽁이 한 감겨서 박스에 담겨왔길래 조금 맘이 상할    너무 잘 사용하고 있습니다 요즘 운동을 집중적으로 하고 있어서 이 워치로 관리가                                 좋라요 기대한것과 같아요 배송빨라서좋음                                          좋아여 감사합니다                                                생각보다 빠른배송 감사합니다역시 가볍고 이쁘고 좋네요 저도 이제 스벅에 갈수        유격과 소리 불량으로 교환하려했지만 공식스토어에서 교환 받으라 하네요                  제품은 만족하나 배송이 너무 느리네요그리고 월 제조입니다    월 상품 왔어요상품은 좋지만 무엇때문인지 자꾸 버벅거리는데뽑기가 잘못    월 제조된걸 받았다는 리뷰보고 믿고 구입했는데 월 제조된게 와서 너무 속상했어', 2), ('배송빠르고 좋아요 많이파세요                                     주문하고 다음날 배송 받았어요    아이가 아이폰 갖고 싶어해서 고민하다 퍼플 너무 이뻐서 구매했어요 크기도 적당하고     배송이 빨라서 너무 좋았어요 제품도 완전 깨끗하고 안전하게 포장되어서 왔구요 불    예쁘고 좋아요 이틀 걸렸는데 이틀도 기다리느라 목 빠지는 줄 알았어요 공홈에서 시    애플워치가 없으면 완전 허전할 정도로 너무 잘 사용하고 있어용조금 더 저렴하게     배송 한달 남짓 걸렸어요미리 안내받아서 늦는거 알고있는 상태에서 주문한거라 괜찮                                                                             노트북이 고 사양이라 사용하기가 좋네요                         주문한지 시일이 지났는데도 굉장히 배송이 늦었습니다                                           너무좋아요 굿이예용    에어팟프로 음질은 딱히 랑 비교했을때 돈값은 못하는 거 같은데 확실히 노이즈      년 월 제품이 왔습니다후기로 보아 제가 제일 오래된 상품인 듯하네요', 2), ('택배는 빠르게 잘 받았으나뽑기 운이 안 좋았네요가량 파인 스크래치가    받은첫날 자꾸 꺼져서 본사에 전화했더니 배터리불량이라고 함 결국 교환신청하고 이틀만                                         배송이 무척 느렸습니다              배송은 다음날 바로출발했네요배송은 뽁뽁이로 안전하게 왔습니다    아이폰 구매하려고 하니 품절이너무빨라서 찾아보다가 애플공식인데 네이버포                                          불량 없이 괜찮습니다    아이폰  만 년 넘게 쓰고 있어요배터리 한번 교체했고 지금도 버벅거림없이                받았을때 택배박스 상태가 너무 안좋았어요 그래도 제품은 멀쩡하네용                              우리딸생일선물로 주었는데 좋아하여 좋았어요    어쩌다보니 벌써 여기서 두번째 선물하는 애플워치네요 처음엔 남자친구 선물하고                                      배송겁나빠르고 맥북 잘왔어요                                               잘쓰고잇어요    먼저 주문한 상품 검수하면서 수취확인을 한다는게 잘못해수 오늘 주문한 상품도 수취확             일 상품 잘받았습니다내용물은 확인 해봐야 될거 같습니다감사합니다                                         배송이 빨라서 좋습니다    도대체 왜 아무도 이슈화 시키지 않은지 모르겠지만 진짜 통화품질이 심각한 문제다     배송은 진짜 빠른데 근데 왜 휴대폰이랑 연동 오류가 가끔 나는지 모르겟네요     월 제품으로 도착처음 연결이 너무 빠르게 제이름의 에어팟 프로     에어팟쓰다 넘어왔는데 갠적으론 가 더 좋음  프로 귀에서 잘빠지고     노이즈 캔슬링유선이어폰파였던 저는 딱히 불편한 점을 못느꼈으나 에어팟에 가장', 2)]\n"
     ]
    }
   ],
   "source": [
    "positive_word_count = Counter(positive_words)\n",
    "print(positive_word_count.most_common(20))"
   ]
  },
  {
   "cell_type": "code",
   "execution_count": null,
   "id": "501cc652",
   "metadata": {},
   "outputs": [],
   "source": []
  },
  {
   "cell_type": "code",
   "execution_count": null,
   "id": "c173b989",
   "metadata": {},
   "outputs": [],
   "source": []
  },
  {
   "cell_type": "code",
   "execution_count": null,
   "id": "3fa4b44a",
   "metadata": {},
   "outputs": [],
   "source": [
    "# Word2Vec TEST"
   ]
  },
  {
   "cell_type": "code",
   "execution_count": 31,
   "id": "f81fff75",
   "metadata": {},
   "outputs": [],
   "source": [
    "import pandas as pd\n",
    "import matplotlib.pyplot as plt\n",
    "import urllib.request\n",
    "from gensim.models.word2vec import Word2Vec\n",
    "from konlpy.tag import Okt"
   ]
  },
  {
   "cell_type": "code",
   "execution_count": 34,
   "id": "a0db8f4a",
   "metadata": {},
   "outputs": [
    {
     "data": {
      "text/html": [
       "<div>\n",
       "<style scoped>\n",
       "    .dataframe tbody tr th:only-of-type {\n",
       "        vertical-align: middle;\n",
       "    }\n",
       "\n",
       "    .dataframe tbody tr th {\n",
       "        vertical-align: top;\n",
       "    }\n",
       "\n",
       "    .dataframe thead th {\n",
       "        text-align: right;\n",
       "    }\n",
       "</style>\n",
       "<table border=\"1\" class=\"dataframe\">\n",
       "  <thead>\n",
       "    <tr style=\"text-align: right;\">\n",
       "      <th></th>\n",
       "      <th>Unnamed: 0</th>\n",
       "      <th>type</th>\n",
       "      <th>review</th>\n",
       "      <th>star</th>\n",
       "    </tr>\n",
       "  </thead>\n",
       "  <tbody>\n",
       "    <tr>\n",
       "      <th>0</th>\n",
       "      <td>0</td>\n",
       "      <td>아이패드</td>\n",
       "      <td>택배가 이렇게 왔네요 정말 어이가 없어서전자제픔인데 물건을 이렇게 배송해주셔    ...</td>\n",
       "      <td>1</td>\n",
       "    </tr>\n",
       "    <tr>\n",
       "      <th>1</th>\n",
       "      <td>1</td>\n",
       "      <td>아이패드</td>\n",
       "      <td>택배가 이렇게 왔네요 정말 어이가 없어서전자제픔인데 물건을 이렇게 배송해주셔    ...</td>\n",
       "      <td>1</td>\n",
       "    </tr>\n",
       "    <tr>\n",
       "      <th>2</th>\n",
       "      <td>2</td>\n",
       "      <td>아이패드</td>\n",
       "      <td>고장나서 옴 수리하기도 돈아까윰    기쁜 마음으로 개봉했는데 액정은 아니지만 뒷면...</td>\n",
       "      <td>1</td>\n",
       "    </tr>\n",
       "    <tr>\n",
       "      <th>3</th>\n",
       "      <td>3</td>\n",
       "      <td>아이패드</td>\n",
       "      <td>고장나서 옴 수리하기도 돈아까윰    기쁜 마음으로 개봉했는데 액정은 아니지만 뒷면...</td>\n",
       "      <td>1</td>\n",
       "    </tr>\n",
       "    <tr>\n",
       "      <th>4</th>\n",
       "      <td>4</td>\n",
       "      <td>아이패드</td>\n",
       "      <td>그냥 모든게 허접해요    일단 사용해 보지 않아서 성능 기능 모릅니다시 이전 당일...</td>\n",
       "      <td>1</td>\n",
       "    </tr>\n",
       "    <tr>\n",
       "      <th>...</th>\n",
       "      <td>...</td>\n",
       "      <td>...</td>\n",
       "      <td>...</td>\n",
       "      <td>...</td>\n",
       "    </tr>\n",
       "    <tr>\n",
       "      <th>25824</th>\n",
       "      <td>25824</td>\n",
       "      <td>아이패드</td>\n",
       "      <td>다시는 오픈마켓에서 안살거에요 ㅎㅎ ㅜ 공홈에서 사야 교환하기도 편하고 좋을거같네요</td>\n",
       "      <td>1</td>\n",
       "    </tr>\n",
       "    <tr>\n",
       "      <th>25825</th>\n",
       "      <td>25825</td>\n",
       "      <td>아이패드</td>\n",
       "      <td>선물용으로 산거라 교환할 시간도 없어서 그냥 줬는데  모서리 찍혀있더라구요. 리퍼제...</td>\n",
       "      <td>1</td>\n",
       "    </tr>\n",
       "    <tr>\n",
       "      <th>25826</th>\n",
       "      <td>25826</td>\n",
       "      <td>아이패드</td>\n",
       "      <td>배송개ㅈ같이느리네주문한지가언젠데ㅋㅋ욕먹고싶어해서욕박는다재고없음연락해서먼저 조치를취하...</td>\n",
       "      <td>1</td>\n",
       "    </tr>\n",
       "    <tr>\n",
       "      <th>25827</th>\n",
       "      <td>25827</td>\n",
       "      <td>아이패드</td>\n",
       "      <td>미안하지도 않나봐요?</td>\n",
       "      <td>1</td>\n",
       "    </tr>\n",
       "    <tr>\n",
       "      <th>25828</th>\n",
       "      <td>25828</td>\n",
       "      <td>아이패드</td>\n",
       "      <td>배송박스가 찌그러져서 왔어요 뽁뽁이도ㅠ벗겨져서왓구요</td>\n",
       "      <td>1</td>\n",
       "    </tr>\n",
       "  </tbody>\n",
       "</table>\n",
       "<p>25829 rows × 4 columns</p>\n",
       "</div>"
      ],
      "text/plain": [
       "       Unnamed: 0  type                                             review  \\\n",
       "0               0  아이패드  택배가 이렇게 왔네요 정말 어이가 없어서전자제픔인데 물건을 이렇게 배송해주셔    ...   \n",
       "1               1  아이패드  택배가 이렇게 왔네요 정말 어이가 없어서전자제픔인데 물건을 이렇게 배송해주셔    ...   \n",
       "2               2  아이패드  고장나서 옴 수리하기도 돈아까윰    기쁜 마음으로 개봉했는데 액정은 아니지만 뒷면...   \n",
       "3               3  아이패드  고장나서 옴 수리하기도 돈아까윰    기쁜 마음으로 개봉했는데 액정은 아니지만 뒷면...   \n",
       "4               4  아이패드  그냥 모든게 허접해요    일단 사용해 보지 않아서 성능 기능 모릅니다시 이전 당일...   \n",
       "...           ...   ...                                                ...   \n",
       "25824       25824  아이패드     다시는 오픈마켓에서 안살거에요 ㅎㅎ ㅜ 공홈에서 사야 교환하기도 편하고 좋을거같네요   \n",
       "25825       25825  아이패드  선물용으로 산거라 교환할 시간도 없어서 그냥 줬는데  모서리 찍혀있더라구요. 리퍼제...   \n",
       "25826       25826  아이패드  배송개ㅈ같이느리네주문한지가언젠데ㅋㅋ욕먹고싶어해서욕박는다재고없음연락해서먼저 조치를취하...   \n",
       "25827       25827  아이패드                                        미안하지도 않나봐요?   \n",
       "25828       25828  아이패드                       배송박스가 찌그러져서 왔어요 뽁뽁이도ㅠ벗겨져서왓구요   \n",
       "\n",
       "       star  \n",
       "0         1  \n",
       "1         1  \n",
       "2         1  \n",
       "3         1  \n",
       "4         1  \n",
       "...     ...  \n",
       "25824     1  \n",
       "25825     1  \n",
       "25826     1  \n",
       "25827     1  \n",
       "25828     1  \n",
       "\n",
       "[25829 rows x 4 columns]"
      ]
     },
     "execution_count": 34,
     "metadata": {},
     "output_type": "execute_result"
    }
   ],
   "source": [
    "train_data = pd.read_csv(\"C:/690009/TP2/final_project/Project/Data/shopping_ds.csv\", encoding='utf-8-sig')\n",
    "train_data"
   ]
  },
  {
   "cell_type": "code",
   "execution_count": 35,
   "id": "1d3cf826",
   "metadata": {},
   "outputs": [
    {
     "name": "stdout",
     "output_type": "stream",
     "text": [
      "False\n"
     ]
    }
   ],
   "source": [
    "print(train_data.isnull().values.any())"
   ]
  },
  {
   "cell_type": "code",
   "execution_count": 36,
   "id": "19e8ca27",
   "metadata": {},
   "outputs": [
    {
     "name": "stderr",
     "output_type": "stream",
     "text": [
      "<ipython-input-36-19cfc46fe654>:1: FutureWarning: The default value of regex will change from True to False in a future version.\n",
      "  train_data['review'] = train_data['review'].str.replace(\"[^ㄱ-ㅎㅏ-ㅣ가-힣 ]\",\"\")\n"
     ]
    }
   ],
   "source": [
    "train_data['review'] = train_data['review'].str.replace(\"[^ㄱ-ㅎㅏ-ㅣ가-힣 ]\",\"\")"
   ]
  },
  {
   "cell_type": "code",
   "execution_count": 37,
   "id": "222d6911",
   "metadata": {},
   "outputs": [],
   "source": [
    "stopwords = ['의','가','이','은','들','는','좀','잘','걍','과','도','를','으로','자','에','와','한','하다']"
   ]
  },
  {
   "cell_type": "code",
   "execution_count": 38,
   "id": "8b350b05",
   "metadata": {},
   "outputs": [],
   "source": [
    "# 형태소 분석기 OKT를 사용한 토큰화 작업 (다소 시간 소요)\n",
    "okt = Okt()\n",
    "tokenized_data = []\n",
    "for sentence in train_data['review']:\n",
    "    temp_X = okt.morphs(sentence, stem=True) # 토큰화\n",
    "    temp_X = [word for word in temp_X if not word in stopwords] # 불용어 제거\n",
    "    tokenized_data.append(temp_X)"
   ]
  },
  {
   "cell_type": "code",
   "execution_count": 39,
   "id": "0e1803ca",
   "metadata": {},
   "outputs": [
    {
     "name": "stdout",
     "output_type": "stream",
     "text": [
      "리뷰의 최대 길이 : 1368\n",
      "리뷰의 평균 길이 : 53.41387587595339\n"
     ]
    },
    {
     "data": {
      "image/png": "[encoded data removed]",
      "text/plain": [
       "<Figure size 432x288 with 1 Axes>"
      ]
     },
     "metadata": {
      "needs_background": "light"
     },
     "output_type": "display_data"
    }
   ],
   "source": [
    "# 리뷰 길이 분포 확인\n",
    "print('리뷰의 최대 길이 :',max(len(l) for l in tokenized_data))\n",
    "print('리뷰의 평균 길이 :',sum(map(len, tokenized_data))/len(tokenized_data))\n",
    "plt.hist([len(s) for s in tokenized_data], bins=50)\n",
    "plt.xlabel('length of samples')\n",
    "plt.ylabel('number of samples')\n",
    "plt.show()"
   ]
  },
  {
   "cell_type": "code",
   "execution_count": 40,
   "id": "eb3ea211",
   "metadata": {},
   "outputs": [
    {
     "name": "stderr",
     "output_type": "stream",
     "text": [
      "C:\\ProgramData\\Anaconda3\\lib\\site-packages\\gensim\\models\\base_any2vec.py:742: UserWarning: C extension not loaded, training will be slow. Install a C compiler and reinstall gensim for fast training.\n",
      "  warnings.warn(\n"
     ]
    }
   ],
   "source": [
    "from gensim.models import Word2Vec\n",
    "model = Word2Vec(sentences = tokenized_data, size = 100, window = 5, min_count = 5, workers = 4, sg = 0)"
   ]
  },
  {
   "cell_type": "code",
   "execution_count": null,
   "id": "b98e782b",
   "metadata": {},
   "outputs": [],
   "source": [
    "model.wv.vectors.shape"
   ]
  },
  {
   "cell_type": "code",
   "execution_count": null,
   "id": "f0a9bfb9",
   "metadata": {},
   "outputs": [],
   "source": []
  },
  {
   "cell_type": "code",
   "execution_count": null,
   "id": "fa1b301e",
   "metadata": {},
   "outputs": [],
   "source": []
  },
  {
   "cell_type": "code",
   "execution_count": null,
   "id": "1572143e",
   "metadata": {},
   "outputs": [],
   "source": []
  },
  {
   "cell_type": "code",
   "execution_count": null,
   "id": "150e3fdb",
   "metadata": {},
   "outputs": [],
   "source": []
  },
  {
   "cell_type": "code",
   "execution_count": null,
   "id": "386f507c",
   "metadata": {},
   "outputs": [],
   "source": []
  },
  {
   "cell_type": "code",
   "execution_count": null,
   "id": "5036cfc0",
   "metadata": {},
   "outputs": [],
   "source": []
  }
 ],
 "metadata": {
  "kernelspec": {
   "display_name": "Python 3",
   "language": "python",
   "name": "python3"
  },
  "language_info": {
   "codemirror_mode": {
    "name": "ipython",
    "version": 3
   },
   "file_extension": ".py",
   "mimetype": "text/x-python",
   "name": "python",
   "nbconvert_exporter": "python",
   "pygments_lexer": "ipython3",
   "version": "3.8.8"
  }
 },
 "nbformat": 4,
 "nbformat_minor": 5
}
