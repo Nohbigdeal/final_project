{
 "cells": [
  {
   "cell_type": "code",
   "execution_count": 150,
   "id": "46e17053",
   "metadata": {},
   "outputs": [],
   "source": [
    "from bs4 import BeautifulSoup\n",
    "from selenium import webdriver\n",
    "import selenium\n",
    "from urllib.parse import  urlparse\n",
    "import time\n",
    "import lxml\n",
    "from urllib.request import urlopen\n",
    "from selenium.webdriver.common.keys import Keys\n",
    "import numpy as np\n",
    "import pandas as pd\n",
    "import re\n",
    "import pickle\n",
    "from contextlib import suppress\n",
    "\n",
    "from konlpy.tag import Okt\n",
    "from tensorflow.keras.preprocessing.text import Tokenizer\n",
    "from tensorflow.keras.preprocessing.sequence import pad_sequences"
   ]
  },
  {
   "cell_type": "code",
   "execution_count": 72,
   "id": "26c9088d",
   "metadata": {},
   "outputs": [
    {
     "data": {
      "text/html": [
       "<div>\n",
       "<style scoped>\n",
       "    .dataframe tbody tr th:only-of-type {\n",
       "        vertical-align: middle;\n",
       "    }\n",
       "\n",
       "    .dataframe tbody tr th {\n",
       "        vertical-align: top;\n",
       "    }\n",
       "\n",
       "    .dataframe thead th {\n",
       "        text-align: right;\n",
       "    }\n",
       "</style>\n",
       "<table border=\"1\" class=\"dataframe\">\n",
       "  <thead>\n",
       "    <tr style=\"text-align: right;\">\n",
       "      <th></th>\n",
       "      <th>Unnamed: 0</th>\n",
       "      <th>내용</th>\n",
       "      <th>별점</th>\n",
       "      <th>label</th>\n",
       "    </tr>\n",
       "  </thead>\n",
       "  <tbody>\n",
       "    <tr>\n",
       "      <th>0</th>\n",
       "      <td>0</td>\n",
       "      <td>쓰던 삼성폰이 갑자기 먹통이 되서 구입하게 되었습니다. 왜 안되는지 알수가 없다네요...</td>\n",
       "      <td>5</td>\n",
       "      <td>0</td>\n",
       "    </tr>\n",
       "    <tr>\n",
       "      <th>1</th>\n",
       "      <td>1</td>\n",
       "      <td>자급제폰으로 검색을 하던중에 아무리 둘러봐도 홍미노트7만한 녀석이 없더군요..해외직...</td>\n",
       "      <td>5</td>\n",
       "      <td>0</td>\n",
       "    </tr>\n",
       "    <tr>\n",
       "      <th>2</th>\n",
       "      <td>2</td>\n",
       "      <td>홍미노트6 쓰다가 7을 사 봤습니다.작아진 후면 카메라 부분, 화질은 더욱 좋아졌고...</td>\n",
       "      <td>5</td>\n",
       "      <td>0</td>\n",
       "    </tr>\n",
       "    <tr>\n",
       "      <th>3</th>\n",
       "      <td>3</td>\n",
       "      <td>솔직히 말해서 포인트 받을려고 쓰는 거 보다 제품이 너무 좋아서 쓰는 것도 있지만 ...</td>\n",
       "      <td>5</td>\n",
       "      <td>0</td>\n",
       "    </tr>\n",
       "    <tr>\n",
       "      <th>4</th>\n",
       "      <td>4</td>\n",
       "      <td>배송도 빠르고 알뜰폰 사용중이라 공기계만 필요했는데 가성비도 좋고 폰도 이쁘고 너무...</td>\n",
       "      <td>5</td>\n",
       "      <td>0</td>\n",
       "    </tr>\n",
       "    <tr>\n",
       "      <th>...</th>\n",
       "      <td>...</td>\n",
       "      <td>...</td>\n",
       "      <td>...</td>\n",
       "      <td>...</td>\n",
       "    </tr>\n",
       "    <tr>\n",
       "      <th>6966</th>\n",
       "      <td>6966</td>\n",
       "      <td>쓰기편한데 고무라서 그런지 얼마 안가 다시 사야할거같은 느낌적인느낌이들고 그래도 잘...</td>\n",
       "      <td>1</td>\n",
       "      <td>0</td>\n",
       "    </tr>\n",
       "    <tr>\n",
       "      <th>6967</th>\n",
       "      <td>6967</td>\n",
       "      <td>상품평을 많은 기대를 갖고서 구입했으나 전화 수신시 알려만주고 번호는 나타나지 않으...</td>\n",
       "      <td>1</td>\n",
       "      <td>0</td>\n",
       "    </tr>\n",
       "    <tr>\n",
       "      <th>6968</th>\n",
       "      <td>6968</td>\n",
       "      <td>금액대비 아주 좋습니다 여러모로 편리하네요 감사합니다 저렴하게 잘 산것 같아요</td>\n",
       "      <td>1</td>\n",
       "      <td>0</td>\n",
       "    </tr>\n",
       "    <tr>\n",
       "      <th>6969</th>\n",
       "      <td>6969</td>\n",
       "      <td>일주일 걸림</td>\n",
       "      <td>1</td>\n",
       "      <td>0</td>\n",
       "    </tr>\n",
       "    <tr>\n",
       "      <th>6970</th>\n",
       "      <td>6970</td>\n",
       "      <td>좋아요 포장도 잘 되어있고 가격도 그리 비싸진 않지만 충전기가 좀 비싼편이네염 절대...</td>\n",
       "      <td>1</td>\n",
       "      <td>0</td>\n",
       "    </tr>\n",
       "  </tbody>\n",
       "</table>\n",
       "<p>6133 rows × 4 columns</p>\n",
       "</div>"
      ],
      "text/plain": [
       "      Unnamed: 0                                                 내용  별점  label\n",
       "0              0  쓰던 삼성폰이 갑자기 먹통이 되서 구입하게 되었습니다. 왜 안되는지 알수가 없다네요...   5      0\n",
       "1              1  자급제폰으로 검색을 하던중에 아무리 둘러봐도 홍미노트7만한 녀석이 없더군요..해외직...   5      0\n",
       "2              2  홍미노트6 쓰다가 7을 사 봤습니다.작아진 후면 카메라 부분, 화질은 더욱 좋아졌고...   5      0\n",
       "3              3  솔직히 말해서 포인트 받을려고 쓰는 거 보다 제품이 너무 좋아서 쓰는 것도 있지만 ...   5      0\n",
       "4              4  배송도 빠르고 알뜰폰 사용중이라 공기계만 필요했는데 가성비도 좋고 폰도 이쁘고 너무...   5      0\n",
       "...          ...                                                ...  ..    ...\n",
       "6966        6966  쓰기편한데 고무라서 그런지 얼마 안가 다시 사야할거같은 느낌적인느낌이들고 그래도 잘...   1      0\n",
       "6967        6967  상품평을 많은 기대를 갖고서 구입했으나 전화 수신시 알려만주고 번호는 나타나지 않으...   1      0\n",
       "6968        6968        금액대비 아주 좋습니다 여러모로 편리하네요 감사합니다 저렴하게 잘 산것 같아요   1      0\n",
       "6969        6969                                             일주일 걸림   1      0\n",
       "6970        6970  좋아요 포장도 잘 되어있고 가격도 그리 비싸진 않지만 충전기가 좀 비싼편이네염 절대...   1      0\n",
       "\n",
       "[6133 rows x 4 columns]"
      ]
     },
     "execution_count": 72,
     "metadata": {},
     "output_type": "execute_result"
    }
   ],
   "source": [
    "xia = pd.read_csv(\"C:/690009/TP2/final_project/member/NTJ/crawlerNSstar/data/PP/xia.csv\")\n",
    "xia\n",
    "\n",
    "xia.drop_duplicates(subset=['내용'], inplace=True)\n",
    "xia\n",
    "\n",
    "xia[\"label\"] = 0\n",
    "xia"
   ]
  },
  {
   "cell_type": "code",
   "execution_count": 121,
   "id": "fbd78cc8",
   "metadata": {
    "scrolled": true
   },
   "outputs": [
    {
     "data": {
      "text/html": [
       "<div>\n",
       "<style scoped>\n",
       "    .dataframe tbody tr th:only-of-type {\n",
       "        vertical-align: middle;\n",
       "    }\n",
       "\n",
       "    .dataframe tbody tr th {\n",
       "        vertical-align: top;\n",
       "    }\n",
       "\n",
       "    .dataframe thead th {\n",
       "        text-align: right;\n",
       "    }\n",
       "</style>\n",
       "<table border=\"1\" class=\"dataframe\">\n",
       "  <thead>\n",
       "    <tr style=\"text-align: right;\">\n",
       "      <th></th>\n",
       "      <th>내용</th>\n",
       "      <th>별점</th>\n",
       "      <th>label</th>\n",
       "    </tr>\n",
       "    <tr>\n",
       "      <th>Unnamed: 0</th>\n",
       "      <th></th>\n",
       "      <th></th>\n",
       "      <th></th>\n",
       "    </tr>\n",
       "  </thead>\n",
       "  <tbody>\n",
       "    <tr>\n",
       "      <th>0</th>\n",
       "      <td>쓰던 삼성폰이 갑자기 먹통이 되서 구입하게 되었습니다. 왜 안되는지 알수가 없다네요...</td>\n",
       "      <td>5</td>\n",
       "      <td>1</td>\n",
       "    </tr>\n",
       "    <tr>\n",
       "      <th>1</th>\n",
       "      <td>자급제폰으로 검색을 하던중에 아무리 둘러봐도 홍미노트7만한 녀석이 없더군요..해외직...</td>\n",
       "      <td>5</td>\n",
       "      <td>1</td>\n",
       "    </tr>\n",
       "    <tr>\n",
       "      <th>2</th>\n",
       "      <td>홍미노트6 쓰다가 7을 사 봤습니다.작아진 후면 카메라 부분, 화질은 더욱 좋아졌고...</td>\n",
       "      <td>5</td>\n",
       "      <td>1</td>\n",
       "    </tr>\n",
       "    <tr>\n",
       "      <th>3</th>\n",
       "      <td>솔직히 말해서 포인트 받을려고 쓰는 거 보다 제품이 너무 좋아서 쓰는 것도 있지만 ...</td>\n",
       "      <td>5</td>\n",
       "      <td>1</td>\n",
       "    </tr>\n",
       "    <tr>\n",
       "      <th>4</th>\n",
       "      <td>배송도 빠르고 알뜰폰 사용중이라 공기계만 필요했는데 가성비도 좋고 폰도 이쁘고 너무...</td>\n",
       "      <td>5</td>\n",
       "      <td>1</td>\n",
       "    </tr>\n",
       "    <tr>\n",
       "      <th>...</th>\n",
       "      <td>...</td>\n",
       "      <td>...</td>\n",
       "      <td>...</td>\n",
       "    </tr>\n",
       "    <tr>\n",
       "      <th>6966</th>\n",
       "      <td>쓰기편한데 고무라서 그런지 얼마 안가 다시 사야할거같은 느낌적인느낌이들고 그래도 잘...</td>\n",
       "      <td>1</td>\n",
       "      <td>0</td>\n",
       "    </tr>\n",
       "    <tr>\n",
       "      <th>6967</th>\n",
       "      <td>상품평을 많은 기대를 갖고서 구입했으나 전화 수신시 알려만주고 번호는 나타나지 않으...</td>\n",
       "      <td>1</td>\n",
       "      <td>0</td>\n",
       "    </tr>\n",
       "    <tr>\n",
       "      <th>6968</th>\n",
       "      <td>금액대비 아주 좋습니다 여러모로 편리하네요 감사합니다 저렴하게 잘 산것 같아요</td>\n",
       "      <td>1</td>\n",
       "      <td>0</td>\n",
       "    </tr>\n",
       "    <tr>\n",
       "      <th>6969</th>\n",
       "      <td>일주일 걸림</td>\n",
       "      <td>1</td>\n",
       "      <td>0</td>\n",
       "    </tr>\n",
       "    <tr>\n",
       "      <th>6970</th>\n",
       "      <td>좋아요 포장도 잘 되어있고 가격도 그리 비싸진 않지만 충전기가 좀 비싼편이네염 절대...</td>\n",
       "      <td>1</td>\n",
       "      <td>0</td>\n",
       "    </tr>\n",
       "  </tbody>\n",
       "</table>\n",
       "<p>6133 rows × 3 columns</p>\n",
       "</div>"
      ],
      "text/plain": [
       "                                                           내용  별점  label\n",
       "Unnamed: 0                                                              \n",
       "0           쓰던 삼성폰이 갑자기 먹통이 되서 구입하게 되었습니다. 왜 안되는지 알수가 없다네요...   5      1\n",
       "1           자급제폰으로 검색을 하던중에 아무리 둘러봐도 홍미노트7만한 녀석이 없더군요..해외직...   5      1\n",
       "2           홍미노트6 쓰다가 7을 사 봤습니다.작아진 후면 카메라 부분, 화질은 더욱 좋아졌고...   5      1\n",
       "3           솔직히 말해서 포인트 받을려고 쓰는 거 보다 제품이 너무 좋아서 쓰는 것도 있지만 ...   5      1\n",
       "4           배송도 빠르고 알뜰폰 사용중이라 공기계만 필요했는데 가성비도 좋고 폰도 이쁘고 너무...   5      1\n",
       "...                                                       ...  ..    ...\n",
       "6966        쓰기편한데 고무라서 그런지 얼마 안가 다시 사야할거같은 느낌적인느낌이들고 그래도 잘...   1      0\n",
       "6967        상품평을 많은 기대를 갖고서 구입했으나 전화 수신시 알려만주고 번호는 나타나지 않으...   1      0\n",
       "6968              금액대비 아주 좋습니다 여러모로 편리하네요 감사합니다 저렴하게 잘 산것 같아요   1      0\n",
       "6969                                                   일주일 걸림   1      0\n",
       "6970        좋아요 포장도 잘 되어있고 가격도 그리 비싸진 않지만 충전기가 좀 비싼편이네염 절대...   1      0\n",
       "\n",
       "[6133 rows x 3 columns]"
      ]
     },
     "execution_count": 121,
     "metadata": {},
     "output_type": "execute_result"
    }
   ],
   "source": [
    "# xia.set_index(\"Unnamed: 0\", inplace=True)\n",
    "xia.loc[xia[\"별점\"] > 3.5, \"label\"] = 1\n",
    "xia"
   ]
  },
  {
   "cell_type": "code",
   "execution_count": 123,
   "id": "e8ce587d",
   "metadata": {},
   "outputs": [],
   "source": [
    "train_data = xia"
   ]
  },
  {
   "cell_type": "code",
   "execution_count": 125,
   "id": "9b257ed7",
   "metadata": {},
   "outputs": [
    {
     "data": {
      "text/plain": [
       "6133"
      ]
     },
     "execution_count": 125,
     "metadata": {},
     "output_type": "execute_result"
    }
   ],
   "source": [
    "train_data.drop_duplicates(subset=[\"내용\"], inplace=True)\n",
    "len(train_data)"
   ]
  },
  {
   "cell_type": "code",
   "execution_count": 126,
   "id": "253f40e4",
   "metadata": {},
   "outputs": [
    {
     "data": {
      "text/plain": [
       "<AxesSubplot:>"
      ]
     },
     "execution_count": 126,
     "metadata": {},
     "output_type": "execute_result"
    },
    {
     "data": {
      "image/png": "[encoded data removed]",
      "text/plain": [
       "<Figure size 432x288 with 1 Axes>"
      ]
     },
     "metadata": {
      "needs_background": "light"
     },
     "output_type": "display_data"
    }
   ],
   "source": [
    "train_data['label'].value_counts().plot(kind = 'bar')"
   ]
  },
  {
   "cell_type": "code",
   "execution_count": 127,
   "id": "bf75117c",
   "metadata": {},
   "outputs": [
    {
     "name": "stdout",
     "output_type": "stream",
     "text": [
      "   label  count\n",
      "0      0   1383\n",
      "1      1   4750\n"
     ]
    }
   ],
   "source": [
    "print(train_data.groupby('label').size().reset_index(name = 'count'))"
   ]
  },
  {
   "cell_type": "code",
   "execution_count": 128,
   "id": "673a2be7",
   "metadata": {},
   "outputs": [
    {
     "name": "stdout",
     "output_type": "stream",
     "text": [
      "True\n"
     ]
    }
   ],
   "source": [
    "print(train_data.isnull().values.any())"
   ]
  },
  {
   "cell_type": "code",
   "execution_count": 129,
   "id": "05434711",
   "metadata": {},
   "outputs": [
    {
     "name": "stdout",
     "output_type": "stream",
     "text": [
      "내용       1\n",
      "별점       0\n",
      "label    0\n",
      "dtype: int64\n"
     ]
    }
   ],
   "source": [
    "print(train_data.isnull().sum())"
   ]
  },
  {
   "cell_type": "code",
   "execution_count": 131,
   "id": "3f31109c",
   "metadata": {},
   "outputs": [
    {
     "data": {
      "text/html": [
       "<div>\n",
       "<style scoped>\n",
       "    .dataframe tbody tr th:only-of-type {\n",
       "        vertical-align: middle;\n",
       "    }\n",
       "\n",
       "    .dataframe tbody tr th {\n",
       "        vertical-align: top;\n",
       "    }\n",
       "\n",
       "    .dataframe thead th {\n",
       "        text-align: right;\n",
       "    }\n",
       "</style>\n",
       "<table border=\"1\" class=\"dataframe\">\n",
       "  <thead>\n",
       "    <tr style=\"text-align: right;\">\n",
       "      <th></th>\n",
       "      <th>내용</th>\n",
       "      <th>별점</th>\n",
       "      <th>label</th>\n",
       "    </tr>\n",
       "    <tr>\n",
       "      <th>Unnamed: 0</th>\n",
       "      <th></th>\n",
       "      <th></th>\n",
       "      <th></th>\n",
       "    </tr>\n",
       "  </thead>\n",
       "  <tbody>\n",
       "    <tr>\n",
       "      <th>4502</th>\n",
       "      <td>NaN</td>\n",
       "      <td>3</td>\n",
       "      <td>0</td>\n",
       "    </tr>\n",
       "  </tbody>\n",
       "</table>\n",
       "</div>"
      ],
      "text/plain": [
       "             내용  별점  label\n",
       "Unnamed: 0                \n",
       "4502        NaN   3      0"
      ]
     },
     "execution_count": 131,
     "metadata": {},
     "output_type": "execute_result"
    }
   ],
   "source": [
    "train_data.loc[train_data.내용.isnull()]"
   ]
  },
  {
   "cell_type": "code",
   "execution_count": 132,
   "id": "4853f6ac",
   "metadata": {},
   "outputs": [
    {
     "name": "stdout",
     "output_type": "stream",
     "text": [
      "False\n"
     ]
    }
   ],
   "source": [
    "train_data = train_data.dropna(how = 'any')\n",
    "print(train_data.isnull().values.any())"
   ]
  },
  {
   "cell_type": "code",
   "execution_count": 133,
   "id": "2577cd05",
   "metadata": {},
   "outputs": [
    {
     "name": "stdout",
     "output_type": "stream",
     "text": [
      "6132\n"
     ]
    }
   ],
   "source": [
    "print(len(train_data))"
   ]
  },
  {
   "cell_type": "code",
   "execution_count": 134,
   "id": "5b2e5748",
   "metadata": {},
   "outputs": [
    {
     "name": "stderr",
     "output_type": "stream",
     "text": [
      "<ipython-input-134-388f03bd8969>:1: FutureWarning: The default value of regex will change from True to False in a future version.\n",
      "  train_data['내용'] = train_data['내용'].str.replace(\"[^ㄱ-ㅎㅏ-ㅣ가-힣 ]\",\"\")\n",
      "<ipython-input-134-388f03bd8969>:1: SettingWithCopyWarning: \n",
      "A value is trying to be set on a copy of a slice from a DataFrame.\n",
      "Try using .loc[row_indexer,col_indexer] = value instead\n",
      "\n",
      "See the caveats in the documentation: https://pandas.pydata.org/pandas-docs/stable/user_guide/indexing.html#returning-a-view-versus-a-copy\n",
      "  train_data['내용'] = train_data['내용'].str.replace(\"[^ㄱ-ㅎㅏ-ㅣ가-힣 ]\",\"\")\n"
     ]
    },
    {
     "data": {
      "text/html": [
       "<div>\n",
       "<style scoped>\n",
       "    .dataframe tbody tr th:only-of-type {\n",
       "        vertical-align: middle;\n",
       "    }\n",
       "\n",
       "    .dataframe tbody tr th {\n",
       "        vertical-align: top;\n",
       "    }\n",
       "\n",
       "    .dataframe thead th {\n",
       "        text-align: right;\n",
       "    }\n",
       "</style>\n",
       "<table border=\"1\" class=\"dataframe\">\n",
       "  <thead>\n",
       "    <tr style=\"text-align: right;\">\n",
       "      <th></th>\n",
       "      <th>내용</th>\n",
       "      <th>별점</th>\n",
       "      <th>label</th>\n",
       "    </tr>\n",
       "    <tr>\n",
       "      <th>Unnamed: 0</th>\n",
       "      <th></th>\n",
       "      <th></th>\n",
       "      <th></th>\n",
       "    </tr>\n",
       "  </thead>\n",
       "  <tbody>\n",
       "    <tr>\n",
       "      <th>0</th>\n",
       "      <td>쓰던 삼성폰이 갑자기 먹통이 되서 구입하게 되었습니다 왜 안되는지 알수가 없다네요 ...</td>\n",
       "      <td>5</td>\n",
       "      <td>1</td>\n",
       "    </tr>\n",
       "    <tr>\n",
       "      <th>1</th>\n",
       "      <td>자급제폰으로 검색을 하던중에 아무리 둘러봐도 홍미노트만한 녀석이 없더군요해외직구를 ...</td>\n",
       "      <td>5</td>\n",
       "      <td>1</td>\n",
       "    </tr>\n",
       "    <tr>\n",
       "      <th>2</th>\n",
       "      <td>홍미노트 쓰다가 을 사 봤습니다작아진 후면 카메라 부분 화질은 더욱 좋아졌고 후면이...</td>\n",
       "      <td>5</td>\n",
       "      <td>1</td>\n",
       "    </tr>\n",
       "    <tr>\n",
       "      <th>3</th>\n",
       "      <td>솔직히 말해서 포인트 받을려고 쓰는 거 보다 제품이 너무 좋아서 쓰는 것도 있지만 ...</td>\n",
       "      <td>5</td>\n",
       "      <td>1</td>\n",
       "    </tr>\n",
       "    <tr>\n",
       "      <th>4</th>\n",
       "      <td>배송도 빠르고 알뜰폰 사용중이라 공기계만 필요했는데 가성비도 좋고 폰도 이쁘고 너무...</td>\n",
       "      <td>5</td>\n",
       "      <td>1</td>\n",
       "    </tr>\n",
       "  </tbody>\n",
       "</table>\n",
       "</div>"
      ],
      "text/plain": [
       "                                                           내용  별점  label\n",
       "Unnamed: 0                                                              \n",
       "0           쓰던 삼성폰이 갑자기 먹통이 되서 구입하게 되었습니다 왜 안되는지 알수가 없다네요 ...   5      1\n",
       "1           자급제폰으로 검색을 하던중에 아무리 둘러봐도 홍미노트만한 녀석이 없더군요해외직구를 ...   5      1\n",
       "2           홍미노트 쓰다가 을 사 봤습니다작아진 후면 카메라 부분 화질은 더욱 좋아졌고 후면이...   5      1\n",
       "3           솔직히 말해서 포인트 받을려고 쓰는 거 보다 제품이 너무 좋아서 쓰는 것도 있지만 ...   5      1\n",
       "4           배송도 빠르고 알뜰폰 사용중이라 공기계만 필요했는데 가성비도 좋고 폰도 이쁘고 너무...   5      1"
      ]
     },
     "execution_count": 134,
     "metadata": {},
     "output_type": "execute_result"
    }
   ],
   "source": [
    "train_data['내용'] = train_data['내용'].str.replace(\"[^ㄱ-ㅎㅏ-ㅣ가-힣 ]\",\"\")\n",
    "train_data[:5]"
   ]
  },
  {
   "cell_type": "code",
   "execution_count": 136,
   "id": "44ae5833",
   "metadata": {},
   "outputs": [
    {
     "name": "stdout",
     "output_type": "stream",
     "text": [
      "내용       17\n",
      "별점        0\n",
      "label     0\n",
      "dtype: int64\n"
     ]
    },
    {
     "name": "stderr",
     "output_type": "stream",
     "text": [
      "<ipython-input-136-c691e3f2cf46>:1: FutureWarning: The default value of regex will change from True to False in a future version.\n",
      "  train_data['내용'] = train_data['내용'].str.replace('^ +', \"\")\n",
      "<ipython-input-136-c691e3f2cf46>:1: SettingWithCopyWarning: \n",
      "A value is trying to be set on a copy of a slice from a DataFrame.\n",
      "Try using .loc[row_indexer,col_indexer] = value instead\n",
      "\n",
      "See the caveats in the documentation: https://pandas.pydata.org/pandas-docs/stable/user_guide/indexing.html#returning-a-view-versus-a-copy\n",
      "  train_data['내용'] = train_data['내용'].str.replace('^ +', \"\")\n",
      "C:\\ProgramData\\Anaconda3\\lib\\site-packages\\pandas\\core\\series.py:4509: SettingWithCopyWarning: \n",
      "A value is trying to be set on a copy of a slice from a DataFrame\n",
      "\n",
      "See the caveats in the documentation: https://pandas.pydata.org/pandas-docs/stable/user_guide/indexing.html#returning-a-view-versus-a-copy\n",
      "  return super().replace(\n"
     ]
    }
   ],
   "source": [
    "train_data['내용'] = train_data['내용'].str.replace('^ +', \"\")\n",
    "train_data['내용'].replace('', np.nan, inplace=True)\n",
    "print(train_data.isnull().sum())"
   ]
  },
  {
   "cell_type": "code",
   "execution_count": 139,
   "id": "65eb026a",
   "metadata": {},
   "outputs": [
    {
     "data": {
      "text/html": [
       "<div>\n",
       "<style scoped>\n",
       "    .dataframe tbody tr th:only-of-type {\n",
       "        vertical-align: middle;\n",
       "    }\n",
       "\n",
       "    .dataframe tbody tr th {\n",
       "        vertical-align: top;\n",
       "    }\n",
       "\n",
       "    .dataframe thead th {\n",
       "        text-align: right;\n",
       "    }\n",
       "</style>\n",
       "<table border=\"1\" class=\"dataframe\">\n",
       "  <thead>\n",
       "    <tr style=\"text-align: right;\">\n",
       "      <th></th>\n",
       "      <th>내용</th>\n",
       "      <th>별점</th>\n",
       "      <th>label</th>\n",
       "    </tr>\n",
       "    <tr>\n",
       "      <th>Unnamed: 0</th>\n",
       "      <th></th>\n",
       "      <th></th>\n",
       "      <th></th>\n",
       "    </tr>\n",
       "  </thead>\n",
       "  <tbody>\n",
       "  </tbody>\n",
       "</table>\n",
       "</div>"
      ],
      "text/plain": [
       "Empty DataFrame\n",
       "Columns: [내용, 별점, label]\n",
       "Index: []"
      ]
     },
     "execution_count": 139,
     "metadata": {},
     "output_type": "execute_result"
    }
   ],
   "source": [
    "train_data.loc[train_data.내용.isnull()][:5]"
   ]
  },
  {
   "cell_type": "code",
   "execution_count": 138,
   "id": "19ef34dc",
   "metadata": {},
   "outputs": [
    {
     "name": "stdout",
     "output_type": "stream",
     "text": [
      "6115\n"
     ]
    }
   ],
   "source": [
    "train_data = train_data.dropna(how = 'any')\n",
    "print(len(train_data))"
   ]
  },
  {
   "cell_type": "code",
   "execution_count": 140,
   "id": "61077bc2",
   "metadata": {},
   "outputs": [],
   "source": [
    "stopwords = ['가','게','고','과','네','는','다','도','들','듯','를','에','와','으로',\n",
    "             '은','을','의','이','인','임','자','잘','좀','지','하다','한']"
   ]
  },
  {
   "cell_type": "code",
   "execution_count": 153,
   "id": "59daa8e7",
   "metadata": {
    "scrolled": true
   },
   "outputs": [
    {
     "ename": "SystemError",
     "evalue": "java.lang.UnsatisfiedLinkError: Native Library C:\\ProgramData\\Anaconda3\\Lib\\site-packages\\_jpype.cp38-win_amd64.pyd already loaded in another classloader",
     "output_type": "error",
     "traceback": [
      "\u001b[1;31m---------------------------------------------------------------------------\u001b[0m",
      "\u001b[1;31mSystemError\u001b[0m                               Traceback (most recent call last)",
      "\u001b[1;32m<ipython-input-153-3c51b9dd540a>\u001b[0m in \u001b[0;36m<module>\u001b[1;34m\u001b[0m\n\u001b[1;32m----> 1\u001b[1;33m \u001b[0mokt\u001b[0m \u001b[1;33m=\u001b[0m \u001b[0mOkt\u001b[0m\u001b[1;33m(\u001b[0m\u001b[1;33m)\u001b[0m\u001b[1;33m\u001b[0m\u001b[1;33m\u001b[0m\u001b[0m\n\u001b[0m",
      "\u001b[1;32mC:\\ProgramData\\Anaconda3\\lib\\site-packages\\konlpy\\tag\\_okt.py\u001b[0m in \u001b[0;36m__init__\u001b[1;34m(self, jvmpath, max_heap_size)\u001b[0m\n\u001b[0;32m     89\u001b[0m     \u001b[1;32mdef\u001b[0m \u001b[0m__init__\u001b[0m\u001b[1;33m(\u001b[0m\u001b[0mself\u001b[0m\u001b[1;33m,\u001b[0m \u001b[0mjvmpath\u001b[0m\u001b[1;33m=\u001b[0m\u001b[1;32mNone\u001b[0m\u001b[1;33m,\u001b[0m \u001b[0mmax_heap_size\u001b[0m\u001b[1;33m=\u001b[0m\u001b[1;36m1024\u001b[0m\u001b[1;33m)\u001b[0m\u001b[1;33m:\u001b[0m\u001b[1;33m\u001b[0m\u001b[1;33m\u001b[0m\u001b[0m\n\u001b[0;32m     90\u001b[0m         \u001b[1;32mif\u001b[0m \u001b[1;32mnot\u001b[0m \u001b[0mjpype\u001b[0m\u001b[1;33m.\u001b[0m\u001b[0misJVMStarted\u001b[0m\u001b[1;33m(\u001b[0m\u001b[1;33m)\u001b[0m\u001b[1;33m:\u001b[0m\u001b[1;33m\u001b[0m\u001b[1;33m\u001b[0m\u001b[0m\n\u001b[1;32m---> 91\u001b[1;33m             \u001b[0mjvm\u001b[0m\u001b[1;33m.\u001b[0m\u001b[0minit_jvm\u001b[0m\u001b[1;33m(\u001b[0m\u001b[0mjvmpath\u001b[0m\u001b[1;33m,\u001b[0m \u001b[0mmax_heap_size\u001b[0m\u001b[1;33m)\u001b[0m\u001b[1;33m\u001b[0m\u001b[1;33m\u001b[0m\u001b[0m\n\u001b[0m\u001b[0;32m     92\u001b[0m \u001b[1;33m\u001b[0m\u001b[0m\n\u001b[0;32m     93\u001b[0m         \u001b[0moktJavaPackage\u001b[0m \u001b[1;33m=\u001b[0m \u001b[0mjpype\u001b[0m\u001b[1;33m.\u001b[0m\u001b[0mJPackage\u001b[0m\u001b[1;33m(\u001b[0m\u001b[1;34m'kr.lucypark.okt'\u001b[0m\u001b[1;33m)\u001b[0m\u001b[1;33m\u001b[0m\u001b[1;33m\u001b[0m\u001b[0m\n",
      "\u001b[1;32mC:\\ProgramData\\Anaconda3\\lib\\site-packages\\konlpy\\jvm.py\u001b[0m in \u001b[0;36minit_jvm\u001b[1;34m(jvmpath, max_heap_size)\u001b[0m\n\u001b[0;32m     62\u001b[0m \u001b[1;33m\u001b[0m\u001b[0m\n\u001b[0;32m     63\u001b[0m     \u001b[1;32mif\u001b[0m \u001b[0mjvmpath\u001b[0m\u001b[1;33m:\u001b[0m\u001b[1;33m\u001b[0m\u001b[1;33m\u001b[0m\u001b[0m\n\u001b[1;32m---> 64\u001b[1;33m         jpype.startJVM(jvmpath, '-Djava.class.path=%s' % classpath,\n\u001b[0m\u001b[0;32m     65\u001b[0m                                 \u001b[1;34m'-Dfile.encoding=UTF8'\u001b[0m\u001b[1;33m,\u001b[0m\u001b[1;33m\u001b[0m\u001b[1;33m\u001b[0m\u001b[0m\n\u001b[0;32m     66\u001b[0m                                 \u001b[1;34m'-ea'\u001b[0m\u001b[1;33m,\u001b[0m \u001b[1;34m'-Xmx{}m'\u001b[0m\u001b[1;33m.\u001b[0m\u001b[0mformat\u001b[0m\u001b[1;33m(\u001b[0m\u001b[0mmax_heap_size\u001b[0m\u001b[1;33m)\u001b[0m\u001b[1;33m,\u001b[0m\u001b[1;33m\u001b[0m\u001b[1;33m\u001b[0m\u001b[0m\n",
      "\u001b[1;32mC:\\ProgramData\\Anaconda3\\lib\\site-packages\\jpype\\_core.py\u001b[0m in \u001b[0;36mstartJVM\u001b[1;34m(*args, **kwargs)\u001b[0m\n\u001b[0;32m    224\u001b[0m \u001b[1;33m\u001b[0m\u001b[0m\n\u001b[0;32m    225\u001b[0m     \u001b[1;32mtry\u001b[0m\u001b[1;33m:\u001b[0m\u001b[1;33m\u001b[0m\u001b[1;33m\u001b[0m\u001b[0m\n\u001b[1;32m--> 226\u001b[1;33m         _jpype.startup(jvmpath, tuple(args),\n\u001b[0m\u001b[0;32m    227\u001b[0m                        ignoreUnrecognized, convertStrings, interrupt)\n\u001b[0;32m    228\u001b[0m         \u001b[0minitializeResources\u001b[0m\u001b[1;33m(\u001b[0m\u001b[1;33m)\u001b[0m\u001b[1;33m\u001b[0m\u001b[1;33m\u001b[0m\u001b[0m\n",
      "\u001b[1;31mSystemError\u001b[0m: java.lang.UnsatisfiedLinkError: Native Library C:\\ProgramData\\Anaconda3\\Lib\\site-packages\\_jpype.cp38-win_amd64.pyd already loaded in another classloader"
     ]
    }
   ],
   "source": [
    "okt = Okt()"
   ]
  },
  {
   "cell_type": "code",
   "execution_count": null,
   "id": "be90b428",
   "metadata": {},
   "outputs": [],
   "source": []
  },
  {
   "cell_type": "code",
   "execution_count": null,
   "id": "dcb8f044",
   "metadata": {},
   "outputs": [],
   "source": []
  },
  {
   "cell_type": "code",
   "execution_count": null,
   "id": "892236b6",
   "metadata": {},
   "outputs": [],
   "source": []
  },
  {
   "cell_type": "code",
   "execution_count": null,
   "id": "5278f5f9",
   "metadata": {},
   "outputs": [],
   "source": []
  }
 ],
 "metadata": {
  "kernelspec": {
   "display_name": "Python 3",
   "language": "python",
   "name": "python3"
  },
  "language_info": {
   "codemirror_mode": {
    "name": "ipython",
    "version": 3
   },
   "file_extension": ".py",
   "mimetype": "text/x-python",
   "name": "python",
   "nbconvert_exporter": "python",
   "pygments_lexer": "ipython3",
   "version": "3.8.8"
  }
 },
 "nbformat": 4,
 "nbformat_minor": 5
}
