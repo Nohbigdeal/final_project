{
 "cells": [
  {
   "cell_type": "markdown",
   "metadata": {},
   "source": [
    "# 인스타 크롤링 데이터 전처리\n",
    "\n",
    "+ 각 데이터 양 개수 확인하기 \n",
    "    - **삼성   : 3243개 >>> 2459개**\n",
    "    - **애플   : 5158개 >>> 2705개**\n",
    "    - **샤오미 :**\n",
    "    \n",
    "+ 기업별 데이터 병합 후 한글을 제외한 키워드 삭제\n",
    "+ 광고/홍보 글로 의심되는 문장 삭제\n"
   ]
  },
  {
   "cell_type": "code",
   "execution_count": 2,
   "metadata": {},
   "outputs": [],
   "source": [
    "import numpy as np\n",
    "import pandas as pd\n",
    "import re"
   ]
  },
  {
   "cell_type": "markdown",
   "metadata": {},
   "source": [
    "## processing 함수\n",
    "\n",
    "+ processing()\n",
    "+ clean_str()"
   ]
  },
  {
   "cell_type": "code",
   "execution_count": 3,
   "metadata": {},
   "outputs": [],
   "source": [
    "def processing(data):\n",
    "    # 데이터 중복 제거\n",
    "    data[\"context\"] = data[\"context\"].drop_duplicates()\n",
    "    data.dropna(inplace = True)\n",
    "    data.reset_index(inplace = True, drop = True)\n",
    "    print(data.info())\n",
    "\n",
    "    # 데이터 필터링\n",
    "    ban = [\"개통\", \"팔로우\", \"좋반\", \"케이스\", \"프로필\"]\n",
    "    ban_idx = []\n",
    "    try:\n",
    "        for keyword in ban:\n",
    "            for i in range(len(data)):\n",
    "                if data[\"context\"][i].find(keyword) != -1:\n",
    "                    data = data.drop(index=i)\n",
    "                    ban_idx.append(i)\n",
    "\n",
    "                elif data[\"context\"][i].find(keyword) == -1 :\n",
    "                    pass   \n",
    "            data.reset_index(inplace = True, drop = True)\n",
    "            \n",
    "    except Exception as ex :\n",
    "        print(ex, \"오류발생\")\n",
    "        pass\n",
    "    \n",
    "\n",
    "    return data\n",
    "\n",
    "# 해당 행을 바로 삭제 or 인덱스 번호를 저장 후 삭제"
   ]
  },
  {
   "cell_type": "code",
   "execution_count": 4,
   "metadata": {},
   "outputs": [],
   "source": [
    "# 한글만 살리기\n",
    "def clean_str(s):\n",
    "    hangul = re.compile('[^ ㄱ-ㅣ가-힣]+')    #한글만 남겨놓고 나머지 삭제\n",
    "    s = hangul.sub(r'',str(s))\n",
    "\n",
    "    cp = re.compile(\"[\"u\"\\U00010000-\\U0010FFFF\"\"]+\", flags=re.UNICODE)  #BMP characters 이외 이모티콘삭제\n",
    "    s=cp.sub(r'',s)\n",
    "\n",
    "    s = re.sub('[-=+,#/\\?:^$.@*\\\"※~&%ㆍ!』\\\\‘|\\(\\)\\[\\]\\<\\>`\\'…》]', '', s) #특수기호 삭제\n",
    " \n",
    "    return s.strip()"
   ]
  },
  {
   "cell_type": "markdown",
   "metadata": {},
   "source": [
    "### 삼성 checkpoints"
   ]
  },
  {
   "cell_type": "code",
   "execution_count": 4,
   "metadata": {},
   "outputs": [],
   "source": [
    "##### 데이터 읽기\n",
    "g_gear = pd.read_csv(\"갤럭시기어인스타.csv\", header = None) #443개 \n",
    "g_book = pd.read_csv(\"갤럭시북인스타.csv\", header = None) # 639개\n",
    "g = pd.read_csv(\"갤럭시인스타.csv\", header = None) # 495개\n",
    "g_tab = pd.read_csv(\"갤탭인스타.csv\", header = None) # 469개\n",
    "g_buzlive = pd.read_csv(\"버즈라이브인스타.csv\", header = None) # 197개\n",
    "g_buzplus = pd.read_csv(\"버즈플러스인스타.csv\", header = None) # 1000개"
   ]
  },
  {
   "cell_type": "code",
   "execution_count": 5,
   "metadata": {},
   "outputs": [
    {
     "data": {
      "text/plain": [
       "RangeIndex(start=0, stop=3243, step=1)"
      ]
     },
     "execution_count": 5,
     "metadata": {},
     "output_type": "execute_result"
    }
   ],
   "source": [
    "##### 데이터 병합\n",
    "s_df = pd.concat([g_gear, g_book, g, g_tab, g_buzplus, g_buzlive], ignore_index = True)\n",
    "s_df.index"
   ]
  },
  {
   "cell_type": "code",
   "execution_count": 6,
   "metadata": {},
   "outputs": [],
   "source": [
    "##### 한 게시물씩 리스트로 저장\n",
    "samsung_data = []\n",
    "for i in range(3243):\n",
    "    samsung_data.append(s_df[1][i])"
   ]
  },
  {
   "cell_type": "code",
   "execution_count": 7,
   "metadata": {},
   "outputs": [
    {
     "data": {
      "text/html": [
       "<div>\n",
       "<style scoped>\n",
       "    .dataframe tbody tr th:only-of-type {\n",
       "        vertical-align: middle;\n",
       "    }\n",
       "\n",
       "    .dataframe tbody tr th {\n",
       "        vertical-align: top;\n",
       "    }\n",
       "\n",
       "    .dataframe thead th {\n",
       "        text-align: right;\n",
       "    }\n",
       "</style>\n",
       "<table border=\"1\" class=\"dataframe\">\n",
       "  <thead>\n",
       "    <tr style=\"text-align: right;\">\n",
       "      <th></th>\n",
       "      <th>context</th>\n",
       "    </tr>\n",
       "  </thead>\n",
       "  <tbody>\n",
       "    <tr>\n",
       "      <th>0</th>\n",
       "      <td>많이 기다리셨죠    나머지 품절되었던 상품들도 재입고되었으니 확인해보세요  유세라...</td>\n",
       "    </tr>\n",
       "    <tr>\n",
       "      <th>1</th>\n",
       "      <td>소통하고 지내고싶어요</td>\n",
       "    </tr>\n",
       "    <tr>\n",
       "      <th>2</th>\n",
       "      <td>셀프선물 세뱃돈플렉스 집에만 있기 너어무 지루하고 따분한 요즘셀프선물로 분위기전환하...</td>\n",
       "    </tr>\n",
       "    <tr>\n",
       "      <th>3</th>\n",
       "      <td>인디고오렌지 컬러조합 완벽한 가죽스트랩 유세라샵 갤럭시워치 갤럭시워치 갤럭시워치액티...</td>\n",
       "    </tr>\n",
       "    <tr>\n",
       "      <th>4</th>\n",
       "      <td>첫 조카가 생겼을 때 넘 예뻐서 물고 빨고 했는데벌써 그 아기가 커서 오늘 나한테 ...</td>\n",
       "    </tr>\n",
       "    <tr>\n",
       "      <th>...</th>\n",
       "      <td>...</td>\n",
       "    </tr>\n",
       "    <tr>\n",
       "      <th>3238</th>\n",
       "      <td>버즈라이브버즈프로야채친구들원구매시 프로필 링크클릭프로필링크 속의 일반 케이스 창고 ...</td>\n",
       "    </tr>\n",
       "    <tr>\n",
       "      <th>3239</th>\n",
       "      <td>버즈버즈플러스키링다이노랜드원구매시 프로필 링크클릭프로필링크 속의 일반 케이스 창고 ...</td>\n",
       "    </tr>\n",
       "    <tr>\n",
       "      <th>3240</th>\n",
       "      <td>버즈라이브 하드 케이스 커스텀으로 주문제작 해주신 고객님의 후기 사진입니다퀄리티가 ...</td>\n",
       "    </tr>\n",
       "    <tr>\n",
       "      <th>3241</th>\n",
       "      <td>하드톡앙보카도원구매시 프로필 링크클릭프로필링크 속의 일반 케이스 창고 에서 구매가능...</td>\n",
       "    </tr>\n",
       "    <tr>\n",
       "      <th>3242</th>\n",
       "      <td>너나알아케이스원구매시 프로필 링크클릭프로필링크 속의 일반 케이스 창고 에서 구매가능...</td>\n",
       "    </tr>\n",
       "  </tbody>\n",
       "</table>\n",
       "<p>3243 rows × 1 columns</p>\n",
       "</div>"
      ],
      "text/plain": [
       "                                                context\n",
       "0     많이 기다리셨죠    나머지 품절되었던 상품들도 재입고되었으니 확인해보세요  유세라...\n",
       "1                                           소통하고 지내고싶어요\n",
       "2     셀프선물 세뱃돈플렉스 집에만 있기 너어무 지루하고 따분한 요즘셀프선물로 분위기전환하...\n",
       "3     인디고오렌지 컬러조합 완벽한 가죽스트랩 유세라샵 갤럭시워치 갤럭시워치 갤럭시워치액티...\n",
       "4     첫 조카가 생겼을 때 넘 예뻐서 물고 빨고 했는데벌써 그 아기가 커서 오늘 나한테 ...\n",
       "...                                                 ...\n",
       "3238  버즈라이브버즈프로야채친구들원구매시 프로필 링크클릭프로필링크 속의 일반 케이스 창고 ...\n",
       "3239  버즈버즈플러스키링다이노랜드원구매시 프로필 링크클릭프로필링크 속의 일반 케이스 창고 ...\n",
       "3240  버즈라이브 하드 케이스 커스텀으로 주문제작 해주신 고객님의 후기 사진입니다퀄리티가 ...\n",
       "3241  하드톡앙보카도원구매시 프로필 링크클릭프로필링크 속의 일반 케이스 창고 에서 구매가능...\n",
       "3242  너나알아케이스원구매시 프로필 링크클릭프로필링크 속의 일반 케이스 창고 에서 구매가능...\n",
       "\n",
       "[3243 rows x 1 columns]"
      ]
     },
     "execution_count": 7,
     "metadata": {},
     "output_type": "execute_result"
    }
   ],
   "source": [
    "##### clean_str 함수 적용\n",
    "s_list = []\n",
    "for i in range(3243):\n",
    "    s_list.append(clean_str(s_df[1][i]))\n",
    "    samsung = pd.DataFrame({\"context\" : s_list})\n",
    "samsung"
   ]
  },
  {
   "cell_type": "code",
   "execution_count": 8,
   "metadata": {},
   "outputs": [],
   "source": [
    "##### 병합한 데이터 출력\n",
    "samsung.to_csv(\"samsung.csv\")"
   ]
  },
  {
   "cell_type": "code",
   "execution_count": 9,
   "metadata": {},
   "outputs": [
    {
     "data": {
      "text/html": [
       "<div>\n",
       "<style scoped>\n",
       "    .dataframe tbody tr th:only-of-type {\n",
       "        vertical-align: middle;\n",
       "    }\n",
       "\n",
       "    .dataframe tbody tr th {\n",
       "        vertical-align: top;\n",
       "    }\n",
       "\n",
       "    .dataframe thead th {\n",
       "        text-align: right;\n",
       "    }\n",
       "</style>\n",
       "<table border=\"1\" class=\"dataframe\">\n",
       "  <thead>\n",
       "    <tr style=\"text-align: right;\">\n",
       "      <th></th>\n",
       "      <th>context</th>\n",
       "    </tr>\n",
       "  </thead>\n",
       "  <tbody>\n",
       "    <tr>\n",
       "      <th>0</th>\n",
       "      <td>많이 기다리셨죠    나머지 품절되었던 상품들도 재입고되었으니 확인해보세요  유세라...</td>\n",
       "    </tr>\n",
       "    <tr>\n",
       "      <th>1</th>\n",
       "      <td>소통하고 지내고싶어요</td>\n",
       "    </tr>\n",
       "    <tr>\n",
       "      <th>2</th>\n",
       "      <td>셀프선물 세뱃돈플렉스 집에만 있기 너어무 지루하고 따분한 요즘셀프선물로 분위기전환하...</td>\n",
       "    </tr>\n",
       "    <tr>\n",
       "      <th>3</th>\n",
       "      <td>인디고오렌지 컬러조합 완벽한 가죽스트랩 유세라샵 갤럭시워치 갤럭시워치 갤럭시워치액티...</td>\n",
       "    </tr>\n",
       "    <tr>\n",
       "      <th>4</th>\n",
       "      <td>첫 조카가 생겼을 때 넘 예뻐서 물고 빨고 했는데벌써 그 아기가 커서 오늘 나한테 ...</td>\n",
       "    </tr>\n",
       "  </tbody>\n",
       "</table>\n",
       "</div>"
      ],
      "text/plain": [
       "                                             context\n",
       "0  많이 기다리셨죠    나머지 품절되었던 상품들도 재입고되었으니 확인해보세요  유세라...\n",
       "1                                        소통하고 지내고싶어요\n",
       "2  셀프선물 세뱃돈플렉스 집에만 있기 너어무 지루하고 따분한 요즘셀프선물로 분위기전환하...\n",
       "3  인디고오렌지 컬러조합 완벽한 가죽스트랩 유세라샵 갤럭시워치 갤럭시워치 갤럭시워치액티...\n",
       "4  첫 조카가 생겼을 때 넘 예뻐서 물고 빨고 했는데벌써 그 아기가 커서 오늘 나한테 ..."
      ]
     },
     "execution_count": 9,
     "metadata": {},
     "output_type": "execute_result"
    }
   ],
   "source": [
    "##### 데이터 확인\n",
    "samsung = pd.read_csv(\"samsung.csv\", index_col = 0)\n",
    "samsung.head()"
   ]
  },
  {
   "cell_type": "code",
   "execution_count": 10,
   "metadata": {},
   "outputs": [
    {
     "name": "stdout",
     "output_type": "stream",
     "text": [
      "<class 'pandas.core.frame.DataFrame'>\n",
      "RangeIndex: 2549 entries, 0 to 2548\n",
      "Data columns (total 1 columns):\n",
      " #   Column   Non-Null Count  Dtype \n",
      "---  ------   --------------  ----- \n",
      " 0   context  2549 non-null   object\n",
      "dtypes: object(1)\n",
      "memory usage: 20.0+ KB\n",
      "None\n"
     ]
    }
   ],
   "source": [
    "##### processing 함수 적용\n",
    "samsung_test = samsung\n",
    "samsung_final = processing(samsung_test)"
   ]
  },
  {
   "cell_type": "code",
   "execution_count": 11,
   "metadata": {},
   "outputs": [],
   "source": [
    "samsung_final.to_csv(\"samsung_final.csv\")"
   ]
  },
  {
   "cell_type": "markdown",
   "metadata": {},
   "source": [
    "### 애플"
   ]
  },
  {
   "cell_type": "code",
   "execution_count": 55,
   "metadata": {},
   "outputs": [],
   "source": [
    "##### 데이터 읽기\n",
    "iphone = pd.read_csv(\"아이폰인스타.csv\", header = None) #443개 \n",
    "watch = pd.read_csv(\"애플워치인스타.csv\", header = None) # 639개\n",
    "airpod = pd.read_csv(\"에어팟인스타.csv\", header = None) # 495개\n",
    "macbook = pd.read_csv(\"맥북인스타.csv\", header = None) # 469개\n",
    "ipad = pd.read_csv(\"아이패드인스타.csv\", header = None) # 197개\n",
    "m1 = pd.read_csv(\"m1인스타.csv\", header = None) # 1000개"
   ]
  },
  {
   "cell_type": "code",
   "execution_count": 56,
   "metadata": {},
   "outputs": [
    {
     "data": {
      "text/plain": [
       "RangeIndex(start=0, stop=5158, step=1)"
      ]
     },
     "execution_count": 56,
     "metadata": {},
     "output_type": "execute_result"
    }
   ],
   "source": [
    "##### 데이터 병합\n",
    "a_df = pd.concat([iphone, watch, airpod, macbook, ipad, m1], ignore_index = True)\n",
    "a_df.index"
   ]
  },
  {
   "cell_type": "code",
   "execution_count": 57,
   "metadata": {},
   "outputs": [],
   "source": [
    "##### 한 게시물씩 리스트로 저장\n",
    "apple_data = []\n",
    "for i in range(len(a_df)):\n",
    "    apple_data.append(a_df[1][i])"
   ]
  },
  {
   "cell_type": "code",
   "execution_count": 58,
   "metadata": {},
   "outputs": [
    {
     "data": {
      "text/html": [
       "<div>\n",
       "<style scoped>\n",
       "    .dataframe tbody tr th:only-of-type {\n",
       "        vertical-align: middle;\n",
       "    }\n",
       "\n",
       "    .dataframe tbody tr th {\n",
       "        vertical-align: top;\n",
       "    }\n",
       "\n",
       "    .dataframe thead th {\n",
       "        text-align: right;\n",
       "    }\n",
       "</style>\n",
       "<table border=\"1\" class=\"dataframe\">\n",
       "  <thead>\n",
       "    <tr style=\"text-align: right;\">\n",
       "      <th></th>\n",
       "      <th>context</th>\n",
       "    </tr>\n",
       "  </thead>\n",
       "  <tbody>\n",
       "    <tr>\n",
       "      <th>0</th>\n",
       "      <td>미우미우임메시와 리오넬메시 같이 있는 사진편집 올려요 ㅎ ㅎ 우리 웅님이 제일 좋아...</td>\n",
       "    </tr>\n",
       "    <tr>\n",
       "      <th>1</th>\n",
       "      <td>카페선일토요일 열려 있습니다무더위에도 찾아 주심에 감사합니다우유 도넛  과 짭쪼롭라...</td>\n",
       "    </tr>\n",
       "    <tr>\n",
       "      <th>2</th>\n",
       "      <td>좋은아침  예쁘네요 가짜인것처럼 진짜같은 꽃사진이네요 예뻐요  굿모닝입니다  토요일...</td>\n",
       "    </tr>\n",
       "    <tr>\n",
       "      <th>3</th>\n",
       "      <td>예술의전당 가면 꼭 가야하는 곳노을 지기전이 그렇게 이쁘더라구요요즘은 시 분 쯤인 ...</td>\n",
       "    </tr>\n",
       "    <tr>\n",
       "      <th>4</th>\n",
       "      <td>집앞 마트 가는데 땀범벅  밖으로 나가려고 엘리베이터 기다리는데 이미 땀이 송글 송...</td>\n",
       "    </tr>\n",
       "    <tr>\n",
       "      <th>...</th>\n",
       "      <td>...</td>\n",
       "    </tr>\n",
       "    <tr>\n",
       "      <th>5153</th>\n",
       "      <td></td>\n",
       "    </tr>\n",
       "    <tr>\n",
       "      <th>5154</th>\n",
       "      <td>빠르게 달려도 바람이 많이 불어도 이어폰이 없어도 문제 없습니다 이마 위에 설치된 ...</td>\n",
       "    </tr>\n",
       "    <tr>\n",
       "      <th>5155</th>\n",
       "      <td></td>\n",
       "    </tr>\n",
       "    <tr>\n",
       "      <th>5156</th>\n",
       "      <td></td>\n",
       "    </tr>\n",
       "    <tr>\n",
       "      <th>5157</th>\n",
       "      <td></td>\n",
       "    </tr>\n",
       "  </tbody>\n",
       "</table>\n",
       "<p>5158 rows × 1 columns</p>\n",
       "</div>"
      ],
      "text/plain": [
       "                                                context\n",
       "0     미우미우임메시와 리오넬메시 같이 있는 사진편집 올려요 ㅎ ㅎ 우리 웅님이 제일 좋아...\n",
       "1     카페선일토요일 열려 있습니다무더위에도 찾아 주심에 감사합니다우유 도넛  과 짭쪼롭라...\n",
       "2     좋은아침  예쁘네요 가짜인것처럼 진짜같은 꽃사진이네요 예뻐요  굿모닝입니다  토요일...\n",
       "3     예술의전당 가면 꼭 가야하는 곳노을 지기전이 그렇게 이쁘더라구요요즘은 시 분 쯤인 ...\n",
       "4     집앞 마트 가는데 땀범벅  밖으로 나가려고 엘리베이터 기다리는데 이미 땀이 송글 송...\n",
       "...                                                 ...\n",
       "5153                                                   \n",
       "5154  빠르게 달려도 바람이 많이 불어도 이어폰이 없어도 문제 없습니다 이마 위에 설치된 ...\n",
       "5155                                                   \n",
       "5156                                                   \n",
       "5157                                                   \n",
       "\n",
       "[5158 rows x 1 columns]"
      ]
     },
     "execution_count": 58,
     "metadata": {},
     "output_type": "execute_result"
    }
   ],
   "source": [
    "##### clean_str 함수 적용\n",
    "a_list = []\n",
    "for i in range(len(a_df)):\n",
    "    a_list.append(clean_str(a_df[1][i]))\n",
    "    apple = pd.DataFrame({\"context\" : a_list})\n",
    "apple"
   ]
  },
  {
   "cell_type": "code",
   "execution_count": 64,
   "metadata": {},
   "outputs": [
    {
     "data": {
      "text/html": [
       "<div>\n",
       "<style scoped>\n",
       "    .dataframe tbody tr th:only-of-type {\n",
       "        vertical-align: middle;\n",
       "    }\n",
       "\n",
       "    .dataframe tbody tr th {\n",
       "        vertical-align: top;\n",
       "    }\n",
       "\n",
       "    .dataframe thead th {\n",
       "        text-align: right;\n",
       "    }\n",
       "</style>\n",
       "<table border=\"1\" class=\"dataframe\">\n",
       "  <thead>\n",
       "    <tr style=\"text-align: right;\">\n",
       "      <th></th>\n",
       "      <th>context</th>\n",
       "    </tr>\n",
       "  </thead>\n",
       "  <tbody>\n",
       "    <tr>\n",
       "      <th>0</th>\n",
       "      <td>미우미우임메시와 리오넬메시 같이 있는 사진편집 올려요 ㅎ ㅎ 우리 웅님이 제일 좋아...</td>\n",
       "    </tr>\n",
       "    <tr>\n",
       "      <th>1</th>\n",
       "      <td>카페선일토요일 열려 있습니다무더위에도 찾아 주심에 감사합니다우유 도넛  과 짭쪼롭라...</td>\n",
       "    </tr>\n",
       "    <tr>\n",
       "      <th>2</th>\n",
       "      <td>좋은아침  예쁘네요 가짜인것처럼 진짜같은 꽃사진이네요 예뻐요  굿모닝입니다  토요일...</td>\n",
       "    </tr>\n",
       "    <tr>\n",
       "      <th>3</th>\n",
       "      <td>예술의전당 가면 꼭 가야하는 곳노을 지기전이 그렇게 이쁘더라구요요즘은 시 분 쯤인 ...</td>\n",
       "    </tr>\n",
       "    <tr>\n",
       "      <th>4</th>\n",
       "      <td>집앞 마트 가는데 땀범벅  밖으로 나가려고 엘리베이터 기다리는데 이미 땀이 송글 송...</td>\n",
       "    </tr>\n",
       "    <tr>\n",
       "      <th>...</th>\n",
       "      <td>...</td>\n",
       "    </tr>\n",
       "    <tr>\n",
       "      <th>5102</th>\n",
       "      <td>이렇게 앱등이가 되는걸까요 지난 년동안 나름 충성스러운 삼성 유저였는데 재작년부터 ...</td>\n",
       "    </tr>\n",
       "    <tr>\n",
       "      <th>5108</th>\n",
       "      <td>미래의 내가 나한테 사준 것찐행복  진짜 찐이다  맥북케이스</td>\n",
       "    </tr>\n",
       "    <tr>\n",
       "      <th>5126</th>\n",
       "      <td>마이리얼스킨의슬기로운 집콕생활 집콕 챌린지요즘 새로운 일상으로 자리잡은 사회적거리두...</td>\n",
       "    </tr>\n",
       "    <tr>\n",
       "      <th>5136</th>\n",
       "      <td>거 반지가 너무 눈에 띄는거 아니오</td>\n",
       "    </tr>\n",
       "    <tr>\n",
       "      <th>5154</th>\n",
       "      <td>빠르게 달려도 바람이 많이 불어도 이어폰이 없어도 문제 없습니다 이마 위에 설치된 ...</td>\n",
       "    </tr>\n",
       "  </tbody>\n",
       "</table>\n",
       "<p>4614 rows × 1 columns</p>\n",
       "</div>"
      ],
      "text/plain": [
       "                                                context\n",
       "0     미우미우임메시와 리오넬메시 같이 있는 사진편집 올려요 ㅎ ㅎ 우리 웅님이 제일 좋아...\n",
       "1     카페선일토요일 열려 있습니다무더위에도 찾아 주심에 감사합니다우유 도넛  과 짭쪼롭라...\n",
       "2     좋은아침  예쁘네요 가짜인것처럼 진짜같은 꽃사진이네요 예뻐요  굿모닝입니다  토요일...\n",
       "3     예술의전당 가면 꼭 가야하는 곳노을 지기전이 그렇게 이쁘더라구요요즘은 시 분 쯤인 ...\n",
       "4     집앞 마트 가는데 땀범벅  밖으로 나가려고 엘리베이터 기다리는데 이미 땀이 송글 송...\n",
       "...                                                 ...\n",
       "5102  이렇게 앱등이가 되는걸까요 지난 년동안 나름 충성스러운 삼성 유저였는데 재작년부터 ...\n",
       "5108                  미래의 내가 나한테 사준 것찐행복  진짜 찐이다  맥북케이스\n",
       "5126  마이리얼스킨의슬기로운 집콕생활 집콕 챌린지요즘 새로운 일상으로 자리잡은 사회적거리두...\n",
       "5136                                거 반지가 너무 눈에 띄는거 아니오\n",
       "5154  빠르게 달려도 바람이 많이 불어도 이어폰이 없어도 문제 없습니다 이마 위에 설치된 ...\n",
       "\n",
       "[4614 rows x 1 columns]"
      ]
     },
     "execution_count": 64,
     "metadata": {},
     "output_type": "execute_result"
    }
   ],
   "source": [
    "apple['context'].replace('', np.nan, inplace=True)\n",
    "apple.dropna(inplace = True)\n",
    "apple"
   ]
  },
  {
   "cell_type": "code",
   "execution_count": 16,
   "metadata": {},
   "outputs": [],
   "source": [
    "##### 병합한 데이터 출력\n",
    "apple.to_csv(\"apple.csv\")"
   ]
  },
  {
   "cell_type": "code",
   "execution_count": 66,
   "metadata": {},
   "outputs": [
    {
     "data": {
      "text/html": [
       "<div>\n",
       "<style scoped>\n",
       "    .dataframe tbody tr th:only-of-type {\n",
       "        vertical-align: middle;\n",
       "    }\n",
       "\n",
       "    .dataframe tbody tr th {\n",
       "        vertical-align: top;\n",
       "    }\n",
       "\n",
       "    .dataframe thead th {\n",
       "        text-align: right;\n",
       "    }\n",
       "</style>\n",
       "<table border=\"1\" class=\"dataframe\">\n",
       "  <thead>\n",
       "    <tr style=\"text-align: right;\">\n",
       "      <th></th>\n",
       "      <th>context</th>\n",
       "    </tr>\n",
       "  </thead>\n",
       "  <tbody>\n",
       "    <tr>\n",
       "      <th>0</th>\n",
       "      <td>미우미우임메시와 리오넬메시 같이 있는 사진편집 올려요 ㅎ ㅎ 우리 웅님이 제일 좋아...</td>\n",
       "    </tr>\n",
       "    <tr>\n",
       "      <th>1</th>\n",
       "      <td>카페선일토요일 열려 있습니다무더위에도 찾아 주심에 감사합니다우유 도넛  과 짭쪼롭라...</td>\n",
       "    </tr>\n",
       "    <tr>\n",
       "      <th>2</th>\n",
       "      <td>좋은아침  예쁘네요 가짜인것처럼 진짜같은 꽃사진이네요 예뻐요  굿모닝입니다  토요일...</td>\n",
       "    </tr>\n",
       "    <tr>\n",
       "      <th>3</th>\n",
       "      <td>예술의전당 가면 꼭 가야하는 곳노을 지기전이 그렇게 이쁘더라구요요즘은 시 분 쯤인 ...</td>\n",
       "    </tr>\n",
       "    <tr>\n",
       "      <th>4</th>\n",
       "      <td>집앞 마트 가는데 땀범벅  밖으로 나가려고 엘리베이터 기다리는데 이미 땀이 송글 송...</td>\n",
       "    </tr>\n",
       "  </tbody>\n",
       "</table>\n",
       "</div>"
      ],
      "text/plain": [
       "                                             context\n",
       "0  미우미우임메시와 리오넬메시 같이 있는 사진편집 올려요 ㅎ ㅎ 우리 웅님이 제일 좋아...\n",
       "1  카페선일토요일 열려 있습니다무더위에도 찾아 주심에 감사합니다우유 도넛  과 짭쪼롭라...\n",
       "2  좋은아침  예쁘네요 가짜인것처럼 진짜같은 꽃사진이네요 예뻐요  굿모닝입니다  토요일...\n",
       "3  예술의전당 가면 꼭 가야하는 곳노을 지기전이 그렇게 이쁘더라구요요즘은 시 분 쯤인 ...\n",
       "4  집앞 마트 가는데 땀범벅  밖으로 나가려고 엘리베이터 기다리는데 이미 땀이 송글 송..."
      ]
     },
     "execution_count": 66,
     "metadata": {},
     "output_type": "execute_result"
    }
   ],
   "source": [
    "##### 데이터 확인\n",
    "apple = pd.read_csv(\"apple.csv\", index_col = 0)\n",
    "apple.head()"
   ]
  },
  {
   "cell_type": "code",
   "execution_count": 67,
   "metadata": {},
   "outputs": [
    {
     "name": "stdout",
     "output_type": "stream",
     "text": [
      "<class 'pandas.core.frame.DataFrame'>\n",
      "RangeIndex: 4177 entries, 0 to 4176\n",
      "Data columns (total 1 columns):\n",
      " #   Column   Non-Null Count  Dtype \n",
      "---  ------   --------------  ----- \n",
      " 0   context  4177 non-null   object\n",
      "dtypes: object(1)\n",
      "memory usage: 32.8+ KB\n",
      "None\n"
     ]
    }
   ],
   "source": [
    "##### processing 함수 적용\n",
    "apple_test = apple\n",
    "apple_final = processing(apple_test)"
   ]
  },
  {
   "cell_type": "code",
   "execution_count": 88,
   "metadata": {},
   "outputs": [],
   "source": [
    "apple_final.to_csv(\"apple_final.csv\")"
   ]
  },
  {
   "cell_type": "markdown",
   "metadata": {},
   "source": [
    "### 샤오미"
   ]
  },
  {
   "cell_type": "code",
   "execution_count": 6,
   "metadata": {},
   "outputs": [],
   "source": [
    "##### 데이터 읽기\n",
    "miband = pd.read_csv(\"미밴드인스타.csv\", header = None) \n",
    "hongmi = pd.read_csv(\"홍미노트인스타.csv\", header = None) \n",
    "# watch = pd.read_csv(\"샤오미워치인스타.csv\", header = None) \n",
    "amaze = pd.read_csv(\"어메이즈핏인스타.csv\", header = None)\n",
    "phone = pd.read_csv(\"샤오미폰인스타.csv\", header = None)\n",
    "miphone = pd.read_csv(\"샤오미휴대폰인스타.csv\", header = None) "
   ]
  },
  {
   "cell_type": "code",
   "execution_count": 9,
   "metadata": {},
   "outputs": [
    {
     "data": {
      "text/plain": [
       "RangeIndex(start=0, stop=948, step=1)"
      ]
     },
     "execution_count": 9,
     "metadata": {},
     "output_type": "execute_result"
    }
   ],
   "source": [
    "##### 데이터 병합\n",
    "m_df = pd.concat([miband, hongmi, amaze, phone, miphone], ignore_index = True)\n",
    "m_df.index"
   ]
  },
  {
   "cell_type": "code",
   "execution_count": 10,
   "metadata": {},
   "outputs": [],
   "source": [
    "##### 한 게시물씩 리스트로 저장\n",
    "mi_data = []\n",
    "for i in range(len(m_df)):\n",
    "    mi_data.append(m_df[1][i])"
   ]
  },
  {
   "cell_type": "code",
   "execution_count": 11,
   "metadata": {},
   "outputs": [
    {
     "data": {
      "text/html": [
       "<div>\n",
       "<style scoped>\n",
       "    .dataframe tbody tr th:only-of-type {\n",
       "        vertical-align: middle;\n",
       "    }\n",
       "\n",
       "    .dataframe tbody tr th {\n",
       "        vertical-align: top;\n",
       "    }\n",
       "\n",
       "    .dataframe thead th {\n",
       "        text-align: right;\n",
       "    }\n",
       "</style>\n",
       "<table border=\"1\" class=\"dataframe\">\n",
       "  <thead>\n",
       "    <tr style=\"text-align: right;\">\n",
       "      <th></th>\n",
       "      <th>context</th>\n",
       "    </tr>\n",
       "  </thead>\n",
       "  <tbody>\n",
       "    <tr>\n",
       "      <th>0</th>\n",
       "      <td>이거 써보신 분 계세요 이번에 구매했는데 넘 좋아서요   샤오미에서 나온 미밴드 인...</td>\n",
       "    </tr>\n",
       "    <tr>\n",
       "      <th>1</th>\n",
       "      <td>집에 도착해서보니 나의 미밴드 걸음수 줌바 에서 얼마나 깨작깨작 스텝 밟았으면 하기...</td>\n",
       "    </tr>\n",
       "    <tr>\n",
       "      <th>2</th>\n",
       "      <td>두 번 운동한 날은 스트레칭 쉬고 싶은데 운동 쉬고 싶은데 박하을 다이어트땜같이한다...</td>\n",
       "    </tr>\n",
       "    <tr>\n",
       "      <th>3</th>\n",
       "      <td>ㅎㅎ                                 ㅎㅎㅎ        ...</td>\n",
       "    </tr>\n",
       "    <tr>\n",
       "      <th>4</th>\n",
       "      <td>데이오프에 베트남으로 여행다녀옴  머리부터발끝까지 생일선물 ㅋㅋ효뜨 데이오프 다음엔...</td>\n",
       "    </tr>\n",
       "    <tr>\n",
       "      <th>...</th>\n",
       "      <td>...</td>\n",
       "    </tr>\n",
       "    <tr>\n",
       "      <th>943</th>\n",
       "      <td>블랙박스공기청정기 보조배터리샤오미휴대폰 진열제품구경공짜판플렛공짜남양주진접아이나비공식...</td>\n",
       "    </tr>\n",
       "    <tr>\n",
       "      <th>944</th>\n",
       "      <td>내꺼아님 탐나넹샤오미휴대폰  이거이거 그럴싸하쥬 완젼 탐났던아이 지문인식도됨좀더 꼼...</td>\n",
       "    </tr>\n",
       "    <tr>\n",
       "      <th>945</th>\n",
       "      <td>샤오미 미맥스 직구가격대비 가성비 좋네 ㅋㅋ휴대폰 가성비갑 샤오미미맥스 샤오미 데일...</td>\n",
       "    </tr>\n",
       "    <tr>\n",
       "      <th>946</th>\n",
       "      <td>샤오미휴대폰 카메라 나이성별이 인식댄다 ㅋ신기방기ㅋ 베이징  여행 좋은사람과 샤오미...</td>\n",
       "    </tr>\n",
       "    <tr>\n",
       "      <th>947</th>\n",
       "      <td>듀얼  샤오미샤오미 샤오미휴대폰 샤오미 휴대폰 핸드폰 이거한국에서 사용가능 굿굿  ...</td>\n",
       "    </tr>\n",
       "  </tbody>\n",
       "</table>\n",
       "<p>948 rows × 1 columns</p>\n",
       "</div>"
      ],
      "text/plain": [
       "                                               context\n",
       "0    이거 써보신 분 계세요 이번에 구매했는데 넘 좋아서요   샤오미에서 나온 미밴드 인...\n",
       "1    집에 도착해서보니 나의 미밴드 걸음수 줌바 에서 얼마나 깨작깨작 스텝 밟았으면 하기...\n",
       "2    두 번 운동한 날은 스트레칭 쉬고 싶은데 운동 쉬고 싶은데 박하을 다이어트땜같이한다...\n",
       "3    ㅎㅎ                                 ㅎㅎㅎ        ...\n",
       "4    데이오프에 베트남으로 여행다녀옴  머리부터발끝까지 생일선물 ㅋㅋ효뜨 데이오프 다음엔...\n",
       "..                                                 ...\n",
       "943  블랙박스공기청정기 보조배터리샤오미휴대폰 진열제품구경공짜판플렛공짜남양주진접아이나비공식...\n",
       "944  내꺼아님 탐나넹샤오미휴대폰  이거이거 그럴싸하쥬 완젼 탐났던아이 지문인식도됨좀더 꼼...\n",
       "945  샤오미 미맥스 직구가격대비 가성비 좋네 ㅋㅋ휴대폰 가성비갑 샤오미미맥스 샤오미 데일...\n",
       "946  샤오미휴대폰 카메라 나이성별이 인식댄다 ㅋ신기방기ㅋ 베이징  여행 좋은사람과 샤오미...\n",
       "947  듀얼  샤오미샤오미 샤오미휴대폰 샤오미 휴대폰 핸드폰 이거한국에서 사용가능 굿굿  ...\n",
       "\n",
       "[948 rows x 1 columns]"
      ]
     },
     "execution_count": 11,
     "metadata": {},
     "output_type": "execute_result"
    }
   ],
   "source": [
    "##### clean_str 함수 적용\n",
    "m_list = []\n",
    "for i in range(len(m_df)):\n",
    "    m_list.append(clean_str(m_df[1][i]))\n",
    "    mi = pd.DataFrame({\"context\" : m_list})\n",
    "mi"
   ]
  },
  {
   "cell_type": "code",
   "execution_count": 12,
   "metadata": {},
   "outputs": [
    {
     "data": {
      "text/html": [
       "<div>\n",
       "<style scoped>\n",
       "    .dataframe tbody tr th:only-of-type {\n",
       "        vertical-align: middle;\n",
       "    }\n",
       "\n",
       "    .dataframe tbody tr th {\n",
       "        vertical-align: top;\n",
       "    }\n",
       "\n",
       "    .dataframe thead th {\n",
       "        text-align: right;\n",
       "    }\n",
       "</style>\n",
       "<table border=\"1\" class=\"dataframe\">\n",
       "  <thead>\n",
       "    <tr style=\"text-align: right;\">\n",
       "      <th></th>\n",
       "      <th>context</th>\n",
       "    </tr>\n",
       "  </thead>\n",
       "  <tbody>\n",
       "    <tr>\n",
       "      <th>0</th>\n",
       "      <td>이거 써보신 분 계세요 이번에 구매했는데 넘 좋아서요   샤오미에서 나온 미밴드 인...</td>\n",
       "    </tr>\n",
       "    <tr>\n",
       "      <th>1</th>\n",
       "      <td>집에 도착해서보니 나의 미밴드 걸음수 줌바 에서 얼마나 깨작깨작 스텝 밟았으면 하기...</td>\n",
       "    </tr>\n",
       "    <tr>\n",
       "      <th>2</th>\n",
       "      <td>두 번 운동한 날은 스트레칭 쉬고 싶은데 운동 쉬고 싶은데 박하을 다이어트땜같이한다...</td>\n",
       "    </tr>\n",
       "    <tr>\n",
       "      <th>3</th>\n",
       "      <td>ㅎㅎ                                 ㅎㅎㅎ        ...</td>\n",
       "    </tr>\n",
       "    <tr>\n",
       "      <th>4</th>\n",
       "      <td>데이오프에 베트남으로 여행다녀옴  머리부터발끝까지 생일선물 ㅋㅋ효뜨 데이오프 다음엔...</td>\n",
       "    </tr>\n",
       "    <tr>\n",
       "      <th>...</th>\n",
       "      <td>...</td>\n",
       "    </tr>\n",
       "    <tr>\n",
       "      <th>943</th>\n",
       "      <td>블랙박스공기청정기 보조배터리샤오미휴대폰 진열제품구경공짜판플렛공짜남양주진접아이나비공식...</td>\n",
       "    </tr>\n",
       "    <tr>\n",
       "      <th>944</th>\n",
       "      <td>내꺼아님 탐나넹샤오미휴대폰  이거이거 그럴싸하쥬 완젼 탐났던아이 지문인식도됨좀더 꼼...</td>\n",
       "    </tr>\n",
       "    <tr>\n",
       "      <th>945</th>\n",
       "      <td>샤오미 미맥스 직구가격대비 가성비 좋네 ㅋㅋ휴대폰 가성비갑 샤오미미맥스 샤오미 데일...</td>\n",
       "    </tr>\n",
       "    <tr>\n",
       "      <th>946</th>\n",
       "      <td>샤오미휴대폰 카메라 나이성별이 인식댄다 ㅋ신기방기ㅋ 베이징  여행 좋은사람과 샤오미...</td>\n",
       "    </tr>\n",
       "    <tr>\n",
       "      <th>947</th>\n",
       "      <td>듀얼  샤오미샤오미 샤오미휴대폰 샤오미 휴대폰 핸드폰 이거한국에서 사용가능 굿굿  ...</td>\n",
       "    </tr>\n",
       "  </tbody>\n",
       "</table>\n",
       "<p>943 rows × 1 columns</p>\n",
       "</div>"
      ],
      "text/plain": [
       "                                               context\n",
       "0    이거 써보신 분 계세요 이번에 구매했는데 넘 좋아서요   샤오미에서 나온 미밴드 인...\n",
       "1    집에 도착해서보니 나의 미밴드 걸음수 줌바 에서 얼마나 깨작깨작 스텝 밟았으면 하기...\n",
       "2    두 번 운동한 날은 스트레칭 쉬고 싶은데 운동 쉬고 싶은데 박하을 다이어트땜같이한다...\n",
       "3    ㅎㅎ                                 ㅎㅎㅎ        ...\n",
       "4    데이오프에 베트남으로 여행다녀옴  머리부터발끝까지 생일선물 ㅋㅋ효뜨 데이오프 다음엔...\n",
       "..                                                 ...\n",
       "943  블랙박스공기청정기 보조배터리샤오미휴대폰 진열제품구경공짜판플렛공짜남양주진접아이나비공식...\n",
       "944  내꺼아님 탐나넹샤오미휴대폰  이거이거 그럴싸하쥬 완젼 탐났던아이 지문인식도됨좀더 꼼...\n",
       "945  샤오미 미맥스 직구가격대비 가성비 좋네 ㅋㅋ휴대폰 가성비갑 샤오미미맥스 샤오미 데일...\n",
       "946  샤오미휴대폰 카메라 나이성별이 인식댄다 ㅋ신기방기ㅋ 베이징  여행 좋은사람과 샤오미...\n",
       "947  듀얼  샤오미샤오미 샤오미휴대폰 샤오미 휴대폰 핸드폰 이거한국에서 사용가능 굿굿  ...\n",
       "\n",
       "[943 rows x 1 columns]"
      ]
     },
     "execution_count": 12,
     "metadata": {},
     "output_type": "execute_result"
    }
   ],
   "source": [
    "mi['context'].replace('', np.nan, inplace=True)\n",
    "mi.dropna(inplace = True)\n",
    "mi"
   ]
  },
  {
   "cell_type": "code",
   "execution_count": 13,
   "metadata": {},
   "outputs": [],
   "source": [
    "##### 병합한 데이터 출력\n",
    "mi.to_csv(\"mi.csv\")"
   ]
  },
  {
   "cell_type": "code",
   "execution_count": 14,
   "metadata": {},
   "outputs": [
    {
     "data": {
      "text/html": [
       "<div>\n",
       "<style scoped>\n",
       "    .dataframe tbody tr th:only-of-type {\n",
       "        vertical-align: middle;\n",
       "    }\n",
       "\n",
       "    .dataframe tbody tr th {\n",
       "        vertical-align: top;\n",
       "    }\n",
       "\n",
       "    .dataframe thead th {\n",
       "        text-align: right;\n",
       "    }\n",
       "</style>\n",
       "<table border=\"1\" class=\"dataframe\">\n",
       "  <thead>\n",
       "    <tr style=\"text-align: right;\">\n",
       "      <th></th>\n",
       "      <th>context</th>\n",
       "    </tr>\n",
       "  </thead>\n",
       "  <tbody>\n",
       "    <tr>\n",
       "      <th>0</th>\n",
       "      <td>이거 써보신 분 계세요 이번에 구매했는데 넘 좋아서요   샤오미에서 나온 미밴드 인...</td>\n",
       "    </tr>\n",
       "    <tr>\n",
       "      <th>1</th>\n",
       "      <td>집에 도착해서보니 나의 미밴드 걸음수 줌바 에서 얼마나 깨작깨작 스텝 밟았으면 하기...</td>\n",
       "    </tr>\n",
       "    <tr>\n",
       "      <th>2</th>\n",
       "      <td>두 번 운동한 날은 스트레칭 쉬고 싶은데 운동 쉬고 싶은데 박하을 다이어트땜같이한다...</td>\n",
       "    </tr>\n",
       "    <tr>\n",
       "      <th>3</th>\n",
       "      <td>ㅎㅎ                                 ㅎㅎㅎ        ...</td>\n",
       "    </tr>\n",
       "    <tr>\n",
       "      <th>4</th>\n",
       "      <td>데이오프에 베트남으로 여행다녀옴  머리부터발끝까지 생일선물 ㅋㅋ효뜨 데이오프 다음엔...</td>\n",
       "    </tr>\n",
       "  </tbody>\n",
       "</table>\n",
       "</div>"
      ],
      "text/plain": [
       "                                             context\n",
       "0  이거 써보신 분 계세요 이번에 구매했는데 넘 좋아서요   샤오미에서 나온 미밴드 인...\n",
       "1  집에 도착해서보니 나의 미밴드 걸음수 줌바 에서 얼마나 깨작깨작 스텝 밟았으면 하기...\n",
       "2  두 번 운동한 날은 스트레칭 쉬고 싶은데 운동 쉬고 싶은데 박하을 다이어트땜같이한다...\n",
       "3  ㅎㅎ                                 ㅎㅎㅎ        ...\n",
       "4  데이오프에 베트남으로 여행다녀옴  머리부터발끝까지 생일선물 ㅋㅋ효뜨 데이오프 다음엔..."
      ]
     },
     "execution_count": 14,
     "metadata": {},
     "output_type": "execute_result"
    }
   ],
   "source": [
    "##### 데이터 확인\n",
    "mi = pd.read_csv(\"mi.csv\", index_col = 0)\n",
    "mi.head()"
   ]
  },
  {
   "cell_type": "code",
   "execution_count": 15,
   "metadata": {},
   "outputs": [
    {
     "name": "stdout",
     "output_type": "stream",
     "text": [
      "<class 'pandas.core.frame.DataFrame'>\n",
      "RangeIndex: 876 entries, 0 to 875\n",
      "Data columns (total 1 columns):\n",
      " #   Column   Non-Null Count  Dtype \n",
      "---  ------   --------------  ----- \n",
      " 0   context  876 non-null    object\n",
      "dtypes: object(1)\n",
      "memory usage: 7.0+ KB\n",
      "None\n"
     ]
    }
   ],
   "source": [
    "##### processing 함수 적용\n",
    "mi_test = mi\n",
    "mi_final = processing(mi)"
   ]
  },
  {
   "cell_type": "code",
   "execution_count": 16,
   "metadata": {},
   "outputs": [],
   "source": [
    "mi_final.to_csv(\"mi_final.csv\")"
   ]
  }
 ],
 "metadata": {
  "kernelspec": {
   "display_name": "Python 3",
   "language": "python",
   "name": "python3"
  },
  "language_info": {
   "codemirror_mode": {
    "name": "ipython",
    "version": 3
   },
   "file_extension": ".py",
   "mimetype": "text/x-python",
   "name": "python",
   "nbconvert_exporter": "python",
   "pygments_lexer": "ipython3",
   "version": "3.8.5"
  },
  "toc": {
   "base_numbering": 1,
   "nav_menu": {},
   "number_sections": true,
   "sideBar": true,
   "skip_h1_title": false,
   "title_cell": "Table of Contents",
   "title_sidebar": "Contents",
   "toc_cell": false,
   "toc_position": {},
   "toc_section_display": true,
   "toc_window_display": true
  }
 },
 "nbformat": 4,
 "nbformat_minor": 4
}
